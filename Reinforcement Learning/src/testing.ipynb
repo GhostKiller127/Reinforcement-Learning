{
 "cells": [
  {
   "attachments": {},
   "cell_type": "markdown",
   "id": "884bf28a",
   "metadata": {},
   "source": [
    "# Sync Test"
   ]
  },
  {
   "cell_type": "code",
   "execution_count": 153,
   "id": "c1aba54e",
   "metadata": {},
   "outputs": [
    {
     "name": "stdout",
     "output_type": "stream",
     "text": [
      "Step number: 50\r"
     ]
    }
   ],
   "source": [
    "from training import Training\n",
    "training = Training(env_name='CartPole-v1', num_envs=10, num_steps=50)\n",
    "# training = Training(env_name='LaserHockey-v0', num_envs=10, num_steps=50)\n",
    "training.run()"
   ]
  },
  {
   "attachments": {},
   "cell_type": "markdown",
   "id": "bdcabc44",
   "metadata": {},
   "source": [
    "# Bandit Test"
   ]
  },
  {
   "cell_type": "code",
   "execution_count": 28,
   "id": "2667c5a8",
   "metadata": {},
   "outputs": [
    {
     "name": "stdout",
     "output_type": "stream",
     "text": [
      "Candidates: [0.8 1. ]\n"
     ]
    }
   ],
   "source": [
    "from bandit import Bandit\n",
    "\n",
    "bandit = Bandit(mode='argmax', l=0, r=1, acc=10, acc2=2, width=2, lr=0.1, d=2)\n",
    "# bandit.update(x=0.5, g=1)\n",
    "candidates = bandit.sample()\n",
    "\n",
    "print(\"Candidates:\", candidates)"
   ]
  },
  {
   "cell_type": "code",
   "execution_count": 8,
   "id": "51c96e68",
   "metadata": {},
   "outputs": [
    {
     "name": "stdout",
     "output_type": "stream",
     "text": [
      "{'replay': 2, 'num_envs': 2, 'batch_size': 64, 'sequence_length': 5, 'bootstrap_length': 5, 'discount': 0.997, 'v_loss_scaling': 1.0, 'q_loss_scaling': 10.0, 'pi_loss_scaling': 10.0, 'importance_sampling_clip_c': 1.05, 'importance_sampling_clip_rho': 1.05, 'optimizer': 'Adam Weight Decay', 'weight_decay_rate': 0.01, 'learning_rate': 0.0005, 'warmup_steps': 4000, 'adamw_beta1': 0.9, 'adamw_beta2': 0.98, 'adamw_epsilon': 1e-06, 'adamw_clip_norm': 50.0, 'learner_push_model_every_n_steps': 25, 'actor_pull_model_every_n_steps': 64, 'architecture_params': {'architecture': 'dense', 'input_dim': 4, 'hidden_dim': 128, 'action_dim': 2}, 'bandit_params': {'mode': ['argmax', 'random'], 'tau1': [0.0, 50.0], 'tau2': [0.0, 50.0], 'epsilon': [0.0, 1.0], 'acc': [50, 50, 10], 'acc2': [2, 3, 4], 'width': [2, 3, 4], 'lr': [0.05, 0.1, 0.2], 'd': 3}}\n"
     ]
    }
   ],
   "source": [
    "from configs import configs\n",
    "\n",
    "print(configs[\"CartPole-v1\"])"
   ]
  },
  {
   "cell_type": "code",
   "execution_count": 12,
   "id": "d006b21f",
   "metadata": {},
   "outputs": [],
   "source": [
    "from configs import configs\n",
    "# from bandit import initialize_bandits\n",
    "# from bandit import update_bandits\n",
    "# from bandit import get_candidates\n",
    "# from bandit import sample_candidate\n",
    "# from bandit import get_all_indeces\n",
    "\n",
    "env_name = \"CartPole-v1\"\n",
    "config = configs[env_name]\n",
    "\n",
    "# bandits = initialize_bandits(params[\"bandit_params\"])"
   ]
  },
  {
   "cell_type": "code",
   "execution_count": 100,
   "id": "35ec30ac",
   "metadata": {},
   "outputs": [],
   "source": [
    "update_bandits(bandits, 22.666666666666664, 9.666666666666666, 0.8500000000000001, 0.5)"
   ]
  },
  {
   "cell_type": "code",
   "execution_count": 102,
   "id": "8e338024",
   "metadata": {},
   "outputs": [
    {
     "data": {
      "text/plain": [
       "array([22.5, 22. , 21.5])"
      ]
     },
     "execution_count": 102,
     "metadata": {},
     "output_type": "execute_result"
    }
   ],
   "source": [
    "bandits[27]['tau1'].sample()"
   ]
  },
  {
   "cell_type": "code",
   "execution_count": 103,
   "id": "7bf82ede",
   "metadata": {},
   "outputs": [
    {
     "name": "stdout",
     "output_type": "stream",
     "text": [
      "(23.0, 10.0, 0.8500000000000001)\n"
     ]
    }
   ],
   "source": [
    "all_candidates = get_candidates(bandits)\n",
    "sampled_candidate = sample_candidate(all_candidates)\n",
    "print(sampled_candidate)"
   ]
  },
  {
   "cell_type": "code",
   "execution_count": 106,
   "id": "402c6b48",
   "metadata": {},
   "outputs": [
    {
     "data": {
      "text/plain": [
       "array([[ 3.75      , 45.75      ,  0.33333333],\n",
       "       [33.66666667, 31.25      ,  0.375     ],\n",
       "       [ 1.5       , 41.        ,  0.95      ],\n",
       "       [ 4.75      , 42.5       ,  0.95      ],\n",
       "       [24.66666667, 14.66666667,  0.        ]])"
      ]
     },
     "execution_count": 106,
     "metadata": {},
     "output_type": "execute_result"
    }
   ],
   "source": [
    "get_all_indeces(5, bandits)"
   ]
  },
  {
   "cell_type": "code",
   "execution_count": 1,
   "id": "95030468",
   "metadata": {},
   "outputs": [],
   "source": [
    "from bandit import Bandits"
   ]
  },
  {
   "cell_type": "code",
   "execution_count": 13,
   "id": "522bd55f",
   "metadata": {},
   "outputs": [],
   "source": [
    "bandits = Bandits(configs[env_name])"
   ]
  },
  {
   "cell_type": "code",
   "execution_count": 15,
   "id": "56201dcb",
   "metadata": {},
   "outputs": [
    {
     "data": {
      "text/plain": [
       "[{'tau1': <bandit.Bandit at 0x218b375dc10>,\n",
       "  'tau2': <bandit.Bandit at 0x218b309d150>,\n",
       "  'epsilon': <bandit.Bandit at 0x218b309d550>},\n",
       " {'tau1': <bandit.Bandit at 0x218b30a0c90>,\n",
       "  'tau2': <bandit.Bandit at 0x218b309b6d0>,\n",
       "  'epsilon': <bandit.Bandit at 0x218b3902490>},\n",
       " {'tau1': <bandit.Bandit at 0x218b25caf10>,\n",
       "  'tau2': <bandit.Bandit at 0x218b38799d0>,\n",
       "  'epsilon': <bandit.Bandit at 0x218b3878950>},\n",
       " {'tau1': <bandit.Bandit at 0x218b3878c90>,\n",
       "  'tau2': <bandit.Bandit at 0x218b3878e10>,\n",
       "  'epsilon': <bandit.Bandit at 0x218b3906a90>},\n",
       " {'tau1': <bandit.Bandit at 0x218b3906dd0>,\n",
       "  'tau2': <bandit.Bandit at 0x218b3906d90>,\n",
       "  'epsilon': <bandit.Bandit at 0x218b3906f90>},\n",
       " {'tau1': <bandit.Bandit at 0x218b3907010>,\n",
       "  'tau2': <bandit.Bandit at 0x218b3906ed0>,\n",
       "  'epsilon': <bandit.Bandit at 0x218b3906e50>},\n",
       " {'tau1': <bandit.Bandit at 0x218b3906f50>,\n",
       "  'tau2': <bandit.Bandit at 0x218b3905f50>,\n",
       "  'epsilon': <bandit.Bandit at 0x218b3906f10>},\n",
       " {'tau1': <bandit.Bandit at 0x218b3904b90>,\n",
       "  'tau2': <bandit.Bandit at 0x218b39040d0>,\n",
       "  'epsilon': <bandit.Bandit at 0x218b3904050>},\n",
       " {'tau1': <bandit.Bandit at 0x218b3906b90>,\n",
       "  'tau2': <bandit.Bandit at 0x218b3905890>,\n",
       "  'epsilon': <bandit.Bandit at 0x218b3907310>},\n",
       " {'tau1': <bandit.Bandit at 0x218b3906fd0>,\n",
       "  'tau2': <bandit.Bandit at 0x218b3907e90>,\n",
       "  'epsilon': <bandit.Bandit at 0x218b3907f50>},\n",
       " {'tau1': <bandit.Bandit at 0x218b3906150>,\n",
       "  'tau2': <bandit.Bandit at 0x218b3907fd0>,\n",
       "  'epsilon': <bandit.Bandit at 0x218b3907990>},\n",
       " {'tau1': <bandit.Bandit at 0x218b39079d0>,\n",
       "  'tau2': <bandit.Bandit at 0x218b3907a10>,\n",
       "  'epsilon': <bandit.Bandit at 0x218b3907210>},\n",
       " {'tau1': <bandit.Bandit at 0x218b3907b10>,\n",
       "  'tau2': <bandit.Bandit at 0x218b3907f10>,\n",
       "  'epsilon': <bandit.Bandit at 0x218b3907f90>},\n",
       " {'tau1': <bandit.Bandit at 0x218b3904790>,\n",
       "  'tau2': <bandit.Bandit at 0x218b39073d0>,\n",
       "  'epsilon': <bandit.Bandit at 0x218b3907dd0>},\n",
       " {'tau1': <bandit.Bandit at 0x218b3907a90>,\n",
       "  'tau2': <bandit.Bandit at 0x218b3907cd0>,\n",
       "  'epsilon': <bandit.Bandit at 0x218b3907d50>},\n",
       " {'tau1': <bandit.Bandit at 0x218b3907e10>,\n",
       "  'tau2': <bandit.Bandit at 0x218b3907b50>,\n",
       "  'epsilon': <bandit.Bandit at 0x218b39070d0>},\n",
       " {'tau1': <bandit.Bandit at 0x218b3905450>,\n",
       "  'tau2': <bandit.Bandit at 0x218b3907490>,\n",
       "  'epsilon': <bandit.Bandit at 0x218b39075d0>},\n",
       " {'tau1': <bandit.Bandit at 0x218b3907750>,\n",
       "  'tau2': <bandit.Bandit at 0x218b39077d0>,\n",
       "  'epsilon': <bandit.Bandit at 0x218b3907650>},\n",
       " {'tau1': <bandit.Bandit at 0x218b3907850>,\n",
       "  'tau2': <bandit.Bandit at 0x218b39072d0>,\n",
       "  'epsilon': <bandit.Bandit at 0x218b39078d0>},\n",
       " {'tau1': <bandit.Bandit at 0x218b3906750>,\n",
       "  'tau2': <bandit.Bandit at 0x218b3906e90>,\n",
       "  'epsilon': <bandit.Bandit at 0x218b3905610>},\n",
       " {'tau1': <bandit.Bandit at 0x218b3906250>,\n",
       "  'tau2': <bandit.Bandit at 0x218b3907ed0>,\n",
       "  'epsilon': <bandit.Bandit at 0x218b3907790>},\n",
       " {'tau1': <bandit.Bandit at 0x218b3907bd0>,\n",
       "  'tau2': <bandit.Bandit at 0x218b3907c50>,\n",
       "  'epsilon': <bandit.Bandit at 0x218b3907c10>},\n",
       " {'tau1': <bandit.Bandit at 0x218b39065d0>,\n",
       "  'tau2': <bandit.Bandit at 0x218b3907950>,\n",
       "  'epsilon': <bandit.Bandit at 0x218b3907a50>},\n",
       " {'tau1': <bandit.Bandit at 0x218b3907890>,\n",
       "  'tau2': <bandit.Bandit at 0x218b3904ed0>,\n",
       "  'epsilon': <bandit.Bandit at 0x218b39059d0>},\n",
       " {'tau1': <bandit.Bandit at 0x218b3906110>,\n",
       "  'tau2': <bandit.Bandit at 0x218b3904190>,\n",
       "  'epsilon': <bandit.Bandit at 0x218b3904290>},\n",
       " {'tau1': <bandit.Bandit at 0x218b3904210>,\n",
       "  'tau2': <bandit.Bandit at 0x218b3904390>,\n",
       "  'epsilon': <bandit.Bandit at 0x218b3904410>},\n",
       " {'tau1': <bandit.Bandit at 0x218b3904090>,\n",
       "  'tau2': <bandit.Bandit at 0x218b3904850>,\n",
       "  'epsilon': <bandit.Bandit at 0x218b3905950>},\n",
       " {'tau1': <bandit.Bandit at 0x218b3904450>,\n",
       "  'tau2': <bandit.Bandit at 0x218b3904710>,\n",
       "  'epsilon': <bandit.Bandit at 0x218b3904910>},\n",
       " {'tau1': <bandit.Bandit at 0x218b3904990>,\n",
       "  'tau2': <bandit.Bandit at 0x218b39049d0>,\n",
       "  'epsilon': <bandit.Bandit at 0x218b3904490>},\n",
       " {'tau1': <bandit.Bandit at 0x218b3904b10>,\n",
       "  'tau2': <bandit.Bandit at 0x218b3904890>,\n",
       "  'epsilon': <bandit.Bandit at 0x218b3904b50>},\n",
       " {'tau1': <bandit.Bandit at 0x218b3904bd0>,\n",
       "  'tau2': <bandit.Bandit at 0x218b3904dd0>,\n",
       "  'epsilon': <bandit.Bandit at 0x218b3904cd0>},\n",
       " {'tau1': <bandit.Bandit at 0x218b3904d50>,\n",
       "  'tau2': <bandit.Bandit at 0x218b3904c50>,\n",
       "  'epsilon': <bandit.Bandit at 0x218b3904d90>},\n",
       " {'tau1': <bandit.Bandit at 0x218b3904a10>,\n",
       "  'tau2': <bandit.Bandit at 0x218b3904e50>,\n",
       "  'epsilon': <bandit.Bandit at 0x218b3904c90>},\n",
       " {'tau1': <bandit.Bandit at 0x218b3905fd0>,\n",
       "  'tau2': <bandit.Bandit at 0x218b39051d0>,\n",
       "  'epsilon': <bandit.Bandit at 0x218b3905050>},\n",
       " {'tau1': <bandit.Bandit at 0x218b39050d0>,\n",
       "  'tau2': <bandit.Bandit at 0x218b3905390>,\n",
       "  'epsilon': <bandit.Bandit at 0x218b3905f10>},\n",
       " {'tau1': <bandit.Bandit at 0x218b3904f50>,\n",
       "  'tau2': <bandit.Bandit at 0x218b3905cd0>,\n",
       "  'epsilon': <bandit.Bandit at 0x218b3905bd0>},\n",
       " {'tau1': <bandit.Bandit at 0x218b3905c50>,\n",
       "  'tau2': <bandit.Bandit at 0x218b3905e90>,\n",
       "  'epsilon': <bandit.Bandit at 0x218b3904e90>},\n",
       " {'tau1': <bandit.Bandit at 0x218b3905d50>,\n",
       "  'tau2': <bandit.Bandit at 0x218b3906190>,\n",
       "  'epsilon': <bandit.Bandit at 0x218b3906390>},\n",
       " {'tau1': <bandit.Bandit at 0x218b3906310>,\n",
       "  'tau2': <bandit.Bandit at 0x218b3906510>,\n",
       "  'epsilon': <bandit.Bandit at 0x218b3906650>},\n",
       " {'tau1': <bandit.Bandit at 0x218b3906490>,\n",
       "  'tau2': <bandit.Bandit at 0x218b3904c10>,\n",
       "  'epsilon': <bandit.Bandit at 0x218b3906290>},\n",
       " {'tau1': <bandit.Bandit at 0x218b39064d0>,\n",
       "  'tau2': <bandit.Bandit at 0x218b3905e50>,\n",
       "  'epsilon': <bandit.Bandit at 0x218b3906690>},\n",
       " {'tau1': <bandit.Bandit at 0x218b39066d0>,\n",
       "  'tau2': <bandit.Bandit at 0x218b3906b50>,\n",
       "  'epsilon': <bandit.Bandit at 0x218b3906910>},\n",
       " {'tau1': <bandit.Bandit at 0x218b3906710>,\n",
       "  'tau2': <bandit.Bandit at 0x218b39053d0>,\n",
       "  'epsilon': <bandit.Bandit at 0x218b3905d90>},\n",
       " {'tau1': <bandit.Bandit at 0x218b390a850>,\n",
       "  'tau2': <bandit.Bandit at 0x218b3908250>,\n",
       "  'epsilon': <bandit.Bandit at 0x218b390a550>},\n",
       " {'tau1': <bandit.Bandit at 0x218b390a7d0>,\n",
       "  'tau2': <bandit.Bandit at 0x218b390a950>,\n",
       "  'epsilon': <bandit.Bandit at 0x218b39082d0>},\n",
       " {'tau1': <bandit.Bandit at 0x218b390a890>,\n",
       "  'tau2': <bandit.Bandit at 0x218b390a990>,\n",
       "  'epsilon': <bandit.Bandit at 0x218b390aad0>},\n",
       " {'tau1': <bandit.Bandit at 0x218b390aed0>,\n",
       "  'tau2': <bandit.Bandit at 0x218b390af10>,\n",
       "  'epsilon': <bandit.Bandit at 0x218b390ad90>},\n",
       " {'tau1': <bandit.Bandit at 0x218b390b2d0>,\n",
       "  'tau2': <bandit.Bandit at 0x218b390b150>,\n",
       "  'epsilon': <bandit.Bandit at 0x218b390b090>},\n",
       " {'tau1': <bandit.Bandit at 0x218b390af90>,\n",
       "  'tau2': <bandit.Bandit at 0x218b390b290>,\n",
       "  'epsilon': <bandit.Bandit at 0x218b390b1d0>},\n",
       " {'tau1': <bandit.Bandit at 0x218b390b3d0>,\n",
       "  'tau2': <bandit.Bandit at 0x218b390b410>,\n",
       "  'epsilon': <bandit.Bandit at 0x218b390b450>},\n",
       " {'tau1': <bandit.Bandit at 0x218b390b510>,\n",
       "  'tau2': <bandit.Bandit at 0x218b390b550>,\n",
       "  'epsilon': <bandit.Bandit at 0x218b390b590>},\n",
       " {'tau1': <bandit.Bandit at 0x218b390b350>,\n",
       "  'tau2': <bandit.Bandit at 0x218b390b310>,\n",
       "  'epsilon': <bandit.Bandit at 0x218b390b610>},\n",
       " {'tau1': <bandit.Bandit at 0x218b390b650>,\n",
       "  'tau2': <bandit.Bandit at 0x218b390b910>,\n",
       "  'epsilon': <bandit.Bandit at 0x218b390b7d0>},\n",
       " {'tau1': <bandit.Bandit at 0x218b390b750>,\n",
       "  'tau2': <bandit.Bandit at 0x218b390b890>,\n",
       "  'epsilon': <bandit.Bandit at 0x218b390a750>}]"
      ]
     },
     "execution_count": 15,
     "metadata": {},
     "output_type": "execute_result"
    }
   ],
   "source": [
    "bandits.bandits"
   ]
  },
  {
   "attachments": {},
   "cell_type": "markdown",
   "id": "19aec96c",
   "metadata": {},
   "source": [
    "# Actor Test"
   ]
  },
  {
   "cell_type": "code",
   "execution_count": 114,
   "id": "db71294d",
   "metadata": {},
   "outputs": [],
   "source": [
    "import torch\n",
    "from actor import Actor\n",
    "from configs import configs\n",
    "\n",
    "env_name = \"Acrobot-v1\"\n",
    "config = configs[env_name]\n",
    "\n",
    "device = torch.device(\"cuda\" if torch.cuda.is_available() else \"cpu\")\n",
    "\n",
    "actor = Actor(config['architecture_params'], device)\n"
   ]
  },
  {
   "cell_type": "code",
   "execution_count": 115,
   "id": "65a68bf5",
   "metadata": {},
   "outputs": [],
   "source": [
    "obs = [[1,2,3,4,5,6], [2,3,4,5,6,7]]\n",
    "ind = [[1,1,0.4], [1,1,.6]]"
   ]
  },
  {
   "cell_type": "code",
   "execution_count": 138,
   "id": "b6184ea3",
   "metadata": {},
   "outputs": [
    {
     "data": {
      "text/plain": [
       "(tensor([[0.0998],\n",
       "         [0.1613]], device='cuda:0', grad_fn=<AddmmBackward0>),\n",
       " tensor([[0.3956],\n",
       "         [0.4774]], device='cuda:0', grad_fn=<AddmmBackward0>),\n",
       " tensor([[-0.4400,  0.5586,  0.2163],\n",
       "         [-0.4932,  0.6671,  0.2509]], device='cuda:0',\n",
       "        grad_fn=<AddmmBackward0>),\n",
       " tensor([[0.3553, 0.1147, 0.0667],\n",
       "         [0.5267, 0.2046, 0.0848]], device='cuda:0', grad_fn=<AddmmBackward0>),\n",
       " tensor([[0.3075, 0.3785, 0.3140],\n",
       "         [0.2643, 0.4265, 0.3092]], device='cuda:0', grad_fn=<AddBackward0>))"
      ]
     },
     "execution_count": 138,
     "metadata": {},
     "output_type": "execute_result"
    }
   ],
   "source": [
    "v1, v2, a1, a2, policy = actor.calculate_values(obs, ind)\n",
    "v1, v2, a1, a2, policy"
   ]
  },
  {
   "cell_type": "code",
   "execution_count": 132,
   "id": "c0fca9e1",
   "metadata": {},
   "outputs": [
    {
     "data": {
      "text/plain": [
       "(tensor([2, 1], device='cuda:0'),\n",
       " tensor([[0.3140],\n",
       "         [0.4265]], device='cuda:0', grad_fn=<GatherBackward0>))"
      ]
     },
     "execution_count": 132,
     "metadata": {},
     "output_type": "execute_result"
    }
   ],
   "source": [
    "action, action_prob = actor.get_action(policy, stochastic=True)\n",
    "action, action_prob"
   ]
  },
  {
   "attachments": {},
   "cell_type": "markdown",
   "id": "39b2bea1",
   "metadata": {},
   "source": [
    "# Show Test"
   ]
  },
  {
   "cell_type": "code",
   "execution_count": 1,
   "id": "86a3e575",
   "metadata": {},
   "outputs": [],
   "source": [
    "import torch\n",
    "import gymnasium as gym\n",
    "from actor import Actor\n",
    "from configs import configs\n",
    "\n",
    "env_name = \"Acrobot-v1\"\n",
    "config = configs[env_name]\n",
    "device = torch.device(\"cuda\" if torch.cuda.is_available() else \"cpu\")\n",
    "env = gym.make(env_name, render_mode=\"human\")\n",
    "observation, info = env.reset()\n",
    "actor = Actor(config['architecture_params'], device)\n",
    "\n",
    "for _ in range(100):\n",
    "    # actions = [self.env.single_action_space.sample() for _ in range(self.num_envs)]   for vectorized envs\n",
    "    # action = env.action_space.sample()\n",
    "    dummy_indeces = [[1,1,1]]\n",
    "    v1, v2, a1, a2, policy = actor.calculate_values(observation, dummy_indeces)\n",
    "    action, action_probs = actor.get_action(policy, stochastic=True)\n",
    "    observation, reward, terminated, truncated, info = env.step(action)\n",
    "\n",
    "    if terminated or truncated:\n",
    "        observation, info = env.reset()\n",
    "\n",
    "env.close()"
   ]
  },
  {
   "attachments": {},
   "cell_type": "markdown",
   "id": "dd73ccd6",
   "metadata": {},
   "source": [
    "# Tensorboard Test"
   ]
  },
  {
   "cell_type": "code",
   "execution_count": 76,
   "id": "9c331aac",
   "metadata": {},
   "outputs": [],
   "source": [
    "from configs import configs\n",
    "from actor import Actor\n",
    "\n",
    "env_name = \"CartPole-v1\"\n",
    "config = configs[env_name]\n",
    "device = torch.device(\"cuda\" if torch.cuda.is_available() else \"cpu\")\n",
    "actor = Actor(config['architecture_params'], device)\n",
    "model = actor.actor1\n",
    "\n",
    "from torch.utils.tensorboard import SummaryWriter\n",
    "import datetime\n",
    "import json\n",
    "import os\n",
    "\n",
    "# Define hyperparameters\n",
    "hyperparams = {\n",
    "    'learning_rate': 2e-3,\n",
    "    'batch_size': 64,\n",
    "    'num_epochs': 100\n",
    "}\n",
    "\n",
    "# Get current timestamp\n",
    "timestamp = datetime.datetime.now().strftime(\"%b%d-%H-%M-%S\")\n",
    "\n",
    "# Create a more descriptive name for the run\n",
    "run_name = f\"lr{hyperparams['learning_rate']},bs{hyperparams['batch_size']},s{hyperparams['num_epochs']}_{timestamp}\"\n",
    "\n",
    "# Create a SummaryWriter with a custom log directory and run name\n",
    "log_dir = f\"runs/{run_name}\"\n",
    "writer = SummaryWriter(log_dir=log_dir)\n",
    "\n",
    "# Save hyperparameters as a separate file\n",
    "hyperparams_file = os.path.join(log_dir, 'hyperparameters.json')\n",
    "with open(hyperparams_file, 'w') as f:\n",
    "    json.dump(hyperparams, f)\n",
    "\n",
    "# Log images, histograms, and dummy metrics in a loop\n",
    "for i in range(20):\n",
    "    actor = Actor(config['architecture_params'], device)\n",
    "\n",
    "    # Update dummy metrics\n",
    "    metrics = {\n",
    "        'accuracy/agent1': 0.45 + i * 0.01,\n",
    "        'accuracy/agent2': 0.35 + i * 0.02,\n",
    "        'loss/train': 0.30 - i * 0.01,\n",
    "        'loss/val': 0.40 - i * 0.02\n",
    "    }\n",
    "\n",
    "    # Log histograms\n",
    "    for name, param in actor.actor1.named_parameters():\n",
    "        writer.add_histogram(name, param, global_step=i)\n",
    "\n",
    "    # Log dummy metrics\n",
    "    for metric_name, metric_value in metrics.items():\n",
    "        writer.add_scalar(metric_name, metric_value, global_step=i)\n",
    "\n",
    "# Close the SummaryWriter\n",
    "writer.flush()\n",
    "writer.close()"
   ]
  },
  {
   "attachments": {},
   "cell_type": "markdown",
   "id": "f22e0473",
   "metadata": {},
   "source": [
    "# Interaction Test"
   ]
  },
  {
   "cell_type": "code",
   "execution_count": 80,
   "id": "3b290731",
   "metadata": {},
   "outputs": [
    {
     "name": "stdout",
     "output_type": "stream",
     "text": [
      "Step number: 164\r"
     ]
    },
    {
     "ename": "",
     "evalue": "",
     "output_type": "error",
     "traceback": [
      "\u001b[1;31mCannot execute code, session has been disposed. Please try restarting the Kernel."
     ]
    },
    {
     "ename": "",
     "evalue": "",
     "output_type": "error",
     "traceback": [
      "\u001b[1;31mThe Kernel crashed while executing code in the the current cell or a previous cell. Please review the code in the cell(s) to identify a possible cause of the failure. Click <a href='https://aka.ms/vscodeJupyterKernelCrash'>here</a> for more info. View Jupyter <a href='command:jupyter.viewOutput'>log</a> for further details."
     ]
    }
   ],
   "source": [
    "import torch\n",
    "from configs import configs\n",
    "from actor import Actor\n",
    "from learner import Learner\n",
    "from bandit import Bandits\n",
    "from training import Training\n",
    "from data_collector import DataCollector\n",
    "from metric import Metric\n",
    "\n",
    "env_name = \"CartPole-v1\"\n",
    "# env_name = \"LunarLander-v2\"\n",
    "# env_name = \"LaserHockey-v0\"\n",
    "\n",
    "test_parameters = {'num_steps': 1000,\n",
    "                   'num_envs': 160,\n",
    "                   \"batch_size\": 64,\n",
    "                   \"sequence_length\": 40,\n",
    "                   \"bootstrap_length\": 5,\n",
    "                   'd_push': 25,\n",
    "                   'd_pull': 64}\n",
    "\n",
    "config = {key: test_parameters[key] if key in test_parameters else value for key, value in configs[env_name].items()}\n",
    "device = torch.device(\"cuda\" if torch.cuda.is_available() else \"cpu\")\n",
    "\n",
    "data_collector = DataCollector(config)\n",
    "metric = Metric(config, env_name, test_parameters)\n",
    "bandits = Bandits(config)\n",
    "actor = Actor(config, metric, device)\n",
    "learner = Learner(config, metric, device)\n",
    "training = Training(config, env_name)\n",
    "\n",
    "training.run(actor, learner, bandits, data_collector, metric)"
   ]
  },
  {
   "attachments": {},
   "cell_type": "markdown",
   "id": "b34a010d",
   "metadata": {},
   "source": [
    "# testing random stuff"
   ]
  },
  {
   "cell_type": "code",
   "execution_count": 12,
   "id": "5edef443",
   "metadata": {},
   "outputs": [],
   "source": [
    "import numpy as np"
   ]
  },
  {
   "cell_type": "code",
   "execution_count": 49,
   "id": "81b9533e",
   "metadata": {},
   "outputs": [],
   "source": [
    "data1 = {'obs': np.array([[1,1,1], [2,2,2], [3,3,3]]),\n",
    "        'a': np.array([[-1,-1,-1], [-2,-2,-2], [-3,-3,-3]]),\n",
    "        'b': torch.tensor([[-1,-1,-1], [-2,-2,-2], [-3,-3,-3]])}\n",
    "data_list = [data1] * 5\n",
    "\n",
    "data2 = {'obs': np.array([[1,1,1], [2,2,2], [3,3,3]]),\n",
    "        'a': np.array([[-1,-1,-1], [-2,-2,-2], [-3,-3,-3]]),\n",
    "        'b': torch.tensor([[-1,-1,-1], [-2,-2,-2], [-3,-3,-3]])}"
   ]
  },
  {
   "cell_type": "code",
   "execution_count": 50,
   "id": "6896f7a5",
   "metadata": {},
   "outputs": [
    {
     "data": {
      "text/plain": [
       "[{'obs': array([[1, 1, 1],\n",
       "         [2, 2, 2],\n",
       "         [3, 3, 3]]),\n",
       "  'a': array([[-1, -1, -1],\n",
       "         [-2, -2, -2],\n",
       "         [-3, -3, -3]]),\n",
       "  'b': tensor([[-1, -1, -1],\n",
       "          [-2, -2, -2],\n",
       "          [-3, -3, -3]])},\n",
       " {'obs': array([[1, 1, 1],\n",
       "         [2, 2, 2],\n",
       "         [3, 3, 3]]),\n",
       "  'a': array([[-1, -1, -1],\n",
       "         [-2, -2, -2],\n",
       "         [-3, -3, -3]]),\n",
       "  'b': tensor([[-1, -1, -1],\n",
       "          [-2, -2, -2],\n",
       "          [-3, -3, -3]])},\n",
       " {'obs': array([[1, 1, 1],\n",
       "         [2, 2, 2],\n",
       "         [3, 3, 3]]),\n",
       "  'a': array([[-1, -1, -1],\n",
       "         [-2, -2, -2],\n",
       "         [-3, -3, -3]]),\n",
       "  'b': tensor([[-1, -1, -1],\n",
       "          [-2, -2, -2],\n",
       "          [-3, -3, -3]])},\n",
       " {'obs': array([[1, 1, 1],\n",
       "         [2, 2, 2],\n",
       "         [3, 3, 3]]),\n",
       "  'a': array([[-1, -1, -1],\n",
       "         [-2, -2, -2],\n",
       "         [-3, -3, -3]]),\n",
       "  'b': tensor([[-1, -1, -1],\n",
       "          [-2, -2, -2],\n",
       "          [-3, -3, -3]])},\n",
       " {'obs': array([[1, 1, 1],\n",
       "         [2, 2, 2],\n",
       "         [3, 3, 3]]),\n",
       "  'a': array([[-1, -1, -1],\n",
       "         [-2, -2, -2],\n",
       "         [-3, -3, -3]]),\n",
       "  'b': tensor([[-1, -1, -1],\n",
       "          [-2, -2, -2],\n",
       "          [-3, -3, -3]])}]"
      ]
     },
     "execution_count": 50,
     "metadata": {},
     "output_type": "execute_result"
    }
   ],
   "source": [
    "data_list"
   ]
  },
  {
   "cell_type": "code",
   "execution_count": 51,
   "id": "f77715a5",
   "metadata": {},
   "outputs": [
    {
     "data": {
      "text/plain": [
       "{'obs': array([[[1, 1, 1],\n",
       "         [1, 1, 1],\n",
       "         [1, 1, 1],\n",
       "         [1, 1, 1],\n",
       "         [1, 1, 1]],\n",
       " \n",
       "        [[2, 2, 2],\n",
       "         [2, 2, 2],\n",
       "         [2, 2, 2],\n",
       "         [2, 2, 2],\n",
       "         [2, 2, 2]],\n",
       " \n",
       "        [[3, 3, 3],\n",
       "         [3, 3, 3],\n",
       "         [3, 3, 3],\n",
       "         [3, 3, 3],\n",
       "         [3, 3, 3]]]),\n",
       " 'a': array([[[-1, -1, -1],\n",
       "         [-1, -1, -1],\n",
       "         [-1, -1, -1],\n",
       "         [-1, -1, -1],\n",
       "         [-1, -1, -1]],\n",
       " \n",
       "        [[-2, -2, -2],\n",
       "         [-2, -2, -2],\n",
       "         [-2, -2, -2],\n",
       "         [-2, -2, -2],\n",
       "         [-2, -2, -2]],\n",
       " \n",
       "        [[-3, -3, -3],\n",
       "         [-3, -3, -3],\n",
       "         [-3, -3, -3],\n",
       "         [-3, -3, -3],\n",
       "         [-3, -3, -3]]]),\n",
       " 'b': tensor([[[-1, -1, -1],\n",
       "          [-1, -1, -1],\n",
       "          [-1, -1, -1],\n",
       "          [-1, -1, -1],\n",
       "          [-1, -1, -1]],\n",
       " \n",
       "         [[-2, -2, -2],\n",
       "          [-2, -2, -2],\n",
       "          [-2, -2, -2],\n",
       "          [-2, -2, -2],\n",
       "          [-2, -2, -2]],\n",
       " \n",
       "         [[-3, -3, -3],\n",
       "          [-3, -3, -3],\n",
       "          [-3, -3, -3],\n",
       "          [-3, -3, -3],\n",
       "          [-3, -3, -3]]])}"
      ]
     },
     "execution_count": 51,
     "metadata": {},
     "output_type": "execute_result"
    }
   ],
   "source": [
    "stacked_data = {key: np.stack([d[key] for d in data_list], axis=1) if isinstance(data_list[0][key], np.ndarray)\n",
    "                   else torch.stack([d[key] for d in data_list], dim=1) for key in data_list[0].keys()}\n",
    "stacked_data"
   ]
  },
  {
   "cell_type": "code",
   "execution_count": 52,
   "id": "9bf51d93",
   "metadata": {},
   "outputs": [],
   "source": [
    "first_dict = {}"
   ]
  },
  {
   "cell_type": "code",
   "execution_count": 60,
   "id": "b30d5af1",
   "metadata": {},
   "outputs": [
    {
     "data": {
      "text/plain": [
       "{'obs': array([[[1, 1, 1],\n",
       "         [1, 1, 1],\n",
       "         [1, 1, 1],\n",
       "         [1, 1, 1],\n",
       "         [1, 1, 1]],\n",
       " \n",
       "        [[2, 2, 2],\n",
       "         [2, 2, 2],\n",
       "         [2, 2, 2],\n",
       "         [2, 2, 2],\n",
       "         [2, 2, 2]],\n",
       " \n",
       "        [[3, 3, 3],\n",
       "         [3, 3, 3],\n",
       "         [3, 3, 3],\n",
       "         [3, 3, 3],\n",
       "         [3, 3, 3]],\n",
       " \n",
       "        [[1, 1, 1],\n",
       "         [1, 1, 1],\n",
       "         [1, 1, 1],\n",
       "         [1, 1, 1],\n",
       "         [1, 1, 1]],\n",
       " \n",
       "        [[2, 2, 2],\n",
       "         [2, 2, 2],\n",
       "         [2, 2, 2],\n",
       "         [2, 2, 2],\n",
       "         [2, 2, 2]],\n",
       " \n",
       "        [[3, 3, 3],\n",
       "         [3, 3, 3],\n",
       "         [3, 3, 3],\n",
       "         [3, 3, 3],\n",
       "         [3, 3, 3]],\n",
       " \n",
       "        [[1, 1, 1],\n",
       "         [1, 1, 1],\n",
       "         [1, 1, 1],\n",
       "         [1, 1, 1],\n",
       "         [1, 1, 1]],\n",
       " \n",
       "        [[2, 2, 2],\n",
       "         [2, 2, 2],\n",
       "         [2, 2, 2],\n",
       "         [2, 2, 2],\n",
       "         [2, 2, 2]],\n",
       " \n",
       "        [[3, 3, 3],\n",
       "         [3, 3, 3],\n",
       "         [3, 3, 3],\n",
       "         [3, 3, 3],\n",
       "         [3, 3, 3]]]),\n",
       " 'a': array([[[-1, -1, -1],\n",
       "         [-1, -1, -1],\n",
       "         [-1, -1, -1],\n",
       "         [-1, -1, -1],\n",
       "         [-1, -1, -1]],\n",
       " \n",
       "        [[-2, -2, -2],\n",
       "         [-2, -2, -2],\n",
       "         [-2, -2, -2],\n",
       "         [-2, -2, -2],\n",
       "         [-2, -2, -2]],\n",
       " \n",
       "        [[-3, -3, -3],\n",
       "         [-3, -3, -3],\n",
       "         [-3, -3, -3],\n",
       "         [-3, -3, -3],\n",
       "         [-3, -3, -3]],\n",
       " \n",
       "        [[-1, -1, -1],\n",
       "         [-1, -1, -1],\n",
       "         [-1, -1, -1],\n",
       "         [-1, -1, -1],\n",
       "         [-1, -1, -1]],\n",
       " \n",
       "        [[-2, -2, -2],\n",
       "         [-2, -2, -2],\n",
       "         [-2, -2, -2],\n",
       "         [-2, -2, -2],\n",
       "         [-2, -2, -2]],\n",
       " \n",
       "        [[-3, -3, -3],\n",
       "         [-3, -3, -3],\n",
       "         [-3, -3, -3],\n",
       "         [-3, -3, -3],\n",
       "         [-3, -3, -3]],\n",
       " \n",
       "        [[-1, -1, -1],\n",
       "         [-1, -1, -1],\n",
       "         [-1, -1, -1],\n",
       "         [-1, -1, -1],\n",
       "         [-1, -1, -1]],\n",
       " \n",
       "        [[-2, -2, -2],\n",
       "         [-2, -2, -2],\n",
       "         [-2, -2, -2],\n",
       "         [-2, -2, -2],\n",
       "         [-2, -2, -2]],\n",
       " \n",
       "        [[-3, -3, -3],\n",
       "         [-3, -3, -3],\n",
       "         [-3, -3, -3],\n",
       "         [-3, -3, -3],\n",
       "         [-3, -3, -3]]]),\n",
       " 'b': tensor([[[-1, -1, -1],\n",
       "          [-1, -1, -1],\n",
       "          [-1, -1, -1],\n",
       "          [-1, -1, -1],\n",
       "          [-1, -1, -1]],\n",
       " \n",
       "         [[-2, -2, -2],\n",
       "          [-2, -2, -2],\n",
       "          [-2, -2, -2],\n",
       "          [-2, -2, -2],\n",
       "          [-2, -2, -2]],\n",
       " \n",
       "         [[-3, -3, -3],\n",
       "          [-3, -3, -3],\n",
       "          [-3, -3, -3],\n",
       "          [-3, -3, -3],\n",
       "          [-3, -3, -3]],\n",
       " \n",
       "         [[-1, -1, -1],\n",
       "          [-1, -1, -1],\n",
       "          [-1, -1, -1],\n",
       "          [-1, -1, -1],\n",
       "          [-1, -1, -1]],\n",
       " \n",
       "         [[-2, -2, -2],\n",
       "          [-2, -2, -2],\n",
       "          [-2, -2, -2],\n",
       "          [-2, -2, -2],\n",
       "          [-2, -2, -2]],\n",
       " \n",
       "         [[-3, -3, -3],\n",
       "          [-3, -3, -3],\n",
       "          [-3, -3, -3],\n",
       "          [-3, -3, -3],\n",
       "          [-3, -3, -3]],\n",
       " \n",
       "         [[-1, -1, -1],\n",
       "          [-1, -1, -1],\n",
       "          [-1, -1, -1],\n",
       "          [-1, -1, -1],\n",
       "          [-1, -1, -1]],\n",
       " \n",
       "         [[-2, -2, -2],\n",
       "          [-2, -2, -2],\n",
       "          [-2, -2, -2],\n",
       "          [-2, -2, -2],\n",
       "          [-2, -2, -2]],\n",
       " \n",
       "         [[-3, -3, -3],\n",
       "          [-3, -3, -3],\n",
       "          [-3, -3, -3],\n",
       "          [-3, -3, -3],\n",
       "          [-3, -3, -3]]])}"
      ]
     },
     "execution_count": 60,
     "metadata": {},
     "output_type": "execute_result"
    }
   ],
   "source": [
    "# first_dict = {}\n",
    "\n",
    "for key in stacked_data.keys():\n",
    "    if key in first_dict:\n",
    "        if isinstance(stacked_data[key], np.ndarray):\n",
    "            first_dict[key] = np.vstack((first_dict[key], stacked_data[key]))\n",
    "        elif isinstance(stacked_data[key], torch.Tensor):\n",
    "            first_dict[key] = torch.vstack((first_dict[key], stacked_data[key]))\n",
    "    else:\n",
    "        first_dict[key] = stacked_data[key]\n",
    "\n",
    "first_dict"
   ]
  },
  {
   "cell_type": "code",
   "execution_count": 62,
   "id": "012e7850",
   "metadata": {},
   "outputs": [
    {
     "data": {
      "text/plain": [
       "(9, 5, 3)"
      ]
     },
     "execution_count": 62,
     "metadata": {},
     "output_type": "execute_result"
    }
   ],
   "source": [
    "first_dict['obs'].shape"
   ]
  }
 ],
 "metadata": {
  "kernelspec": {
   "display_name": "Python 3 (ipykernel)",
   "language": "python",
   "name": "python3"
  },
  "language_info": {
   "codemirror_mode": {
    "name": "ipython",
    "version": 3
   },
   "file_extension": ".py",
   "mimetype": "text/x-python",
   "name": "python",
   "nbconvert_exporter": "python",
   "pygments_lexer": "ipython3",
   "version": "3.11.4"
  }
 },
 "nbformat": 4,
 "nbformat_minor": 5
}

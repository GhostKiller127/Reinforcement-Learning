{
 "cells": [
  {
   "cell_type": "code",
   "execution_count": 27,
   "id": "c1aba54e",
   "metadata": {},
   "outputs": [
    {
     "name": "stdout",
     "output_type": "stream",
     "text": [
      "Step number: 50\r"
     ]
    }
   ],
   "source": [
    "from gymnasium_sync import TrainingLoop\n",
    "training_loop = TrainingLoop(num_envs=1, num_steps=50)\n",
    "training_loop.run()"
   ]
  },
  {
   "cell_type": "code",
   "execution_count": 28,
   "id": "2667c5a8",
   "metadata": {},
   "outputs": [
    {
     "name": "stdout",
     "output_type": "stream",
     "text": [
      "Candidates: [0.8 1. ]\n"
     ]
    }
   ],
   "source": [
    "from bandit import Bandit\n",
    "\n",
    "bandit = Bandit(mode='argmax', l=0, r=1, acc=10, acc2=2, width=2, lr=0.1, d=2)\n",
    "# bandit.update(x=0.5, g=1)\n",
    "candidates = bandit.sample()\n",
    "\n",
    "print(\"Candidates:\", candidates)"
   ]
  },
  {
   "cell_type": "code",
   "execution_count": 158,
   "id": "51c96e68",
   "metadata": {},
   "outputs": [
    {
     "name": "stdout",
     "output_type": "stream",
     "text": [
      "{'num_frames': 200000000, 'replay': 2, 'num_envs': 160, 'seq_length': 80, 'bootstrap': 5, 'batch_size': 64, 'discount': 0.997, 'v_loss_scaling': 1.0, 'q_loss_scaling': 10.0, 'pi_loss_scaling': 10.0, 'importance_sampling_clip_c': 1.05, 'importance_sampling_clip_rho': 1.05, 'backbone': 'IMPALA,deep', 'lstm_units': 256, 'optimizer': 'Adam Weight Decay', 'weight_decay_rate': 0.01, 'learning_rate': 0.0005, 'warmup_steps': 4000, 'adamw_beta1': 0.9, 'adamw_beta2': 0.98, 'adamw_epsilon': 1e-06, 'adamw_clip_norm': 50.0, 'learner_push_model_every_n_steps': 25, 'actor_pull_model_every_n_steps': 64, 'bandit_params': {'mode': ['argmax', 'random'], 'tau1': [0.0, 50.0], 'tau2': [0.0, 50.0], 'epsilon': [0.0, 1.0], 'acc': [50, 50, 10], 'acc2': [2, 3, 4], 'width': [2, 3, 4], 'lr': [0.05, 0.1, 0.2], 'd': 3}}\n"
     ]
    }
   ],
   "source": [
    "from config import config_params\n",
    "\n",
    "print(config_params[\"Acrobot-v1\"])"
   ]
  },
  {
   "cell_type": "code",
   "execution_count": 195,
   "id": "d006b21f",
   "metadata": {},
   "outputs": [],
   "source": [
    "from config import config_params\n",
    "from bandit import initialize_bandits\n",
    "from bandit import update_bandits\n",
    "from bandit import get_candidates\n",
    "from bandit import sample_candidate\n",
    "\n",
    "env_name = \"Acrobot-v1\"\n",
    "params = config_params[env_name]\n",
    "\n",
    "bandits = initialize_bandits(params[\"bandit_params\"])"
   ]
  },
  {
   "cell_type": "code",
   "execution_count": 231,
   "id": "35ec30ac",
   "metadata": {},
   "outputs": [],
   "source": [
    "update_bandits(bandits, 22.666666666666664, 9.666666666666666, 0.8500000000000001, 0.5)"
   ]
  },
  {
   "cell_type": "code",
   "execution_count": 199,
   "id": "8e338024",
   "metadata": {},
   "outputs": [
    {
     "data": {
      "text/plain": [
       "array([10.5, 12.5, 29. ])"
      ]
     },
     "execution_count": 199,
     "metadata": {},
     "output_type": "execute_result"
    }
   ],
   "source": [
    "bandits[27]['tau1'].sample()"
   ]
  },
  {
   "cell_type": "code",
   "execution_count": 234,
   "id": "7bf82ede",
   "metadata": {},
   "outputs": [
    {
     "name": "stdout",
     "output_type": "stream",
     "text": [
      "(22.0, 9.25, 0.25)\n"
     ]
    }
   ],
   "source": [
    "all_candidates = get_candidates(bandits)\n",
    "sampled_candidate = sample_candidate(all_candidates)\n",
    "print(sampled_candidate)"
   ]
  }
 ],
 "metadata": {
  "kernelspec": {
   "display_name": "Python 3 (ipykernel)",
   "language": "python",
   "name": "python3"
  },
  "language_info": {
   "codemirror_mode": {
    "name": "ipython",
    "version": 3
   },
   "file_extension": ".py",
   "mimetype": "text/x-python",
   "name": "python",
   "nbconvert_exporter": "python",
   "pygments_lexer": "ipython3",
   "version": "3.11.4"
  }
 },
 "nbformat": 4,
 "nbformat_minor": 5
}

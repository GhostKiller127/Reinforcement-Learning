{
 "cells": [
  {
   "cell_type": "markdown",
   "metadata": {
    "colab_type": "text",
    "id": "a7gDqfb-yman"
   },
   "source": [
    "# Import Library from Google Drive"
   ]
  },
  {
   "cell_type": "code",
   "execution_count": 3,
   "metadata": {
    "colab": {
     "base_uri": "https://localhost:8080/",
     "height": 34
    },
    "colab_type": "code",
    "executionInfo": {
     "elapsed": 1254,
     "status": "ok",
     "timestamp": 1571606496359,
     "user": {
      "displayName": "Ghost Killer",
      "photoUrl": "",
      "userId": "00133024447090345748"
     },
     "user_tz": -120
    },
    "id": "zqriguM3-OnI",
    "outputId": "9689f167-7ab8-4869-8e87-74656e83584d"
   },
   "outputs": [
    {
     "name": "stdout",
     "output_type": "stream",
     "text": [
      "Drive already mounted at /content/drive/; to attempt to forcibly remount, call drive.mount(\"/content/drive/\", force_remount=True).\n"
     ]
    }
   ],
   "source": [
    "from google.colab import drive\n",
    "drive.mount('/content/drive/')"
   ]
  },
  {
   "cell_type": "code",
   "execution_count": 0,
   "metadata": {
    "colab": {},
    "colab_type": "code",
    "id": "syOkGUz3RA48"
   },
   "outputs": [],
   "source": [
    "import os\n",
    "os.chdir(\"drive/My Drive/laser-hockey-env-master/\")"
   ]
  },
  {
   "cell_type": "markdown",
   "metadata": {
    "colab_type": "text",
    "id": "uX9KQ647y2VB"
   },
   "source": [
    "# Install OpenAI Gym"
   ]
  },
  {
   "cell_type": "code",
   "execution_count": 0,
   "metadata": {
    "colab": {},
    "colab_type": "code",
    "id": "eSG9IxMaZIO9"
   },
   "outputs": [],
   "source": [
    "# !apt-get install -y python-pyglet python3-opengl zlib1g-dev libjpeg-dev patchelf \\\n",
    "#         cmake swig libboost-all-dev libsdl2-dev libosmesa6-dev xvfb ffmpeg"
   ]
  },
  {
   "cell_type": "code",
   "execution_count": 12,
   "metadata": {
    "colab": {
     "base_uri": "https://localhost:8080/",
     "height": 717
    },
    "colab_type": "code",
    "executionInfo": {
     "elapsed": 18487,
     "status": "ok",
     "timestamp": 1571607138600,
     "user": {
      "displayName": "Ghost Killer",
      "photoUrl": "",
      "userId": "00133024447090345748"
     },
     "user_tz": -120
    },
    "id": "D3fcz9VTZU-t",
    "outputId": "34a2f0c7-a185-4dc1-adac-10e352d01492"
   },
   "outputs": [
    {
     "name": "stdout",
     "output_type": "stream",
     "text": [
      "Requirement already satisfied: gym[all] in /usr/local/lib/python3.6/dist-packages (0.10.11)\n",
      "Requirement already satisfied: scipy in /usr/local/lib/python3.6/dist-packages (from gym[all]) (1.3.1)\n",
      "Requirement already satisfied: requests>=2.0 in /usr/local/lib/python3.6/dist-packages (from gym[all]) (2.21.0)\n",
      "Requirement already satisfied: pyglet>=1.2.0 in /usr/local/lib/python3.6/dist-packages (from gym[all]) (1.4.5)\n",
      "Requirement already satisfied: numpy>=1.10.4 in /usr/local/lib/python3.6/dist-packages (from gym[all]) (1.16.5)\n",
      "Requirement already satisfied: six in /usr/local/lib/python3.6/dist-packages (from gym[all]) (1.12.0)\n",
      "Requirement already satisfied: imageio; extra == \"all\" in /usr/local/lib/python3.6/dist-packages (from gym[all]) (2.4.1)\n",
      "Collecting box2d-py>=2.3.5; extra == \"all\" (from gym[all])\n",
      "  Using cached https://files.pythonhosted.org/packages/06/bd/6cdc3fd994b0649dcf5d9bad85bd9e26172308bbe9a421bfc6fdbf5081a6/box2d_py-2.3.8-cp36-cp36m-manylinux1_x86_64.whl\n",
      "Requirement already satisfied: Pillow; extra == \"all\" in /usr/local/lib/python3.6/dist-packages (from gym[all]) (4.3.0)\n",
      "Requirement already satisfied: atari-py>=0.1.4; extra == \"all\" in /usr/local/lib/python3.6/dist-packages (from gym[all]) (1.2.1)\n",
      "Collecting mujoco-py>=1.50; extra == \"all\" (from gym[all])\n",
      "  Using cached https://files.pythonhosted.org/packages/c3/a1/00f5482d6325565f35a81707b8c6b3e364bdc8f7b9487c15c18781e1432a/mujoco-py-2.0.2.7.tar.gz\n",
      "  Installing build dependencies ... \u001b[?25l\u001b[?25hdone\n",
      "\u001b[33m  WARNING: Missing build requirements in pyproject.toml for mujoco-py>=1.50; extra == \"all\" from https://files.pythonhosted.org/packages/c3/a1/00f5482d6325565f35a81707b8c6b3e364bdc8f7b9487c15c18781e1432a/mujoco-py-2.0.2.7.tar.gz#sha256=2a294006c66ed225c3409b9d60a91afeb7756f96fecf3d8c22116d00adf6d82a (from gym[all]).\u001b[0m\n",
      "\u001b[33m  WARNING: The project does not specify a build backend, and pip cannot fall back to setuptools without 'wheel'.\u001b[0m\n",
      "  Getting requirements to build wheel ... \u001b[?25l\u001b[?25hdone\n",
      "  Installing backend dependencies ... \u001b[?25l\u001b[?25hdone\n",
      "    Preparing wheel metadata ... \u001b[?25l\u001b[?25hdone\n",
      "Requirement already satisfied: PyOpenGL; extra == \"all\" in /usr/local/lib/python3.6/dist-packages (from gym[all]) (3.1.0)\n",
      "Requirement already satisfied: chardet<3.1.0,>=3.0.2 in /usr/local/lib/python3.6/dist-packages (from requests>=2.0->gym[all]) (3.0.4)\n",
      "Requirement already satisfied: idna<2.9,>=2.5 in /usr/local/lib/python3.6/dist-packages (from requests>=2.0->gym[all]) (2.8)\n",
      "Requirement already satisfied: certifi>=2017.4.17 in /usr/local/lib/python3.6/dist-packages (from requests>=2.0->gym[all]) (2019.9.11)\n",
      "Requirement already satisfied: urllib3<1.25,>=1.21.1 in /usr/local/lib/python3.6/dist-packages (from requests>=2.0->gym[all]) (1.24.3)\n",
      "Requirement already satisfied: future in /usr/local/lib/python3.6/dist-packages (from pyglet>=1.2.0->gym[all]) (0.16.0)\n",
      "Requirement already satisfied: olefile in /usr/local/lib/python3.6/dist-packages (from Pillow; extra == \"all\"->gym[all]) (0.46)\n",
      "Collecting fasteners~=0.15 (from mujoco-py>=1.50; extra == \"all\"->gym[all])\n",
      "  Using cached https://files.pythonhosted.org/packages/18/bd/55eb2d6397b9c0e263af9d091ebdb756b15756029b3cededf6461481bc63/fasteners-0.15-py2.py3-none-any.whl\n",
      "Requirement already satisfied: Cython>=0.27.2 in /usr/local/lib/python3.6/dist-packages (from mujoco-py>=1.50; extra == \"all\"->gym[all]) (0.29.13)\n",
      "Collecting glfw>=1.4.0 (from mujoco-py>=1.50; extra == \"all\"->gym[all])\n",
      "Requirement already satisfied: cffi>=1.10 in /usr/local/lib/python3.6/dist-packages (from mujoco-py>=1.50; extra == \"all\"->gym[all]) (1.13.0)\n",
      "Collecting monotonic>=0.1 (from fasteners~=0.15->mujoco-py>=1.50; extra == \"all\"->gym[all])\n",
      "  Using cached https://files.pythonhosted.org/packages/ac/aa/063eca6a416f397bd99552c534c6d11d57f58f2e94c14780f3bbf818c4cf/monotonic-1.5-py2.py3-none-any.whl\n",
      "Requirement already satisfied: pycparser in /usr/local/lib/python3.6/dist-packages (from cffi>=1.10->mujoco-py>=1.50; extra == \"all\"->gym[all]) (2.19)\n",
      "Building wheels for collected packages: mujoco-py\n",
      "  Building wheel for mujoco-py (PEP 517) ... \u001b[?25l\u001b[?25herror\n",
      "\u001b[31m  ERROR: Failed building wheel for mujoco-py\u001b[0m\n",
      "  Running setup.py clean for mujoco-py\n",
      "Failed to build mujoco-py\n",
      "\u001b[31mERROR: Could not build wheels for mujoco-py which use PEP 517 and cannot be installed directly\u001b[0m\n"
     ]
    }
   ],
   "source": [
    "# !git clone https://github.com/openai/gym.git\n",
    "# !cd gym\n",
    "!pip install 'gym[all]'"
   ]
  },
  {
   "cell_type": "code",
   "execution_count": null,
   "metadata": {},
   "outputs": [],
   "source": [
    "!pip install gym[box2d]"
   ]
  },
  {
   "cell_type": "code",
   "execution_count": 0,
   "metadata": {
    "colab": {},
    "colab_type": "code",
    "id": "YV2uR2tJKHMA"
   },
   "outputs": [],
   "source": [
    "# !pip install git+https://github.com/Kojoley/atari-py.git\n",
    "# !pip install gym[all]"
   ]
  },
  {
   "cell_type": "markdown",
   "metadata": {
    "colab_type": "text",
    "id": "ZVbR7zn9_r0-"
   },
   "source": [
    "# Device Test"
   ]
  },
  {
   "cell_type": "code",
   "execution_count": 0,
   "metadata": {
    "colab": {
     "base_uri": "https://localhost:8080/",
     "height": 217
    },
    "colab_type": "code",
    "executionInfo": {
     "elapsed": 1552,
     "status": "ok",
     "timestamp": 1546641052378,
     "user": {
      "displayName": "Ghost Killer",
      "photoUrl": "",
      "userId": "00133024447090345748"
     },
     "user_tz": -60
    },
    "id": "vPpuFfzQOcbZ",
    "outputId": "2389ece0-6f6b-4053-ef54-240f84e334e0"
   },
   "outputs": [
    {
     "data": {
      "text/plain": [
       "[name: \"/device:CPU:0\"\n",
       " device_type: \"CPU\"\n",
       " memory_limit: 268435456\n",
       " locality {\n",
       " }\n",
       " incarnation: 3629261760947941475, name: \"/device:XLA_CPU:0\"\n",
       " device_type: \"XLA_CPU\"\n",
       " memory_limit: 17179869184\n",
       " locality {\n",
       " }\n",
       " incarnation: 7831297881238739878\n",
       " physical_device_desc: \"device: XLA_CPU device\"]"
      ]
     },
     "execution_count": 14,
     "metadata": {
      "tags": []
     },
     "output_type": "execute_result"
    }
   ],
   "source": [
    "from tensorflow.python.client import device_lib\n",
    "device_lib.list_local_devices()"
   ]
  },
  {
   "cell_type": "code",
   "execution_count": 0,
   "metadata": {
    "colab": {
     "base_uri": "https://localhost:8080/",
     "height": 33
    },
    "colab_type": "code",
    "executionInfo": {
     "elapsed": 544,
     "status": "ok",
     "timestamp": 1546641059565,
     "user": {
      "displayName": "Ghost Killer",
      "photoUrl": "",
      "userId": "00133024447090345748"
     },
     "user_tz": -60
    },
    "id": "U1ojlI4vUdjS",
    "outputId": "83bd1610-d823-4173-e401-9306cb2bb5a9"
   },
   "outputs": [
    {
     "name": "stdout",
     "output_type": "stream",
     "text": [
      "ERROR: Not connected to a TPU runtime; please see the first cell in this notebook for instructions!\n"
     ]
    }
   ],
   "source": [
    "import os\n",
    "import pprint\n",
    "import tensorflow as tf\n",
    "\n",
    "if 'COLAB_TPU_ADDR' not in os.environ:\n",
    "  print('ERROR: Not connected to a TPU runtime; please see the first cell in this notebook for instructions!')\n",
    "else:\n",
    "  tpu_address = 'grpc://' + os.environ['COLAB_TPU_ADDR']\n",
    "  print ('TPU address is', tpu_address)\n",
    "\n",
    "  with tf.Session(tpu_address) as session:\n",
    "    devices = session.list_devices()\n",
    "    \n",
    "  print('TPU devices:')\n",
    "  pprint.pprint(devices)"
   ]
  },
  {
   "cell_type": "code",
   "execution_count": 0,
   "metadata": {
    "colab": {
     "base_uri": "https://localhost:8080/",
     "height": 67
    },
    "colab_type": "code",
    "executionInfo": {
     "elapsed": 11152,
     "status": "ok",
     "timestamp": 1546632800774,
     "user": {
      "displayName": "Ghost Killer",
      "photoUrl": "",
      "userId": "00133024447090345748"
     },
     "user_tz": -60
    },
    "id": "8Kj2k3oxTvej",
    "outputId": "2215f08f-ba97-4213-a66e-7ef3de55abe6"
   },
   "outputs": [
    {
     "name": "stdout",
     "output_type": "stream",
     "text": [
      "Warming up...\n",
      "Profiling\n",
      "0.6645443439483643 TFlops: 165.45\n"
     ]
    }
   ],
   "source": [
    "N = 4096\n",
    "COUNT = 100\n",
    "import time\n",
    "\n",
    "def flops():\n",
    "  x = tf.random_uniform([N, N])\n",
    "  y = tf.random_uniform([N, N])\n",
    "  def _matmul(x, y):\n",
    "    return tf.tensordot(x, y, axes=[[1], [0]]), y\n",
    "\n",
    "  return tf.reduce_sum(\n",
    "    tf.contrib.tpu.repeat(COUNT, _matmul, [x, y])\n",
    "  )\n",
    "  \n",
    "tpu_ops = tf.contrib.tpu.batch_parallel(flops, [], num_shards=8)\n",
    "  \n",
    "session = tf.Session(tpu_address)\n",
    "try:\n",
    "  print('Warming up...')\n",
    "  session.run(tf.contrib.tpu.initialize_system())\n",
    "  session.run(tpu_ops)\n",
    "  print('Profiling')\n",
    "  start = time.time()\n",
    "  session.run(tpu_ops)\n",
    "  end = time.time()\n",
    "  elapsed = end - start\n",
    "  print(elapsed, 'TFlops: {:.2f}'.format(1e-12 * 8 * COUNT * 2*N*N*N / elapsed))\n",
    "finally:\n",
    "  session.run(tf.contrib.tpu.shutdown_system())\n",
    "  session.close()"
   ]
  },
  {
   "cell_type": "code",
   "execution_count": 0,
   "metadata": {
    "colab": {},
    "colab_type": "code",
    "id": "t6Tns78XjKkx"
   },
   "outputs": [],
   "source": [
    "# This address identifies the TPU we'll use when configuring TensorFlow.\n",
    "TPU_WORKER = 'grpc://' + os.environ['COLAB_TPU_ADDR']\n",
    "tf.logging.set_verbosity(tf.logging.INFO)"
   ]
  },
  {
   "cell_type": "code",
   "execution_count": 0,
   "metadata": {
    "colab": {},
    "colab_type": "code",
    "id": "_gBBnKa_q0MU"
   },
   "outputs": [],
   "source": [
    "tf.keras.backend.clear_session()\n",
    "agent.summary()"
   ]
  },
  {
   "cell_type": "code",
   "execution_count": 0,
   "metadata": {
    "colab": {},
    "colab_type": "code",
    "id": "W_atm-sto0-1"
   },
   "outputs": [],
   "source": [
    "tf.keras.backend.clear_session()\n",
    "\n",
    "model = tf.contrib.tpu.keras_to_tpu_model(\n",
    "    agent,\n",
    "    strategy=tf.contrib.tpu.TPUDistributionStrategy(\n",
    "        tf.contrib.cluster_resolver.TPUClusterResolver(TPU_WORKER)))"
   ]
  },
  {
   "cell_type": "code",
   "execution_count": null,
   "metadata": {},
   "outputs": [],
   "source": []
  },
  {
   "cell_type": "code",
   "execution_count": 1,
   "metadata": {
    "ExecuteTime": {
     "end_time": "2018-12-23T09:22:35.732628Z",
     "start_time": "2018-12-23T09:22:35.485803Z"
    }
   },
   "outputs": [],
   "source": [
    "import gym\n",
    "import random\n",
    "import numpy as np\n",
    "import matplotlib.pyplot as plt\n",
    "import laser_hockey_env as lh\n",
    "from importlib import reload"
   ]
  },
  {
   "cell_type": "code",
   "execution_count": 2,
   "metadata": {
    "ExecuteTime": {
     "end_time": "2018-12-21T12:23:58.180935Z",
     "start_time": "2018-12-21T12:23:58.169092Z"
    }
   },
   "outputs": [],
   "source": [
    "reload(lh)\n",
    "env = lh.LaserHockeyEnv()\n",
    "np.set_printoptions(suppress=True)"
   ]
  },
  {
   "cell_type": "markdown",
   "metadata": {},
   "source": [
    "# Model"
   ]
  },
  {
   "cell_type": "code",
   "execution_count": 390,
   "metadata": {},
   "outputs": [],
   "source": [
    "import tensorflow as tf\n",
    "\n",
    "from keras.models import Sequential\n",
    "from keras.layers import Dense, Activation\n",
    "from keras.optimizers import SGD, adam\n",
    "from keras.callbacks import TensorBoard\n",
    "\n",
    "agent1 = Sequential()\n",
    "agent1.add(Dense(64, input_shape=(16,)))\n",
    "agent1.add(Activation('relu'))\n",
    "agent1.add(Dense(64))\n",
    "agent1.add(Activation('relu'))\n",
    "agent1.add(Dense(27))\n",
    "agent1.add(Activation('softmax'))\n",
    "\n",
    "agent2 = Sequential()\n",
    "agent2.add(Dense(64, input_shape=(16,)))\n",
    "agent2.add(Activation('relu'))\n",
    "agent2.add(Dense(64))\n",
    "agent2.add(Activation('relu'))\n",
    "agent2.add(Dense(27))\n",
    "agent2.add(Activation('softmax'))\n",
    "\n",
    "agent3 = tf.keras.models.Sequential([\n",
    "tf.keras.layers.Dense(64, activation='relu'),\n",
    "tf.keras.layers.Dense(64, activation='relu'),\n",
    "tf.keras.layers.Dense(1, activation='sigmoid')])\n",
    "\n",
    "agent4 = tf.keras.models.Sequential([\n",
    "tf.keras.layers.Dense(64, activation='relu'),\n",
    "tf.keras.layers.Dense(64, activation='relu'),\n",
    "tf.keras.layers.Dense(27, activation='softmax')])\n",
    "\n",
    "# agent1.compile(optimizer=adam(lr=0.001),\n",
    "# #               loss='categorical_crossentropy',\n",
    "#                loss='mean_squared_error',\n",
    "#                metrics=['accuracy'])\n",
    "\n",
    "# agent2.compile(optimizer=adam(lr=0.001),\n",
    "# #               loss='categorical_crossentropy',\n",
    "#               loss='mean_squared_error',\n",
    "#               metrics=['accuracy'])\n",
    "\n",
    "agent3.compile(optimizer=tf.train.AdamOptimizer(learning_rate=0.01),\n",
    "#               loss='categorical_crossentropy',\n",
    "              loss='mean_squared_error',\n",
    "              metrics=['accuracy'])\n",
    "\n",
    "agent4.compile(optimizer=tf.train.AdamOptimizer(learning_rate=0.01),\n",
    "              loss='categorical_crossentropy',\n",
    "#               loss='mean_squared_error',\n",
    "              metrics=['accuracy'])"
   ]
  },
  {
   "cell_type": "code",
   "execution_count": 393,
   "metadata": {},
   "outputs": [
    {
     "name": "stdout",
     "output_type": "stream",
     "text": [
      "Performing data dependent initialization for layer dense_31\n",
      "Performing data dependent initialization for layer dense_32\n",
      "Performing data dependent initialization for layer dense_33\n",
      "Performing data dependent initialization for layer dense_34\n",
      "Performing data dependent initialization for layer dense_35\n",
      "Performing data dependent initialization for layer dense_36\n"
     ]
    }
   ],
   "source": [
    "from weightnorm import SGDWithWeightnorm, AdamWithWeightnorm\n",
    "# opt_wn = SGDWithWeightnorm(lr=0.01, decay=1e-6, momentum=0.9, nesterov=True)\n",
    "opt_wn = AdamWithWeightnorm(lr=0.01)\n",
    "agent1.compile(loss='categorical_crossentropy', optimizer=opt_wn, metrics=['accuracy'])\n",
    "agent2.compile(loss='categorical_crossentropy', optimizer=opt_wn, metrics=['accuracy'])\n",
    "\n",
    "from weightnorm import data_based_init\n",
    "data_based_init(agent1, init_obs)\n",
    "data_based_init(agent2, init_obs)"
   ]
  },
  {
   "cell_type": "code",
   "execution_count": 394,
   "metadata": {},
   "outputs": [],
   "source": [
    "agents = {1:agent1, 2:agent2, 3:agent3, 4:agent4}"
   ]
  },
  {
   "cell_type": "code",
   "execution_count": 395,
   "metadata": {},
   "outputs": [
    {
     "name": "stdout",
     "output_type": "stream",
     "text": [
      "_________________________________________________________________\n",
      "Layer (type)                 Output Shape              Param #   \n",
      "=================================================================\n",
      "dense_30 (Dense)             multiple                  1088      \n",
      "_________________________________________________________________\n",
      "dense_31 (Dense)             multiple                  4160      \n",
      "_________________________________________________________________\n",
      "dense_32 (Dense)             multiple                  65        \n",
      "=================================================================\n",
      "Total params: 5,313\n",
      "Trainable params: 5,313\n",
      "Non-trainable params: 0\n",
      "_________________________________________________________________\n"
     ]
    }
   ],
   "source": [
    "agent3.summary()"
   ]
  },
  {
   "cell_type": "code",
   "execution_count": 396,
   "metadata": {},
   "outputs": [
    {
     "name": "stdout",
     "output_type": "stream",
     "text": [
      "<tensorflow.python.keras.engine.sequential.Sequential object at 0x000001FFCBADFFD0>\n",
      "<tensorflow.python.keras.engine.sequential.Sequential object at 0x000001FFCBADFFD0>\n"
     ]
    }
   ],
   "source": [
    "print(agents[3])\n",
    "print(agent3)"
   ]
  },
  {
   "cell_type": "code",
   "execution_count": 8,
   "metadata": {},
   "outputs": [],
   "source": [
    "tensorboard = TensorBoard(log_dir=\"./Graph\", histogram_freq=0, write_graph=True, write_images=True)"
   ]
  },
  {
   "cell_type": "raw",
   "metadata": {},
   "source": [
    "tensorboard --inspect --logdir \"C:\\Users\\Ali\\Documents\\Informatik\\7. Semester\\Übungen\\project\\laser-hockey-env-master\\Graph\"\n",
    "tensorboard --logdir \"C:\\Users\\Ali\\Documents\\Informatik\\7. Semester\\Übungen\\project\\laser-hockey-env-master\\Graph\""
   ]
  },
  {
   "cell_type": "code",
   "execution_count": 397,
   "metadata": {
    "scrolled": true
   },
   "outputs": [
    {
     "name": "stdout",
     "output_type": "stream",
     "text": [
      "Epoch 1/50\n",
      "121170/121170 [==============================] - 1s 7us/step - loss: 1.9338 - acc: 0.3863\n",
      "Epoch 2/50\n",
      "121170/121170 [==============================] - 0s 3us/step - loss: 1.3315 - acc: 0.5364\n",
      "Epoch 3/50\n",
      "121170/121170 [==============================] - 0s 3us/step - loss: 1.1887 - acc: 0.5751\n",
      "Epoch 4/50\n",
      "121170/121170 [==============================] - 0s 3us/step - loss: 1.1182 - acc: 0.5943\n",
      "Epoch 5/50\n",
      "121170/121170 [==============================] - 0s 3us/step - loss: 1.0621 - acc: 0.6101\n",
      "Epoch 6/50\n",
      "121170/121170 [==============================] - 0s 3us/step - loss: 1.0234 - acc: 0.6214\n",
      "Epoch 7/50\n",
      "121170/121170 [==============================] - 0s 3us/step - loss: 0.9997 - acc: 0.6262\n",
      "Epoch 8/50\n",
      "121170/121170 [==============================] - 0s 3us/step - loss: 0.9667 - acc: 0.6360\n",
      "Epoch 9/50\n",
      "121170/121170 [==============================] - 0s 3us/step - loss: 0.9472 - acc: 0.6405\n",
      "Epoch 10/50\n",
      "121170/121170 [==============================] - 0s 3us/step - loss: 0.9269 - acc: 0.6454\n",
      "Epoch 11/50\n",
      "121170/121170 [==============================] - 0s 3us/step - loss: 0.9298 - acc: 0.6423\n",
      "Epoch 12/50\n",
      "121170/121170 [==============================] - 0s 3us/step - loss: 0.8880 - acc: 0.6559\n",
      "Epoch 13/50\n",
      "121170/121170 [==============================] - 0s 3us/step - loss: 0.8809 - acc: 0.6570\n",
      "Epoch 14/50\n",
      "121170/121170 [==============================] - 0s 3us/step - loss: 0.8623 - acc: 0.6646\n",
      "Epoch 15/50\n",
      "121170/121170 [==============================] - 0s 3us/step - loss: 0.8466 - acc: 0.6681\n",
      "Epoch 16/50\n",
      "121170/121170 [==============================] - 0s 3us/step - loss: 0.8495 - acc: 0.6672\n",
      "Epoch 17/50\n",
      "121170/121170 [==============================] - 0s 3us/step - loss: 0.8438 - acc: 0.6676\n",
      "Epoch 18/50\n",
      "121170/121170 [==============================] - 0s 3us/step - loss: 0.8221 - acc: 0.6749\n",
      "Epoch 19/50\n",
      "121170/121170 [==============================] - 0s 3us/step - loss: 0.8143 - acc: 0.6767\n",
      "Epoch 20/50\n",
      "121170/121170 [==============================] - 0s 3us/step - loss: 0.8077 - acc: 0.6800\n",
      "Epoch 21/50\n",
      "121170/121170 [==============================] - 0s 3us/step - loss: 0.8000 - acc: 0.6816\n",
      "Epoch 22/50\n",
      "121170/121170 [==============================] - 0s 3us/step - loss: 0.7915 - acc: 0.6820\n",
      "Epoch 23/50\n",
      "121170/121170 [==============================] - 0s 3us/step - loss: 0.7926 - acc: 0.6807\n",
      "Epoch 24/50\n",
      "121170/121170 [==============================] - 0s 4us/step - loss: 0.7923 - acc: 0.6824\n",
      "Epoch 25/50\n",
      "121170/121170 [==============================] - 0s 3us/step - loss: 0.7675 - acc: 0.6892\n",
      "Epoch 26/50\n",
      "121170/121170 [==============================] - 0s 3us/step - loss: 0.7691 - acc: 0.6901\n",
      "Epoch 27/50\n",
      "121170/121170 [==============================] - 0s 3us/step - loss: 0.7576 - acc: 0.6923\n",
      "Epoch 28/50\n",
      "121170/121170 [==============================] - 0s 3us/step - loss: 0.7437 - acc: 0.6965\n",
      "Epoch 29/50\n",
      "121170/121170 [==============================] - 0s 3us/step - loss: 0.7466 - acc: 0.6949\n",
      "Epoch 30/50\n",
      "121170/121170 [==============================] - 0s 3us/step - loss: 0.7382 - acc: 0.6985\n",
      "Epoch 31/50\n",
      "121170/121170 [==============================] - 0s 3us/step - loss: 0.7411 - acc: 0.6970\n",
      "Epoch 32/50\n",
      "121170/121170 [==============================] - 0s 3us/step - loss: 0.7354 - acc: 0.6984\n",
      "Epoch 33/50\n",
      "121170/121170 [==============================] - 0s 3us/step - loss: 0.7226 - acc: 0.7015\n",
      "Epoch 34/50\n",
      "121170/121170 [==============================] - 0s 3us/step - loss: 0.7180 - acc: 0.7023\n",
      "Epoch 35/50\n",
      "121170/121170 [==============================] - 0s 3us/step - loss: 0.7164 - acc: 0.7050\n",
      "Epoch 36/50\n",
      "121170/121170 [==============================] - 0s 3us/step - loss: 0.7198 - acc: 0.7030\n",
      "Epoch 37/50\n",
      "121170/121170 [==============================] - 0s 3us/step - loss: 0.7099 - acc: 0.7052\n",
      "Epoch 38/50\n",
      "121170/121170 [==============================] - 0s 3us/step - loss: 0.7151 - acc: 0.7039\n",
      "Epoch 39/50\n",
      "121170/121170 [==============================] - 0s 3us/step - loss: 0.7095 - acc: 0.7063\n",
      "Epoch 40/50\n",
      "121170/121170 [==============================] - 0s 3us/step - loss: 0.6996 - acc: 0.7089\n",
      "Epoch 41/50\n",
      "121170/121170 [==============================] - 0s 3us/step - loss: 0.7017 - acc: 0.7086\n",
      "Epoch 42/50\n",
      "121170/121170 [==============================] - 0s 3us/step - loss: 0.6973 - acc: 0.7104\n",
      "Epoch 43/50\n",
      "121170/121170 [==============================] - 0s 3us/step - loss: 0.6937 - acc: 0.7103\n",
      "Epoch 44/50\n",
      "121170/121170 [==============================] - 0s 3us/step - loss: 0.6881 - acc: 0.7127\n",
      "Epoch 45/50\n",
      "121170/121170 [==============================] - 0s 3us/step - loss: 0.6747 - acc: 0.7176A: 0s - loss: 0.6711 - acc: 0\n",
      "Epoch 46/50\n",
      "121170/121170 [==============================] - 0s 3us/step - loss: 0.6788 - acc: 0.7163\n",
      "Epoch 47/50\n",
      "121170/121170 [==============================] - 0s 3us/step - loss: 0.6825 - acc: 0.7142\n",
      "Epoch 48/50\n",
      "121170/121170 [==============================] - 0s 3us/step - loss: 0.6766 - acc: 0.7156\n",
      "Epoch 49/50\n",
      "121170/121170 [==============================] - 0s 3us/step - loss: 0.6758 - acc: 0.7162\n",
      "Epoch 50/50\n",
      "121170/121170 [==============================] - 0s 3us/step - loss: 0.6712 - acc: 0.7189\n"
     ]
    },
    {
     "data": {
      "text/plain": [
       "<keras.callbacks.History at 0x1ffc71f6048>"
      ]
     },
     "execution_count": 397,
     "metadata": {},
     "output_type": "execute_result"
    }
   ],
   "source": [
    "agent1.fit(basic_observations2, basic_actions2, batch_size=2048, epochs=50)"
   ]
  },
  {
   "cell_type": "code",
   "execution_count": 392,
   "metadata": {
    "scrolled": true
   },
   "outputs": [
    {
     "name": "stdout",
     "output_type": "stream",
     "text": [
      "Epoch 1/5\n",
      "239046/239046 [==============================] - 1s 6us/step - loss: 0.0167 - acc: 0.0083\n",
      "Epoch 2/5\n",
      "239046/239046 [==============================] - 1s 6us/step - loss: 0.0156 - acc: 0.0083\n",
      "Epoch 3/5\n",
      "239046/239046 [==============================] - 2s 7us/step - loss: 0.0150 - acc: 0.0083\n",
      "Epoch 4/5\n",
      "239046/239046 [==============================] - 2s 6us/step - loss: 0.0147 - acc: 0.0083\n",
      "Epoch 5/5\n",
      "239046/239046 [==============================] - 1s 6us/step - loss: 0.0144 - acc: 0.0084\n"
     ]
    },
    {
     "data": {
      "text/plain": [
       "<tensorflow.python.keras.callbacks.History at 0x1ffcca7f2e8>"
      ]
     },
     "execution_count": 392,
     "metadata": {},
     "output_type": "execute_result"
    }
   ],
   "source": [
    "# agent3.fit(basic_observations2, basic_actions2, batch_size=2048, epochs=3, callbacks=[tensorboard])\n",
    "agent3.fit(np.array(all_observations4), np.array(all_actions4), batch_size=512, epochs=5)"
   ]
  },
  {
   "cell_type": "markdown",
   "metadata": {},
   "source": [
    "# Help Functions"
   ]
  },
  {
   "cell_type": "code",
   "execution_count": 1,
   "metadata": {},
   "outputs": [],
   "source": [
    "actionspace = [[1,1,1],[1,1,0],[1,1,-1],[1,0,1],[1,0,0],[1,0,-1],[1,-1,1],[1,-1,0],[1,-1,-1],\n",
    "               [0,1,1],[0,1,0],[0,1,-1],[0,0,1],[0,0,0],[0,0,-1],[0,-1,1],[0,-1,0],[0,-1,-1],\n",
    "               [-1,1,1],[-1,1,0],[-1,1,-1],[-1,0,1],[-1,0,0],[-1,0,-1],[-1,-1,1],[-1,-1,0],[-1,-1,-1]]\n",
    "\n",
    "actionspace_2 = [[-2],[0],[2]]\n",
    "\n",
    "def q_vec_to_act(q_vec):\n",
    "    return actionspace[np.random.choice(27, p=q_vec)]\n",
    "#     return actionspace[np.argmax(q_vec)]\n",
    "\n",
    "def q_vec_new(act, q_vec, q_val):\n",
    "    if type(act) is np.ndarray:\n",
    "        act = act.tolist()\n",
    "    q_vec[actionspace.index(act)] = q_val\n",
    "    return q_vec\n",
    "\n",
    "def agent_predict(obs, agent_n):\n",
    "    return agent_n.predict(obs.reshape(1, -1))[0]\n",
    "    \n",
    "    obs1 = []\n",
    "    obs1.append(obs)\n",
    "    obs1 = np.array(obs1)\n",
    "    return agent_n.predict(obs1)[0]\n",
    "\n",
    "def bound_act(act):\n",
    "    for _ in range(3):\n",
    "        if act[_] > 1:\n",
    "            act[_] = 1\n",
    "        if act[_] < -1:\n",
    "            act[_] = -1\n",
    "    return act\n",
    "\n",
    "def descrete_act(act):\n",
    "    for _ in range(3):\n",
    "        if act[_] > 0.5:\n",
    "            act[_] = 1\n",
    "        elif act[_] < -0.5:\n",
    "            act[_] = -1\n",
    "        else: act[_] = 0\n",
    "    return act\n",
    "\n",
    "def mean_list(lst):\n",
    "    if len(lst) != 0:\n",
    "        return sum(lst)/len(lst)\n",
    "    return 0\n",
    "\n",
    "def extend_memory(obs, act):\n",
    "    all_observations.extend(obs)\n",
    "    all_actions.extend(act)\n",
    "        \n",
    "def extend_memory2(obs, act):\n",
    "    all_observations2.extend(obs)\n",
    "    all_actions2.extend(act)"
   ]
  },
  {
   "cell_type": "markdown",
   "metadata": {},
   "source": [
    "# Data"
   ]
  },
  {
   "cell_type": "code",
   "execution_count": 8,
   "metadata": {},
   "outputs": [],
   "source": [
    "# np.save('basic_observations.npy', basic_observations)\n",
    "# np.save('basic_actions.npy', basic_actions)"
   ]
  },
  {
   "cell_type": "code",
   "execution_count": 16,
   "metadata": {},
   "outputs": [
    {
     "name": "stdout",
     "output_type": "stream",
     "text": [
      "(1000,)\n",
      "(1000,)\n",
      "(121170, 16)\n",
      "(121170, 27)\n"
     ]
    }
   ],
   "source": [
    "basic_observations = np.load('basic_observations.npy')\n",
    "basic_actions = np.load('basic_actions.npy')\n",
    "basic_observations2 = np.load('basic_observations2.npy')\n",
    "basic_actions2 = np.load('basic_actions2.npy')\n",
    "\n",
    "print(np.array(basic_observations).shape)\n",
    "print(np.array(basic_actions).shape)\n",
    "print(np.array(basic_observations2).shape)\n",
    "print(np.array(basic_actions2).shape)"
   ]
  },
  {
   "cell_type": "code",
   "execution_count": 6,
   "metadata": {
    "scrolled": true
   },
   "outputs": [
    {
     "name": "stdout",
     "output_type": "stream",
     "text": [
      "(1000,)\n",
      "(1000, 16)\n"
     ]
    }
   ],
   "source": [
    "init_obs_idx = np.random.randint(len(basic_observations2), size=1000)\n",
    "print(init_obs_idx.shape)\n",
    "\n",
    "init_obs = []\n",
    "\n",
    "for _ in range(1000):\n",
    "    init_obs.append(basic_observations2[init_obs_idx[_]])\n",
    "    \n",
    "init_obs = np.asarray(init_obs)\n",
    "print(init_obs.shape)"
   ]
  },
  {
   "cell_type": "code",
   "execution_count": 363,
   "metadata": {},
   "outputs": [],
   "source": [
    "all_observations1 = []\n",
    "all_observations2 = []\n",
    "all_observations3 = []\n",
    "all_observations4 = []\n",
    "all_actions1 = []\n",
    "all_actions2 = []\n",
    "all_actions3 = []\n",
    "all_actions4 = []"
   ]
  },
  {
   "cell_type": "code",
   "execution_count": 364,
   "metadata": {},
   "outputs": [],
   "source": [
    "all_observations = {1:all_observations1, 2:all_observations2, 3:all_observations3, 4:all_observations4}\n",
    "all_actions = {1:all_actions1, 2:all_actions2, 3:all_actions3, 4:all_actions4}"
   ]
  },
  {
   "cell_type": "code",
   "execution_count": 383,
   "metadata": {},
   "outputs": [
    {
     "name": "stdout",
     "output_type": "stream",
     "text": [
      "(2000,)\n",
      "(2000,)\n",
      "(236920, 16)\n",
      "(236920, 27)\n",
      "(2000,)\n",
      "(2000,)\n",
      "(239046, 16)\n",
      "(239046,)\n",
      "(239046, 16)\n"
     ]
    }
   ],
   "source": [
    "print(np.array(all_observations1).shape)\n",
    "print(np.array(all_actions1).shape)\n",
    "print(np.array(all_observations2).shape)\n",
    "print(np.array(all_actions2).shape)\n",
    "print(np.array(all_observations3).shape)\n",
    "print(np.array(all_actions3).shape)\n",
    "print(np.array(all_observations4).shape)\n",
    "print(np.array(all_actions4).shape)\n",
    "print(np.array(all_observations[4]).shape)"
   ]
  },
  {
   "cell_type": "code",
   "execution_count": 385,
   "metadata": {},
   "outputs": [
    {
     "name": "stdout",
     "output_type": "stream",
     "text": [
      "0.19826763511055168\n"
     ]
    }
   ],
   "source": [
    "print(all_actions4[45])"
   ]
  },
  {
   "cell_type": "code",
   "execution_count": 36,
   "metadata": {
    "scrolled": false
   },
   "outputs": [
    {
     "name": "stdout",
     "output_type": "stream",
     "text": [
      "80104\n",
      "[-3.90372133  0.45930099  0.         -5.55433559  4.98587132  0.\n",
      "  3.7926321   0.57038784  0.          4.98587132  5.55433559  0.\n",
      "  0.          1.6846261   0.          0.        ]\n"
     ]
    },
    {
     "ename": "NameError",
     "evalue": "name 'agent_predict' is not defined",
     "output_type": "error",
     "traceback": [
      "\u001b[1;31m---------------------------------------------------------------------------\u001b[0m",
      "\u001b[1;31mNameError\u001b[0m                                 Traceback (most recent call last)",
      "\u001b[1;32m<ipython-input-36-4a70d501d2ab>\u001b[0m in \u001b[0;36m<module>\u001b[1;34m\u001b[0m\n\u001b[0;32m      5\u001b[0m \u001b[0mprint\u001b[0m\u001b[1;33m(\u001b[0m\u001b[0mrnd\u001b[0m\u001b[1;33m)\u001b[0m\u001b[1;33m\u001b[0m\u001b[1;33m\u001b[0m\u001b[0m\n\u001b[0;32m      6\u001b[0m \u001b[0mprint\u001b[0m\u001b[1;33m(\u001b[0m\u001b[0mall_obs\u001b[0m\u001b[1;33m[\u001b[0m\u001b[0mrnd\u001b[0m\u001b[1;33m]\u001b[0m\u001b[1;33m)\u001b[0m\u001b[1;33m\u001b[0m\u001b[1;33m\u001b[0m\u001b[0m\n\u001b[1;32m----> 7\u001b[1;33m \u001b[0mpredict1\u001b[0m \u001b[1;33m=\u001b[0m \u001b[0magent_predict\u001b[0m\u001b[1;33m(\u001b[0m\u001b[0mall_obs\u001b[0m\u001b[1;33m[\u001b[0m\u001b[0mrnd\u001b[0m\u001b[1;33m]\u001b[0m\u001b[1;33m,\u001b[0m \u001b[0magent1\u001b[0m\u001b[1;33m)\u001b[0m\u001b[1;33m\u001b[0m\u001b[1;33m\u001b[0m\u001b[0m\n\u001b[0m\u001b[0;32m      8\u001b[0m \u001b[0mpredict2\u001b[0m \u001b[1;33m=\u001b[0m \u001b[0magent_predict\u001b[0m\u001b[1;33m(\u001b[0m\u001b[0mall_obs\u001b[0m\u001b[1;33m[\u001b[0m\u001b[0mrnd\u001b[0m\u001b[1;33m]\u001b[0m\u001b[1;33m,\u001b[0m \u001b[0magent2\u001b[0m\u001b[1;33m)\u001b[0m\u001b[1;33m\u001b[0m\u001b[1;33m\u001b[0m\u001b[0m\n\u001b[0;32m      9\u001b[0m \u001b[0mpredict3\u001b[0m \u001b[1;33m=\u001b[0m \u001b[0magent_predict\u001b[0m\u001b[1;33m(\u001b[0m\u001b[0mall_obs\u001b[0m\u001b[1;33m[\u001b[0m\u001b[0mrnd\u001b[0m\u001b[1;33m]\u001b[0m\u001b[1;33m,\u001b[0m \u001b[0magent3\u001b[0m\u001b[1;33m)\u001b[0m\u001b[1;33m\u001b[0m\u001b[1;33m\u001b[0m\u001b[0m\n",
      "\u001b[1;31mNameError\u001b[0m: name 'agent_predict' is not defined"
     ]
    }
   ],
   "source": [
    "all_obs = basic_observations2\n",
    "all_act = basic_actions2\n",
    "\n",
    "rnd = np.random.randint(len(all_obs))\n",
    "print(rnd)\n",
    "print(all_obs[rnd])\n",
    "predict1 = agent_predict(all_obs[rnd], agent1)\n",
    "predict2 = agent_predict(all_obs[rnd], agent2)\n",
    "predict3 = agent_predict(all_obs[rnd], agent3)\n",
    "predict4 = agent_predict(all_obs[rnd], agent4)\n",
    "\n",
    "fig1, = plt.plot(np.arange(27), predict1)\n",
    "fig1, = plt.plot(np.arange(27), predict2)\n",
    "# fig1, = plt.plot(np.arange(27), predict3)\n",
    "fig1, = plt.plot(np.arange(27), np.full(27, predict3))\n",
    "fig1, = plt.plot(np.arange(27), predict4)\n",
    "# fig1, = plt.plot(np.arange(27), all_act[rnd])\n",
    "fig1, = plt.plot(np.arange(27), np.full(27, all_act[rnd]))\n",
    "plt.xlim(0, 26)\n",
    "plt.ylim(0, 1)"
   ]
  },
  {
   "cell_type": "code",
   "execution_count": null,
   "metadata": {
    "scrolled": true
   },
   "outputs": [],
   "source": [
    "# print(all_observations1)\n",
    "# print(all_actions1)\n",
    "# print(all_observations2)\n",
    "# print(all_actions2)"
   ]
  },
  {
   "cell_type": "markdown",
   "metadata": {},
   "source": [
    "# Train Agent"
   ]
  },
  {
   "cell_type": "code",
   "execution_count": 378,
   "metadata": {
    "ExecuteTime": {
     "end_time": "2018-12-21T11:20:35.721440Z",
     "start_time": "2018-12-21T11:20:27.245344Z"
    },
    "scrolled": true
   },
   "outputs": [
    {
     "name": "stdout",
     "output_type": "stream",
     "text": [
      "Player 2 scored\n",
      "221\n",
      "1\n",
      "1\n",
      "Player 1 won: 0/1\n",
      "Player 2 won: 0/1\n",
      "Player 3 won: 0/1\n",
      "Player 4 won: 1/1\n",
      "No one won: 0/1\n",
      "Mean steps: 221.0\n",
      "[221]\n",
      "1.0\n"
     ]
    }
   ],
   "source": [
    "obs = env.reset()\n",
    "obs_agent2 = env.obs_agent_two()\n",
    "player1 = lh.BasicOpponent()\n",
    "player2 = lh.BasicOpponent()\n",
    "player1_won = 0\n",
    "player2_won = 0\n",
    "player3_won = 0\n",
    "player4_won = 0\n",
    "player_won = {1:player1_won, 2:player2_won, 3:player3_won, 4:player4_won}\n",
    "no_one_won = 0\n",
    "mean_steps = []\n",
    "\n",
    "total_games = 1\n",
    "win_length = 20\n",
    "timestep = 300\n",
    "# timestep_decay = 0.9999\n",
    "# epsilon = 1\n",
    "# epsilon_decay = 0.9997\n",
    "e_trace = 0.98\n",
    "\n",
    "for game_number in range(total_games):\n",
    "    env.reset()\n",
    "    obs1 = []\n",
    "    obs2 = []\n",
    "    act1 = []\n",
    "    act2 = []\n",
    "    q_vec1 = []\n",
    "    q_vec2 = []\n",
    "    players = [3, 4]\n",
    "#     players = random.sample(range(1, 5), 2)\n",
    "#     if timestep > 300:\n",
    "#         timestep = int(round(timestep*timestep_decay))\n",
    "#     if epsilon > 0.05:\n",
    "#         epsilon = epsilon*epsilon_decay\n",
    "    for step in range(timestep):\n",
    "#         env.render()\n",
    "#         q1 = agent_predict(obs, agents[players[0]])\n",
    "#         q2 = agent_predict(obs_agent2, agents[players[1]])\n",
    "#         if random.random() < epsilon:\n",
    "#             a1 = descrete_act(np.random.uniform(-1,1,3))\n",
    "#         else: a1 = q_vec_to_act(q1)\n",
    "#         if random.random() < epsilon:\n",
    "#             a2 = descrete_act(np.random.uniform(-1,1,3))\n",
    "#         else: a2 = q_vec_to_act(q2)\n",
    "#         a1 = q_vec_to_act(q1)\n",
    "#         a2 = q_vec_to_act(q2)\n",
    "#         a1 = descrete_act(np.random.uniform(-1,1,3))\n",
    "#         a2 = descrete_act(np.random.uniform(-1,1,3))\n",
    "        a1 = descrete_act(player1.act(obs))\n",
    "        a2 = descrete_act(player2.act(obs_agent2))\n",
    "        obs1.append(obs)\n",
    "        obs2.append(obs_agent2)\n",
    "#         act1.append(a1)\n",
    "#         act2.append(a2)\n",
    "#         q_vec1.append(q1)\n",
    "#         q_vec2.append(q2)\n",
    "        obs, r, done, info = env.step(np.hstack([a1,a2]))\n",
    "        obs_agent2 = env.obs_agent_two()\n",
    "        if done:\n",
    "            print(step + 1)\n",
    "            print(game_number + 1)\n",
    "            mean_steps.append(step + 1)\n",
    "            print(len(mean_steps))\n",
    "#             print(players)\n",
    "            if info.get('winner') == 1:\n",
    "#                 player1_won += 1\n",
    "                player_won[players[0]] += 1\n",
    "                for _ in range(step + 1):\n",
    "                    q_vec1.append(0.5 * (1 + e_trace**(step - _)))\n",
    "                    q_vec2.append(0.5 * (1 - e_trace**(step - _)))\n",
    "#                 q_vec1 = [q_vec_new(a, np.full(27, 0.5), 0.5 * (1 + e_trace**(step - _))) for _, a in enumerate(act1)]\n",
    "#                 q_vec2 = [q_vec_new(a, np.full(27, 0.5), 0.5 * (1 - e_trace**(step - _))) for _, a in enumerate(act2)]\n",
    "#                 q_vec1 = [q_vec_new(x[0], x[1], 0.5 * (1 + e_trace**(step - _))) for _, x in enumerate(zip(act1, q_vec1))]\n",
    "#                 q_vec2 = [q_vec_new(x[0], x[1], 0.5 * (1 - e_trace**(step - _))) for _, x in enumerate(zip(act2, q_vec2))]\n",
    "#                 basic_observations.append(obs1)\n",
    "                all_observations[players[0]].append(obs1)\n",
    "                all_observations[players[0]].append(obs2)\n",
    "#                 basic_actions.append(q_vec1)\n",
    "                all_actions[players[0]].append(q_vec1)\n",
    "                all_actions[players[0]].append(q_vec2)\n",
    "#                 obs_data = []\n",
    "#                 act_data = []\n",
    "#                 for _ in range(min(win_length, len(all_observations[players[0]]))):\n",
    "#                     obs_data.extend(all_observations[players[0]][-_])\n",
    "#                     act_data.extend(all_actions[players[0]][-_])\n",
    "#                 agents[players[0]].fit(np.array(obs_data), np.array(act_data), batch_size=64)\n",
    "            else:\n",
    "#                 player2_won += 1\n",
    "                player_won[players[1]] += 1\n",
    "                for _ in range(step + 1):\n",
    "                    q_vec1.append(0.5 * (1 - e_trace**(step - _)))\n",
    "                    q_vec2.append(0.5 * (1 + e_trace**(step - _)))\n",
    "#                 q_vec1 = [q_vec_new(a, np.full(27, 0.5), 0.5 * (1 - e_trace**(step - _))) for _, a in enumerate(act1)]\n",
    "#                 q_vec2 = [q_vec_new(a, np.full(27, 0.5), 0.5 * (1 + e_trace**(step - _))) for _, a in enumerate(act2)]\n",
    "#                 q_vec1 = [q_vec_new(x[0], x[1], 0.5 * (1 - e_trace**(step - _))) for _, x in enumerate(zip(act1, q_vec1))]\n",
    "#                 q_vec2 = [q_vec_new(x[0], x[1], 0.5 * (1 + e_trace**(step - _))) for _, x in enumerate(zip(act2, q_vec2))]\n",
    "#                 basic_observations.append(obs2)\n",
    "                all_observations[players[0]].append(obs1)\n",
    "                all_observations[players[0]].append(obs2)\n",
    "#                 basic_actions.append(q_vec2)\n",
    "                all_actions[players[0]].append(q_vec1)\n",
    "                all_actions[players[0]].append(q_vec2)\n",
    "#                 obs_data = []\n",
    "#                 act_data = []\n",
    "#                 for _ in range(min(win_length, len(all_observations[players[1]]))):\n",
    "#                     obs_data.extend(all_observations[players[1]][-_])\n",
    "#                     act_data.extend(all_actions[players[1]][-_])\n",
    "#                 agents[players[1]].fit(np.array(obs_data), np.array(act_data), batch_size=64)\n",
    "#             obs_data = []\n",
    "#             act_data = []\n",
    "#             for _ in range(min(win_length, len(all_observations[players[0]]))):\n",
    "#                 obs_data.extend(all_observations[players[0]][-_])\n",
    "#                 act_data.extend(all_actions[players[0]][-_])\n",
    "#             agents[players[0]].fit(np.array(obs_data), np.array(act_data), batch_size=64)\n",
    "#             obs_data = []\n",
    "#             act_data = []\n",
    "#             for _ in range(min(win_length, len(all_observations[players[1]]))):\n",
    "#                 obs_data.extend(all_observations[players[1]][-_])\n",
    "#                 act_data.extend(all_actions[players[1]][-_])\n",
    "#             agents[players[1]].fit(np.array(obs_data), np.array(act_data), batch_size=64)\n",
    "            break\n",
    "    if not done:\n",
    "        no_one_won += 1\n",
    "        print('No one won.')\n",
    "#         q_vec1 = [q_vec_new(a, np.zeros(27), 0) for a in act1]\n",
    "#         q_vec2 = [q_vec_new(a, np.zeros(27), 0) for a in act2]\n",
    "#         q_vec1 = [q_vec_new(a, q, -0.6) for a, q in zip(act1, q_vec1)]\n",
    "#         q_vec2 = [q_vec_new(a, q, -0.6) for a, q in zip(act2, q_vec2)]\n",
    "#         tie_observations.extend(obs1)\n",
    "#         tie_observations.extend(obs2)\n",
    "#         tie_actions.extend(q_vec1)\n",
    "#         tie_actions.extend(q_vec2)\n",
    "#         agent.fit(np.array(obs1), np.array(q_vec1), batch_size=64)\n",
    "#         agent.fit(np.array(obs2), np.array(q_vec2), batch_size=64)\n",
    "env.close()\n",
    "\n",
    "print('Player 1 won: ' + str(player_won[1]) + '/' + str(total_games))\n",
    "print('Player 2 won: ' + str(player_won[2]) + '/' + str(total_games))\n",
    "print('Player 3 won: ' + str(player_won[3]) + '/' + str(total_games))\n",
    "print('Player 4 won: ' + str(player_won[4]) + '/' + str(total_games))\n",
    "print('No one won: ' + str(no_one_won) + '/' + str(total_games))\n",
    "print('Mean steps: ' + str(mean_list(mean_steps)))\n",
    "print(mean_steps)\n",
    "print(1 - (no_one_won / total_games))"
   ]
  },
  {
   "cell_type": "code",
   "execution_count": 641,
   "metadata": {
    "scrolled": true
   },
   "outputs": [
    {
     "name": "stdout",
     "output_type": "stream",
     "text": [
      "Player 1 won: 238/3323\n",
      "Player 2 won: 401/3323\n",
      "Player 3 won: 89/3323\n",
      "Player 4 won: 490/3323\n",
      "No one won: 2105/3323\n",
      "Mean steps: 149.49014778325125\n",
      "[164, 58, 84, 196, 138, 204, 268, 92, 67, 157, 177, 90, 67, 86, 286, 113, 150, 142, 221, 56, 131, 79, 100, 106, 126, 237, 67, 237, 204, 76, 83, 238, 270, 213, 256, 109, 140, 88, 113, 118, 120, 136, 74, 192, 74, 83, 242, 82, 131, 222, 291, 152, 181, 78, 221, 219, 119, 237, 125, 245, 92, 244, 174, 65, 234, 78, 131, 181, 98, 251, 191, 242, 239, 148, 65, 122, 209, 69, 211, 273, 70, 89, 285, 272, 76, 130, 73, 113, 181, 117, 89, 189, 67, 210, 228, 107, 189, 100, 224, 218, 118, 195, 69, 117, 80, 158, 255, 182, 138, 136, 252, 99, 72, 81, 67, 105, 196, 69, 55, 90, 105, 118, 268, 69, 78, 209, 84, 70, 232, 183, 64, 74, 228, 261, 77, 207, 130, 272, 198, 106, 151, 154, 194, 196, 75, 93, 132, 120, 171, 77, 89, 87, 70, 69, 187, 166, 289, 70, 65, 109, 188, 269, 117, 187, 166, 72, 275, 182, 81, 222, 219, 85, 129, 122, 159, 251, 147, 64, 97, 157, 158, 223, 70, 85, 148, 77, 78, 82, 71, 204, 147, 275, 270, 69, 119, 254, 113, 245, 68, 70, 170, 120, 169, 144, 67, 121, 149, 62, 80, 292, 69, 236, 89, 266, 195, 251, 67, 69, 65, 186, 168, 170, 71, 216, 271, 175, 194, 59, 239, 87, 252, 75, 77, 104, 98, 196, 75, 103, 212, 204, 88, 81, 178, 72, 73, 169, 208, 74, 237, 73, 110, 79, 276, 74, 57, 155, 91, 94, 76, 181, 220, 64, 110, 75, 199, 175, 60, 154, 213, 293, 262, 71, 205, 81, 212, 100, 68, 60, 79, 254, 140, 166, 75, 100, 230, 108, 277, 68, 252, 282, 252, 75, 53, 105, 82, 70, 62, 141, 72, 258, 69, 92, 261, 247, 84, 165, 132, 78, 61, 160, 74, 242, 173, 213, 147, 252, 93, 164, 161, 130, 277, 153, 163, 237, 289, 68, 143, 72, 73, 88, 274, 60, 249, 107, 65, 116, 163, 71, 171, 73, 129, 87, 63, 149, 60, 188, 71, 151, 77, 214, 104, 80, 124, 60, 62, 64, 65, 158, 196, 96, 212, 204, 264, 125, 179, 115, 52, 179, 94, 297, 197, 102, 191, 243, 191, 69, 293, 273, 59, 109, 142, 136, 125, 71, 67, 93, 177, 84, 83, 66, 268, 64, 105, 104, 125, 73, 205, 90, 64, 132, 298, 267, 70, 193, 88, 176, 229, 158, 70, 134, 197, 61, 253, 107, 70, 125, 236, 58, 93, 198, 119, 264, 93, 86, 224, 73, 175, 197, 282, 78, 123, 292, 276, 223, 183, 76, 60, 97, 74, 198, 160, 83, 185, 69, 66, 134, 66, 255, 157, 276, 290, 69, 131, 85, 118, 128, 85, 104, 214, 206, 56, 198, 82, 295, 182, 223, 211, 262, 194, 247, 69, 161, 139, 195, 242, 254, 124, 69, 141, 59, 109, 296, 109, 156, 98, 250, 114, 150, 180, 72, 163, 83, 291, 299, 99, 244, 86, 203, 76, 176, 70, 73, 103, 149, 211, 65, 103, 93, 50, 193, 180, 160, 85, 150, 137, 70, 84, 264, 173, 105, 142, 149, 251, 147, 299, 111, 129, 295, 79, 196, 67, 124, 148, 71, 270, 144, 283, 299, 274, 111, 151, 93, 89, 165, 83, 146, 69, 110, 108, 88, 224, 85, 148, 196, 203, 182, 189, 64, 272, 126, 211, 62, 228, 130, 82, 113, 60, 80, 215, 178, 146, 225, 70, 58, 212, 129, 84, 50, 195, 120, 51, 107, 124, 72, 56, 152, 248, 126, 73, 271, 218, 107, 91, 189, 68, 291, 97, 142, 142, 225, 160, 244, 78, 160, 222, 187, 245, 102, 82, 154, 208, 242, 270, 137, 114, 82, 270, 73, 118, 121, 78, 212, 73, 206, 272, 253, 204, 99, 80, 220, 56, 274, 144, 65, 70, 96, 97, 81, 206, 68, 67, 84, 150, 124, 296, 190, 73, 70, 74, 175, 109, 65, 197, 181, 137, 125, 91, 164, 81, 111, 235, 285, 279, 269, 198, 134, 185, 73, 259, 134, 237, 148, 70, 218, 73, 295, 174, 195, 83, 90, 295, 82, 196, 218, 68, 253, 67, 276, 112, 255, 59, 177, 113, 160, 71, 86, 248, 128, 129, 175, 230, 73, 159, 230, 57, 111, 62, 80, 266, 83, 101, 224, 76, 183, 90, 214, 62, 280, 205, 227, 67, 72, 78, 77, 229, 144, 74, 300, 74, 128, 217, 279, 86, 94, 115, 169, 80, 83, 200, 243, 231, 80, 108, 220, 95, 70, 118, 75, 262, 276, 224, 291, 193, 213, 207, 206, 291, 76, 143, 69, 166, 80, 80, 131, 84, 252, 263, 98, 68, 142, 111, 215, 66, 87, 52, 152, 201, 207, 78, 259, 85, 72, 160, 211, 244, 141, 196, 64, 98, 263, 64, 62, 121, 107, 123, 76, 80, 67, 203, 59, 216, 86, 119, 140, 169, 66, 115, 182, 105, 67, 75, 240, 54, 71, 59, 170, 64, 85, 299, 130, 140, 258, 182, 159, 80, 252, 170, 178, 293, 54, 269, 79, 78, 125, 263, 54, 72, 56, 215, 170, 75, 94, 161, 76, 171, 110, 148, 266, 62, 152, 134, 147, 69, 86, 185, 127, 284, 63, 245, 84, 215, 121, 140, 70, 275, 249, 138, 138, 60, 78, 215, 70, 230, 147, 256, 124, 249, 159, 82, 278, 75, 72, 58, 181, 140, 113, 81, 233, 154, 202, 187, 190, 63, 180, 133, 57, 228, 195, 61, 275, 237, 187, 280, 234, 224, 85, 139, 79, 110, 171, 167, 267, 88, 199, 226, 88, 210, 161, 57, 270, 299, 205, 150, 205, 69, 158, 141, 208, 126, 131, 297, 144, 99, 108, 88, 270, 235, 120, 57, 72, 176, 129, 228, 142, 180, 142, 153, 84, 67, 80, 174, 195, 243, 56, 119, 77, 149, 267, 86, 66, 72, 87, 136, 259, 168, 145, 122, 221, 96, 278, 69, 175, 152, 154, 145, 137, 205, 141, 83, 192, 168, 177, 92, 86, 186, 208, 287, 122, 228, 104, 188, 68, 66, 88, 246, 113, 91, 97, 120, 198, 71, 221, 147, 90, 219, 193, 298, 195, 259, 64, 112, 105, 285, 154, 251, 217, 183, 144, 58, 129, 129, 85, 155, 83, 258, 57, 85, 268, 112, 117, 74, 185, 67, 136, 271, 101, 83, 240, 88, 253, 204, 246, 65, 141, 72, 57, 218, 92, 264, 135, 193, 118, 89, 266, 161, 98, 272, 260, 224, 68, 86, 295, 126, 67, 141, 153, 167, 78, 87, 120, 183, 88, 147, 80, 186, 115, 65, 247, 68, 171, 267, 133, 286, 143, 153, 84, 288, 55, 123, 165, 97, 125, 264, 144, 120, 166, 272, 73, 69, 97, 181, 181, 59, 276, 251, 105, 272, 229, 224, 299, 60, 182, 104, 235, 159, 152, 236, 62, 60, 59, 118, 80, 86, 171, 229, 121, 66, 242, 67, 195, 181, 57, 150, 213, 200, 223, 141, 159, 297, 258, 277, 297, 89, 71, 56, 99, 70, 128, 77, 214, 91, 73, 282, 296, 242, 132, 63, 140, 73, 265, 288, 268, 136, 218, 191, 122, 281, 177, 157, 142, 156, 83, 211, 72, 265, 171, 57, 294, 67, 100, 54, 240, 174, 236, 257, 165, 119, 70, 122, 70, 123, 70, 131, 167, 72, 225, 87, 142, 124, 173, 237, 220, 211, 61, 74, 177, 102, 145, 263, 220, 192, 300, 75, 120, 200, 285, 101, 63]\n",
      "0.3665362624134818\n"
     ]
    }
   ],
   "source": [
    "print('Player 1 won: ' + str(player_won[1]) + '/' + str(no_one_won + sum(player_won.values())))\n",
    "print('Player 2 won: ' + str(player_won[2]) + '/' + str(no_one_won + sum(player_won.values())))\n",
    "print('Player 3 won: ' + str(player_won[3]) + '/' + str(no_one_won + sum(player_won.values())))\n",
    "print('Player 4 won: ' + str(player_won[4]) + '/' + str(no_one_won + sum(player_won.values())))\n",
    "print('No one won: ' + str(no_one_won) + '/' + str(no_one_won + sum(player_won.values())))\n",
    "print('Mean steps: ' + str(mean_list(mean_steps)))\n",
    "print(mean_steps)\n",
    "print(1 - (no_one_won / (no_one_won + sum(player_won.values()))))"
   ]
  },
  {
   "cell_type": "markdown",
   "metadata": {
    "ExecuteTime": {
     "end_time": "2018-12-20T20:37:41.013424Z",
     "start_time": "2018-12-20T20:37:41.009298Z"
    }
   },
   "source": [
    "# Test Arena"
   ]
  },
  {
   "cell_type": "code",
   "execution_count": 47,
   "metadata": {
    "ExecuteTime": {
     "end_time": "2018-12-21T14:39:45.422954Z",
     "start_time": "2018-12-21T14:39:41.121710Z"
    },
    "scrolled": true
   },
   "outputs": [
    {
     "name": "stdout",
     "output_type": "stream",
     "text": [
      "[2, 4]\n",
      "No one won.\n",
      "[2, 3]\n",
      "Player 1 scored\n",
      "[3, 2]\n",
      "No one won.\n",
      "[4, 1]\n",
      "No one won.\n",
      "[3, 4]\n",
      "Player 1 scored\n",
      "Player 1 won: 2/5\n",
      "Player 2 won: 0/5\n",
      "No one won: 3/5\n",
      "Mean steps: 203.5\n",
      "[270, 137]\n"
     ]
    }
   ],
   "source": [
    "obs = env.reset()\n",
    "obs_agent2 = env.obs_agent_two()\n",
    "# player1 = lh.HumanOpponent(env=env, player=1)\n",
    "player1 = lh.BasicOpponent()\n",
    "player2 = lh.BasicOpponent()\n",
    "\n",
    "total_games = 5\n",
    "timestep = 300\n",
    "player1_won = 0\n",
    "player2_won = 0\n",
    "no_one_won = 0\n",
    "mean_steps = []\n",
    "epsilon = 0\n",
    "\n",
    "for game_number in range(total_games):\n",
    "    env.reset()\n",
    "    players = random.sample(range(1, 5), 2)\n",
    "    print(players)\n",
    "    for step in range(timestep):\n",
    "        env.render()\n",
    "#         if random.random() < epsilon:\n",
    "#             a1 = descrete_act(np.random.uniform(-1,1,3))\n",
    "#         else:\n",
    "#             a1 = q_vec_to_act(agent_predict(obs, agent4))\n",
    "# #             a1 = player1.act(obs)\n",
    "#         if random.random() < epsilon:\n",
    "#             a2 = descrete_act(np.random.uniform(-1,1,3))\n",
    "#         else:\n",
    "#             a2 = q_vec_to_act(agent_predict(obs_agent2, agent4))\n",
    "#             a2 = player2.act(obs_agent2)\n",
    "#         a1 = q_vec_to_act(agent_predict(obs, agents[players[0]]))\n",
    "#         a2 = q_vec_to_act(agent_predict(obs_agent2, agents[players[1]]))\n",
    "#         a1 = [0,0,0]\n",
    "#         a1 = player1.act(obs)\n",
    "#         a2 = player2.act(obs_agent2)\n",
    "        a1 = descrete_act(player1.act(obs))\n",
    "        a2 = descrete_act(player2.act(obs_agent2))\n",
    "        obs, r, done, info = env.step(np.hstack([a1,a2]))\n",
    "        obs_agent2 = env.obs_agent_two()\n",
    "        if done:\n",
    "            if info.get('winner') == 1:\n",
    "                player1_won += 1\n",
    "            else:\n",
    "                player2_won += 1\n",
    "            mean_steps.append(step + 1)\n",
    "            break\n",
    "    if not done: \n",
    "        no_one_won += 1\n",
    "        print('No one won.')\n",
    "env.close()\n",
    "\n",
    "print('Player 1 won: ' + str(player1_won) + '/' + str(total_games))\n",
    "print('Player 2 won: ' + str(player2_won) + '/' + str(total_games))\n",
    "print('No one won: ' + str(no_one_won) + '/' + str(total_games))\n",
    "print('Mean steps: ' + str(mean_list(mean_steps)))\n",
    "print(mean_steps)"
   ]
  },
  {
   "cell_type": "code",
   "execution_count": 66,
   "metadata": {},
   "outputs": [
    {
     "name": "stdout",
     "output_type": "stream",
     "text": [
      "[ -4.13019419  -2.7640636   -9.31817245  -9.37561703  -3.22110987\n",
      "  -7.58982515   4.81672096  -0.02681589  -7.54824877   8.61036396\n",
      "   0.61551309  -9.56442165  -8.0103302   -0.86883259 -12.54739571\n",
      "  14.48797989]\n",
      "[ -4.81672096   0.02681589  -7.54824877  -8.61036396  -0.61551309\n",
      "  -9.56442165   4.13019419   2.7640636   -9.31817245   9.37561703\n",
      "   3.22110987  -7.58982515   8.0103302    0.86883259  12.54739571\n",
      " -14.48797989]\n"
     ]
    }
   ],
   "source": [
    "print(obs)\n",
    "print(obs_agent2)"
   ]
  },
  {
   "cell_type": "markdown",
   "metadata": {
    "ExecuteTime": {
     "end_time": "2018-12-20T20:37:41.013424Z",
     "start_time": "2018-12-20T20:37:41.009298Z"
    }
   },
   "source": [
    "# Train Shooting"
   ]
  },
  {
   "cell_type": "code",
   "execution_count": 483,
   "metadata": {
    "ExecuteTime": {
     "end_time": "2018-12-21T12:47:30.613234Z",
     "start_time": "2018-12-21T12:47:30.601332Z"
    }
   },
   "outputs": [],
   "source": [
    "reload(lh)\n",
    "env = lh.LaserHockeyEnv(mode=lh.LaserHockeyEnv.TRAIN_SHOOTING)"
   ]
  },
  {
   "cell_type": "markdown",
   "metadata": {
    "ExecuteTime": {
     "end_time": "2018-12-20T20:37:41.013424Z",
     "start_time": "2018-12-20T20:37:41.009298Z"
    }
   },
   "source": [
    "# Train DEFENDING"
   ]
  },
  {
   "cell_type": "code",
   "execution_count": 485,
   "metadata": {
    "ExecuteTime": {
     "end_time": "2018-12-20T21:01:26.167961Z",
     "start_time": "2018-12-20T21:01:26.145416Z"
    }
   },
   "outputs": [],
   "source": [
    "reload(lh)\n",
    "env = lh.LaserHockeyEnv(mode=lh.LaserHockeyEnv.TRAIN_DEFENCE)"
   ]
  },
  {
   "cell_type": "markdown",
   "metadata": {
    "ExecuteTime": {
     "end_time": "2018-12-20T20:37:41.013424Z",
     "start_time": "2018-12-20T20:37:41.009298Z"
    }
   },
   "source": [
    "# Using discrete actions"
   ]
  },
  {
   "cell_type": "code",
   "execution_count": 10,
   "metadata": {
    "ExecuteTime": {
     "end_time": "2018-12-21T13:08:25.404585Z",
     "start_time": "2018-12-21T13:08:25.392585Z"
    }
   },
   "outputs": [],
   "source": [
    "reload(lh)\n",
    "env = lh.LaserHockeyEnv()"
   ]
  },
  {
   "cell_type": "code",
   "execution_count": 11,
   "metadata": {
    "ExecuteTime": {
     "end_time": "2018-12-21T13:08:29.582257Z",
     "start_time": "2018-12-21T13:08:26.211196Z"
    }
   },
   "outputs": [],
   "source": [
    "for _ in range(200):\n",
    "    env.render()\n",
    "    a1_discrete = random.randint(0,7)\n",
    "    a1 = env.discrete_to_continous_action(a1_discrete)\n",
    "    a2 = [0,0.,0] \n",
    "    obs, r, d, info = env.step(np.hstack([a1,a2]))    \n",
    "    obs_agent2 = env.obs_agent_two()\n",
    "    if d: break\n",
    "env.close()"
   ]
  }
 ],
 "metadata": {
  "kernelspec": {
   "display_name": "Python 3",
   "language": "python",
   "name": "python3"
  },
  "language_info": {
   "codemirror_mode": {
    "name": "ipython",
    "version": 3
   },
   "file_extension": ".py",
   "mimetype": "text/x-python",
   "name": "python",
   "nbconvert_exporter": "python",
   "pygments_lexer": "ipython3",
   "version": "3.7.4"
  },
  "toc": {
   "base_numbering": 1,
   "nav_menu": {},
   "number_sections": true,
   "sideBar": true,
   "skip_h1_title": false,
   "title_cell": "Table of Contents",
   "title_sidebar": "Contents",
   "toc_cell": false,
   "toc_position": {},
   "toc_section_display": true,
   "toc_window_display": false
  }
 },
 "nbformat": 4,
 "nbformat_minor": 2
}

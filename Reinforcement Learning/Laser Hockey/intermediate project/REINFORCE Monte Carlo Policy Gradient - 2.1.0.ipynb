{
 "cells": [
  {
   "cell_type": "markdown",
   "metadata": {
    "deletable": false,
    "editable": false,
    "heading_collapsed": true,
    "run_control": {
     "frozen": true
    }
   },
   "source": [
    "# Import libraries"
   ]
  },
  {
   "cell_type": "code",
   "execution_count": 1,
   "metadata": {
    "ExecuteTime": {
     "end_time": "2020-03-29T23:59:19.066765Z",
     "start_time": "2020-03-29T23:59:15.847033Z"
    },
    "hidden": true
   },
   "outputs": [
    {
     "name": "stdout",
     "output_type": "stream",
     "text": [
      "WARNING:tensorflow:From C:\\Users\\ghost\\.conda\\envs\\openai_gym\\lib\\site-packages\\tensorflow_core\\python\\compat\\v2_compat.py:88: disable_resource_variables (from tensorflow.python.ops.variable_scope) is deprecated and will be removed in a future version.\n",
      "Instructions for updating:\n",
      "non-resource variables are not supported in the long term\n"
     ]
    },
    {
     "name": "stderr",
     "output_type": "stream",
     "text": [
      "Using TensorFlow backend.\n"
     ]
    }
   ],
   "source": [
    "import gym\n",
    "import math\n",
    "import random\n",
    "import numpy as np\n",
    "# import tensorflow as tf\n",
    "import tensorflow.compat.v1 as tf\n",
    "tf.disable_v2_behavior()\n",
    "# from tensorflow.contrib.layers import fully_connected as dense\n",
    "from tensorflow.compat.v1.layers import dense\n",
    "from keras.models import Model, Sequential\n",
    "from keras.layers import Input, Dense, BatchNormalization\n",
    "from keras import backend as K\n",
    "from keras.optimizers import Adam\n",
    "\n",
    "import laser_hockey_env as lh\n",
    "from importlib import reload"
   ]
  },
  {
   "cell_type": "markdown",
   "metadata": {
    "deletable": false,
    "editable": false,
    "heading_collapsed": true,
    "run_control": {
     "frozen": true
    }
   },
   "source": [
    "# Create environment"
   ]
  },
  {
   "cell_type": "code",
   "execution_count": 21,
   "metadata": {
    "ExecuteTime": {
     "end_time": "2020-03-31T17:47:28.861725Z",
     "start_time": "2020-03-31T17:47:28.856730Z"
    },
    "hidden": true
   },
   "outputs": [],
   "source": [
    "env = gym.make('CartPole-v0')\n",
    "# env = gym.make('Pendulum-v0')\n",
    "# env = gym.make('MountainCarContinuous-v0')\n",
    "# env = gym.make('LunarLander-v2')\n",
    "# env = gym.make('BipedalWalker-v2')\n",
    "# env = gym.make('CarRacing-v0')\n",
    "# env = lh.LaserHockeyEnv()"
   ]
  },
  {
   "cell_type": "code",
   "execution_count": 3,
   "metadata": {
    "ExecuteTime": {
     "end_time": "2020-03-29T23:59:19.108735Z",
     "start_time": "2020-03-29T23:59:19.097742Z"
    },
    "hidden": true
   },
   "outputs": [
    {
     "data": {
      "text/plain": [
       "119"
      ]
     },
     "execution_count": 3,
     "metadata": {},
     "output_type": "execute_result"
    }
   ],
   "source": [
    "# test = {[1,2]:0}\n",
    "ord('w')"
   ]
  },
  {
   "cell_type": "code",
   "execution_count": 4,
   "metadata": {
    "ExecuteTime": {
     "end_time": "2020-03-29T23:59:19.113732Z",
     "start_time": "2020-03-29T23:59:19.110733Z"
    },
    "hidden": true,
    "scrolled": true
   },
   "outputs": [],
   "source": [
    "# from gym.utils import play\n",
    "\n",
    "\n",
    "# key_mapping = {(97,108): 3, (100,108): 1, (108,119): 0, (108,115): 2}\n",
    "\n",
    "# # Press L and W,A,S,D for movement\n",
    "\n",
    "# def callback(obs_t, obs_tp1, action, rew, done, info):\n",
    "#     return [rew,]\n",
    "# plotter = play.PlayPlot(callback, 30 * 1, [\"reward\"])\n",
    "\n",
    "\n",
    "# play.play(env, fps=30, callback=plotter.callback, keys_to_action=key_mapping)\n",
    "# env.reset()\n",
    "# env.close()"
   ]
  },
  {
   "cell_type": "code",
   "execution_count": 5,
   "metadata": {
    "ExecuteTime": {
     "end_time": "2020-03-29T23:59:19.119727Z",
     "start_time": "2020-03-29T23:59:19.115730Z"
    },
    "hidden": true,
    "scrolled": true
   },
   "outputs": [],
   "source": [
    "# import gym\n",
    "# for i_episode in range(1000):\n",
    "#     observation = env.reset()\n",
    "#     for t in range(500):\n",
    "# #         env.render()\n",
    "#         action = env.action_space.sample()\n",
    "#         observation, reward, done, info = env.step(action)\n",
    "#         if done:\n",
    "#             print(\"Episode finished after {} timesteps\".format(t+1))\n",
    "#             break\n",
    "# env.close()"
   ]
  },
  {
   "cell_type": "markdown",
   "metadata": {
    "deletable": false,
    "editable": false,
    "heading_collapsed": true,
    "run_control": {
     "frozen": true
    }
   },
   "source": [
    "# Set up hyperparameters and settings"
   ]
  },
  {
   "cell_type": "code",
   "execution_count": 6,
   "metadata": {
    "ExecuteTime": {
     "end_time": "2020-03-29T23:59:19.129721Z",
     "start_time": "2020-03-29T23:59:19.121725Z"
    },
    "hidden": true
   },
   "outputs": [],
   "source": [
    "max_episodes = 2000\n",
    "max_steps = 200\n",
    "\n",
    "# Hyperparameters\n",
    "actor_lr = 0.0003\n",
    "critic_lr = 0.0003\n",
    "actor_bs = 32\n",
    "critic_bs = 32\n",
    "gamma = 0.98\n",
    "hidden_size = 100\n",
    "epsilon = 0.2\n",
    "\n",
    "# standardized or normalized returns for CartPole-v0\n",
    "returns_mean = 37.965\n",
    "returns_std = 12.579\n",
    "returns_norm = 50\n",
    "\n",
    "# Amount of discrete actions per dimension for Box space\n",
    "k = 3\n",
    "\n",
    "# Not used hyperparameters\n",
    "lambda_ = 0.95\n",
    "\n",
    "# Choose REINFORCE or PPO loss function, PPO uses epsilon\n",
    "REINFORCE = True\n",
    "\n",
    "# Choose to linearly anneal the learning rate from 1 to 0 over the course of learning\n",
    "LINEAR = False\n",
    "\n",
    "# Optimize every episode or every T timesteps, depending on environment\n",
    "EPISODIC = True\n",
    "if EPISODIC: T = max_steps\n",
    "else: T = 128\n",
    "\n",
    "# Represent the discrete distribution as factorized across dimensions\n",
    "FACTORIZED = True\n",
    "\n",
    "# Choose to imitate basic agent in LaserHockey and if only for the winning cases\n",
    "IMITATION = True\n",
    "WINNER = True\n",
    "if env.unwrapped.spec is not None:\n",
    "    IMITATION = False"
   ]
  },
  {
   "cell_type": "markdown",
   "metadata": {
    "deletable": false,
    "editable": false,
    "heading_collapsed": true,
    "run_control": {
     "frozen": true
    }
   },
   "source": [
    "# Set up Tensorboard\n",
    "To launch tensorboard : `tensorboard --logdir \"Google Drive/Reinforcement Learning/tensorboard/REINFORCE\"`\n",
    "\n",
    "`tensorboard --logdir \"Google Drive/Reinforcement Learning/tensorboard/REINFORCE/LunarLander-v2\"`\n",
    "\n",
    "`tensorboard --logdir \"tensorboard/REINFORCE\"`\n"
   ]
  },
  {
   "cell_type": "code",
   "execution_count": 7,
   "metadata": {
    "ExecuteTime": {
     "end_time": "2020-03-29T23:59:19.138713Z",
     "start_time": "2020-03-29T23:59:19.131719Z"
    },
    "hidden": true
   },
   "outputs": [],
   "source": [
    "# Change parameters for different runs to have them seperate in Tensorboard\n",
    "# writer = tf.summary.create_file_writer('/tensorboard/REINFORCE/CartPole-v0/'\n",
    "#                                'E=' + str(max_steps) + ', T=' + str(T) +\n",
    "#                                ', lr_a=' + str(actor_lr) + ', lr_c=' + str(critic_lr) +\n",
    "#                                ', bs_a=' + str(actor_bs) + ', bs_c=' + str(critic_bs) +\n",
    "#                                ', g=' + str(gamma) + ', hs=2x' + str(hidden_size) +\n",
    "#                                ', e=0.2, vs basic 3x3')\n",
    "\n",
    "writer = tf.summary.FileWriter('/Users/ghost/Google Drive/Reinforcement Learning/tensorboard/REINFORCE/CartPole-v0/'\n",
    "                               'E=' + str(max_steps) + ', T=' + str(T) +\n",
    "                               ', lr_a=' + str(actor_lr) + ', lr_c=' + str(critic_lr) +\n",
    "                               ', bs_a=' + str(actor_bs) + ', bs_c=' + str(critic_bs) +\n",
    "                               ', g=' + str(gamma) + ', hs=2x' + str(hidden_size) +\n",
    "                               ', returns_norm')"
   ]
  },
  {
   "cell_type": "markdown",
   "metadata": {
    "deletable": false,
    "editable": false,
    "heading_collapsed": true,
    "run_control": {
     "frozen": true
    }
   },
   "source": [
    "# Show and compute specifications of environment"
   ]
  },
  {
   "cell_type": "code",
   "execution_count": 22,
   "metadata": {
    "ExecuteTime": {
     "end_time": "2020-03-31T17:47:32.109778Z",
     "start_time": "2020-03-31T17:47:32.099784Z"
    },
    "hidden": true,
    "scrolled": true
   },
   "outputs": [
    {
     "name": "stdout",
     "output_type": "stream",
     "text": [
      "Actionspace\n",
      "=========================\n",
      "Box(1,)\n",
      "1\n",
      "[1.]\n",
      "[-1.]\n",
      "=========================\n",
      "Observationspace\n",
      "=========================\n",
      "Box(2,)\n",
      "2\n",
      "[0.6  0.07]\n",
      "[-1.2  -0.07]\n"
     ]
    }
   ],
   "source": [
    "print('Actionspace')\n",
    "print('=========================')\n",
    "print(env.action_space)\n",
    "if env.action_space.shape == ():\n",
    "    print(env.action_space.n)\n",
    "else:\n",
    "    print(env.action_space.shape[0])\n",
    "    print(env.action_space.high)\n",
    "    print(env.action_space.low)\n",
    "print('=========================')\n",
    "print('Observationspace')\n",
    "print('=========================')\n",
    "print(env.observation_space)\n",
    "print(env.observation_space.shape[0])\n",
    "print(env.observation_space.high)\n",
    "print(env.observation_space.low)"
   ]
  },
  {
   "cell_type": "code",
   "execution_count": 9,
   "metadata": {
    "ExecuteTime": {
     "end_time": "2020-03-29T23:59:19.162697Z",
     "start_time": "2020-03-29T23:59:19.154702Z"
    },
    "hidden": true,
    "scrolled": true
   },
   "outputs": [],
   "source": [
    "# Compute dimensions for model's input/output sizes.\n",
    "observation_dim = env.observation_space.shape[0]\n",
    "    # Checking if Descrete or Box action space\n",
    "if env.action_space.shape == ():\n",
    "    a_dim, action_dim = 1, env.action_space.n\n",
    "    policy_dim = a_dim\n",
    "else:\n",
    "    # If environment is LaserHockey take only the first 3 action dimensions.\n",
    "    if env.unwrapped.spec is None: a_dim = 3\n",
    "    else: a_dim = env.action_space.shape[0]\n",
    "    if FACTORIZED: action_dim, policy_dim = k, a_dim\n",
    "    else: action_dim, policy_dim = k**a_dim, 1\n",
    "    \n",
    "    # Also compute descrete actionspace for the Box space, because the Descrete space doesn't need one.\n",
    "    actionspace = []\n",
    "    for d in range(a_dim):\n",
    "        actionspace.append(np.linspace(env.action_space.high[d], env.action_space.low[d], k))\n",
    "    actionspace = np.array(np.meshgrid(*actionspace)).reshape(a_dim, -1).T\n",
    "    actionspace_numbers = np.arange(k**a_dim)\n",
    "    actionspace_numbers = actionspace_numbers.reshape(np.full(policy_dim, action_dim))\n",
    "    \n",
    "    print('Descretized actionspace and corresponding numbers')\n",
    "    print('=================================================')\n",
    "    print(actionspace)\n",
    "    print(actionspace_numbers)"
   ]
  },
  {
   "cell_type": "markdown",
   "metadata": {
    "deletable": false,
    "editable": false,
    "heading_collapsed": true,
    "run_control": {
     "frozen": true
    }
   },
   "source": [
    "# Help functions"
   ]
  },
  {
   "cell_type": "code",
   "execution_count": 10,
   "metadata": {
    "ExecuteTime": {
     "end_time": "2020-03-29T23:59:19.184681Z",
     "start_time": "2020-03-29T23:59:19.164695Z"
    },
    "hidden": true
   },
   "outputs": [],
   "source": [
    "def descrete_action(action):\n",
    "    for i in range(3):\n",
    "        if action[i] > 0.5:\n",
    "            action[i] = 1\n",
    "        elif action[i] < -0.5:\n",
    "            action[i] = -1\n",
    "        else: action[i] = 0\n",
    "    return action\n",
    "\n",
    "def mean_list(lst):\n",
    "    if len(lst) != 0:\n",
    "        return sum(lst)/len(lst)\n",
    "    return 0\n",
    "\n",
    "def match_action_labels(action_labels):\n",
    "    for i in range(len(action_labels[0])):\n",
    "        for j in range(policy_dim):\n",
    "            action_labels[j][i][0] = i\n",
    "    return action_labels\n",
    "\n",
    "def action_label_to_action(action_label):\n",
    "    if env.action_space.shape == ():\n",
    "        return action_label[0]\n",
    "    return actionspace[actionspace_numbers.item(*action_label)]\n",
    "\n",
    "def action_to_action_label(action):\n",
    "    for i in range(k**a_dim):\n",
    "        if np.array_equal(actionspace[i], action):\n",
    "            return np.argwhere(actionspace_numbers == i).flatten()\n",
    "\n",
    "def discount_rewards(episode_r, discount):\n",
    "    value_f = 0\n",
    "    discounted_rewards = np.zeros_like(episode_r, dtype='float64')\n",
    "    for t in reversed(range(len(discounted_rewards))):\n",
    "        value_f = value_f * discount + episode_r[t]\n",
    "        discounted_rewards[t] = value_f\n",
    "    return discounted_rewards\n",
    "\n",
    "def td_error(episode_obs, episode_r):\n",
    "    td_errors = np.zeros(len(episode_r) - 1)\n",
    "    for t in range(len(td_errors)):\n",
    "        if t == (len(td_errors) - 1):\n",
    "            td_errors[t] = episode_r[t] + gamma * episode_r[-1] - critic.predict(episode_obs[t].reshape(1, -1))[0]\n",
    "        else:\n",
    "            td_errors[t] = episode_r[t] + gamma * critic.predict(episode_obs[t+1].reshape(1, -1))[0] - critic.predict(episode_obs[t].reshape(1, -1))[0]\n",
    "    return td_errors\n",
    "\n",
    "def subtract_baseline(episode_obs, value_f):\n",
    "    advantages = np.zeros_like(value_f)\n",
    "    for t in range(len(advantages)):\n",
    "#         advantages[t] = 1.0\n",
    "        advantages[t] = value_f[t] - critic.predict(episode_obs[t].reshape(1, -1))[0]\n",
    "    return advantages\n",
    "\n",
    "def clip_advantages(advantages):\n",
    "    clipped_advantages = np.zeros_like(advantages)\n",
    "    for i in range(len(clipped_advantages)):\n",
    "        if advantages[i] >= 0:\n",
    "            clipped_advantages[i] = (1 + epsilon) * advantages[i]\n",
    "        else: clipped_advantages[i] = (1 - epsilon) * advantages[i]\n",
    "    return clipped_advantages"
   ]
  },
  {
   "cell_type": "code",
   "execution_count": 11,
   "metadata": {
    "ExecuteTime": {
     "end_time": "2020-03-29T23:59:19.188678Z",
     "start_time": "2020-03-29T23:59:19.186679Z"
    },
    "hidden": true
   },
   "outputs": [],
   "source": [
    "# import torch\n",
    "# x = torch.rand(5, 3)\n",
    "# print(x)\n",
    "# torch.cuda.is_available()"
   ]
  },
  {
   "cell_type": "markdown",
   "metadata": {
    "deletable": false,
    "editable": false,
    "run_control": {
     "frozen": true
    }
   },
   "source": [
    "# Create Policy Gradient or PPO model"
   ]
  },
  {
   "cell_type": "code",
   "execution_count": 12,
   "metadata": {
    "ExecuteTime": {
     "end_time": "2020-03-29T23:59:19.424512Z",
     "start_time": "2020-03-29T23:59:19.191679Z"
    },
    "scrolled": true
   },
   "outputs": [
    {
     "name": "stdout",
     "output_type": "stream",
     "text": [
      "WARNING:tensorflow:From <ipython-input-12-d30afa9dc1b7>:17: dense (from tensorflow.python.layers.core) is deprecated and will be removed in a future version.\n",
      "Instructions for updating:\n",
      "Use keras.layers.Dense instead.\n",
      "WARNING:tensorflow:From C:\\Users\\ghost\\.conda\\envs\\openai_gym\\lib\\site-packages\\tensorflow_core\\python\\layers\\core.py:187: Layer.apply (from tensorflow.python.keras.engine.base_layer) is deprecated and will be removed in a future version.\n",
      "Instructions for updating:\n",
      "Please use `layer.__call__` method instead.\n"
     ]
    }
   ],
   "source": [
    "with tf.name_scope(\"inputs\"):    \n",
    "    # Placeholders for Tensorboard\n",
    "    reward_ = tf.placeholder(tf.float32, name='reward')\n",
    "#     actor_loss_ = tf.placeholder(tf.float32, name='actor_loss')\n",
    "    critic_loss_ = tf.placeholder(tf.float32, name='critic_loss')\n",
    "    \n",
    "    # Placeholders for training\n",
    "    input_ = tf.placeholder(tf.float32, [None, observation_dim], name='input')\n",
    "    action_label_ = tf.placeholder(tf.int32, [None, None, 2], name='action_label')\n",
    "    advantage_ = tf.placeholder(tf.float32, [None,], name='advantage')\n",
    "    clipped_advantage_ = tf.placeholder(tf.float32, [None,], name='clipped_advantage')\n",
    "    \n",
    "    with tf.name_scope('policy'):\n",
    "        relu_1, relu_2, action_distribution = {}, {}, {}\n",
    "        for i in range(policy_dim):\n",
    "            relu_1[i] = dense(inputs = input_, units = hidden_size, activation = tf.nn.relu,\n",
    "                              kernel_initializer = tf.compat.v1.keras.initializers.glorot_normal())\n",
    "            relu_2[i] = dense(inputs = relu_1[i], units = hidden_size, activation = tf.nn.relu,\n",
    "                              kernel_initializer = tf.compat.v1.keras.initializers.glorot_normal())\n",
    "            action_distribution[i] = dense(inputs = relu_2[i], units = action_dim, activation = tf.nn.softmax,\n",
    "                                           kernel_initializer = tf.compat.v1.keras.initializers.glorot_normal())\n",
    "            \n",
    "#             relu_1[i] = dense(inputs = input_, num_outputs = hidden_size, activation_fn = tf.nn.relu,\n",
    "#                               weights_initializer = tf.contrib.layers.xavier_initializer())\n",
    "#             relu_2[i] = dense(inputs = relu_1[i], num_outputs = hidden_size, activation_fn = tf.nn.relu,\n",
    "#                               weights_initializer = tf.contrib.layers.xavier_initializer())\n",
    "#             action_distribution[i] = dense(inputs = relu_2[i], num_outputs = action_dim, activation_fn = tf.nn.softmax,\n",
    "#                                            weights_initializer = tf.contrib.layers.xavier_initializer())\n",
    "                \n",
    "    with tf.name_scope('policy_loss'):\n",
    "        joint_policy = tf.Variable(1.0)\n",
    "        for i in range(policy_dim):\n",
    "            joint_policy = joint_policy * tf.gather_nd(action_distribution[i], action_label_[i])\n",
    "            \n",
    "        if REINFORCE:\n",
    "            # Policy gradient objective function\n",
    "            policy_loss = tf.reduce_mean(tf.log(joint_policy + 1e-10) * advantage_)\n",
    "        else:\n",
    "            # PPO Clipped Surrogate Objective\n",
    "            old_policy = tf.stop_gradient(tf.identity(joint_policy))\n",
    "            policy_loss = tf.reduce_mean(tf.minimum(joint_policy / (old_policy + 1e-10) * advantage_, clipped_advantage_))\n",
    "    \n",
    "    with tf.name_scope('optimizers'):\n",
    "        optimizer = tf.train.AdamOptimizer(actor_lr).minimize(-policy_loss)\n",
    "        \n",
    "    \n",
    "tf.summary.scalar('Reward', reward_)\n",
    "# tf.summary.scalar('Policy_Loss', actor_loss_)\n",
    "tf.summary.scalar('Policy_Loss', policy_loss)\n",
    "tf.summary.scalar('Critic_Loss', critic_loss_)\n",
    "\n",
    "summary = tf.summary.merge_all()"
   ]
  },
  {
   "cell_type": "markdown",
   "metadata": {
    "deletable": false,
    "editable": false,
    "heading_collapsed": true,
    "run_control": {
     "frozen": true
    }
   },
   "source": [
    "# Model help functions"
   ]
  },
  {
   "cell_type": "code",
   "execution_count": 13,
   "metadata": {
    "ExecuteTime": {
     "end_time": "2020-03-29T23:59:19.438502Z",
     "start_time": "2020-03-29T23:59:19.426510Z"
    },
    "hidden": true
   },
   "outputs": [],
   "source": [
    "def actor_loss(old_prediction, advantage, clipped_advantage):\n",
    "    def loss(y_true, y_pred):\n",
    "#         new_prediction = tf.gather_nd(y_pred, tf.cast(y_true, tf.int64))\n",
    "        new_prediction = y_true * y_pred\n",
    "        if REINFORCE:\n",
    "            return -K.mean(K.log(new_prediction + 1e-10) * advantage)\n",
    "        r = new_prediction / (old_prediction + 1e-10)\n",
    "        return -K.mean(K.minimum(r * advantage, clipped_advantage))\n",
    "    return loss\n",
    "\n",
    "class decay_history(tf.keras.callbacks.Callback):\n",
    "    def on_train_begin(self, logs={}):\n",
    "        self.lr = []\n",
    "        \n",
    "    def on_epoch_end(self, batch, logs={}):\n",
    "        self.lr.append(linear_decay(episode))\n",
    "        print(' lr:', self.lr[-1])\n",
    "\n",
    "def linear_decay(episode):\n",
    "    decay = -(1 / max_episodes) * episode + 1\n",
    "    new_lr = critic_lr * decay\n",
    "    if LINEAR:\n",
    "        print(new_lr)\n",
    "        return new_lr\n",
    "    print(critic_lr)\n",
    "    return critic_lr\n",
    "\n",
    "decay_history = decay_history()\n",
    "new_lr = tf.keras.callbacks.LearningRateScheduler(linear_decay)\n",
    "# callbacks_list = [decay_history, new_lr]\n",
    "callbacks_list = [new_lr]"
   ]
  },
  {
   "cell_type": "markdown",
   "metadata": {
    "deletable": false,
    "editable": false,
    "heading_collapsed": true,
    "run_control": {
     "frozen": true
    }
   },
   "source": [
    "# Critic Network"
   ]
  },
  {
   "cell_type": "code",
   "execution_count": 14,
   "metadata": {
    "ExecuteTime": {
     "end_time": "2020-03-29T23:59:19.476476Z",
     "start_time": "2020-03-29T23:59:19.442499Z"
    },
    "hidden": true
   },
   "outputs": [
    {
     "name": "stdout",
     "output_type": "stream",
     "text": [
      "WARNING:tensorflow:From C:\\Users\\ghost\\.conda\\envs\\openai_gym\\lib\\site-packages\\tensorflow_core\\python\\ops\\resource_variable_ops.py:1635: calling BaseResourceVariable.__init__ (from tensorflow.python.ops.resource_variable_ops) with constraint is deprecated and will be removed in a future version.\n",
      "Instructions for updating:\n",
      "If using Keras pass *_constraint arguments to layers.\n"
     ]
    }
   ],
   "source": [
    "critic = Sequential([\n",
    "#     BatchNormalization(),\n",
    "    Dense(hidden_size, kernel_initializer='glorot_normal', activation='relu'),\n",
    "#     BatchNormalization(),\n",
    "    Dense(hidden_size, kernel_initializer='glorot_normal', activation='relu'),\n",
    "#     BatchNormalization(),\n",
    "    Dense(1, kernel_initializer='glorot_normal')])\n",
    "\n",
    "critic.compile(optimizer=Adam(lr=0.0), loss='mse', metrics=['accuracy'])"
   ]
  },
  {
   "cell_type": "markdown",
   "metadata": {
    "heading_collapsed": true
   },
   "source": [
    "# Actor Network"
   ]
  },
  {
   "cell_type": "code",
   "execution_count": 15,
   "metadata": {
    "ExecuteTime": {
     "end_time": "2020-03-29T23:59:19.482470Z",
     "start_time": "2020-03-29T23:59:19.478475Z"
    },
    "hidden": true
   },
   "outputs": [],
   "source": [
    "# Didn't worked yet\n",
    "\n",
    "# def build_actor():\n",
    "#     state_input = Input(shape=(observation_dim,))\n",
    "#     old_prediction = Input(shape=(1,))\n",
    "#     advantage = Input(shape=(1,))\n",
    "#     clipped_advantage = Input(shape=(1,))\n",
    "\n",
    "#     x = Dense(hidden_size, kernel_initializer='glorot_normal', activation='relu')(state_input)\n",
    "#     x = Dense(hidden_size, kernel_initializer='glorot_normal', activation='relu')(x)\n",
    "#     action_distribution = Dense(action_dim, kernel_initializer='glorot_normal', activation='softmax')(x)\n",
    "\n",
    "#     model = Model(inputs=[state_input, old_prediction, advantage, clipped_advantage], outputs=[action_distribution])\n",
    "#     model.summary()\n",
    "#     model.compile(optimizer=Adam(lr=actor_lr), loss=[actor_loss(old_prediction, advantage, clipped_advantage)])\n",
    "\n",
    "#     return model\n",
    "\n",
    "# actor = build_actor()"
   ]
  },
  {
   "cell_type": "markdown",
   "metadata": {},
   "source": [
    "# Train agent"
   ]
  },
  {
   "cell_type": "code",
   "execution_count": null,
   "metadata": {
    "ExecuteTime": {
     "end_time": "2020-03-30T00:10:19.285455Z",
     "start_time": "2020-03-29T23:59:19.484469Z"
    },
    "scrolled": true
   },
   "outputs": [],
   "source": [
    "all_rewards, mean_steps = [], []\n",
    "player1_won, player2_won, no_one_won = 0, 0, 0\n",
    "basic = lh.BasicOpponent()\n",
    "\n",
    "with tf.Session() as sess:\n",
    "    sess.run(tf.global_variables_initializer())\n",
    "    writer.add_graph(sess.graph)\n",
    "#     tf.train.Saver().restore(sess, \"./models/model.ckpt\")\n",
    "    tf.train.Saver().save(sess, \"./models/model.ckpt\")\n",
    "    \n",
    "    for episode in range(1, max_episodes + 1):\n",
    "        episode_rewards = []\n",
    "        observations, observations_2, action_labels, action_labels_2 = [], [], [], []\n",
    "        for i in range(policy_dim):\n",
    "            action_labels.append([])\n",
    "            action_labels_2.append([])\n",
    "        \n",
    "        observation = env.reset()\n",
    "        if env.unwrapped.spec is None:\n",
    "            obs_agent_2 = env.obs_agent_two()\n",
    "\n",
    "        for step in range(1, max_steps + 1):\n",
    "            \n",
    "#             env.render()\n",
    "\n",
    "            if not IMITATION:\n",
    "                action_label = []\n",
    "                for i in range(policy_dim):\n",
    "                    action_vector = sess.run(action_distribution[i], feed_dict={input_: observation.reshape(1, -1)})[0]\n",
    "                    action_label.append(np.random.choice(action_dim, p=action_vector))\n",
    "                    # Compute action label for passing to the tf.gather_nd()\n",
    "                    action_labels[i].append([0, action_label[i]])\n",
    "\n",
    "                action = action_label_to_action(action_label)\n",
    "\n",
    "                # Same process for second player in LaserHockey\n",
    "                if env.unwrapped.spec is None:\n",
    "#                     action_label = []\n",
    "#                     for i in range(policy_dim):\n",
    "#                         action_vector = sess.run(action_distribution[i], feed_dict={input_: obs_agent_2.reshape(1, -1)})[0]\n",
    "#                         action_label.append(np.random.choice(action_dim, p=action_vector))\n",
    "#                         action_labels_2[i].append([0, action_label[i]])\n",
    "\n",
    "#                     action_2 = action_label_to_action(action_label)\n",
    "#                     observations_2.append(obs_agent_2)\n",
    "                    \n",
    "                    action_2 = basic.act(obs_agent_2)\n",
    "            \n",
    "            else:\n",
    "                observations_2.append(obs_agent_2)\n",
    "                action = descrete_action(basic.act(observation))\n",
    "                action_2 = descrete_action(basic.act(obs_agent_2))\n",
    "                action_label = action_to_action_label(action)\n",
    "                action_label_2 = action_to_action_label(action_2)\n",
    "                for i in range(policy_dim):\n",
    "                        action_labels[i].append([0, action_label[i]])\n",
    "                        action_labels_2[i].append([0, action_label_2[i]])\n",
    "                        \n",
    "            observations.append(observation)\n",
    "            \n",
    "            if env.unwrapped.spec is None:\n",
    "                observation, reward, done, info = env.step(np.hstack([action, action_2]))\n",
    "                obs_agent_2 = env.obs_agent_two()\n",
    "                \n",
    "            else: observation, reward, done, info = env.step(action)\n",
    "            \n",
    "            episode_rewards.append(reward)\n",
    "            \n",
    "            \n",
    "            \n",
    "            # Optimization process\n",
    "            if step % T == 0 or done or step == max_steps:\n",
    "                T_new = step % T\n",
    "                if T_new == 0: T_new = T\n",
    "                \n",
    "                if IMITATION: winner = info.get('winner')\n",
    "                else: winner = 0\n",
    "                \n",
    "                \n",
    "                if not (IMITATION and WINNER) or winner == 1:\n",
    "                    # Calculate value and advantage functions with no lambda-return as alternative\n",
    "                    returns = discount_rewards(episode_rewards[-T_new:], gamma)\n",
    "#                     returns_std_each = (returns-np.mean(returns))/np.std(returns)\n",
    "#                     returns_standardized = (returns-returns_mean)/returns_std\n",
    "                    returns_normalized = returns/returns_norm\n",
    "                    \n",
    "#                     print(np.mean(returns))\n",
    "#                     print(np.std(returns))\n",
    "                    print(returns)\n",
    "#                     print(returns_standardized)\n",
    "                    print(returns_normalized)\n",
    "                    \n",
    "                    returns = returns_normalized\n",
    "                    advantages = subtract_baseline(observations, returns)\n",
    "                    clipped_advantages = clip_advantages(advantages)\n",
    "    \n",
    "                    print(advantages)\n",
    "#                     print(observations)\n",
    "\n",
    "\n",
    "                    # Calculate td-error and generalized advantage estimation\n",
    "#                     TD_errors = td_error(observations[-step:], episode_rewards[-T_new:])\n",
    "#                     GAE = discount_rewards(TD_errors, gamma * lambda_)\n",
    "#                     prediction = sess.run(value, feed_dict={input_: observations[-1].reshape(1, -1)})\n",
    "#                     GAE = np.append(GAE, episode_rewards[-1] - prediction)\n",
    "#                     GAE = np.append(GAE, episode_rewards[-1] - critic.predict(observations[-1].reshape(1, -1))[0])\n",
    "\n",
    "                    # Optimize\n",
    "#                     actor_loss = actor.fit([observations, advantages, clipped_advantages], [action], batch_size=critic_bs)\n",
    "                    critic_loss = critic.fit(np.array(observations), [returns], batch_size=critic_bs, callbacks=callbacks_list)\n",
    "\n",
    "                    # Couldn't find a better way of implementing batch sizes in tensorflow\n",
    "                    for i in range(math.ceil(T_new/actor_bs)):\n",
    "                        temp_labels = []\n",
    "                        for j in range(policy_dim):\n",
    "                            temp_labels.append(action_labels[j][actor_bs*i:actor_bs*(i+1)])\n",
    "                        temp_action_labels = match_action_labels(temp_labels)\n",
    "\n",
    "                        sess.run(optimizer, feed_dict={input_: observations[actor_bs*i:actor_bs*(i+1)],\n",
    "                                                       action_label_: temp_action_labels,\n",
    "                                                       advantage_: advantages[actor_bs*i:actor_bs*(i+1)],\n",
    "                                                       clipped_advantage_: clipped_advantages[actor_bs*i:actor_bs*(i+1)]})\n",
    "                        \n",
    "                \n",
    "                # Same process for second player in LaserHockey\n",
    "#                 if (not (IMITATION and WINNER) or winner == -1) and env.unwrapped.spec is None:\n",
    "#                     returns = discount_rewards([-x for x in episode_rewards][-T_new:], gamma)\n",
    "#                     advantages = subtract_baseline(observations_2, returns)\n",
    "# #                     advantages = np.ones_like(returns)\n",
    "#                     clipped_advantages = clip_advantages(advantages)\n",
    "\n",
    "# #                     print(returns)\n",
    "# #                     print(advantages)\n",
    "# #                     print(len(observations_2))\n",
    "\n",
    "#                     critic_loss = critic.fit(np.array(observations_2), [returns], batch_size=critic_bs, callbacks=callbacks_list)\n",
    "\n",
    "#                     for i in range(math.ceil(T_new/actor_bs)):\n",
    "#                         temp_labels = []\n",
    "#                         for j in range(policy_dim):\n",
    "#                             temp_labels.append(action_labels_2[j][actor_bs*i:actor_bs*(i+1)])\n",
    "#                         temp_action_labels = match_action_labels(temp_labels)\n",
    "\n",
    "#                         sess.run(optimizer, feed_dict={input_: observations_2[actor_bs*i:actor_bs*(i+1)],\n",
    "#                                                        action_label_: temp_action_labels,\n",
    "#                                                        advantage_: advantages[actor_bs*i:actor_bs*(i+1)],\n",
    "#                                                        clipped_advantage_: clipped_advantages[actor_bs*i:actor_bs*(i+1)]})\n",
    "\n",
    "            \n",
    "            \n",
    "            if step % T == 0 and not (done or step == max_steps):\n",
    "                # Flush memory\n",
    "                observations, observations_2, action_labels, action_labels_2 = [], [], [], []\n",
    "                for i in range(policy_dim):\n",
    "                    action_labels.append([])\n",
    "                    action_labels_2.append([])\n",
    "                    \n",
    "            if done or step == max_steps:\n",
    "                # Print rewards for solo environment or info for Laserhockey\n",
    "                if env.unwrapped.spec is None:\n",
    "                    mean_steps.append(step)\n",
    "                    if info.get('winner') == 1: player1_won += 1\n",
    "                    elif info.get('winner') == -1: player2_won += 1\n",
    "                    else: no_one_won += 1; print('No one won.')\n",
    "                \n",
    "                all_rewards.append(np.sum(episode_rewards))    \n",
    "                print(\"Timestep: \", step)\n",
    "                print(\"Episode: \", episode)\n",
    "                \n",
    "                if env.unwrapped.spec is not None:\n",
    "                    print(\"Reward: \", all_rewards[-1])\n",
    "                    print(\"Max reward so far: \", np.max(all_rewards))\n",
    "                \n",
    "                \n",
    "                # Add reward and losses to Tensorboard\n",
    "                if not (IMITATION and WINNER) or winner != 0:\n",
    "                    new_action_labels = match_action_labels(action_labels)\n",
    "                    summary_ = sess.run(summary, feed_dict={input_: observations,\n",
    "                                                            action_label_: new_action_labels,\n",
    "                                                            advantage_: advantages,\n",
    "                                                            clipped_advantage_: clipped_advantages,\n",
    "                                                            reward_: all_rewards[-1],\n",
    "#                                                             actor_loss_: actor_loss.history['loss'][-1],\n",
    "                                                            critic_loss_: critic_loss.history['loss'][-1]})\n",
    "                    writer.add_summary(summary_, episode)\n",
    "                    writer.flush()\n",
    "                    \n",
    "                print(\"=====================================\")\n",
    "                \n",
    "                break\n",
    "        \n",
    "        \n",
    "        # Save Model every 50 episodes\n",
    "        if episode % 50 == 0:\n",
    "            tf.train.Saver().save(sess, \"./models/model.ckpt\")\n",
    "            print(\"Model saved\")\n",
    "    tf.train.Saver().save(sess, \"./models/model.ckpt\")\n",
    "    env.close()\n",
    "    \n",
    "    if env.unwrapped.spec is None:\n",
    "        print('Player 1 won: ' + str(player1_won) + '/' + str(max_episodes))\n",
    "        print('Player 2 won: ' + str(player2_won) + '/' + str(max_episodes))\n",
    "        print('No one won: ' + str(no_one_won) + '/' + str(max_episodes))\n",
    "        print('Mean steps: ' + str(mean_list(mean_steps)))\n",
    "        print(mean_steps)"
   ]
  },
  {
   "cell_type": "code",
   "execution_count": 18,
   "metadata": {
    "ExecuteTime": {
     "end_time": "2020-03-30T20:24:20.600553Z",
     "start_time": "2020-03-30T20:24:20.444662Z"
    }
   },
   "outputs": [
    {
     "data": {
      "text/plain": [
       "<function matplotlib.pyplot.show(*args, **kw)>"
      ]
     },
     "execution_count": 18,
     "metadata": {},
     "output_type": "execute_result"
    },
    {
     "data": {
      "image/png": "[encoded data removed]",
      "text/plain": [
       "<Figure size 432x288 with 1 Axes>"
      ]
     },
     "metadata": {},
     "output_type": "display_data"
    }
   ],
   "source": [
    "%matplotlib inline\n",
    "import matplotlib.pyplot as plt\n",
    "plt.style.use('dark_background')\n",
    "\n",
    "plt.plot(all_rewards)\n",
    "plt.show"
   ]
  },
  {
   "cell_type": "markdown",
   "metadata": {
    "heading_collapsed": true
   },
   "source": [
    "# Show agent"
   ]
  },
  {
   "cell_type": "code",
   "execution_count": 20,
   "metadata": {
    "ExecuteTime": {
     "end_time": "2020-03-29T02:41:54.114321Z",
     "start_time": "2020-03-29T02:41:53.883485Z"
    },
    "hidden": true,
    "scrolled": true
   },
   "outputs": [
    {
     "name": "stdout",
     "output_type": "stream",
     "text": [
      "Human Controls:\n",
      " left:\t\t\tleft arrow key left\n",
      " right:\t\t\tarrow key right\n",
      " up:\t\t\tarrow key up\n",
      " down:\t\t\tarrow key down\n",
      " tilt clockwise:\td\n",
      " tilt anti-clockwise:\ta\n"
     ]
    }
   ],
   "source": [
    "human = lh.HumanOpponent(env=env, player=1)\n",
    "basic = lh.BasicOpponent()\n",
    "env.close()"
   ]
  },
  {
   "cell_type": "code",
   "execution_count": 24,
   "metadata": {
    "ExecuteTime": {
     "end_time": "2020-03-29T02:46:44.376065Z",
     "start_time": "2020-03-29T02:46:43.366777Z"
    },
    "hidden": true,
    "scrolled": true
   },
   "outputs": [
    {
     "name": "stdout",
     "output_type": "stream",
     "text": [
      "INFO:tensorflow:Restoring parameters from ./models/model.ckpt\n",
      "Timestep:  9\n",
      "Episode:  1\n",
      "Reward:  9.0\n",
      "========================================\n",
      "Timestep:  9\n",
      "Episode:  2\n",
      "Reward:  9.0\n",
      "========================================\n",
      "Timestep:  9\n",
      "Episode:  3\n",
      "Reward:  9.0\n",
      "========================================\n",
      "Timestep:  8\n",
      "Episode:  4\n",
      "Reward:  8.0\n",
      "========================================\n",
      "Timestep:  9\n",
      "Episode:  5\n",
      "Reward:  9.0\n",
      "========================================\n",
      "Timestep:  10\n",
      "Episode:  6\n",
      "Reward:  10.0\n",
      "========================================\n",
      "Timestep:  9\n",
      "Episode:  7\n",
      "Reward:  9.0\n",
      "========================================\n",
      "Timestep:  8\n",
      "Episode:  8\n",
      "Reward:  8.0\n",
      "========================================\n",
      "Timestep:  8\n",
      "Episode:  9\n",
      "Reward:  8.0\n",
      "========================================\n",
      "Timestep:  10\n",
      "Episode:  10\n",
      "Reward:  10.0\n",
      "========================================\n"
     ]
    }
   ],
   "source": [
    "if env.unwrapped.spec is None:\n",
    "    human = lh.HumanOpponent(env=env, player=1)\n",
    "    basic = lh.BasicOpponent()\n",
    "\n",
    "with tf.Session() as sess:\n",
    "    rewards, mean_steps = [], []\n",
    "    player1_won, player2_won, no_one_won = 0, 0, 0\n",
    "\n",
    "#     Load the model\n",
    "    tf.train.Saver().restore(sess, \"./models/model.ckpt\")\n",
    "\n",
    "    max_test_episodes = 10\n",
    "    max_test_steps = 200\n",
    "    eps = 0\n",
    "    \n",
    "    for episode in range(1, max_test_episodes + 1):\n",
    "        total_rewards = 0\n",
    "\n",
    "        observation = env.reset()\n",
    "        if env.unwrapped.spec is None: obs_agent_2 = env.obs_agent_two()\n",
    "            \n",
    "        for step in range(1, max_test_steps + 1):\n",
    "            \n",
    "            env.render()\n",
    "            \n",
    "            if random.random() < eps:\n",
    "                action = random.choice(actionspace)\n",
    "                action_2 = random.choice(actionspace)\n",
    "            else:\n",
    "                action_label = []\n",
    "                for i in range(policy_dim):\n",
    "                    action_vector = sess.run(action_distribution[i], feed_dict={input_: observation.reshape(1, -1)})[0]\n",
    "                    action_label.append(np.random.choice(action_dim, p=action_vector))\n",
    "#                 action = action_label_to_action(action_label)\n",
    "#                 action = human.act(observation)\n",
    "\n",
    "                # Same process for second player in LaserHockey\n",
    "                if env.unwrapped.spec is None:\n",
    "#                     action_label = []\n",
    "#                     for i in range(policy_dim):\n",
    "#                         action_vector = sess.run(action_distribution[i], feed_dict={input_: obs_agent_2.reshape(1, -1)})[0]\n",
    "#                         action_label.append(np.random.choice(action_dim, p=action_vector))\n",
    "#                     action_2 = action_label_to_action(action_label)\n",
    "            \n",
    "#                     action = basic.act(observation)\n",
    "                    action_2 = basic.act(obs_agent_2)\n",
    "#                     action = descrete_action(basic.act(observation))\n",
    "#                     action_2 = descrete_action(basic.act(obs_agent_2))\n",
    "            \n",
    "            # np.hstack for LaserHockey environment\n",
    "            if env.unwrapped.spec == None:\n",
    "                \n",
    "                observation, reward, done, info = env.step(np.hstack([action, action_2]))\n",
    "                obs_agent_2 = env.obs_agent_two()\n",
    "                \n",
    "            else: observation, reward, done, info = env.step(action)\n",
    "\n",
    "            total_rewards += reward\n",
    "            \n",
    "            if done or step == max_test_steps:\n",
    "                # Print reward for solo environment or info for Laserhockey\n",
    "                if env.unwrapped.spec is None:\n",
    "                    mean_steps.append(step)\n",
    "                    if info.get('winner') == 1: player1_won += 1\n",
    "                    elif info.get('winner') == -1: player2_won += 1\n",
    "                    else: no_one_won += 1; print('No one won.')\n",
    "                \n",
    "                print(\"Timestep: \", step)\n",
    "                print(\"Episode: \", episode)\n",
    "                \n",
    "                if env.unwrapped.spec is not None:\n",
    "                    rewards.append(total_rewards)\n",
    "                    print(\"Reward: \", total_rewards)\n",
    "                    \n",
    "                print(\"========================================\")\n",
    "                    \n",
    "                break\n",
    "    env.close()\n",
    "    \n",
    "    if env.unwrapped.spec is None:\n",
    "        print('Player 1 won: ' + str(player1_won) + '/' + str(max_test_episodes))\n",
    "        print('Player 2 won: ' + str(player2_won) + '/' + str(max_test_episodes))\n",
    "        print('No one won: ' + str(no_one_won) + '/' + str(max_test_episodes))\n",
    "        print('Mean steps: ' + str(mean_list(mean_steps)))\n",
    "        print(mean_steps)"
   ]
  },
  {
   "cell_type": "code",
   "execution_count": 3,
   "metadata": {
    "hidden": true
   },
   "outputs": [
    {
     "name": "stdout",
     "output_type": "stream",
     "text": [
      "Track generation: 1203..1508 -> 305-tiles track\n"
     ]
    },
    {
     "ename": "RuntimeError",
     "evalue": "generator raised StopIteration",
     "output_type": "error",
     "traceback": [
      "\u001b[1;31m---------------------------------------------------------------------------\u001b[0m",
      "\u001b[1;31mStopIteration\u001b[0m                             Traceback (most recent call last)",
      "\u001b[1;32m~\\Anaconda3\\envs\\OpenAI Gym\\lib\\site-packages\\pyglet\\text\\runlist.py\u001b[0m in \u001b[0;36mranges\u001b[1;34m(self, start, end)\u001b[0m\n\u001b[0;32m    403\u001b[0m                 \u001b[1;32mif\u001b[0m \u001b[0mends\u001b[0m\u001b[1;33m[\u001b[0m\u001b[0mi\u001b[0m\u001b[1;33m]\u001b[0m \u001b[1;33m==\u001b[0m \u001b[0mmin_end\u001b[0m\u001b[1;33m:\u001b[0m\u001b[1;33m\u001b[0m\u001b[1;33m\u001b[0m\u001b[0m\n\u001b[1;32m--> 404\u001b[1;33m                     \u001b[0mstarts\u001b[0m\u001b[1;33m[\u001b[0m\u001b[0mi\u001b[0m\u001b[1;33m]\u001b[0m\u001b[1;33m,\u001b[0m \u001b[0mends\u001b[0m\u001b[1;33m[\u001b[0m\u001b[0mi\u001b[0m\u001b[1;33m]\u001b[0m\u001b[1;33m,\u001b[0m \u001b[0mvalues\u001b[0m\u001b[1;33m[\u001b[0m\u001b[0mi\u001b[0m\u001b[1;33m]\u001b[0m \u001b[1;33m=\u001b[0m \u001b[0mnext\u001b[0m\u001b[1;33m(\u001b[0m\u001b[0miterator\u001b[0m\u001b[1;33m)\u001b[0m\u001b[1;33m\u001b[0m\u001b[1;33m\u001b[0m\u001b[0m\n\u001b[0m\u001b[0;32m    405\u001b[0m \u001b[1;33m\u001b[0m\u001b[0m\n",
      "\u001b[1;31mStopIteration\u001b[0m: ",
      "\nThe above exception was the direct cause of the following exception:\n",
      "\u001b[1;31mRuntimeError\u001b[0m                              Traceback (most recent call last)",
      "\u001b[1;32m<ipython-input-3-89910364cb49>\u001b[0m in \u001b[0;36m<module>\u001b[1;34m\u001b[0m\n\u001b[0;32m     11\u001b[0m \u001b[1;33m\u001b[0m\u001b[0m\n\u001b[0;32m     12\u001b[0m \u001b[0menv\u001b[0m \u001b[1;33m=\u001b[0m \u001b[0mgym\u001b[0m\u001b[1;33m.\u001b[0m\u001b[0mmake\u001b[0m\u001b[1;33m(\u001b[0m\u001b[1;34m'CarRacing-v0'\u001b[0m\u001b[1;33m)\u001b[0m\u001b[1;33m\u001b[0m\u001b[1;33m\u001b[0m\u001b[0m\n\u001b[1;32m---> 13\u001b[1;33m \u001b[0mplay\u001b[0m\u001b[1;33m.\u001b[0m\u001b[0mplay\u001b[0m\u001b[1;33m(\u001b[0m\u001b[0menv\u001b[0m\u001b[1;33m,\u001b[0m \u001b[0mcallback\u001b[0m\u001b[1;33m=\u001b[0m\u001b[1;32mNone\u001b[0m\u001b[1;33m,\u001b[0m \u001b[0mkeys_to_action\u001b[0m\u001b[1;33m=\u001b[0m\u001b[0mkey_mapping\u001b[0m\u001b[1;33m)\u001b[0m\u001b[1;33m\u001b[0m\u001b[1;33m\u001b[0m\u001b[0m\n\u001b[0m\u001b[0;32m     14\u001b[0m \u001b[0menv\u001b[0m\u001b[1;33m.\u001b[0m\u001b[0mreset\u001b[0m\u001b[1;33m(\u001b[0m\u001b[1;33m)\u001b[0m\u001b[1;33m\u001b[0m\u001b[1;33m\u001b[0m\u001b[0m\n\u001b[0;32m     15\u001b[0m \u001b[0menv\u001b[0m\u001b[1;33m.\u001b[0m\u001b[0mclose\u001b[0m\u001b[1;33m(\u001b[0m\u001b[1;33m)\u001b[0m\u001b[1;33m\u001b[0m\u001b[1;33m\u001b[0m\u001b[0m\n",
      "\u001b[1;32m~\\Anaconda3\\envs\\OpenAI Gym\\lib\\site-packages\\gym\\utils\\play.py\u001b[0m in \u001b[0;36mplay\u001b[1;34m(env, transpose, fps, zoom, callback, keys_to_action)\u001b[0m\n\u001b[0;32m     77\u001b[0m         \u001b[0mIf\u001b[0m \u001b[1;32mNone\u001b[0m\u001b[1;33m,\u001b[0m \u001b[0mdefault\u001b[0m \u001b[0mkey_to_action\u001b[0m \u001b[0mmapping\u001b[0m \u001b[1;32mfor\u001b[0m \u001b[0mthat\u001b[0m \u001b[0menv\u001b[0m \u001b[1;32mis\u001b[0m \u001b[0mused\u001b[0m\u001b[1;33m,\u001b[0m \u001b[1;32mif\u001b[0m \u001b[0mprovided\u001b[0m\u001b[1;33m.\u001b[0m\u001b[1;33m\u001b[0m\u001b[1;33m\u001b[0m\u001b[0m\n\u001b[0;32m     78\u001b[0m     \"\"\"\n\u001b[1;32m---> 79\u001b[1;33m     \u001b[0menv\u001b[0m\u001b[1;33m.\u001b[0m\u001b[0mreset\u001b[0m\u001b[1;33m(\u001b[0m\u001b[1;33m)\u001b[0m\u001b[1;33m\u001b[0m\u001b[1;33m\u001b[0m\u001b[0m\n\u001b[0m\u001b[0;32m     80\u001b[0m     \u001b[0mrendered\u001b[0m\u001b[1;33m=\u001b[0m\u001b[0menv\u001b[0m\u001b[1;33m.\u001b[0m\u001b[0mrender\u001b[0m\u001b[1;33m(\u001b[0m \u001b[0mmode\u001b[0m\u001b[1;33m=\u001b[0m\u001b[1;34m'rgb_array'\u001b[0m\u001b[1;33m)\u001b[0m\u001b[1;33m\u001b[0m\u001b[1;33m\u001b[0m\u001b[0m\n\u001b[0;32m     81\u001b[0m \u001b[1;33m\u001b[0m\u001b[0m\n",
      "\u001b[1;32m~\\Anaconda3\\envs\\OpenAI Gym\\lib\\site-packages\\gym\\wrappers\\time_limit.py\u001b[0m in \u001b[0;36mreset\u001b[1;34m(self, **kwargs)\u001b[0m\n\u001b[0;32m     23\u001b[0m     \u001b[1;32mdef\u001b[0m \u001b[0mreset\u001b[0m\u001b[1;33m(\u001b[0m\u001b[0mself\u001b[0m\u001b[1;33m,\u001b[0m \u001b[1;33m**\u001b[0m\u001b[0mkwargs\u001b[0m\u001b[1;33m)\u001b[0m\u001b[1;33m:\u001b[0m\u001b[1;33m\u001b[0m\u001b[1;33m\u001b[0m\u001b[0m\n\u001b[0;32m     24\u001b[0m         \u001b[0mself\u001b[0m\u001b[1;33m.\u001b[0m\u001b[0m_elapsed_steps\u001b[0m \u001b[1;33m=\u001b[0m \u001b[1;36m0\u001b[0m\u001b[1;33m\u001b[0m\u001b[1;33m\u001b[0m\u001b[0m\n\u001b[1;32m---> 25\u001b[1;33m         \u001b[1;32mreturn\u001b[0m \u001b[0mself\u001b[0m\u001b[1;33m.\u001b[0m\u001b[0menv\u001b[0m\u001b[1;33m.\u001b[0m\u001b[0mreset\u001b[0m\u001b[1;33m(\u001b[0m\u001b[1;33m**\u001b[0m\u001b[0mkwargs\u001b[0m\u001b[1;33m)\u001b[0m\u001b[1;33m\u001b[0m\u001b[1;33m\u001b[0m\u001b[0m\n\u001b[0m",
      "\u001b[1;32m~\\Anaconda3\\envs\\OpenAI Gym\\lib\\site-packages\\gym\\envs\\box2d\\car_racing.py\u001b[0m in \u001b[0;36mreset\u001b[1;34m(self)\u001b[0m\n\u001b[0;32m    309\u001b[0m         \u001b[0mself\u001b[0m\u001b[1;33m.\u001b[0m\u001b[0mcar\u001b[0m \u001b[1;33m=\u001b[0m \u001b[0mCar\u001b[0m\u001b[1;33m(\u001b[0m\u001b[0mself\u001b[0m\u001b[1;33m.\u001b[0m\u001b[0mworld\u001b[0m\u001b[1;33m,\u001b[0m \u001b[1;33m*\u001b[0m\u001b[0mself\u001b[0m\u001b[1;33m.\u001b[0m\u001b[0mtrack\u001b[0m\u001b[1;33m[\u001b[0m\u001b[1;36m0\u001b[0m\u001b[1;33m]\u001b[0m\u001b[1;33m[\u001b[0m\u001b[1;36m1\u001b[0m\u001b[1;33m:\u001b[0m\u001b[1;36m4\u001b[0m\u001b[1;33m]\u001b[0m\u001b[1;33m)\u001b[0m\u001b[1;33m\u001b[0m\u001b[1;33m\u001b[0m\u001b[0m\n\u001b[0;32m    310\u001b[0m \u001b[1;33m\u001b[0m\u001b[0m\n\u001b[1;32m--> 311\u001b[1;33m         \u001b[1;32mreturn\u001b[0m \u001b[0mself\u001b[0m\u001b[1;33m.\u001b[0m\u001b[0mstep\u001b[0m\u001b[1;33m(\u001b[0m\u001b[1;32mNone\u001b[0m\u001b[1;33m)\u001b[0m\u001b[1;33m[\u001b[0m\u001b[1;36m0\u001b[0m\u001b[1;33m]\u001b[0m\u001b[1;33m\u001b[0m\u001b[1;33m\u001b[0m\u001b[0m\n\u001b[0m\u001b[0;32m    312\u001b[0m \u001b[1;33m\u001b[0m\u001b[0m\n\u001b[0;32m    313\u001b[0m     \u001b[1;32mdef\u001b[0m \u001b[0mstep\u001b[0m\u001b[1;33m(\u001b[0m\u001b[0mself\u001b[0m\u001b[1;33m,\u001b[0m \u001b[0maction\u001b[0m\u001b[1;33m)\u001b[0m\u001b[1;33m:\u001b[0m\u001b[1;33m\u001b[0m\u001b[1;33m\u001b[0m\u001b[0m\n",
      "\u001b[1;32m~\\Anaconda3\\envs\\OpenAI Gym\\lib\\site-packages\\gym\\envs\\box2d\\car_racing.py\u001b[0m in \u001b[0;36mstep\u001b[1;34m(self, action)\u001b[0m\n\u001b[0;32m    321\u001b[0m         \u001b[0mself\u001b[0m\u001b[1;33m.\u001b[0m\u001b[0mt\u001b[0m \u001b[1;33m+=\u001b[0m \u001b[1;36m1.0\u001b[0m\u001b[1;33m/\u001b[0m\u001b[0mFPS\u001b[0m\u001b[1;33m\u001b[0m\u001b[1;33m\u001b[0m\u001b[0m\n\u001b[0;32m    322\u001b[0m \u001b[1;33m\u001b[0m\u001b[0m\n\u001b[1;32m--> 323\u001b[1;33m         \u001b[0mself\u001b[0m\u001b[1;33m.\u001b[0m\u001b[0mstate\u001b[0m \u001b[1;33m=\u001b[0m \u001b[0mself\u001b[0m\u001b[1;33m.\u001b[0m\u001b[0mrender\u001b[0m\u001b[1;33m(\u001b[0m\u001b[1;34m\"state_pixels\"\u001b[0m\u001b[1;33m)\u001b[0m\u001b[1;33m\u001b[0m\u001b[1;33m\u001b[0m\u001b[0m\n\u001b[0m\u001b[0;32m    324\u001b[0m \u001b[1;33m\u001b[0m\u001b[0m\n\u001b[0;32m    325\u001b[0m         \u001b[0mstep_reward\u001b[0m \u001b[1;33m=\u001b[0m \u001b[1;36m0\u001b[0m\u001b[1;33m\u001b[0m\u001b[1;33m\u001b[0m\u001b[0m\n",
      "\u001b[1;32m~\\Anaconda3\\envs\\OpenAI Gym\\lib\\site-packages\\gym\\envs\\box2d\\car_racing.py\u001b[0m in \u001b[0;36mrender\u001b[1;34m(self, mode)\u001b[0m\n\u001b[0;32m    348\u001b[0m             self.score_label = pyglet.text.Label('0000', font_size=36,\n\u001b[0;32m    349\u001b[0m                 \u001b[0mx\u001b[0m\u001b[1;33m=\u001b[0m\u001b[1;36m20\u001b[0m\u001b[1;33m,\u001b[0m \u001b[0my\u001b[0m\u001b[1;33m=\u001b[0m\u001b[0mWINDOW_H\u001b[0m\u001b[1;33m*\u001b[0m\u001b[1;36m2.5\u001b[0m\u001b[1;33m/\u001b[0m\u001b[1;36m40.00\u001b[0m\u001b[1;33m,\u001b[0m \u001b[0manchor_x\u001b[0m\u001b[1;33m=\u001b[0m\u001b[1;34m'left'\u001b[0m\u001b[1;33m,\u001b[0m \u001b[0manchor_y\u001b[0m\u001b[1;33m=\u001b[0m\u001b[1;34m'center'\u001b[0m\u001b[1;33m,\u001b[0m\u001b[1;33m\u001b[0m\u001b[1;33m\u001b[0m\u001b[0m\n\u001b[1;32m--> 350\u001b[1;33m                 color=(255,255,255,255))\n\u001b[0m\u001b[0;32m    351\u001b[0m             \u001b[0mself\u001b[0m\u001b[1;33m.\u001b[0m\u001b[0mtransform\u001b[0m \u001b[1;33m=\u001b[0m \u001b[0mrendering\u001b[0m\u001b[1;33m.\u001b[0m\u001b[0mTransform\u001b[0m\u001b[1;33m(\u001b[0m\u001b[1;33m)\u001b[0m\u001b[1;33m\u001b[0m\u001b[1;33m\u001b[0m\u001b[0m\n\u001b[0;32m    352\u001b[0m \u001b[1;33m\u001b[0m\u001b[0m\n",
      "\u001b[1;32m~\\Anaconda3\\envs\\OpenAI Gym\\lib\\site-packages\\pyglet\\text\\__init__.py\u001b[0m in \u001b[0;36m__init__\u001b[1;34m(self, text, font_name, font_size, bold, italic, color, x, y, width, height, anchor_x, anchor_y, align, multiline, dpi, batch, group)\u001b[0m\n\u001b[0;32m    431\u001b[0m         super(Label, self).__init__(document, x, y, width, height, \n\u001b[0;32m    432\u001b[0m                                     \u001b[0manchor_x\u001b[0m\u001b[1;33m,\u001b[0m \u001b[0manchor_y\u001b[0m\u001b[1;33m,\u001b[0m\u001b[1;33m\u001b[0m\u001b[1;33m\u001b[0m\u001b[0m\n\u001b[1;32m--> 433\u001b[1;33m                                     multiline, dpi, batch, group)\n\u001b[0m\u001b[0;32m    434\u001b[0m \u001b[1;33m\u001b[0m\u001b[0m\n\u001b[0;32m    435\u001b[0m         self.document.set_style(0, len(self.document.text), {\n",
      "\u001b[1;32m~\\Anaconda3\\envs\\OpenAI Gym\\lib\\site-packages\\pyglet\\text\\__init__.py\u001b[0m in \u001b[0;36m__init__\u001b[1;34m(self, document, x, y, width, height, anchor_x, anchor_y, multiline, dpi, batch, group)\u001b[0m\n\u001b[0;32m    255\u001b[0m                                             \u001b[0mwidth\u001b[0m\u001b[1;33m=\u001b[0m\u001b[0mwidth\u001b[0m\u001b[1;33m,\u001b[0m \u001b[0mheight\u001b[0m\u001b[1;33m=\u001b[0m\u001b[0mheight\u001b[0m\u001b[1;33m,\u001b[0m\u001b[1;33m\u001b[0m\u001b[1;33m\u001b[0m\u001b[0m\n\u001b[0;32m    256\u001b[0m                                             \u001b[0mmultiline\u001b[0m\u001b[1;33m=\u001b[0m\u001b[0mmultiline\u001b[0m\u001b[1;33m,\u001b[0m\u001b[1;33m\u001b[0m\u001b[1;33m\u001b[0m\u001b[0m\n\u001b[1;32m--> 257\u001b[1;33m                                             dpi=dpi, batch=batch, group=group)\n\u001b[0m\u001b[0;32m    258\u001b[0m \u001b[1;33m\u001b[0m\u001b[0m\n\u001b[0;32m    259\u001b[0m         \u001b[0mself\u001b[0m\u001b[1;33m.\u001b[0m\u001b[0m_x\u001b[0m \u001b[1;33m=\u001b[0m \u001b[0mx\u001b[0m\u001b[1;33m\u001b[0m\u001b[1;33m\u001b[0m\u001b[0m\n",
      "\u001b[1;32m~\\Anaconda3\\envs\\OpenAI Gym\\lib\\site-packages\\pyglet\\text\\layout.py\u001b[0m in \u001b[0;36m__init__\u001b[1;34m(self, document, width, height, multiline, dpi, batch, group, wrap_lines)\u001b[0m\n\u001b[0;32m    789\u001b[0m             \u001b[0mdpi\u001b[0m \u001b[1;33m=\u001b[0m \u001b[1;36m96\u001b[0m\u001b[1;33m\u001b[0m\u001b[1;33m\u001b[0m\u001b[0m\n\u001b[0;32m    790\u001b[0m         \u001b[0mself\u001b[0m\u001b[1;33m.\u001b[0m\u001b[0m_dpi\u001b[0m \u001b[1;33m=\u001b[0m \u001b[0mdpi\u001b[0m\u001b[1;33m\u001b[0m\u001b[1;33m\u001b[0m\u001b[0m\n\u001b[1;32m--> 791\u001b[1;33m         \u001b[0mself\u001b[0m\u001b[1;33m.\u001b[0m\u001b[0mdocument\u001b[0m \u001b[1;33m=\u001b[0m \u001b[0mdocument\u001b[0m\u001b[1;33m\u001b[0m\u001b[1;33m\u001b[0m\u001b[0m\n\u001b[0m\u001b[0;32m    792\u001b[0m \u001b[1;33m\u001b[0m\u001b[0m\n\u001b[0;32m    793\u001b[0m     \u001b[1;32mdef\u001b[0m \u001b[0m_wrap_lines_invariant\u001b[0m\u001b[1;33m(\u001b[0m\u001b[0mself\u001b[0m\u001b[1;33m)\u001b[0m\u001b[1;33m:\u001b[0m\u001b[1;33m\u001b[0m\u001b[1;33m\u001b[0m\u001b[0m\n",
      "\u001b[1;32m~\\Anaconda3\\envs\\OpenAI Gym\\lib\\site-packages\\pyglet\\text\\layout.py\u001b[0m in \u001b[0;36m_set_document\u001b[1;34m(self, document)\u001b[0m\n\u001b[0;32m    872\u001b[0m         \u001b[0mdocument\u001b[0m\u001b[1;33m.\u001b[0m\u001b[0mpush_handlers\u001b[0m\u001b[1;33m(\u001b[0m\u001b[0mself\u001b[0m\u001b[1;33m)\u001b[0m\u001b[1;33m\u001b[0m\u001b[1;33m\u001b[0m\u001b[0m\n\u001b[0;32m    873\u001b[0m         \u001b[0mself\u001b[0m\u001b[1;33m.\u001b[0m\u001b[0m_document\u001b[0m \u001b[1;33m=\u001b[0m \u001b[0mdocument\u001b[0m\u001b[1;33m\u001b[0m\u001b[1;33m\u001b[0m\u001b[0m\n\u001b[1;32m--> 874\u001b[1;33m         \u001b[0mself\u001b[0m\u001b[1;33m.\u001b[0m\u001b[0m_init_document\u001b[0m\u001b[1;33m(\u001b[0m\u001b[1;33m)\u001b[0m\u001b[1;33m\u001b[0m\u001b[1;33m\u001b[0m\u001b[0m\n\u001b[0m\u001b[0;32m    875\u001b[0m \u001b[1;33m\u001b[0m\u001b[0m\n\u001b[0;32m    876\u001b[0m     document = property(_get_document, _set_document,\n",
      "\u001b[1;32m~\\Anaconda3\\envs\\OpenAI Gym\\lib\\site-packages\\pyglet\\text\\layout.py\u001b[0m in \u001b[0;36m_init_document\u001b[1;34m(self)\u001b[0m\n\u001b[0;32m    975\u001b[0m \u001b[1;33m\u001b[0m\u001b[0m\n\u001b[0;32m    976\u001b[0m     \u001b[1;32mdef\u001b[0m \u001b[0m_init_document\u001b[0m\u001b[1;33m(\u001b[0m\u001b[0mself\u001b[0m\u001b[1;33m)\u001b[0m\u001b[1;33m:\u001b[0m\u001b[1;33m\u001b[0m\u001b[1;33m\u001b[0m\u001b[0m\n\u001b[1;32m--> 977\u001b[1;33m         \u001b[0mself\u001b[0m\u001b[1;33m.\u001b[0m\u001b[0m_update\u001b[0m\u001b[1;33m(\u001b[0m\u001b[1;33m)\u001b[0m\u001b[1;33m\u001b[0m\u001b[1;33m\u001b[0m\u001b[0m\n\u001b[0m\u001b[0;32m    978\u001b[0m \u001b[1;33m\u001b[0m\u001b[0m\n\u001b[0;32m    979\u001b[0m     \u001b[1;32mdef\u001b[0m \u001b[0m_uninit_document\u001b[0m\u001b[1;33m(\u001b[0m\u001b[0mself\u001b[0m\u001b[1;33m)\u001b[0m\u001b[1;33m:\u001b[0m\u001b[1;33m\u001b[0m\u001b[1;33m\u001b[0m\u001b[0m\n",
      "\u001b[1;32m~\\Anaconda3\\envs\\OpenAI Gym\\lib\\site-packages\\pyglet\\text\\layout.py\u001b[0m in \u001b[0;36m_update\u001b[1;34m(self)\u001b[0m\n\u001b[0;32m    909\u001b[0m             \u001b[1;32mreturn\u001b[0m\u001b[1;33m\u001b[0m\u001b[1;33m\u001b[0m\u001b[0m\n\u001b[0;32m    910\u001b[0m \u001b[1;33m\u001b[0m\u001b[0m\n\u001b[1;32m--> 911\u001b[1;33m         \u001b[0mlines\u001b[0m \u001b[1;33m=\u001b[0m \u001b[0mself\u001b[0m\u001b[1;33m.\u001b[0m\u001b[0m_get_lines\u001b[0m\u001b[1;33m(\u001b[0m\u001b[1;33m)\u001b[0m\u001b[1;33m\u001b[0m\u001b[1;33m\u001b[0m\u001b[0m\n\u001b[0m\u001b[0;32m    912\u001b[0m \u001b[1;33m\u001b[0m\u001b[0m\n\u001b[0;32m    913\u001b[0m         \u001b[0mcolors_iter\u001b[0m \u001b[1;33m=\u001b[0m \u001b[0mself\u001b[0m\u001b[1;33m.\u001b[0m\u001b[0m_document\u001b[0m\u001b[1;33m.\u001b[0m\u001b[0mget_style_runs\u001b[0m\u001b[1;33m(\u001b[0m\u001b[1;34m'color'\u001b[0m\u001b[1;33m)\u001b[0m\u001b[1;33m\u001b[0m\u001b[1;33m\u001b[0m\u001b[0m\n",
      "\u001b[1;32m~\\Anaconda3\\envs\\OpenAI Gym\\lib\\site-packages\\pyglet\\text\\layout.py\u001b[0m in \u001b[0;36m_get_lines\u001b[1;34m(self)\u001b[0m\n\u001b[0;32m    885\u001b[0m     \u001b[1;32mdef\u001b[0m \u001b[0m_get_lines\u001b[0m\u001b[1;33m(\u001b[0m\u001b[0mself\u001b[0m\u001b[1;33m)\u001b[0m\u001b[1;33m:\u001b[0m\u001b[1;33m\u001b[0m\u001b[1;33m\u001b[0m\u001b[0m\n\u001b[0;32m    886\u001b[0m         \u001b[0mlen_text\u001b[0m \u001b[1;33m=\u001b[0m \u001b[0mlen\u001b[0m\u001b[1;33m(\u001b[0m\u001b[0mself\u001b[0m\u001b[1;33m.\u001b[0m\u001b[0m_document\u001b[0m\u001b[1;33m.\u001b[0m\u001b[0mtext\u001b[0m\u001b[1;33m)\u001b[0m\u001b[1;33m\u001b[0m\u001b[1;33m\u001b[0m\u001b[0m\n\u001b[1;32m--> 887\u001b[1;33m         \u001b[0mglyphs\u001b[0m \u001b[1;33m=\u001b[0m \u001b[0mself\u001b[0m\u001b[1;33m.\u001b[0m\u001b[0m_get_glyphs\u001b[0m\u001b[1;33m(\u001b[0m\u001b[1;33m)\u001b[0m\u001b[1;33m\u001b[0m\u001b[1;33m\u001b[0m\u001b[0m\n\u001b[0m\u001b[0;32m    888\u001b[0m         \u001b[0mowner_runs\u001b[0m \u001b[1;33m=\u001b[0m \u001b[0mrunlist\u001b[0m\u001b[1;33m.\u001b[0m\u001b[0mRunList\u001b[0m\u001b[1;33m(\u001b[0m\u001b[0mlen_text\u001b[0m\u001b[1;33m,\u001b[0m \u001b[1;32mNone\u001b[0m\u001b[1;33m)\u001b[0m\u001b[1;33m\u001b[0m\u001b[1;33m\u001b[0m\u001b[0m\n\u001b[0;32m    889\u001b[0m         \u001b[0mself\u001b[0m\u001b[1;33m.\u001b[0m\u001b[0m_get_owner_runs\u001b[0m\u001b[1;33m(\u001b[0m\u001b[0mowner_runs\u001b[0m\u001b[1;33m,\u001b[0m \u001b[0mglyphs\u001b[0m\u001b[1;33m,\u001b[0m \u001b[1;36m0\u001b[0m\u001b[1;33m,\u001b[0m \u001b[0mlen_text\u001b[0m\u001b[1;33m)\u001b[0m\u001b[1;33m\u001b[0m\u001b[1;33m\u001b[0m\u001b[0m\n",
      "\u001b[1;32m~\\Anaconda3\\envs\\OpenAI Gym\\lib\\site-packages\\pyglet\\text\\layout.py\u001b[0m in \u001b[0;36m_get_glyphs\u001b[1;34m(self)\u001b[0m\n\u001b[0;32m   1010\u001b[0m             self._document.get_element_runs()))\n\u001b[0;32m   1011\u001b[0m         \u001b[0mtext\u001b[0m \u001b[1;33m=\u001b[0m \u001b[0mself\u001b[0m\u001b[1;33m.\u001b[0m\u001b[0m_document\u001b[0m\u001b[1;33m.\u001b[0m\u001b[0mtext\u001b[0m\u001b[1;33m\u001b[0m\u001b[1;33m\u001b[0m\u001b[0m\n\u001b[1;32m-> 1012\u001b[1;33m         \u001b[1;32mfor\u001b[0m \u001b[0mstart\u001b[0m\u001b[1;33m,\u001b[0m \u001b[0mend\u001b[0m\u001b[1;33m,\u001b[0m \u001b[1;33m(\u001b[0m\u001b[0mfont\u001b[0m\u001b[1;33m,\u001b[0m \u001b[0melement\u001b[0m\u001b[1;33m)\u001b[0m \u001b[1;32min\u001b[0m \u001b[0mruns\u001b[0m\u001b[1;33m.\u001b[0m\u001b[0mranges\u001b[0m\u001b[1;33m(\u001b[0m\u001b[1;36m0\u001b[0m\u001b[1;33m,\u001b[0m \u001b[0mlen\u001b[0m\u001b[1;33m(\u001b[0m\u001b[0mtext\u001b[0m\u001b[1;33m)\u001b[0m\u001b[1;33m)\u001b[0m\u001b[1;33m:\u001b[0m\u001b[1;33m\u001b[0m\u001b[1;33m\u001b[0m\u001b[0m\n\u001b[0m\u001b[0;32m   1013\u001b[0m             \u001b[1;32mif\u001b[0m \u001b[0melement\u001b[0m\u001b[1;33m:\u001b[0m\u001b[1;33m\u001b[0m\u001b[1;33m\u001b[0m\u001b[0m\n\u001b[0;32m   1014\u001b[0m                 \u001b[0mglyphs\u001b[0m\u001b[1;33m.\u001b[0m\u001b[0mappend\u001b[0m\u001b[1;33m(\u001b[0m\u001b[0m_InlineElementBox\u001b[0m\u001b[1;33m(\u001b[0m\u001b[0melement\u001b[0m\u001b[1;33m)\u001b[0m\u001b[1;33m)\u001b[0m\u001b[1;33m\u001b[0m\u001b[1;33m\u001b[0m\u001b[0m\n",
      "\u001b[1;31mRuntimeError\u001b[0m: generator raised StopIteration"
     ]
    }
   ],
   "source": [
    "from gym.utils import play\n",
    "\n",
    "\n",
    "key_mapping = {(97,108): 3, (100,108): 1, (108,119): 0, (108,115): 2}\n",
    "\n",
    "\n",
    "def callback(obs_t, obs_tp1, action, rew, done, info):\n",
    "    return [rew,]\n",
    "plotter = play.PlayPlot(callback, 30 * 1, [\"reward\"])\n",
    "\n",
    "\n",
    "env = gym.make('CarRacing-v0')\n",
    "play.play(env, callback=None, keys_to_action=key_mapping)\n",
    "env.reset()\n",
    "env.close()"
   ]
  },
  {
   "cell_type": "code",
   "execution_count": 4,
   "metadata": {
    "hidden": true,
    "scrolled": true
   },
   "outputs": [
    {
     "name": "stdout",
     "output_type": "stream",
     "text": [
      "Track generation: 1040..1312 -> 272-tiles track\n"
     ]
    },
    {
     "ename": "RuntimeError",
     "evalue": "generator raised StopIteration",
     "output_type": "error",
     "traceback": [
      "\u001b[1;31m---------------------------------------------------------------------------\u001b[0m",
      "\u001b[1;31mStopIteration\u001b[0m                             Traceback (most recent call last)",
      "\u001b[1;32m~\\Anaconda3\\envs\\OpenAI Gym\\lib\\site-packages\\pyglet\\text\\runlist.py\u001b[0m in \u001b[0;36mranges\u001b[1;34m(self, start, end)\u001b[0m\n\u001b[0;32m    403\u001b[0m                 \u001b[1;32mif\u001b[0m \u001b[0mends\u001b[0m\u001b[1;33m[\u001b[0m\u001b[0mi\u001b[0m\u001b[1;33m]\u001b[0m \u001b[1;33m==\u001b[0m \u001b[0mmin_end\u001b[0m\u001b[1;33m:\u001b[0m\u001b[1;33m\u001b[0m\u001b[1;33m\u001b[0m\u001b[0m\n\u001b[1;32m--> 404\u001b[1;33m                     \u001b[0mstarts\u001b[0m\u001b[1;33m[\u001b[0m\u001b[0mi\u001b[0m\u001b[1;33m]\u001b[0m\u001b[1;33m,\u001b[0m \u001b[0mends\u001b[0m\u001b[1;33m[\u001b[0m\u001b[0mi\u001b[0m\u001b[1;33m]\u001b[0m\u001b[1;33m,\u001b[0m \u001b[0mvalues\u001b[0m\u001b[1;33m[\u001b[0m\u001b[0mi\u001b[0m\u001b[1;33m]\u001b[0m \u001b[1;33m=\u001b[0m \u001b[0mnext\u001b[0m\u001b[1;33m(\u001b[0m\u001b[0miterator\u001b[0m\u001b[1;33m)\u001b[0m\u001b[1;33m\u001b[0m\u001b[1;33m\u001b[0m\u001b[0m\n\u001b[0m\u001b[0;32m    405\u001b[0m \u001b[1;33m\u001b[0m\u001b[0m\n",
      "\u001b[1;31mStopIteration\u001b[0m: ",
      "\nThe above exception was the direct cause of the following exception:\n",
      "\u001b[1;31mRuntimeError\u001b[0m                              Traceback (most recent call last)",
      "\u001b[1;32m<ipython-input-4-03ffa551ce5b>\u001b[0m in \u001b[0;36m<module>\u001b[1;34m\u001b[0m\n\u001b[0;32m      2\u001b[0m \u001b[0menv\u001b[0m \u001b[1;33m=\u001b[0m \u001b[0mgym\u001b[0m\u001b[1;33m.\u001b[0m\u001b[0mmake\u001b[0m\u001b[1;33m(\u001b[0m\u001b[1;34m'CarRacing-v0'\u001b[0m\u001b[1;33m)\u001b[0m\u001b[1;33m\u001b[0m\u001b[1;33m\u001b[0m\u001b[0m\n\u001b[0;32m      3\u001b[0m \u001b[1;32mfor\u001b[0m \u001b[0mi_episode\u001b[0m \u001b[1;32min\u001b[0m \u001b[0mrange\u001b[0m\u001b[1;33m(\u001b[0m\u001b[1;36m1\u001b[0m\u001b[1;33m)\u001b[0m\u001b[1;33m:\u001b[0m\u001b[1;33m\u001b[0m\u001b[1;33m\u001b[0m\u001b[0m\n\u001b[1;32m----> 4\u001b[1;33m     \u001b[0mobservation\u001b[0m \u001b[1;33m=\u001b[0m \u001b[0menv\u001b[0m\u001b[1;33m.\u001b[0m\u001b[0mreset\u001b[0m\u001b[1;33m(\u001b[0m\u001b[1;33m)\u001b[0m\u001b[1;33m\u001b[0m\u001b[1;33m\u001b[0m\u001b[0m\n\u001b[0m\u001b[0;32m      5\u001b[0m     \u001b[1;32mfor\u001b[0m \u001b[0mt\u001b[0m \u001b[1;32min\u001b[0m \u001b[0mrange\u001b[0m\u001b[1;33m(\u001b[0m\u001b[1;36m200\u001b[0m\u001b[1;33m)\u001b[0m\u001b[1;33m:\u001b[0m\u001b[1;33m\u001b[0m\u001b[1;33m\u001b[0m\u001b[0m\n\u001b[0;32m      6\u001b[0m         \u001b[0menv\u001b[0m\u001b[1;33m.\u001b[0m\u001b[0mrender\u001b[0m\u001b[1;33m(\u001b[0m\u001b[1;33m)\u001b[0m\u001b[1;33m\u001b[0m\u001b[1;33m\u001b[0m\u001b[0m\n",
      "\u001b[1;32m~\\Anaconda3\\envs\\OpenAI Gym\\lib\\site-packages\\gym\\wrappers\\time_limit.py\u001b[0m in \u001b[0;36mreset\u001b[1;34m(self, **kwargs)\u001b[0m\n\u001b[0;32m     23\u001b[0m     \u001b[1;32mdef\u001b[0m \u001b[0mreset\u001b[0m\u001b[1;33m(\u001b[0m\u001b[0mself\u001b[0m\u001b[1;33m,\u001b[0m \u001b[1;33m**\u001b[0m\u001b[0mkwargs\u001b[0m\u001b[1;33m)\u001b[0m\u001b[1;33m:\u001b[0m\u001b[1;33m\u001b[0m\u001b[1;33m\u001b[0m\u001b[0m\n\u001b[0;32m     24\u001b[0m         \u001b[0mself\u001b[0m\u001b[1;33m.\u001b[0m\u001b[0m_elapsed_steps\u001b[0m \u001b[1;33m=\u001b[0m \u001b[1;36m0\u001b[0m\u001b[1;33m\u001b[0m\u001b[1;33m\u001b[0m\u001b[0m\n\u001b[1;32m---> 25\u001b[1;33m         \u001b[1;32mreturn\u001b[0m \u001b[0mself\u001b[0m\u001b[1;33m.\u001b[0m\u001b[0menv\u001b[0m\u001b[1;33m.\u001b[0m\u001b[0mreset\u001b[0m\u001b[1;33m(\u001b[0m\u001b[1;33m**\u001b[0m\u001b[0mkwargs\u001b[0m\u001b[1;33m)\u001b[0m\u001b[1;33m\u001b[0m\u001b[1;33m\u001b[0m\u001b[0m\n\u001b[0m",
      "\u001b[1;32m~\\Anaconda3\\envs\\OpenAI Gym\\lib\\site-packages\\gym\\envs\\box2d\\car_racing.py\u001b[0m in \u001b[0;36mreset\u001b[1;34m(self)\u001b[0m\n\u001b[0;32m    309\u001b[0m         \u001b[0mself\u001b[0m\u001b[1;33m.\u001b[0m\u001b[0mcar\u001b[0m \u001b[1;33m=\u001b[0m \u001b[0mCar\u001b[0m\u001b[1;33m(\u001b[0m\u001b[0mself\u001b[0m\u001b[1;33m.\u001b[0m\u001b[0mworld\u001b[0m\u001b[1;33m,\u001b[0m \u001b[1;33m*\u001b[0m\u001b[0mself\u001b[0m\u001b[1;33m.\u001b[0m\u001b[0mtrack\u001b[0m\u001b[1;33m[\u001b[0m\u001b[1;36m0\u001b[0m\u001b[1;33m]\u001b[0m\u001b[1;33m[\u001b[0m\u001b[1;36m1\u001b[0m\u001b[1;33m:\u001b[0m\u001b[1;36m4\u001b[0m\u001b[1;33m]\u001b[0m\u001b[1;33m)\u001b[0m\u001b[1;33m\u001b[0m\u001b[1;33m\u001b[0m\u001b[0m\n\u001b[0;32m    310\u001b[0m \u001b[1;33m\u001b[0m\u001b[0m\n\u001b[1;32m--> 311\u001b[1;33m         \u001b[1;32mreturn\u001b[0m \u001b[0mself\u001b[0m\u001b[1;33m.\u001b[0m\u001b[0mstep\u001b[0m\u001b[1;33m(\u001b[0m\u001b[1;32mNone\u001b[0m\u001b[1;33m)\u001b[0m\u001b[1;33m[\u001b[0m\u001b[1;36m0\u001b[0m\u001b[1;33m]\u001b[0m\u001b[1;33m\u001b[0m\u001b[1;33m\u001b[0m\u001b[0m\n\u001b[0m\u001b[0;32m    312\u001b[0m \u001b[1;33m\u001b[0m\u001b[0m\n\u001b[0;32m    313\u001b[0m     \u001b[1;32mdef\u001b[0m \u001b[0mstep\u001b[0m\u001b[1;33m(\u001b[0m\u001b[0mself\u001b[0m\u001b[1;33m,\u001b[0m \u001b[0maction\u001b[0m\u001b[1;33m)\u001b[0m\u001b[1;33m:\u001b[0m\u001b[1;33m\u001b[0m\u001b[1;33m\u001b[0m\u001b[0m\n",
      "\u001b[1;32m~\\Anaconda3\\envs\\OpenAI Gym\\lib\\site-packages\\gym\\envs\\box2d\\car_racing.py\u001b[0m in \u001b[0;36mstep\u001b[1;34m(self, action)\u001b[0m\n\u001b[0;32m    321\u001b[0m         \u001b[0mself\u001b[0m\u001b[1;33m.\u001b[0m\u001b[0mt\u001b[0m \u001b[1;33m+=\u001b[0m \u001b[1;36m1.0\u001b[0m\u001b[1;33m/\u001b[0m\u001b[0mFPS\u001b[0m\u001b[1;33m\u001b[0m\u001b[1;33m\u001b[0m\u001b[0m\n\u001b[0;32m    322\u001b[0m \u001b[1;33m\u001b[0m\u001b[0m\n\u001b[1;32m--> 323\u001b[1;33m         \u001b[0mself\u001b[0m\u001b[1;33m.\u001b[0m\u001b[0mstate\u001b[0m \u001b[1;33m=\u001b[0m \u001b[0mself\u001b[0m\u001b[1;33m.\u001b[0m\u001b[0mrender\u001b[0m\u001b[1;33m(\u001b[0m\u001b[1;34m\"state_pixels\"\u001b[0m\u001b[1;33m)\u001b[0m\u001b[1;33m\u001b[0m\u001b[1;33m\u001b[0m\u001b[0m\n\u001b[0m\u001b[0;32m    324\u001b[0m \u001b[1;33m\u001b[0m\u001b[0m\n\u001b[0;32m    325\u001b[0m         \u001b[0mstep_reward\u001b[0m \u001b[1;33m=\u001b[0m \u001b[1;36m0\u001b[0m\u001b[1;33m\u001b[0m\u001b[1;33m\u001b[0m\u001b[0m\n",
      "\u001b[1;32m~\\Anaconda3\\envs\\OpenAI Gym\\lib\\site-packages\\gym\\envs\\box2d\\car_racing.py\u001b[0m in \u001b[0;36mrender\u001b[1;34m(self, mode)\u001b[0m\n\u001b[0;32m    348\u001b[0m             self.score_label = pyglet.text.Label('0000', font_size=36,\n\u001b[0;32m    349\u001b[0m                 \u001b[0mx\u001b[0m\u001b[1;33m=\u001b[0m\u001b[1;36m20\u001b[0m\u001b[1;33m,\u001b[0m \u001b[0my\u001b[0m\u001b[1;33m=\u001b[0m\u001b[0mWINDOW_H\u001b[0m\u001b[1;33m*\u001b[0m\u001b[1;36m2.5\u001b[0m\u001b[1;33m/\u001b[0m\u001b[1;36m40.00\u001b[0m\u001b[1;33m,\u001b[0m \u001b[0manchor_x\u001b[0m\u001b[1;33m=\u001b[0m\u001b[1;34m'left'\u001b[0m\u001b[1;33m,\u001b[0m \u001b[0manchor_y\u001b[0m\u001b[1;33m=\u001b[0m\u001b[1;34m'center'\u001b[0m\u001b[1;33m,\u001b[0m\u001b[1;33m\u001b[0m\u001b[1;33m\u001b[0m\u001b[0m\n\u001b[1;32m--> 350\u001b[1;33m                 color=(255,255,255,255))\n\u001b[0m\u001b[0;32m    351\u001b[0m             \u001b[0mself\u001b[0m\u001b[1;33m.\u001b[0m\u001b[0mtransform\u001b[0m \u001b[1;33m=\u001b[0m \u001b[0mrendering\u001b[0m\u001b[1;33m.\u001b[0m\u001b[0mTransform\u001b[0m\u001b[1;33m(\u001b[0m\u001b[1;33m)\u001b[0m\u001b[1;33m\u001b[0m\u001b[1;33m\u001b[0m\u001b[0m\n\u001b[0;32m    352\u001b[0m \u001b[1;33m\u001b[0m\u001b[0m\n",
      "\u001b[1;32m~\\Anaconda3\\envs\\OpenAI Gym\\lib\\site-packages\\pyglet\\text\\__init__.py\u001b[0m in \u001b[0;36m__init__\u001b[1;34m(self, text, font_name, font_size, bold, italic, color, x, y, width, height, anchor_x, anchor_y, align, multiline, dpi, batch, group)\u001b[0m\n\u001b[0;32m    431\u001b[0m         super(Label, self).__init__(document, x, y, width, height, \n\u001b[0;32m    432\u001b[0m                                     \u001b[0manchor_x\u001b[0m\u001b[1;33m,\u001b[0m \u001b[0manchor_y\u001b[0m\u001b[1;33m,\u001b[0m\u001b[1;33m\u001b[0m\u001b[1;33m\u001b[0m\u001b[0m\n\u001b[1;32m--> 433\u001b[1;33m                                     multiline, dpi, batch, group)\n\u001b[0m\u001b[0;32m    434\u001b[0m \u001b[1;33m\u001b[0m\u001b[0m\n\u001b[0;32m    435\u001b[0m         self.document.set_style(0, len(self.document.text), {\n",
      "\u001b[1;32m~\\Anaconda3\\envs\\OpenAI Gym\\lib\\site-packages\\pyglet\\text\\__init__.py\u001b[0m in \u001b[0;36m__init__\u001b[1;34m(self, document, x, y, width, height, anchor_x, anchor_y, multiline, dpi, batch, group)\u001b[0m\n\u001b[0;32m    255\u001b[0m                                             \u001b[0mwidth\u001b[0m\u001b[1;33m=\u001b[0m\u001b[0mwidth\u001b[0m\u001b[1;33m,\u001b[0m \u001b[0mheight\u001b[0m\u001b[1;33m=\u001b[0m\u001b[0mheight\u001b[0m\u001b[1;33m,\u001b[0m\u001b[1;33m\u001b[0m\u001b[1;33m\u001b[0m\u001b[0m\n\u001b[0;32m    256\u001b[0m                                             \u001b[0mmultiline\u001b[0m\u001b[1;33m=\u001b[0m\u001b[0mmultiline\u001b[0m\u001b[1;33m,\u001b[0m\u001b[1;33m\u001b[0m\u001b[1;33m\u001b[0m\u001b[0m\n\u001b[1;32m--> 257\u001b[1;33m                                             dpi=dpi, batch=batch, group=group)\n\u001b[0m\u001b[0;32m    258\u001b[0m \u001b[1;33m\u001b[0m\u001b[0m\n\u001b[0;32m    259\u001b[0m         \u001b[0mself\u001b[0m\u001b[1;33m.\u001b[0m\u001b[0m_x\u001b[0m \u001b[1;33m=\u001b[0m \u001b[0mx\u001b[0m\u001b[1;33m\u001b[0m\u001b[1;33m\u001b[0m\u001b[0m\n",
      "\u001b[1;32m~\\Anaconda3\\envs\\OpenAI Gym\\lib\\site-packages\\pyglet\\text\\layout.py\u001b[0m in \u001b[0;36m__init__\u001b[1;34m(self, document, width, height, multiline, dpi, batch, group, wrap_lines)\u001b[0m\n\u001b[0;32m    789\u001b[0m             \u001b[0mdpi\u001b[0m \u001b[1;33m=\u001b[0m \u001b[1;36m96\u001b[0m\u001b[1;33m\u001b[0m\u001b[1;33m\u001b[0m\u001b[0m\n\u001b[0;32m    790\u001b[0m         \u001b[0mself\u001b[0m\u001b[1;33m.\u001b[0m\u001b[0m_dpi\u001b[0m \u001b[1;33m=\u001b[0m \u001b[0mdpi\u001b[0m\u001b[1;33m\u001b[0m\u001b[1;33m\u001b[0m\u001b[0m\n\u001b[1;32m--> 791\u001b[1;33m         \u001b[0mself\u001b[0m\u001b[1;33m.\u001b[0m\u001b[0mdocument\u001b[0m \u001b[1;33m=\u001b[0m \u001b[0mdocument\u001b[0m\u001b[1;33m\u001b[0m\u001b[1;33m\u001b[0m\u001b[0m\n\u001b[0m\u001b[0;32m    792\u001b[0m \u001b[1;33m\u001b[0m\u001b[0m\n\u001b[0;32m    793\u001b[0m     \u001b[1;32mdef\u001b[0m \u001b[0m_wrap_lines_invariant\u001b[0m\u001b[1;33m(\u001b[0m\u001b[0mself\u001b[0m\u001b[1;33m)\u001b[0m\u001b[1;33m:\u001b[0m\u001b[1;33m\u001b[0m\u001b[1;33m\u001b[0m\u001b[0m\n",
      "\u001b[1;32m~\\Anaconda3\\envs\\OpenAI Gym\\lib\\site-packages\\pyglet\\text\\layout.py\u001b[0m in \u001b[0;36m_set_document\u001b[1;34m(self, document)\u001b[0m\n\u001b[0;32m    872\u001b[0m         \u001b[0mdocument\u001b[0m\u001b[1;33m.\u001b[0m\u001b[0mpush_handlers\u001b[0m\u001b[1;33m(\u001b[0m\u001b[0mself\u001b[0m\u001b[1;33m)\u001b[0m\u001b[1;33m\u001b[0m\u001b[1;33m\u001b[0m\u001b[0m\n\u001b[0;32m    873\u001b[0m         \u001b[0mself\u001b[0m\u001b[1;33m.\u001b[0m\u001b[0m_document\u001b[0m \u001b[1;33m=\u001b[0m \u001b[0mdocument\u001b[0m\u001b[1;33m\u001b[0m\u001b[1;33m\u001b[0m\u001b[0m\n\u001b[1;32m--> 874\u001b[1;33m         \u001b[0mself\u001b[0m\u001b[1;33m.\u001b[0m\u001b[0m_init_document\u001b[0m\u001b[1;33m(\u001b[0m\u001b[1;33m)\u001b[0m\u001b[1;33m\u001b[0m\u001b[1;33m\u001b[0m\u001b[0m\n\u001b[0m\u001b[0;32m    875\u001b[0m \u001b[1;33m\u001b[0m\u001b[0m\n\u001b[0;32m    876\u001b[0m     document = property(_get_document, _set_document,\n",
      "\u001b[1;32m~\\Anaconda3\\envs\\OpenAI Gym\\lib\\site-packages\\pyglet\\text\\layout.py\u001b[0m in \u001b[0;36m_init_document\u001b[1;34m(self)\u001b[0m\n\u001b[0;32m    975\u001b[0m \u001b[1;33m\u001b[0m\u001b[0m\n\u001b[0;32m    976\u001b[0m     \u001b[1;32mdef\u001b[0m \u001b[0m_init_document\u001b[0m\u001b[1;33m(\u001b[0m\u001b[0mself\u001b[0m\u001b[1;33m)\u001b[0m\u001b[1;33m:\u001b[0m\u001b[1;33m\u001b[0m\u001b[1;33m\u001b[0m\u001b[0m\n\u001b[1;32m--> 977\u001b[1;33m         \u001b[0mself\u001b[0m\u001b[1;33m.\u001b[0m\u001b[0m_update\u001b[0m\u001b[1;33m(\u001b[0m\u001b[1;33m)\u001b[0m\u001b[1;33m\u001b[0m\u001b[1;33m\u001b[0m\u001b[0m\n\u001b[0m\u001b[0;32m    978\u001b[0m \u001b[1;33m\u001b[0m\u001b[0m\n\u001b[0;32m    979\u001b[0m     \u001b[1;32mdef\u001b[0m \u001b[0m_uninit_document\u001b[0m\u001b[1;33m(\u001b[0m\u001b[0mself\u001b[0m\u001b[1;33m)\u001b[0m\u001b[1;33m:\u001b[0m\u001b[1;33m\u001b[0m\u001b[1;33m\u001b[0m\u001b[0m\n",
      "\u001b[1;32m~\\Anaconda3\\envs\\OpenAI Gym\\lib\\site-packages\\pyglet\\text\\layout.py\u001b[0m in \u001b[0;36m_update\u001b[1;34m(self)\u001b[0m\n\u001b[0;32m    909\u001b[0m             \u001b[1;32mreturn\u001b[0m\u001b[1;33m\u001b[0m\u001b[1;33m\u001b[0m\u001b[0m\n\u001b[0;32m    910\u001b[0m \u001b[1;33m\u001b[0m\u001b[0m\n\u001b[1;32m--> 911\u001b[1;33m         \u001b[0mlines\u001b[0m \u001b[1;33m=\u001b[0m \u001b[0mself\u001b[0m\u001b[1;33m.\u001b[0m\u001b[0m_get_lines\u001b[0m\u001b[1;33m(\u001b[0m\u001b[1;33m)\u001b[0m\u001b[1;33m\u001b[0m\u001b[1;33m\u001b[0m\u001b[0m\n\u001b[0m\u001b[0;32m    912\u001b[0m \u001b[1;33m\u001b[0m\u001b[0m\n\u001b[0;32m    913\u001b[0m         \u001b[0mcolors_iter\u001b[0m \u001b[1;33m=\u001b[0m \u001b[0mself\u001b[0m\u001b[1;33m.\u001b[0m\u001b[0m_document\u001b[0m\u001b[1;33m.\u001b[0m\u001b[0mget_style_runs\u001b[0m\u001b[1;33m(\u001b[0m\u001b[1;34m'color'\u001b[0m\u001b[1;33m)\u001b[0m\u001b[1;33m\u001b[0m\u001b[1;33m\u001b[0m\u001b[0m\n",
      "\u001b[1;32m~\\Anaconda3\\envs\\OpenAI Gym\\lib\\site-packages\\pyglet\\text\\layout.py\u001b[0m in \u001b[0;36m_get_lines\u001b[1;34m(self)\u001b[0m\n\u001b[0;32m    885\u001b[0m     \u001b[1;32mdef\u001b[0m \u001b[0m_get_lines\u001b[0m\u001b[1;33m(\u001b[0m\u001b[0mself\u001b[0m\u001b[1;33m)\u001b[0m\u001b[1;33m:\u001b[0m\u001b[1;33m\u001b[0m\u001b[1;33m\u001b[0m\u001b[0m\n\u001b[0;32m    886\u001b[0m         \u001b[0mlen_text\u001b[0m \u001b[1;33m=\u001b[0m \u001b[0mlen\u001b[0m\u001b[1;33m(\u001b[0m\u001b[0mself\u001b[0m\u001b[1;33m.\u001b[0m\u001b[0m_document\u001b[0m\u001b[1;33m.\u001b[0m\u001b[0mtext\u001b[0m\u001b[1;33m)\u001b[0m\u001b[1;33m\u001b[0m\u001b[1;33m\u001b[0m\u001b[0m\n\u001b[1;32m--> 887\u001b[1;33m         \u001b[0mglyphs\u001b[0m \u001b[1;33m=\u001b[0m \u001b[0mself\u001b[0m\u001b[1;33m.\u001b[0m\u001b[0m_get_glyphs\u001b[0m\u001b[1;33m(\u001b[0m\u001b[1;33m)\u001b[0m\u001b[1;33m\u001b[0m\u001b[1;33m\u001b[0m\u001b[0m\n\u001b[0m\u001b[0;32m    888\u001b[0m         \u001b[0mowner_runs\u001b[0m \u001b[1;33m=\u001b[0m \u001b[0mrunlist\u001b[0m\u001b[1;33m.\u001b[0m\u001b[0mRunList\u001b[0m\u001b[1;33m(\u001b[0m\u001b[0mlen_text\u001b[0m\u001b[1;33m,\u001b[0m \u001b[1;32mNone\u001b[0m\u001b[1;33m)\u001b[0m\u001b[1;33m\u001b[0m\u001b[1;33m\u001b[0m\u001b[0m\n\u001b[0;32m    889\u001b[0m         \u001b[0mself\u001b[0m\u001b[1;33m.\u001b[0m\u001b[0m_get_owner_runs\u001b[0m\u001b[1;33m(\u001b[0m\u001b[0mowner_runs\u001b[0m\u001b[1;33m,\u001b[0m \u001b[0mglyphs\u001b[0m\u001b[1;33m,\u001b[0m \u001b[1;36m0\u001b[0m\u001b[1;33m,\u001b[0m \u001b[0mlen_text\u001b[0m\u001b[1;33m)\u001b[0m\u001b[1;33m\u001b[0m\u001b[1;33m\u001b[0m\u001b[0m\n",
      "\u001b[1;32m~\\Anaconda3\\envs\\OpenAI Gym\\lib\\site-packages\\pyglet\\text\\layout.py\u001b[0m in \u001b[0;36m_get_glyphs\u001b[1;34m(self)\u001b[0m\n\u001b[0;32m   1010\u001b[0m             self._document.get_element_runs()))\n\u001b[0;32m   1011\u001b[0m         \u001b[0mtext\u001b[0m \u001b[1;33m=\u001b[0m \u001b[0mself\u001b[0m\u001b[1;33m.\u001b[0m\u001b[0m_document\u001b[0m\u001b[1;33m.\u001b[0m\u001b[0mtext\u001b[0m\u001b[1;33m\u001b[0m\u001b[1;33m\u001b[0m\u001b[0m\n\u001b[1;32m-> 1012\u001b[1;33m         \u001b[1;32mfor\u001b[0m \u001b[0mstart\u001b[0m\u001b[1;33m,\u001b[0m \u001b[0mend\u001b[0m\u001b[1;33m,\u001b[0m \u001b[1;33m(\u001b[0m\u001b[0mfont\u001b[0m\u001b[1;33m,\u001b[0m \u001b[0melement\u001b[0m\u001b[1;33m)\u001b[0m \u001b[1;32min\u001b[0m \u001b[0mruns\u001b[0m\u001b[1;33m.\u001b[0m\u001b[0mranges\u001b[0m\u001b[1;33m(\u001b[0m\u001b[1;36m0\u001b[0m\u001b[1;33m,\u001b[0m \u001b[0mlen\u001b[0m\u001b[1;33m(\u001b[0m\u001b[0mtext\u001b[0m\u001b[1;33m)\u001b[0m\u001b[1;33m)\u001b[0m\u001b[1;33m:\u001b[0m\u001b[1;33m\u001b[0m\u001b[1;33m\u001b[0m\u001b[0m\n\u001b[0m\u001b[0;32m   1013\u001b[0m             \u001b[1;32mif\u001b[0m \u001b[0melement\u001b[0m\u001b[1;33m:\u001b[0m\u001b[1;33m\u001b[0m\u001b[1;33m\u001b[0m\u001b[0m\n\u001b[0;32m   1014\u001b[0m                 \u001b[0mglyphs\u001b[0m\u001b[1;33m.\u001b[0m\u001b[0mappend\u001b[0m\u001b[1;33m(\u001b[0m\u001b[0m_InlineElementBox\u001b[0m\u001b[1;33m(\u001b[0m\u001b[0melement\u001b[0m\u001b[1;33m)\u001b[0m\u001b[1;33m)\u001b[0m\u001b[1;33m\u001b[0m\u001b[1;33m\u001b[0m\u001b[0m\n",
      "\u001b[1;31mRuntimeError\u001b[0m: generator raised StopIteration"
     ]
    }
   ],
   "source": [
    "import gym\n",
    "env = gym.make('CarRacing-v0')\n",
    "for i_episode in range(1):\n",
    "    observation = env.reset()\n",
    "    for t in range(200):\n",
    "        env.render()\n",
    "        action = env.action_space.sample()\n",
    "        observation, reward, done, info = env.step(action)\n",
    "        if done:\n",
    "            print(\"Episode finished after {} timesteps\".format(t+1))\n",
    "            break\n",
    "env.close()"
   ]
  },
  {
   "cell_type": "code",
   "execution_count": 24,
   "metadata": {
    "hidden": true
   },
   "outputs": [
    {
     "data": {
      "text/plain": [
       "119"
      ]
     },
     "execution_count": 24,
     "metadata": {},
     "output_type": "execute_result"
    }
   ],
   "source": [
    "# test = {[1,2]:0}\n",
    "ord('w')"
   ]
  }
 ],
 "metadata": {
  "kernelspec": {
   "display_name": "Python 3 (ipykernel)",
   "language": "python",
   "name": "python3"
  },
  "language_info": {
   "codemirror_mode": {
    "name": "ipython",
    "version": 3
   },
   "file_extension": ".py",
   "mimetype": "text/x-python",
   "name": "python",
   "nbconvert_exporter": "python",
   "pygments_lexer": "ipython3",
   "version": "3.10.0"
  },
  "toc": {
   "base_numbering": 1,
   "nav_menu": {},
   "number_sections": true,
   "sideBar": false,
   "skip_h1_title": false,
   "title_cell": "Table of Contents",
   "title_sidebar": "Contents",
   "toc_cell": false,
   "toc_position": {
    "height": "302px",
    "left": "1375px",
    "top": "133px",
    "width": "388px"
   },
   "toc_section_display": true,
   "toc_window_display": false
  }
 },
 "nbformat": 4,
 "nbformat_minor": 4
}

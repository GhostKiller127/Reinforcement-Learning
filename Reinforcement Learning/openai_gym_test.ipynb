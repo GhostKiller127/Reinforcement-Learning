{
 "cells": [
  {
   "cell_type": "code",
   "execution_count": 2,
   "id": "2c7cfbbb",
   "metadata": {},
   "outputs": [],
   "source": [
    "import gym\n",
    "import laser_hockey_env as lh\n",
    "from importlib import reload"
   ]
  },
  {
   "cell_type": "code",
   "execution_count": 3,
   "id": "90855c07-030e-416f-b413-cee7e9d0c5dc",
   "metadata": {},
   "outputs": [
    {
     "data": {
      "text/plain": [
       "<module 'laser_hockey_env' from 'C:\\\\Users\\\\ghost\\\\OneDrive - student.uni-tuebingen.de\\\\Documents\\\\Machine Learning\\\\Reinforcement Learning\\\\laser_hockey_env.py'>"
      ]
     },
     "execution_count": 3,
     "metadata": {},
     "output_type": "execute_result"
    }
   ],
   "source": [
    "reload(lh)"
   ]
  },
  {
   "cell_type": "code",
   "execution_count": 4,
   "id": "336359c4-fafd-455f-b0ac-88f6cdab40b9",
   "metadata": {},
   "outputs": [],
   "source": [
    "env = gym.make('CartPole-v1')"
   ]
  },
  {
   "cell_type": "code",
   "execution_count": 24,
   "id": "2d0065c2-3466-4eca-b08c-e2e030e71682",
   "metadata": {},
   "outputs": [],
   "source": [
    "env = gym.make('Pendulum-v1')"
   ]
  },
  {
   "cell_type": "code",
   "execution_count": 26,
   "id": "a95fd03b-beb8-4f55-afee-b8cff0aeb119",
   "metadata": {},
   "outputs": [],
   "source": [
    "env = gym.make('LunarLander-v2')"
   ]
  },
  {
   "cell_type": "code",
   "execution_count": 29,
   "id": "94bb75c2-7deb-47bd-97fb-620d071dc152",
   "metadata": {},
   "outputs": [],
   "source": [
    "env = gym.make('BipedalWalker-v3', hardcore=True)"
   ]
  },
  {
   "cell_type": "code",
   "execution_count": null,
   "id": "2aa4b18c-e976-4ff1-ac99-72f993e67b8d",
   "metadata": {},
   "outputs": [],
   "source": [
    "env = gym.make('CarRacing-v1')"
   ]
  },
  {
   "cell_type": "code",
   "execution_count": 4,
   "id": "1dd1f767-0eb3-4cad-acf0-1819a11c9d06",
   "metadata": {},
   "outputs": [],
   "source": [
    "env = lh.LaserHockeyEnv()"
   ]
  },
  {
   "cell_type": "code",
   "execution_count": 11,
   "id": "9e58ef87-9704-4d18-ac07-ca4a8e855c01",
   "metadata": {},
   "outputs": [],
   "source": [
    "import pyglet\n",
    "from pyglet.window import key\n",
    "\n",
    "window = pyglet.window.Window()\n",
    "\n",
    "@window.event\n",
    "def on_key_press(symbol, modifiers):\n",
    "    if symbol == key.RETURN: print('Enter Key')\n",
    "    if symbol == key.LEFT: print('Left Arrow')\n",
    "    if symbol == key.RIGHT: print('Right Arrow')\n",
    "    if symbol == key.UP: print('Up Arrow')\n",
    "    if symbol == key.DOWN: print('Down Arrow')\n",
    "    \n",
    "pyglet.app.run()"
   ]
  },
  {
   "cell_type": "code",
   "execution_count": 14,
   "id": "46ea0d33-318c-4d0d-8718-91e797830f6e",
   "metadata": {},
   "outputs": [],
   "source": [
    "window.close()"
   ]
  },
  {
   "cell_type": "code",
   "execution_count": 13,
   "id": "23100dc7-92db-48c4-b02d-f4a06be492f2",
   "metadata": {},
   "outputs": [],
   "source": [
    "env = lh.LaserHockeyEnv()\n",
    "for i_episode in range(2):\n",
    "    observation = env.reset()\n",
    "    for t in range(100):\n",
    "        env.render()\n",
    "        # events = pygame.event.get()\n",
    "        # for event in events:\n",
    "        #     if event.type == pygame.KEYDOWN:\n",
    "        #         if event.key == pygame.K_LEFT:\n",
    "        #             print('Left Key')\n",
    "        #         if event.key == pygame.K_RIGHT:\n",
    "        #             print('Right Key')\n",
    "        action = env.action_space.sample()\n",
    "        observation, reward, done, info = env.step(action)\n",
    "        if done:\n",
    "            print(\"Episode finished after {} timesteps\".format(t+1))\n",
    "            break\n",
    "env.close()"
   ]
  },
  {
   "cell_type": "code",
   "execution_count": 17,
   "id": "29ea7de4-94c0-43ed-a9d8-fe0b90f2f250",
   "metadata": {},
   "outputs": [],
   "source": [
    "env.close()"
   ]
  }
 ],
 "metadata": {
  "kernelspec": {
   "display_name": "Python 3 (ipykernel)",
   "language": "python",
   "name": "python3"
  },
  "language_info": {
   "codemirror_mode": {
    "name": "ipython",
    "version": 3
   },
   "file_extension": ".py",
   "mimetype": "text/x-python",
   "name": "python",
   "nbconvert_exporter": "python",
   "pygments_lexer": "ipython3",
   "version": "3.11.4"
  }
 },
 "nbformat": 4,
 "nbformat_minor": 5
}

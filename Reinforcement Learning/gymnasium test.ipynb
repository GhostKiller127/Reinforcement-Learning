{
 "cells": [
  {
   "cell_type": "code",
   "execution_count": 3,
   "id": "54bc47b7-817c-4cc0-a9ea-cde7cc3ddece",
   "metadata": {
    "tags": []
   },
   "outputs": [],
   "source": [
    "import gymnasium as gym\n",
    "from src import laser_hockey_env as lh\n",
    "from importlib import reload"
   ]
  },
  {
   "cell_type": "code",
   "execution_count": 6,
   "id": "20f07ea3-e267-40e0-9d27-4b395480a3d0",
   "metadata": {},
   "outputs": [],
   "source": [
    "import gymnasium as gym\n",
    "from gymnasium.utils.play import play\n",
    "\n",
    "play(gym.make('LunarLander-v2', render_mode='rgb_array'),\n",
    "    keys_to_action={'s': 2, 'd': 1, 'a': 3}, noop=0)"
   ]
  },
  {
   "cell_type": "code",
   "execution_count": 13,
   "id": "5762e49b-6d5c-4fb3-af54-e85b4aaa9adc",
   "metadata": {},
   "outputs": [],
   "source": [
    "import gymnasium as gym\n",
    "from gymnasium.utils.play import play\n",
    "\n",
    "play(gym.make('CarRacing-v2', render_mode='rgb_array', continuous=False),\n",
    "    keys_to_action={'w': 3, 'a': 2, 's': 4, 'd': 1}, noop=0)"
   ]
  },
  {
   "cell_type": "code",
   "execution_count": null,
   "id": "35805a20-cbc4-40d3-b92e-edaaf61046fa",
   "metadata": {
    "tags": []
   },
   "outputs": [],
   "source": [
    "import gymnasium as gym\n",
    "from gymnasium.utils.play import play\n",
    "\n",
    "play(gym.make('LaserHockey-v0'),\n",
    "    keys_to_action={'w': 3, 'a': 2, 's': 4, 'd': 1}, noop=0)"
   ]
  },
  {
   "cell_type": "code",
   "execution_count": 8,
   "id": "005b1035-c7c5-4ad2-9309-7f4306636449",
   "metadata": {
    "tags": []
   },
   "outputs": [],
   "source": [
    "from gymnasium.envs.registration import register\n",
    "\n",
    "register(\n",
    "    id='LaserHockey-v0',\n",
    "    entry_point='laser_hockey_env.laser_hockey_env:LaserHockeyEnv',\n",
    ")"
   ]
  },
  {
   "cell_type": "code",
   "execution_count": 20,
   "id": "c3af1c3e-3d6f-481b-9e62-924e23c8f1c6",
   "metadata": {
    "tags": []
   },
   "outputs": [
    {
     "name": "stdout",
     "output_type": "stream",
     "text": [
      "===== classic_control =====\n",
      "Acrobot-v1             CartPole-v0            CartPole-v1\n",
      "MountainCar-v0         MountainCarContinuous-v0 Pendulum-v1\n",
      "===== phys2d =====\n",
      "phys2d/CartPole-v0     phys2d/CartPole-v1     phys2d/Pendulum-v0\n",
      "===== box2d =====\n",
      "BipedalWalker-v3       BipedalWalkerHardcore-v3 CarRacing-v2\n",
      "LunarLander-v2         LunarLanderContinuous-v2\n",
      "===== toy_text =====\n",
      "Blackjack-v1           CliffWalking-v0        FrozenLake-v1\n",
      "FrozenLake8x8-v1       Taxi-v3\n",
      "===== tabular =====\n",
      "tabular/Blackjack-v0   tabular/CliffWalking-v0\n",
      "===== mujoco =====\n",
      "Ant-v2                 Ant-v3                 Ant-v4\n",
      "HalfCheetah-v2         HalfCheetah-v3         HalfCheetah-v4\n",
      "Hopper-v2              Hopper-v3              Hopper-v4\n",
      "Humanoid-v2            Humanoid-v3            Humanoid-v4\n",
      "HumanoidStandup-v2     HumanoidStandup-v4     InvertedDoublePendulum-v2\n",
      "InvertedDoublePendulum-v4 InvertedPendulum-v2    InvertedPendulum-v4\n",
      "Pusher-v2              Pusher-v4              Reacher-v2\n",
      "Reacher-v4             Swimmer-v2             Swimmer-v3\n",
      "Swimmer-v4             Walker2d-v2            Walker2d-v3\n",
      "Walker2d-v4\n",
      "===== None =====\n",
      "GymV21Environment-v0   GymV26Environment-v0\n",
      "===== laser_hockey_env =====\n",
      "LaserHockey-v0\n"
     ]
    }
   ],
   "source": [
    "gym.pprint_registry()"
   ]
  },
  {
   "cell_type": "code",
   "execution_count": null,
   "id": "23100dc7-92db-48c4-b02d-f4a06be492f2",
   "metadata": {},
   "outputs": [],
   "source": [
    "env = lh.LaserHockeyEnv()\n",
    "for i_episode in range(2):\n",
    "    observation = env.reset()\n",
    "    for t in range(100):\n",
    "        env.render()\n",
    "        # events = pygame.event.get()\n",
    "        # for event in events:\n",
    "        #     if event.type == pygame.KEYDOWN:\n",
    "        #         if event.key == pygame.K_LEFT:\n",
    "        #             print('Left Key')\n",
    "        #         if event.key == pygame.K_RIGHT:\n",
    "        #             print('Right Key')\n",
    "        action = env.action_space.sample()\n",
    "        observation, reward, done, info = env.step(action)\n",
    "        if done:\n",
    "            print(\"Episode finished after {} timesteps\".format(t+1))\n",
    "            break\n",
    "env.close()"
   ]
  }
 ],
 "metadata": {
  "kernelspec": {
   "display_name": "Python 3 (ipykernel)",
   "language": "python",
   "name": "python3"
  },
  "language_info": {
   "codemirror_mode": {
    "name": "ipython",
    "version": 3
   },
   "file_extension": ".py",
   "mimetype": "text/x-python",
   "name": "python",
   "nbconvert_exporter": "python",
   "pygments_lexer": "ipython3",
   "version": "3.11.4"
  }
 },
 "nbformat": 4,
 "nbformat_minor": 5
}

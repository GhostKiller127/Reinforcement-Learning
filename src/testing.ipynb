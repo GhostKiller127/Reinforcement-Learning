{
 "cells": [
  {
   "attachments": {},
   "cell_type": "markdown",
   "id": "884bf28a",
   "metadata": {},
   "source": [
    "# Sync Test"
   ]
  },
  {
   "cell_type": "code",
   "execution_count": 153,
   "id": "c1aba54e",
   "metadata": {},
   "outputs": [
    {
     "name": "stdout",
     "output_type": "stream",
     "text": [
      "Step number: 50\r"
     ]
    }
   ],
   "source": [
    "from training import Training\n",
    "training = Training(env_name='CartPole-v1', num_envs=10, num_steps=50)\n",
    "# training = Training(env_name='LaserHockey-v0', num_envs=10, num_steps=50)\n",
    "training.run()"
   ]
  },
  {
   "attachments": {},
   "cell_type": "markdown",
   "id": "bdcabc44",
   "metadata": {},
   "source": [
    "# Bandit Test"
   ]
  },
  {
   "cell_type": "markdown",
   "id": "d77fab77",
   "metadata": {},
   "source": [
    "### bandit.py"
   ]
  },
  {
   "cell_type": "code",
   "execution_count": 28,
   "id": "2667c5a8",
   "metadata": {},
   "outputs": [
    {
     "name": "stdout",
     "output_type": "stream",
     "text": [
      "Candidates: [0.8 1. ]\n"
     ]
    }
   ],
   "source": [
    "from bandit import Bandit\n",
    "\n",
    "bandit = Bandit(mode='argmax', l=0, r=1, acc=10, acc2=2, width=2, lr=0.1, d=2)\n",
    "# bandit.update(x=0.5, g=1)\n",
    "candidates = bandit.sample()\n",
    "\n",
    "print(\"Candidates:\", candidates)"
   ]
  },
  {
   "cell_type": "code",
   "execution_count": 8,
   "id": "51c96e68",
   "metadata": {},
   "outputs": [
    {
     "name": "stdout",
     "output_type": "stream",
     "text": [
      "{'replay': 2, 'num_envs': 2, 'batch_size': 64, 'sequence_length': 5, 'bootstrap_length': 5, 'discount': 0.997, 'v_loss_scaling': 1.0, 'q_loss_scaling': 10.0, 'pi_loss_scaling': 10.0, 'importance_sampling_clip_c': 1.05, 'importance_sampling_clip_rho': 1.05, 'optimizer': 'Adam Weight Decay', 'weight_decay_rate': 0.01, 'learning_rate': 0.0005, 'warmup_steps': 4000, 'adamw_beta1': 0.9, 'adamw_beta2': 0.98, 'adamw_epsilon': 1e-06, 'adamw_clip_norm': 50.0, 'learner_push_model_every_n_steps': 25, 'actor_pull_model_every_n_steps': 64, 'architecture_params': {'architecture': 'dense', 'input_dim': 4, 'hidden_dim': 128, 'action_dim': 2}, 'bandit_params': {'mode': ['argmax', 'random'], 'tau1': [0.0, 50.0], 'tau2': [0.0, 50.0], 'epsilon': [0.0, 1.0], 'acc': [50, 50, 10], 'acc2': [2, 3, 4], 'width': [2, 3, 4], 'lr': [0.05, 0.1, 0.2], 'd': 3}}\n"
     ]
    }
   ],
   "source": [
    "from configs import configs\n",
    "\n",
    "print(configs[\"CartPole-v1\"])"
   ]
  },
  {
   "cell_type": "code",
   "execution_count": 12,
   "id": "d006b21f",
   "metadata": {},
   "outputs": [],
   "source": [
    "from configs import configs\n",
    "# from bandit import initialize_bandits\n",
    "# from bandit import update_bandits\n",
    "# from bandit import get_candidates\n",
    "# from bandit import sample_candidate\n",
    "# from bandit import get_all_indeces\n",
    "\n",
    "env_name = \"CartPole-v1\"\n",
    "config = configs[env_name]\n",
    "\n",
    "# bandits = initialize_bandits(params[\"bandit_params\"])"
   ]
  },
  {
   "cell_type": "code",
   "execution_count": 100,
   "id": "35ec30ac",
   "metadata": {},
   "outputs": [],
   "source": [
    "update_bandits(bandits, 22.666666666666664, 9.666666666666666, 0.8500000000000001, 0.5)"
   ]
  },
  {
   "cell_type": "code",
   "execution_count": 102,
   "id": "8e338024",
   "metadata": {},
   "outputs": [
    {
     "data": {
      "text/plain": [
       "array([22.5, 22. , 21.5])"
      ]
     },
     "execution_count": 102,
     "metadata": {},
     "output_type": "execute_result"
    }
   ],
   "source": [
    "bandits[27]['tau1'].sample()"
   ]
  },
  {
   "cell_type": "code",
   "execution_count": 103,
   "id": "7bf82ede",
   "metadata": {},
   "outputs": [
    {
     "name": "stdout",
     "output_type": "stream",
     "text": [
      "(23.0, 10.0, 0.8500000000000001)\n"
     ]
    }
   ],
   "source": [
    "all_candidates = get_candidates(bandits)\n",
    "sampled_candidate = sample_candidate(all_candidates)\n",
    "print(sampled_candidate)"
   ]
  },
  {
   "cell_type": "code",
   "execution_count": 106,
   "id": "402c6b48",
   "metadata": {},
   "outputs": [
    {
     "data": {
      "text/plain": [
       "array([[ 3.75      , 45.75      ,  0.33333333],\n",
       "       [33.66666667, 31.25      ,  0.375     ],\n",
       "       [ 1.5       , 41.        ,  0.95      ],\n",
       "       [ 4.75      , 42.5       ,  0.95      ],\n",
       "       [24.66666667, 14.66666667,  0.        ]])"
      ]
     },
     "execution_count": 106,
     "metadata": {},
     "output_type": "execute_result"
    }
   ],
   "source": [
    "get_all_indeces(5, bandits)"
   ]
  },
  {
   "cell_type": "code",
   "execution_count": 1,
   "id": "95030468",
   "metadata": {},
   "outputs": [],
   "source": [
    "from bandit import Bandits"
   ]
  },
  {
   "cell_type": "code",
   "execution_count": 13,
   "id": "522bd55f",
   "metadata": {},
   "outputs": [],
   "source": [
    "bandits = Bandits(configs[env_name])"
   ]
  },
  {
   "cell_type": "code",
   "execution_count": 15,
   "id": "56201dcb",
   "metadata": {},
   "outputs": [
    {
     "data": {
      "text/plain": [
       "[{'tau1': <bandit.Bandit at 0x218b375dc10>,\n",
       "  'tau2': <bandit.Bandit at 0x218b309d150>,\n",
       "  'epsilon': <bandit.Bandit at 0x218b309d550>},\n",
       " {'tau1': <bandit.Bandit at 0x218b30a0c90>,\n",
       "  'tau2': <bandit.Bandit at 0x218b309b6d0>,\n",
       "  'epsilon': <bandit.Bandit at 0x218b3902490>},\n",
       " {'tau1': <bandit.Bandit at 0x218b25caf10>,\n",
       "  'tau2': <bandit.Bandit at 0x218b38799d0>,\n",
       "  'epsilon': <bandit.Bandit at 0x218b3878950>},\n",
       " {'tau1': <bandit.Bandit at 0x218b3878c90>,\n",
       "  'tau2': <bandit.Bandit at 0x218b3878e10>,\n",
       "  'epsilon': <bandit.Bandit at 0x218b3906a90>},\n",
       " {'tau1': <bandit.Bandit at 0x218b3906dd0>,\n",
       "  'tau2': <bandit.Bandit at 0x218b3906d90>,\n",
       "  'epsilon': <bandit.Bandit at 0x218b3906f90>},\n",
       " {'tau1': <bandit.Bandit at 0x218b3907010>,\n",
       "  'tau2': <bandit.Bandit at 0x218b3906ed0>,\n",
       "  'epsilon': <bandit.Bandit at 0x218b3906e50>},\n",
       " {'tau1': <bandit.Bandit at 0x218b3906f50>,\n",
       "  'tau2': <bandit.Bandit at 0x218b3905f50>,\n",
       "  'epsilon': <bandit.Bandit at 0x218b3906f10>},\n",
       " {'tau1': <bandit.Bandit at 0x218b3904b90>,\n",
       "  'tau2': <bandit.Bandit at 0x218b39040d0>,\n",
       "  'epsilon': <bandit.Bandit at 0x218b3904050>},\n",
       " {'tau1': <bandit.Bandit at 0x218b3906b90>,\n",
       "  'tau2': <bandit.Bandit at 0x218b3905890>,\n",
       "  'epsilon': <bandit.Bandit at 0x218b3907310>},\n",
       " {'tau1': <bandit.Bandit at 0x218b3906fd0>,\n",
       "  'tau2': <bandit.Bandit at 0x218b3907e90>,\n",
       "  'epsilon': <bandit.Bandit at 0x218b3907f50>},\n",
       " {'tau1': <bandit.Bandit at 0x218b3906150>,\n",
       "  'tau2': <bandit.Bandit at 0x218b3907fd0>,\n",
       "  'epsilon': <bandit.Bandit at 0x218b3907990>},\n",
       " {'tau1': <bandit.Bandit at 0x218b39079d0>,\n",
       "  'tau2': <bandit.Bandit at 0x218b3907a10>,\n",
       "  'epsilon': <bandit.Bandit at 0x218b3907210>},\n",
       " {'tau1': <bandit.Bandit at 0x218b3907b10>,\n",
       "  'tau2': <bandit.Bandit at 0x218b3907f10>,\n",
       "  'epsilon': <bandit.Bandit at 0x218b3907f90>},\n",
       " {'tau1': <bandit.Bandit at 0x218b3904790>,\n",
       "  'tau2': <bandit.Bandit at 0x218b39073d0>,\n",
       "  'epsilon': <bandit.Bandit at 0x218b3907dd0>},\n",
       " {'tau1': <bandit.Bandit at 0x218b3907a90>,\n",
       "  'tau2': <bandit.Bandit at 0x218b3907cd0>,\n",
       "  'epsilon': <bandit.Bandit at 0x218b3907d50>},\n",
       " {'tau1': <bandit.Bandit at 0x218b3907e10>,\n",
       "  'tau2': <bandit.Bandit at 0x218b3907b50>,\n",
       "  'epsilon': <bandit.Bandit at 0x218b39070d0>},\n",
       " {'tau1': <bandit.Bandit at 0x218b3905450>,\n",
       "  'tau2': <bandit.Bandit at 0x218b3907490>,\n",
       "  'epsilon': <bandit.Bandit at 0x218b39075d0>},\n",
       " {'tau1': <bandit.Bandit at 0x218b3907750>,\n",
       "  'tau2': <bandit.Bandit at 0x218b39077d0>,\n",
       "  'epsilon': <bandit.Bandit at 0x218b3907650>},\n",
       " {'tau1': <bandit.Bandit at 0x218b3907850>,\n",
       "  'tau2': <bandit.Bandit at 0x218b39072d0>,\n",
       "  'epsilon': <bandit.Bandit at 0x218b39078d0>},\n",
       " {'tau1': <bandit.Bandit at 0x218b3906750>,\n",
       "  'tau2': <bandit.Bandit at 0x218b3906e90>,\n",
       "  'epsilon': <bandit.Bandit at 0x218b3905610>},\n",
       " {'tau1': <bandit.Bandit at 0x218b3906250>,\n",
       "  'tau2': <bandit.Bandit at 0x218b3907ed0>,\n",
       "  'epsilon': <bandit.Bandit at 0x218b3907790>},\n",
       " {'tau1': <bandit.Bandit at 0x218b3907bd0>,\n",
       "  'tau2': <bandit.Bandit at 0x218b3907c50>,\n",
       "  'epsilon': <bandit.Bandit at 0x218b3907c10>},\n",
       " {'tau1': <bandit.Bandit at 0x218b39065d0>,\n",
       "  'tau2': <bandit.Bandit at 0x218b3907950>,\n",
       "  'epsilon': <bandit.Bandit at 0x218b3907a50>},\n",
       " {'tau1': <bandit.Bandit at 0x218b3907890>,\n",
       "  'tau2': <bandit.Bandit at 0x218b3904ed0>,\n",
       "  'epsilon': <bandit.Bandit at 0x218b39059d0>},\n",
       " {'tau1': <bandit.Bandit at 0x218b3906110>,\n",
       "  'tau2': <bandit.Bandit at 0x218b3904190>,\n",
       "  'epsilon': <bandit.Bandit at 0x218b3904290>},\n",
       " {'tau1': <bandit.Bandit at 0x218b3904210>,\n",
       "  'tau2': <bandit.Bandit at 0x218b3904390>,\n",
       "  'epsilon': <bandit.Bandit at 0x218b3904410>},\n",
       " {'tau1': <bandit.Bandit at 0x218b3904090>,\n",
       "  'tau2': <bandit.Bandit at 0x218b3904850>,\n",
       "  'epsilon': <bandit.Bandit at 0x218b3905950>},\n",
       " {'tau1': <bandit.Bandit at 0x218b3904450>,\n",
       "  'tau2': <bandit.Bandit at 0x218b3904710>,\n",
       "  'epsilon': <bandit.Bandit at 0x218b3904910>},\n",
       " {'tau1': <bandit.Bandit at 0x218b3904990>,\n",
       "  'tau2': <bandit.Bandit at 0x218b39049d0>,\n",
       "  'epsilon': <bandit.Bandit at 0x218b3904490>},\n",
       " {'tau1': <bandit.Bandit at 0x218b3904b10>,\n",
       "  'tau2': <bandit.Bandit at 0x218b3904890>,\n",
       "  'epsilon': <bandit.Bandit at 0x218b3904b50>},\n",
       " {'tau1': <bandit.Bandit at 0x218b3904bd0>,\n",
       "  'tau2': <bandit.Bandit at 0x218b3904dd0>,\n",
       "  'epsilon': <bandit.Bandit at 0x218b3904cd0>},\n",
       " {'tau1': <bandit.Bandit at 0x218b3904d50>,\n",
       "  'tau2': <bandit.Bandit at 0x218b3904c50>,\n",
       "  'epsilon': <bandit.Bandit at 0x218b3904d90>},\n",
       " {'tau1': <bandit.Bandit at 0x218b3904a10>,\n",
       "  'tau2': <bandit.Bandit at 0x218b3904e50>,\n",
       "  'epsilon': <bandit.Bandit at 0x218b3904c90>},\n",
       " {'tau1': <bandit.Bandit at 0x218b3905fd0>,\n",
       "  'tau2': <bandit.Bandit at 0x218b39051d0>,\n",
       "  'epsilon': <bandit.Bandit at 0x218b3905050>},\n",
       " {'tau1': <bandit.Bandit at 0x218b39050d0>,\n",
       "  'tau2': <bandit.Bandit at 0x218b3905390>,\n",
       "  'epsilon': <bandit.Bandit at 0x218b3905f10>},\n",
       " {'tau1': <bandit.Bandit at 0x218b3904f50>,\n",
       "  'tau2': <bandit.Bandit at 0x218b3905cd0>,\n",
       "  'epsilon': <bandit.Bandit at 0x218b3905bd0>},\n",
       " {'tau1': <bandit.Bandit at 0x218b3905c50>,\n",
       "  'tau2': <bandit.Bandit at 0x218b3905e90>,\n",
       "  'epsilon': <bandit.Bandit at 0x218b3904e90>},\n",
       " {'tau1': <bandit.Bandit at 0x218b3905d50>,\n",
       "  'tau2': <bandit.Bandit at 0x218b3906190>,\n",
       "  'epsilon': <bandit.Bandit at 0x218b3906390>},\n",
       " {'tau1': <bandit.Bandit at 0x218b3906310>,\n",
       "  'tau2': <bandit.Bandit at 0x218b3906510>,\n",
       "  'epsilon': <bandit.Bandit at 0x218b3906650>},\n",
       " {'tau1': <bandit.Bandit at 0x218b3906490>,\n",
       "  'tau2': <bandit.Bandit at 0x218b3904c10>,\n",
       "  'epsilon': <bandit.Bandit at 0x218b3906290>},\n",
       " {'tau1': <bandit.Bandit at 0x218b39064d0>,\n",
       "  'tau2': <bandit.Bandit at 0x218b3905e50>,\n",
       "  'epsilon': <bandit.Bandit at 0x218b3906690>},\n",
       " {'tau1': <bandit.Bandit at 0x218b39066d0>,\n",
       "  'tau2': <bandit.Bandit at 0x218b3906b50>,\n",
       "  'epsilon': <bandit.Bandit at 0x218b3906910>},\n",
       " {'tau1': <bandit.Bandit at 0x218b3906710>,\n",
       "  'tau2': <bandit.Bandit at 0x218b39053d0>,\n",
       "  'epsilon': <bandit.Bandit at 0x218b3905d90>},\n",
       " {'tau1': <bandit.Bandit at 0x218b390a850>,\n",
       "  'tau2': <bandit.Bandit at 0x218b3908250>,\n",
       "  'epsilon': <bandit.Bandit at 0x218b390a550>},\n",
       " {'tau1': <bandit.Bandit at 0x218b390a7d0>,\n",
       "  'tau2': <bandit.Bandit at 0x218b390a950>,\n",
       "  'epsilon': <bandit.Bandit at 0x218b39082d0>},\n",
       " {'tau1': <bandit.Bandit at 0x218b390a890>,\n",
       "  'tau2': <bandit.Bandit at 0x218b390a990>,\n",
       "  'epsilon': <bandit.Bandit at 0x218b390aad0>},\n",
       " {'tau1': <bandit.Bandit at 0x218b390aed0>,\n",
       "  'tau2': <bandit.Bandit at 0x218b390af10>,\n",
       "  'epsilon': <bandit.Bandit at 0x218b390ad90>},\n",
       " {'tau1': <bandit.Bandit at 0x218b390b2d0>,\n",
       "  'tau2': <bandit.Bandit at 0x218b390b150>,\n",
       "  'epsilon': <bandit.Bandit at 0x218b390b090>},\n",
       " {'tau1': <bandit.Bandit at 0x218b390af90>,\n",
       "  'tau2': <bandit.Bandit at 0x218b390b290>,\n",
       "  'epsilon': <bandit.Bandit at 0x218b390b1d0>},\n",
       " {'tau1': <bandit.Bandit at 0x218b390b3d0>,\n",
       "  'tau2': <bandit.Bandit at 0x218b390b410>,\n",
       "  'epsilon': <bandit.Bandit at 0x218b390b450>},\n",
       " {'tau1': <bandit.Bandit at 0x218b390b510>,\n",
       "  'tau2': <bandit.Bandit at 0x218b390b550>,\n",
       "  'epsilon': <bandit.Bandit at 0x218b390b590>},\n",
       " {'tau1': <bandit.Bandit at 0x218b390b350>,\n",
       "  'tau2': <bandit.Bandit at 0x218b390b310>,\n",
       "  'epsilon': <bandit.Bandit at 0x218b390b610>},\n",
       " {'tau1': <bandit.Bandit at 0x218b390b650>,\n",
       "  'tau2': <bandit.Bandit at 0x218b390b910>,\n",
       "  'epsilon': <bandit.Bandit at 0x218b390b7d0>},\n",
       " {'tau1': <bandit.Bandit at 0x218b390b750>,\n",
       "  'tau2': <bandit.Bandit at 0x218b390b890>,\n",
       "  'epsilon': <bandit.Bandit at 0x218b390a750>}]"
      ]
     },
     "execution_count": 15,
     "metadata": {},
     "output_type": "execute_result"
    }
   ],
   "source": [
    "bandits.bandits"
   ]
  },
  {
   "cell_type": "code",
   "execution_count": 74,
   "id": "6fca0cd8",
   "metadata": {},
   "outputs": [
    {
     "name": "stdout",
     "output_type": "stream",
     "text": [
      "[19.94649637 15.46358392 21.50991816 20.25709766 19.51605495 19.51605495\n",
      " 22.66315178 23.24710316 16.91162398 14.71507088 15.31964838 15.31964838\n",
      " 18.59847827 17.31568576 14.6241195  16.45918334 13.13209398 13.13209398\n",
      " 25.88071892 25.21599278 25.70920747 23.36889336 23.47066199 23.47066199\n",
      " 18.94529304 18.26865134 16.15170272 20.65980133 20.81362316 20.81362316\n",
      " 20.41275735 15.79461741 17.18501427 17.22754056 21.34632945 21.34632945\n",
      " 16.25984785 12.20951154 13.08628811 11.84880531 12.41127719 12.41127719\n",
      "  9.63830041 13.51113222 14.18757834 14.21127009 15.48832161 15.48832161\n",
      " 21.05671936 24.54785539 23.40606671 23.6108396  22.41958293 22.41958293\n",
      " 23.15005757 26.27367361 22.71289662 24.00317147 21.13165015 21.13165015\n",
      " 20.96536523 20.5890816  18.66110416 18.96494051 17.29897304 17.29897304\n",
      " 18.81457097 18.14522457 16.64417293 17.11289256 14.51628562 14.51628562\n",
      " 20.56442399 23.27469299 22.32355691 21.15269114 16.66542183 16.66542183\n",
      " 16.92819405 15.43389478 15.04299635 19.315435   21.16779877 21.16779877\n",
      " 19.29043715 18.36542988 22.17718488 22.99734298 23.62585235 23.62585235\n",
      " 32.86230178 32.96668623 27.29720164 24.80974428 27.28497365 27.28497365\n",
      " 29.34141787 26.99510857 27.34829739 26.89525778 25.64860253 25.64860253\n",
      " 22.20881186 22.59620373 23.71166251 18.4776719  18.92853356 18.92853356\n",
      " 15.46095328 18.84375901 14.43436144 15.03825723 14.15329648 14.15329648\n",
      " 16.06944414 14.44601912 15.96920564 12.7633422  13.56866436 13.56866436\n",
      " 15.99831166 16.13410335 18.10933127 17.31080894 16.97209867 16.97209867\n",
      " 16.36936538 19.78871172 21.41760826 23.93412241 24.3199242  24.3199242\n",
      " 27.3284814  25.31195719 27.31494914 26.84126611 26.40006653 26.40006653\n",
      " 23.92967843 24.6952583  24.68465717 23.67664166 20.86696093 20.86696093\n",
      " 21.07378626 19.85697027 19.95584738 19.27809871 22.62229941 22.62229941\n",
      " 16.75547454 13.39943456 16.69454498 17.9343311  19.3669863  19.3669863\n",
      " 21.2454481  20.22511466 17.48977385 17.76437447 18.96222128 18.96222128\n",
      " 17.29424659 17.59085018 18.86714786 21.72072455 20.05224778 20.05224778\n",
      " 16.80669307 17.33159256 18.4821507  18.86942107 19.51152554 19.51152554\n",
      " 14.56326058 12.90332415 12.57361435 18.14744607 16.06998354 16.06998354\n",
      " 17.60905867 18.74024725 16.0386843  16.50868171 15.15757354 15.15757354\n",
      " 17.27250144 13.59102644 14.68710421 18.76612922 15.37066181 15.37066181\n",
      " 20.87596515 17.97087558 21.35357743 20.78243258 21.01911972 21.01911972\n",
      " 23.3188451  20.55799985 21.03084182 26.63639198 21.77171395 21.77171395\n",
      " 27.32895155 26.12514537 24.03701107 20.31294624 21.22591545 21.22591545\n",
      " 20.41024472 18.06222786 19.23900497 17.86195865 18.00305497 18.00305497\n",
      " 21.0975186  18.15646925 14.85448482 14.58862888 15.62638679 15.62638679\n",
      " 16.31705441 16.29545699 15.24902967 15.94809514 13.93942559 13.93942559\n",
      " 18.35608858 16.76877076 18.12648677 20.45191439 21.82456849 21.82456849\n",
      " 19.36151396 17.67885594 17.91616166 18.60848374 16.03987868 16.03987868\n",
      " 21.07759684 20.73955725 19.21976182 19.09470525 17.62019604 17.62019604\n",
      " 18.17266216 21.15956925 21.13099956 15.0717851  10.29887882 10.29887882\n",
      " 17.60704171 23.24916244 24.57221279 17.23763023 18.63635703 18.63635703\n",
      " 18.29827502 25.58772887 23.10092349 24.7571107  26.37658219 26.37658219\n",
      " 28.75163994 27.96243785 27.78698443 19.93844479 21.15721499 21.15721499\n",
      " 20.43823401 20.31195663 21.25819595 14.59413111 16.28987285 16.28987285\n",
      " 16.83809906 17.59964098 15.98421855 15.54708735 17.76371668 17.76371668\n",
      " 16.60401753 14.72870239 16.39745625 15.41669509 15.04519062 15.04519062\n",
      " 12.79626316 16.87030125 19.75259685 23.19903978 22.91876178 22.91876178\n",
      " 14.91028727 11.99139467 15.02237279 19.46397746 21.50166132 21.50166132\n",
      " 18.84359268]\n"
     ]
    }
   ],
   "source": [
    "from training import Training\n",
    "from bandit import Bandits\n",
    "\n",
    "env_name = \"CartPole-v1\"\n",
    "load_run = 'n256,bs64,s20,lr0.001_Oct25-14-41-00_lr'\n",
    "\n",
    "training = Training(env_name, load_run)\n",
    "bandits = Bandits(training)\n",
    "\n",
    "for _ in range(10):\n",
    "    tau1, tau2, epsilon, N1, N2, N3, w1, w2, w3 = bandits.get_index_data()\n",
    "\n",
    "print(w2)"
   ]
  },
  {
   "cell_type": "markdown",
   "id": "849db0d7",
   "metadata": {},
   "source": [
    "### bandit_jax.py"
   ]
  },
  {
   "cell_type": "code",
   "execution_count": 1,
   "id": "08ef1636",
   "metadata": {},
   "outputs": [],
   "source": [
    "from training import Training\n",
    "from bandit_jax import Bandits2\n",
    "env_name = \"CartPole-v1\"\n",
    "\n",
    "train_parameters = {'metrics': False}\n",
    "run_name_dict = {'prefix': 's5', 'suffix': 'bandit_jax', 'timestamp': False}\n",
    "\n",
    "training = Training(env_name, train_parameters, run_name_dict)\n",
    "bandits2 = Bandits2(training)"
   ]
  },
  {
   "cell_type": "code",
   "execution_count": 2,
   "id": "d48ccb0d",
   "metadata": {},
   "outputs": [
    {
     "data": {
      "text/plain": [
       "(Array([[ 0,  3,  6,  9, 12, 15]], dtype=int32),\n",
       " Array([[ 1,  4,  7, 10, 13, 16]], dtype=int32),\n",
       " Array([[ 2,  5,  8, 11, 14, 17]], dtype=int32),\n",
       " Array([ 0.  ,  0.25,  0.5 ,  0.75,  1.  ,  1.25,  1.5 ,  1.75,  2.  ,\n",
       "         2.25,  2.5 ,  2.75,  3.  ,  3.25,  3.5 ,  3.75,  4.  ,  4.25,\n",
       "         4.5 ,  4.75,  5.  ,  5.25,  5.5 ,  5.75,  6.  ,  6.25,  6.5 ,\n",
       "         6.75,  7.  ,  7.25,  7.5 ,  7.75,  8.  ,  8.25,  8.5 ,  8.75,\n",
       "         9.  ,  9.25,  9.5 ,  9.75, 10.  , 10.25, 10.5 , 10.75, 11.  ,\n",
       "        11.25, 11.5 , 11.75, 12.  , 12.25, 12.5 , 12.75, 13.  , 13.25,\n",
       "        13.5 , 13.75, 14.  , 14.25, 14.5 , 14.75, 15.  , 15.25, 15.5 ,\n",
       "        15.75, 16.  , 16.25, 16.5 , 16.75, 17.  , 17.25, 17.5 , 17.75,\n",
       "        18.  , 18.25, 18.5 , 18.75, 19.  , 19.25, 19.5 , 19.75, 20.  ,\n",
       "        20.25, 20.5 , 20.75, 21.  , 21.25, 21.5 , 21.75, 22.  , 22.25,\n",
       "        22.5 , 22.75, 23.  , 23.25, 23.5 , 23.75, 24.  , 24.25, 24.5 ,\n",
       "        24.75, 25.  , 25.25, 25.5 , 25.75, 26.  , 26.25, 26.5 , 26.75,\n",
       "        27.  , 27.25, 27.5 , 27.75, 28.  , 28.25, 28.5 , 28.75, 29.  ,\n",
       "        29.25, 29.5 , 29.75, 30.  , 30.25, 30.5 , 30.75, 31.  , 31.25,\n",
       "        31.5 , 31.75, 32.  , 32.25, 32.5 , 32.75, 33.  , 33.25, 33.5 ,\n",
       "        33.75, 34.  , 34.25, 34.5 , 34.75, 35.  , 35.25, 35.5 , 35.75,\n",
       "        36.  , 36.25, 36.5 , 36.75, 37.  , 37.25, 37.5 , 37.75, 38.  ,\n",
       "        38.25, 38.5 , 38.75, 39.  , 39.25, 39.5 , 39.75, 40.  , 40.25,\n",
       "        40.5 , 40.75, 41.  , 41.25, 41.5 , 41.75, 42.  , 42.25, 42.5 ,\n",
       "        42.75, 43.  , 43.25, 43.5 , 43.75, 44.  , 44.25, 44.5 , 44.75,\n",
       "        45.  , 45.25, 45.5 , 45.75, 46.  , 46.25, 46.5 , 46.75, 47.  ,\n",
       "        47.25, 47.5 , 47.75, 48.  , 48.25, 48.5 , 48.75, 49.  , 49.25,\n",
       "        49.5 , 49.75, 50.  ], dtype=float32),\n",
       " Array([ 0.  ,  0.25,  0.5 ,  0.75,  1.  ,  1.25,  1.5 ,  1.75,  2.  ,\n",
       "         2.25,  2.5 ,  2.75,  3.  ,  3.25,  3.5 ,  3.75,  4.  ,  4.25,\n",
       "         4.5 ,  4.75,  5.  ,  5.25,  5.5 ,  5.75,  6.  ,  6.25,  6.5 ,\n",
       "         6.75,  7.  ,  7.25,  7.5 ,  7.75,  8.  ,  8.25,  8.5 ,  8.75,\n",
       "         9.  ,  9.25,  9.5 ,  9.75, 10.  , 10.25, 10.5 , 10.75, 11.  ,\n",
       "        11.25, 11.5 , 11.75, 12.  , 12.25, 12.5 , 12.75, 13.  , 13.25,\n",
       "        13.5 , 13.75, 14.  , 14.25, 14.5 , 14.75, 15.  , 15.25, 15.5 ,\n",
       "        15.75, 16.  , 16.25, 16.5 , 16.75, 17.  , 17.25, 17.5 , 17.75,\n",
       "        18.  , 18.25, 18.5 , 18.75, 19.  , 19.25, 19.5 , 19.75, 20.  ,\n",
       "        20.25, 20.5 , 20.75, 21.  , 21.25, 21.5 , 21.75, 22.  , 22.25,\n",
       "        22.5 , 22.75, 23.  , 23.25, 23.5 , 23.75, 24.  , 24.25, 24.5 ,\n",
       "        24.75, 25.  , 25.25, 25.5 , 25.75, 26.  , 26.25, 26.5 , 26.75,\n",
       "        27.  , 27.25, 27.5 , 27.75, 28.  , 28.25, 28.5 , 28.75, 29.  ,\n",
       "        29.25, 29.5 , 29.75, 30.  , 30.25, 30.5 , 30.75, 31.  , 31.25,\n",
       "        31.5 , 31.75, 32.  , 32.25, 32.5 , 32.75, 33.  , 33.25, 33.5 ,\n",
       "        33.75, 34.  , 34.25, 34.5 , 34.75, 35.  , 35.25, 35.5 , 35.75,\n",
       "        36.  , 36.25, 36.5 , 36.75, 37.  , 37.25, 37.5 , 37.75, 38.  ,\n",
       "        38.25, 38.5 , 38.75, 39.  , 39.25, 39.5 , 39.75, 40.  , 40.25,\n",
       "        40.5 , 40.75, 41.  , 41.25, 41.5 , 41.75, 42.  , 42.25, 42.5 ,\n",
       "        42.75, 43.  , 43.25, 43.5 , 43.75, 44.  , 44.25, 44.5 , 44.75,\n",
       "        45.  , 45.25, 45.5 , 45.75, 46.  , 46.25, 46.5 , 46.75, 47.  ,\n",
       "        47.25, 47.5 , 47.75, 48.  , 48.25, 48.5 , 48.75, 49.  , 49.25,\n",
       "        49.5 , 49.75, 50.  ], dtype=float32),\n",
       " Array([0.        , 0.005     , 0.01      , 0.015     , 0.02      ,\n",
       "        0.025     , 0.03      , 0.035     , 0.04      , 0.045     ,\n",
       "        0.05      , 0.055     , 0.06      , 0.065     , 0.07      ,\n",
       "        0.075     , 0.08      , 0.085     , 0.09      , 0.095     ,\n",
       "        0.09999999, 0.105     , 0.11      , 0.11499999, 0.12      ,\n",
       "        0.125     , 0.13      , 0.13499999, 0.14      , 0.145     ,\n",
       "        0.14999999, 0.155     , 0.16      , 0.16499999, 0.17      ,\n",
       "        0.175     , 0.17999999, 0.185     , 0.19      , 0.195     ,\n",
       "        0.19999999, 0.205     , 0.21      , 0.21499999, 0.22      ,\n",
       "        0.225     , 0.22999999, 0.235     , 0.24      , 0.24499999,\n",
       "        0.25      , 0.255     , 0.26      , 0.265     , 0.26999998,\n",
       "        0.275     , 0.28      , 0.285     , 0.29      , 0.295     ,\n",
       "        0.29999998, 0.305     , 0.31      , 0.315     , 0.32      ,\n",
       "        0.325     , 0.32999998, 0.33499998, 0.34      , 0.345     ,\n",
       "        0.35      , 0.355     , 0.35999998, 0.36499998, 0.37      ,\n",
       "        0.375     , 0.38      , 0.385     , 0.39      , 0.39499998,\n",
       "        0.39999998, 0.405     , 0.41      , 0.415     , 0.42      ,\n",
       "        0.42499998, 0.42999998, 0.435     , 0.44      , 0.445     ,\n",
       "        0.45      , 0.45499998, 0.45999998, 0.465     , 0.47      ,\n",
       "        0.475     , 0.48      , 0.48499998, 0.48999998, 0.49499997,\n",
       "        0.5       , 0.505     , 0.51      , 0.515     , 0.52      ,\n",
       "        0.525     , 0.53      , 0.53499997, 0.53999996, 0.545     ,\n",
       "        0.55      , 0.555     , 0.56      , 0.565     , 0.57      ,\n",
       "        0.575     , 0.58      , 0.585     , 0.59      , 0.59499997,\n",
       "        0.59999996, 0.60499996, 0.61      , 0.615     , 0.62      ,\n",
       "        0.625     , 0.63      , 0.635     , 0.64      , 0.645     ,\n",
       "        0.65      , 0.655     , 0.65999997, 0.66499996, 0.66999996,\n",
       "        0.675     , 0.68      , 0.685     , 0.69      , 0.695     ,\n",
       "        0.7       , 0.705     , 0.71      , 0.715     , 0.71999997,\n",
       "        0.72499996, 0.72999996, 0.73499995, 0.74      , 0.745     ,\n",
       "        0.75      , 0.755     , 0.76      , 0.765     , 0.77      ,\n",
       "        0.775     , 0.78      , 0.78499997, 0.78999996, 0.79499996,\n",
       "        0.79999995, 0.805     , 0.81      , 0.815     , 0.82      ,\n",
       "        0.825     , 0.83      , 0.835     , 0.84      , 0.84499997,\n",
       "        0.84999996, 0.85499996, 0.85999995, 0.865     , 0.87      ,\n",
       "        0.875     , 0.88      , 0.885     , 0.89      , 0.895     ,\n",
       "        0.9       , 0.905     , 0.90999997, 0.91499996, 0.91999996,\n",
       "        0.92499995, 0.93      , 0.935     , 0.94      , 0.945     ,\n",
       "        0.95      , 0.955     , 0.96      , 0.965     , 0.96999997,\n",
       "        0.97499996, 0.97999996, 0.98499995, 0.98999995, 0.995     ,\n",
       "        1.        ], dtype=float32))"
      ]
     },
     "execution_count": 2,
     "metadata": {},
     "output_type": "execute_result"
    }
   ],
   "source": [
    "bandits2.param_indeces_and_search_spaces"
   ]
  },
  {
   "cell_type": "code",
   "execution_count": 41,
   "id": "e1a0868b",
   "metadata": {},
   "outputs": [],
   "source": [
    "tau1_indeces, tau2_indeces, epsilon_indeces, tau1_search_space, tau2_search_space, epsilon_search_space = bandits2.param_indeces_and_search_spaces"
   ]
  },
  {
   "cell_type": "code",
   "execution_count": 42,
   "id": "c99afc84",
   "metadata": {},
   "outputs": [
    {
     "data": {
      "text/plain": [
       "Array([[ 0,  3,  6,  9, 12, 15]], dtype=int32)"
      ]
     },
     "execution_count": 42,
     "metadata": {},
     "output_type": "execute_result"
    }
   ],
   "source": [
    "tau1_indeces"
   ]
  },
  {
   "cell_type": "code",
   "execution_count": 49,
   "id": "b9008642",
   "metadata": {},
   "outputs": [
    {
     "data": {
      "text/plain": [
       "(201,)"
      ]
     },
     "execution_count": 49,
     "metadata": {},
     "output_type": "execute_result"
    }
   ],
   "source": [
    "jnp.sum(bandits2.ws[tau1_indeces][0], axis=0).shape"
   ]
  },
  {
   "cell_type": "code",
   "execution_count": 39,
   "id": "480d33ed",
   "metadata": {},
   "outputs": [
    {
     "data": {
      "text/plain": [
       "Array(46.5, dtype=float32)"
      ]
     },
     "execution_count": 39,
     "metadata": {},
     "output_type": "execute_result"
    }
   ],
   "source": [
    "import jax.numpy as jnp\n",
    "\n",
    "jnp.argmax(bandits2.ws[0])\n",
    "bandits2.param_indeces_and_search_spaces[4][jnp.argmax(bandits2.ws[0])]"
   ]
  },
  {
   "cell_type": "code",
   "execution_count": 30,
   "id": "a961da2a",
   "metadata": {},
   "outputs": [
    {
     "name": "stdout",
     "output_type": "stream",
     "text": [
      "Execution time: 0.0030794143676757812 seconds\n"
     ]
    }
   ],
   "source": [
    "import time\n",
    "import random\n",
    "\n",
    "tau1 = random.uniform(0, 50)\n",
    "tau2 = random.uniform(0, 50)\n",
    "epsilon = random.uniform(0, 1)\n",
    "g = random.uniform(-10, 10)\n",
    "\n",
    "start_time = time.time()\n",
    "bandits2.update_bandits(tau1, tau2, epsilon, g)\n",
    "end_time = time.time()\n",
    "\n",
    "execution_time = end_time - start_time\n",
    "print(\"Execution time:\", execution_time, \"seconds\")"
   ]
  },
  {
   "cell_type": "code",
   "execution_count": 10,
   "id": "e001ec67",
   "metadata": {},
   "outputs": [
    {
     "name": "stdout",
     "output_type": "stream",
     "text": [
      "Execution time: 0.0027565956115722656 seconds\n",
      "{'tau1': [8.040201, 8.542714, 8.291457, 8.040201, 8.542714, 8.291457, 8.040201, 8.542714, 8.291457, 8.291457, 9.045226, 17.336683, 12.311558, 18.844221, 6.78392, 13.065327, 7.7889447, 5.7788944], 'tau2': [9.296483, 9.798995, 9.547739, 9.296483, 9.798995, 9.547739, 9.296483, 9.798995, 9.547739, 3.5175881, 43.21608, 26.884422, 29.648241, 42.964825, 33.16583, 23.618092, 48.74372, 6.5326633], 'epsilon': [0.89447236, 0.9045226, 0.89949745, 0.89447236, 0.9045226, 0.89949745, 0.89447236, 0.9045226, 0.89949745, 0.86934674, 0.4120603, 0.63316584, 0.6683417, 0.07537688, 0.75376886, 0.8090452, 0.69849247, 0.06532663]}\n"
     ]
    }
   ],
   "source": [
    "start_time = time.time()\n",
    "candidates = bandits2.get_candidates()\n",
    "execution_time = time.time() - start_time\n",
    "print(\"Execution time:\", execution_time, \"seconds\")\n",
    "print(candidates)"
   ]
  },
  {
   "cell_type": "markdown",
   "id": "695a2f40",
   "metadata": {},
   "source": [
    "### bandit_jax_new.py"
   ]
  },
  {
   "cell_type": "code",
   "execution_count": 1,
   "id": "ea67ba10",
   "metadata": {},
   "outputs": [],
   "source": [
    "import jax.numpy as jnp\n",
    "from training import Training\n",
    "from bandit_jax_new import Bandits\n",
    "env_name = 'CartPole-v1'\n",
    "\n",
    "train_parameters = {'metrics': False,\n",
    "                    'jax_seed': 69}\n",
    "run_name_dict = {'prefix': 's5', 'suffix': 'bandit_jax_new', 'timestamp': False}\n",
    "\n",
    "training = Training(env_name, train_parameters, run_name_dict)\n",
    "bandits = Bandits(training)"
   ]
  },
  {
   "cell_type": "code",
   "execution_count": 6,
   "id": "d89893f8",
   "metadata": {},
   "outputs": [
    {
     "name": "stdout",
     "output_type": "stream",
     "text": [
      "Execution time: 0.003959178924560547 seconds\n",
      "[0.      2.01696 0.     ]\n",
      "[0.         0.67865723 0.        ]\n",
      "[1.0527275 1.0789397 1.1051518]\n",
      "[1.0299908 1.0693091 1.1086273]\n"
     ]
    }
   ],
   "source": [
    "import time\n",
    "\n",
    "train_indeces = [[2, 13, 0.5], [8, 27, 0.2], [42, 7, 0.8]]\n",
    "train_returns = [3., 27., 13.]\n",
    "train_envs = [0, 2, 5]\n",
    "\n",
    "start_time = time.time()\n",
    "bandits.update_bandits(train_indeces, train_returns, train_envs)\n",
    "execution_time = time.time() - start_time\n",
    "print(\"Execution time:\", execution_time, \"seconds\")\n",
    "\n",
    "print(bandits.ws[0, 91:94])\n",
    "print(bandits.ws[3, 127:130])\n",
    "print(bandits.search_spaces[0, 91:94])\n",
    "print(bandits.search_spaces[3, 127:130])"
   ]
  },
  {
   "cell_type": "code",
   "execution_count": 19,
   "id": "1948f2ab",
   "metadata": {},
   "outputs": [
    {
     "name": "stdout",
     "output_type": "stream",
     "text": [
      "Execution time: 0.002179861068725586 seconds\n",
      "(3360, 3)\n",
      "[[1.0848196  2.9569108  2.709099  ]\n",
      " [3.9042356  3.9302347  2.6350896 ]\n",
      " [0.9494828  0.9965349  0.52090806]\n",
      " ...\n",
      " [3.8796322  3.904807   3.9152915 ]\n",
      " [2.1093042  0.3887061  3.7300105 ]\n",
      " [0.37178522 0.3304568  0.7079835 ]]\n"
     ]
    }
   ],
   "source": [
    "import time\n",
    "\n",
    "start_time = time.time()\n",
    "candidates = bandits.get_all_candidates()\n",
    "execution_time = time.time() - start_time\n",
    "print(\"Execution time:\", execution_time, \"seconds\")\n",
    "\n",
    "print(candidates.shape)\n",
    "print(candidates)"
   ]
  },
  {
   "cell_type": "code",
   "execution_count": 78,
   "id": "90e32cc3",
   "metadata": {},
   "outputs": [
    {
     "name": "stdout",
     "output_type": "stream",
     "text": [
      "Execution time: 0.0056650638580322266 seconds\n",
      "(3, 3)\n",
      "[[37.386322   47.794323    0.09999934]\n",
      " [18.621323   49.371357    0.93797994]\n",
      " [11.433098    0.6114439   0.98218215]]\n"
     ]
    }
   ],
   "source": [
    "import time\n",
    "\n",
    "candidates = bandits.get_all_candidates()\n",
    "start_time = time.time()\n",
    "sampled_candidates = bandits.sample_all_candidates([0, 2, 5])\n",
    "execution_time = time.time() - start_time\n",
    "print(\"Execution time:\", execution_time, \"seconds\")\n",
    "\n",
    "print(sampled_candidates.shape)\n",
    "print(sampled_candidates)"
   ]
  },
  {
   "cell_type": "code",
   "execution_count": 109,
   "id": "ee83136a",
   "metadata": {},
   "outputs": [
    {
     "name": "stdout",
     "output_type": "stream",
     "text": [
      "Execution time: 0.003039836883544922 seconds\n",
      "0.051153347 0.057498727 0.017963102\n"
     ]
    }
   ],
   "source": [
    "import time\n",
    "\n",
    "start_time = time.time()\n",
    "max_tau1, max_tau2, max_epsilon = bandits.get_index_data(only_index=True)\n",
    "execution_time = time.time() - start_time\n",
    "print(\"Execution time:\", execution_time, \"seconds\")\n",
    "\n",
    "print(max_tau1, max_tau2, max_epsilon)"
   ]
  },
  {
   "cell_type": "code",
   "execution_count": null,
   "id": "ad02d0d5",
   "metadata": {},
   "outputs": [],
   "source": []
  },
  {
   "attachments": {},
   "cell_type": "markdown",
   "id": "19aec96c",
   "metadata": {},
   "source": [
    "# Actor Test"
   ]
  },
  {
   "cell_type": "code",
   "execution_count": 4,
   "id": "db71294d",
   "metadata": {},
   "outputs": [],
   "source": [
    "from actor import Actor\n",
    "from training import Training\n",
    "\n",
    "env_name = \"CartPole-v1\"\n",
    "\n",
    "train_parameters = {'max_frames': 100000000,\n",
    "                    'lr_finder': False}\n",
    "\n",
    "abbreviation_dict = {\n",
    "                     'num_envs': 'n',\n",
    "                     'batch_size': 'b',\n",
    "                     'sequence_length': 's',\n",
    "                     'bootstrap_length': 'bb',\n",
    "                     'd_target': 'd_t',\n",
    "                     'discount': 'g',\n",
    "                     'learning_rate': 'lr',\n",
    "                     'add_on': None}\n",
    "\n",
    "training = Training(env_name, None, train_parameters, abbreviation_dict)\n",
    "actor = Actor(training)\n"
   ]
  },
  {
   "cell_type": "code",
   "execution_count": 5,
   "id": "b30f9cf9",
   "metadata": {},
   "outputs": [
    {
     "name": "stdout",
     "output_type": "stream",
     "text": [
      "4.6400003\n"
     ]
    }
   ],
   "source": [
    "import numpy as np\n",
    "\n",
    "a = np.float32(3.14)\n",
    "b = np.float16(1.5)\n",
    "\n",
    "result = a + b\n",
    "print(result)\n"
   ]
  },
  {
   "cell_type": "code",
   "execution_count": 9,
   "id": "65a68bf5",
   "metadata": {},
   "outputs": [],
   "source": [
    "obs = [[1,2,3,4], [2,3,4,5]]\n",
    "ind = [[1,1,0.4], [1,1,.6]]"
   ]
  },
  {
   "cell_type": "code",
   "execution_count": 10,
   "id": "b6184ea3",
   "metadata": {},
   "outputs": [
    {
     "ename": "ValueError",
     "evalue": "not enough values to unpack (expected 5, got 2)",
     "output_type": "error",
     "traceback": [
      "\u001b[0;31m---------------------------------------------------------------------------\u001b[0m",
      "\u001b[0;31mValueError\u001b[0m                                Traceback (most recent call last)",
      "Cell \u001b[0;32mIn[10], line 1\u001b[0m\n\u001b[0;32m----> 1\u001b[0m v1, v2, a1, a2, policy \u001b[38;5;241m=\u001b[39m actor\u001b[38;5;241m.\u001b[39mcalculate_policy(obs, ind)\n\u001b[1;32m      2\u001b[0m v1, v2, a1, a2, policy\n",
      "\u001b[0;31mValueError\u001b[0m: not enough values to unpack (expected 5, got 2)"
     ]
    }
   ],
   "source": [
    "v1, v2, a1, a2, policy = actor.calculate_policy(obs, ind)\n",
    "v1, v2, a1, a2, policy"
   ]
  },
  {
   "cell_type": "code",
   "execution_count": 13,
   "id": "5171d8ab",
   "metadata": {},
   "outputs": [
    {
     "data": {
      "text/plain": [
       "tensor([[0.5123, 0.4877],\n",
       "        [0.5084, 0.4916]], device='cuda:0')"
      ]
     },
     "execution_count": 13,
     "metadata": {},
     "output_type": "execute_result"
    }
   ],
   "source": [
    "policy = actor.calculate_policy(obs, ind)\n",
    "policy"
   ]
  },
  {
   "cell_type": "code",
   "execution_count": 17,
   "id": "c0fca9e1",
   "metadata": {},
   "outputs": [
    {
     "data": {
      "text/plain": [
       "(array([0, 1]),\n",
       " array([[0.51229334],\n",
       "        [0.4915942 ]], dtype=float32))"
      ]
     },
     "execution_count": 17,
     "metadata": {},
     "output_type": "execute_result"
    }
   ],
   "source": [
    "action, action_prob = actor.get_actions(obs, ind, stochastic=True)\n",
    "action, action_prob"
   ]
  },
  {
   "attachments": {},
   "cell_type": "markdown",
   "id": "39b2bea1",
   "metadata": {},
   "source": [
    "# Show Test"
   ]
  },
  {
   "cell_type": "code",
   "execution_count": 8,
   "id": "86a3e575",
   "metadata": {},
   "outputs": [
    {
     "name": "stdout",
     "output_type": "stream",
     "text": [
      "{'winner': 0, 'reward_closeness_to_puck': 0, 'reward_touch_puck': 0.0, 'reward_puck_direction': -0.011503320693969726, 'obs_agent_two': array([-2.00716019e-01, -5.81110287e-01,  5.34061059e-04,  2.70402998e-02,\n",
      "       -5.39059103e-02,  6.71120882e-03,  8.00059827e-01, -1.73435211e-03,\n",
      "       -2.03797678e-04,  2.69243345e-03, -5.24826288e-02, -2.56099701e-03,\n",
      "       -1.76159032e-01,  7.55341196e-01,  5.75166035e-01, -1.52343869e-01])}\n",
      "{'winner': 0, 'reward_closeness_to_puck': 0, 'reward_touch_puck': 0.0, 'reward_puck_direction': -0.011493734359741211, 'obs_agent_two': array([-2.00539907e-01, -5.81572056e-01,  1.44996141e-03,  7.93347433e-03,\n",
      "       -1.58772647e-02,  1.15095437e-02,  7.99379985e-01, -4.36077118e-03,\n",
      "       -1.95364829e-04, -3.05946261e-02, -7.87739217e-02,  1.05970353e-04,\n",
      "       -1.50617345e-01,  7.45193386e-01,  5.74686718e-01, -1.52216911e-01])}\n",
      "{'winner': 0, 'reward_closeness_to_puck': 0, 'reward_touch_puck': 0.0, 'reward_puck_direction': -0.011484156608581543, 'obs_agent_two': array([-2.00003942e-01, -5.83369160e-01,  2.34527663e-03,  2.41299987e-02,\n",
      "       -5.58974743e-02,  1.12508625e-02,  7.98949114e-01, -6.21623993e-03,\n",
      "       -6.18372763e-04, -1.93894178e-02, -5.66014469e-02, -5.31567434e-03,\n",
      "       -1.25097020e-01,  7.35054064e-01,  5.74207830e-01, -1.52090061e-01])}\n",
      "{'winner': 0, 'reward_closeness_to_puck': 0, 'reward_touch_puck': 0.0, 'reward_puck_direction': -0.011474586486816407, 'obs_agent_two': array([-0.19846776, -0.58334799,  0.00372184,  0.06915908, -0.00241629,\n",
      "        0.01729836,  0.79901301, -0.00889988, -0.00139381,  0.00287048,\n",
      "       -0.08222706, -0.00974448, -0.09959793,  0.72492318,  0.57372932,\n",
      "       -0.15196332])}\n",
      "{'winner': 0, 'reward_closeness_to_puck': 0, 'reward_touch_puck': 0.0, 'reward_puck_direction': -0.011465023994445801, 'obs_agent_two': array([-0.19811452, -0.58245993,  0.00472611,  0.01592298,  0.02442407,\n",
      "        0.01262008,  0.79996262, -0.01028852, -0.00161943,  0.04272945,\n",
      "       -0.04215887, -0.00283523, -0.07412008,  0.71480074,  0.5732512 ,\n",
      "       -0.15183668])}\n",
      "{'winner': 0, 'reward_closeness_to_puck': 0, 'reward_touch_puck': 0.0, 'reward_puck_direction': -0.011455470085144043, 'obs_agent_two': array([-0.19659793, -0.58347158,  0.00538709,  0.06826823, -0.03181445,\n",
      "        0.00830616,  0.80090275, -0.01234045, -0.00186706,  0.04230107,\n",
      "       -0.0621047 , -0.00311174, -0.04866346,  0.70468674,  0.5727735 ,\n",
      "       -0.15171015])}\n",
      "{'winner': 0, 'reward_closeness_to_puck': 0, 'reward_touch_puck': 0.0, 'reward_puck_direction': -0.011445923805236817, 'obs_agent_two': array([-1.95720164e-01, -5.85366535e-01,  5.44332756e-03,  3.95024478e-02,\n",
      "       -5.69750309e-02,  7.06656774e-04,  8.01858584e-01, -1.39108658e-02,\n",
      "       -1.58399202e-03,  4.30162668e-02, -4.64864522e-02,  3.55711877e-03,\n",
      "       -2.32280731e-02,  6.94581175e-01,  5.72296190e-01, -1.51583731e-01])}\n",
      "{'winner': 0, 'reward_closeness_to_puck': -0.034726733748331226, 'reward_touch_puck': 0.0, 'reward_puck_direction': -0.011436385154724121, 'obs_agent_two': array([-0.19403674, -0.58698683,  0.00499698,  0.07573416, -0.0476167 ,\n",
      "       -0.00560893,  0.80225321, -0.01499577, -0.00125384,  0.01776022,\n",
      "       -0.03181775,  0.00414879,  0.00218608,  0.684484  ,  0.57181926,\n",
      "       -0.15145742])}\n",
      "{'winner': 0, 'reward_closeness_to_puck': -0.03377140438731694, 'reward_touch_puck': 0.0, 'reward_puck_direction': -0.011426855087280273, 'obs_agent_two': array([-1.93331019e-01, -5.88222218e-01,  3.99314292e-03,  3.17219824e-02,\n",
      "       -3.48419309e-02, -1.26146257e-02,  8.01816177e-01, -1.55797958e-02,\n",
      "       -5.64164139e-04, -1.96622103e-02, -1.59942374e-02,  8.66673887e-03,\n",
      "        2.75791168e-02,  6.74395275e-01,  5.71342754e-01, -1.51331198e-01])}\n",
      "{'winner': 0, 'reward_closeness_to_puck': -0.03276902144851309, 'reward_touch_puck': 0.0, 'reward_puck_direction': -0.011417332649230958, 'obs_agent_two': array([-1.93825658e-01, -5.90072155e-01,  3.60889112e-03, -2.22703680e-02,\n",
      "       -5.46480358e-02, -4.82865026e-03,  8.00327047e-01, -1.48824692e-02,\n",
      "        2.53559286e-04, -6.70094132e-02,  2.27294177e-02,  1.02758149e-02,\n",
      "        5.29509226e-02,  6.64314938e-01,  5.70866632e-01, -1.51205087e-01])}\n",
      "{'winner': 0, 'reward_closeness_to_puck': -0.031716632622638484, 'reward_touch_puck': 0.0, 'reward_puck_direction': -0.011407817840576172, 'obs_agent_two': array([-0.19471003, -0.59078074,  0.00331405, -0.03980237, -0.02060659,\n",
      "       -0.00370509,  0.79791044, -0.0123744 ,  0.00127026, -0.10875367,\n",
      "        0.07749299,  0.01277621,  0.07830162,  0.65424299,  0.57039089,\n",
      "       -0.15107908])}\n",
      "{'winner': 0, 'reward_closeness_to_puck': -0.03072523923298458, 'reward_touch_puck': 0.0, 'reward_puck_direction': -0.011398311614990235, 'obs_agent_two': array([-0.19499893, -0.59237013,  0.002396  , -0.01301923, -0.04564219,\n",
      "       -0.01153655,  0.79666875, -0.01140213,  0.00203845, -0.05588356,\n",
      "        0.03087023,  0.00965341,  0.10363121,  0.64417944,  0.56991558,\n",
      "       -0.15095319])}\n",
      "{'winner': 0, 'reward_closeness_to_puck': -0.029743327687706912, 'reward_touch_puck': 0.0, 'reward_puck_direction': -0.011388813018798828, 'obs_agent_two': array([-0.19444173, -0.59286909,  0.0013386 ,  0.02506514, -0.01262808,\n",
      "       -0.01328766,  0.79610926, -0.00926952,  0.00258985, -0.02518715,\n",
      "        0.06519989,  0.00692909,  0.12893969,  0.63412428,  0.56944065,\n",
      "       -0.1508274 ])}\n",
      "{'winner': 0, 'reward_closeness_to_puck': -0.028725320591295858, 'reward_touch_puck': 0.0, 'reward_puck_direction': -0.011379322052001954, 'obs_agent_two': array([-1.92950058e-01, -5.92658329e-01,  7.44032976e-04,  6.71208799e-02,\n",
      "        7.63904229e-03, -7.47157137e-03,  7.94919650e-01, -5.71193695e-03,\n",
      "        3.76765182e-03, -5.35588026e-02,  1.09337413e-01,  1.48006817e-02,\n",
      "        1.54227066e-01,  6.24077511e-01,  5.68966103e-01, -1.50701702e-01])}\n",
      "{'winner': 0, 'reward_closeness_to_puck': -0.02773640843100152, 'reward_touch_puck': 0.0, 'reward_puck_direction': -0.011369839668273925, 'obs_agent_two': array([-1.92412313e-01, -5.90894222e-01,  1.59314348e-04,  2.41960391e-02,\n",
      "        5.42176902e-02, -7.34779040e-03,  7.94880422e-01, -1.44081116e-03,\n",
      "        4.47033154e-03, -1.78392082e-03,  1.29689062e-01,  8.83013209e-03,\n",
      "        1.79493332e-01,  6.14039087e-01,  5.68491983e-01, -1.50576115e-01])}\n",
      "{'winner': 0, 'reward_closeness_to_puck': -0.02677129399344679, 'reward_touch_puck': 0.0, 'reward_puck_direction': -0.01136036491394043, 'obs_agent_two': array([-1.90707143e-01, -5.90705204e-01,  1.02831014e-04,  7.67300308e-02,\n",
      "        5.79648986e-03, -7.09790488e-04,  7.94888306e-01,  1.43041611e-03,\n",
      "        5.23680327e-03,  3.29440925e-04,  8.78343761e-02,  9.63176787e-03,\n",
      "        2.04738617e-01,  6.04009056e-01,  5.68018246e-01, -1.50450635e-01])}\n",
      "{'winner': 0, 'reward_closeness_to_puck': -0.025856575395352088, 'reward_touch_puck': 0.0, 'reward_puck_direction': -0.011350897789001465, 'obs_agent_two': array([-1.89910507e-01, -5.91671848e-01, -1.82050722e-04,  3.58485073e-02,\n",
      "       -2.83725977e-02, -3.57992922e-03,  7.95601908e-01,  2.53334045e-03,\n",
      "        5.84018527e-03,  3.20874482e-02,  3.44237268e-02,  7.58231928e-03,\n",
      "        2.29962794e-01,  5.93987370e-01,  5.67544889e-01, -1.50325263e-01])}\n",
      "{'winner': 0, 'reward_closeness_to_puck': -0.024929845433505037, 'reward_touch_puck': 0.0, 'reward_puck_direction': -0.011341438293457032, 'obs_agent_two': array([-1.90348816e-01, -5.92695904e-01, -6.50930146e-04, -1.97255969e-02,\n",
      "       -2.96784341e-02, -5.89211186e-03,  7.96022797e-01,  4.13627625e-03,\n",
      "        6.29372287e-03,  1.89206839e-02,  4.90913272e-02,  5.69931865e-03,\n",
      "        2.55165990e-01,  5.83974028e-01,  5.67071915e-01, -1.50199997e-01])}\n",
      "{'winner': 0, 'reward_closeness_to_puck': -0.024002078800837906, 'reward_touch_puck': 0.0, 'reward_puck_direction': -0.011331987380981446, 'obs_agent_two': array([-0.19047292, -0.59414244, -0.00189729, -0.00557255, -0.04063935,\n",
      "       -0.01566217,  0.79594777,  0.00509901,  0.00709149, -0.00341291,\n",
      "        0.03065097,  0.0100251 ,  0.28034821,  0.57396903,  0.56659937,\n",
      "       -0.15007483])}\n",
      "{'winner': 0, 'reward_closeness_to_puck': -0.023090240255424707, 'reward_touch_puck': 0.0, 'reward_puck_direction': -0.011322544097900391, 'obs_agent_two': array([-0.18992411, -0.59461489, -0.00271285,  0.02470979, -0.0123635 ,\n",
      "       -0.01024869,  0.79599431,  0.00561762,  0.00766308,  0.00206493,\n",
      "        0.0168233 ,  0.00718269,  0.30550944,  0.56397238,  0.5661272 ,\n",
      "       -0.14994977])}\n",
      "{'winner': 0, 'reward_closeness_to_puck': -0.02217359023582332, 'reward_touch_puck': 0.0, 'reward_puck_direction': -0.011313108444213868, 'obs_agent_two': array([-0.19060287, -0.59633913, -0.00383268, -0.0305197 , -0.04924515,\n",
      "       -0.01407221,  0.79589386,  0.00657959,  0.00898741, -0.00459597,\n",
      "        0.03179279,  0.01664209,  0.33064969,  0.55398407,  0.56565542,\n",
      "       -0.14982481])}\n",
      "{'winner': 0, 'reward_closeness_to_puck': -0.02127137708875869, 'reward_touch_puck': 0.0, 'reward_puck_direction': -0.011303680419921875, 'obs_agent_two': array([-0.19088542, -0.59798918, -0.00495824, -0.01267762, -0.04701168,\n",
      "       -0.01414419,  0.79680487,  0.00893316,  0.00981119,  0.04094012,\n",
      "        0.07243217,  0.01035193,  0.35576897,  0.54400406,  0.56518402,\n",
      "       -0.14969995])}\n",
      "{'winner': 0, 'reward_closeness_to_puck': -0.020330160229806382, 'reward_touch_puck': 0.0, 'reward_puck_direction': -0.01129426097869873, 'obs_agent_two': array([-0.1904082 , -0.59941263, -0.00552518,  0.02149943, -0.04144258,\n",
      "       -0.00712438,  0.79713345,  0.01304264,  0.01103228,  0.01469899,\n",
      "        0.12598382,  0.01534468,  0.38086732,  0.53403239,  0.56471305,\n",
      "       -0.1495752 ])}\n",
      "{'winner': 0, 'reward_closeness_to_puck': -0.019392663686136017, 'reward_touch_puck': 0.0, 'reward_puck_direction': -0.011284849166870118, 'obs_agent_two': array([-0.18988101, -0.60066843, -0.00541223,  0.02371792, -0.03792658,\n",
      "        0.00141937,  0.79687004,  0.01626015,  0.01163502, -0.01190086,\n",
      "        0.09786158,  0.00757418,  0.40594476,  0.52406902,  0.56424246,\n",
      "       -0.14945055])}\n",
      "{'winner': 0, 'reward_closeness_to_puck': -0.01848965837274255, 'reward_touch_puck': 0.0, 'reward_puck_direction': -0.011275444984436035, 'obs_agent_two': array([-0.1900547 , -0.60165815, -0.00551163, -0.00780912, -0.02947285,\n",
      "       -0.00124906,  0.79762192,  0.01957998,  0.01266288,  0.03374562,\n",
      "        0.10187099,  0.01291656,  0.43100128,  0.514114  ,  0.56377225,\n",
      "       -0.14932601])}\n",
      "{'winner': 0, 'reward_closeness_to_puck': -0.017532464770867222, 'reward_touch_puck': 0.0, 'reward_puck_direction': -0.011266048431396485, 'obs_agent_two': array([-0.19010582, -0.60227365, -0.00612135, -0.00227939, -0.01711296,\n",
      "       -0.007662  ,  0.79713364,  0.02454338,  0.01370212, -0.022067  ,\n",
      "        0.15120255,  0.01305939,  0.45603695,  0.50416727,  0.56330242,\n",
      "       -0.14920157])}\n",
      "{'winner': 0, 'reward_closeness_to_puck': -0.0165762861218659, 'reward_touch_puck': 0.0, 'reward_puck_direction': -0.011256660461425781, 'obs_agent_two': array([-0.19001605, -0.60272322, -0.00725992,  0.00409469, -0.01096215,\n",
      "       -0.01430765,  0.79644763,  0.02966499,  0.01540408, -0.03104171,\n",
      "        0.1574147 ,  0.02138746,  0.48105176,  0.49422874,  0.56283302,\n",
      "       -0.14907724])}\n",
      "{'winner': 0, 'reward_closeness_to_puck': -0.015643858517639064, 'reward_touch_puck': 0.0, 'reward_puck_direction': -0.01124728012084961, 'obs_agent_two': array([-0.19099973, -0.6031909 , -0.00901083, -0.04417109, -0.0101503 ,\n",
      "       -0.02200259,  0.79523621,  0.03330135,  0.01674444, -0.05466397,\n",
      "        0.11205617,  0.01684347,  0.50604572,  0.48429852,  0.56236401,\n",
      "       -0.14895301])}\n",
      "{'winner': 0, 'reward_closeness_to_puck': -0.014707851269210473, 'reward_touch_puck': 0.0, 'reward_puck_direction': -0.01123790740966797, 'obs_agent_two': array([-0.19195404, -0.60231981, -0.01016605, -0.04286711,  0.02869127,\n",
      "       -0.01451694,  0.79333471,  0.03700743,  0.01879383, -0.08581944,\n",
      "        0.11571559,  0.02575343,  0.53101883,  0.47437658,  0.56189537,\n",
      "       -0.14882888])}\n",
      "{'winner': 0, 'reward_closeness_to_puck': -0.01383321881853774, 'reward_touch_puck': 0.0, 'reward_puck_direction': -0.011228542327880859, 'obs_agent_two': array([-0.19279772, -0.60049734, -0.01059952, -0.03793136,  0.05563194,\n",
      "       -0.00544709,  0.79248746,  0.03983631,  0.02150563, -0.03850642,\n",
      "        0.09086171,  0.03407748,  0.55597115,  0.46446295,  0.56142712,\n",
      "       -0.14870485])}\n",
      "{'winner': 0, 'reward_closeness_to_puck': -0.012965395443579228, 'reward_touch_puck': 0.0, 'reward_puck_direction': -0.011219184875488281, 'obs_agent_two': array([-1.92814255e-01, -5.99734402e-01, -1.09620149e-02, -7.12976372e-04,\n",
      "        2.36972809e-02, -4.55528597e-03,  7.92110189e-01,  4.39567566e-02,\n",
      "        2.42096909e-02, -1.74078032e-02,  1.29587638e-01,  3.39802345e-02,\n",
      "        5.80902672e-01,  4.54557514e-01,  5.60959244e-01, -1.48580933e-01])}\n",
      "{'winner': 0, 'reward_closeness_to_puck': -0.012152275929107448, 'reward_touch_puck': 0.0, 'reward_puck_direction': -0.01120983600616455, 'obs_agent_two': array([-0.19217796, -0.5993722 , -0.01124402,  0.02864917,  0.01148779,\n",
      "       -0.00354382,  0.79269835,  0.04754448,  0.02669725,  0.02602829,\n",
      "        0.11312572,  0.03125955,  0.60581341,  0.44466038,  0.5604918 ,\n",
      "       -0.14845711])}\n",
      "{'winner': 0, 'reward_closeness_to_puck': -0.011319822007703663, 'reward_touch_puck': 0.0, 'reward_puck_direction': -0.011200494766235351, 'obs_agent_two': array([-0.19057134, -0.59827833, -0.01109227,  0.07228656,  0.03247721,\n",
      "        0.00190695,  0.79225877,  0.05228472,  0.02939558, -0.02030914,\n",
      "        0.14815995,  0.03390826,  0.63070342,  0.43477144,  0.56002474,\n",
      "       -0.14833339])}\n",
      "{'winner': 0, 'reward_closeness_to_puck': -0.010532125929114762, 'reward_touch_puck': 0.0, 'reward_puck_direction': -0.011191161155700683, 'obs_agent_two': array([-0.18911463, -0.59866209, -0.01134142,  0.06557238, -0.01096415,\n",
      "       -0.00313093,  0.7925305 ,  0.05709085,  0.03276787,  0.01150101,\n",
      "        0.1516161 ,  0.04237743,  0.65557264,  0.4248908 ,  0.55955806,\n",
      "       -0.14820979])}\n",
      "{'winner': 0, 'reward_closeness_to_puck': -0.009728025657817775, 'reward_touch_puck': 0.0, 'reward_puck_direction': -0.011181835174560548, 'obs_agent_two': array([-1.87625376e-01, -5.98050976e-01, -1.13499957e-02,  6.70139730e-02,\n",
      "        1.83591813e-02, -1.07708325e-04,  7.91885249e-01,  6.36487007e-02,\n",
      "        3.56799240e-02, -2.97297180e-02,  2.03148150e-01,  3.65939538e-02,\n",
      "        6.80421193e-01,  4.15018368e-01,  5.59091759e-01, -1.48086274e-01])}\n",
      "{'winner': 0, 'reward_closeness_to_puck': -0.008938368370959857, 'reward_touch_puck': 0.0, 'reward_puck_direction': -0.011172516822814942, 'obs_agent_two': array([-0.18495369, -0.59923105, -0.01080893,  0.12018857, -0.03660441,\n",
      "        0.00679924,  0.7911183 ,  0.07162657,  0.03810236, -0.03513226,\n",
      "        0.24466617,  0.03044124,  0.70524902,  0.40515413,  0.55862584,\n",
      "       -0.14796287])}\n",
      "{'winner': 0, 'reward_closeness_to_puck': -0.00818016955981411, 'reward_touch_puck': 0.0, 'reward_puck_direction': -0.011163206100463867, 'obs_agent_two': array([-1.82209778e-01, -5.99462032e-01, -1.07728305e-02,  1.23469639e-01,\n",
      "       -7.00768232e-03,  4.53614692e-04,  7.89827665e-01,  8.06144714e-02,\n",
      "        4.12747715e-02, -5.89527309e-02,  2.76608562e-01,  3.98656448e-02,\n",
      "        7.30056127e-01,  3.95298195e-01,  5.58160305e-01, -1.47839570e-01])}\n",
      "{'winner': 0, 'reward_closeness_to_puck': -0.007498860499680908, 'reward_touch_puck': 0.0, 'reward_puck_direction': -0.011153903007507324, 'obs_agent_two': array([-0.17914022, -0.6001277 , -0.01093662,  0.13814406, -0.01960386,\n",
      "       -0.00205819,  0.78900833,  0.0899065 ,  0.0439062 , -0.03764845,\n",
      "        0.28453712,  0.0330675 ,  0.75484257,  0.38545046,  0.55769515,\n",
      "       -0.14771637])}\n",
      "{'winner': 0, 'reward_closeness_to_puck': -0.006937918304365179, 'reward_touch_puck': 0.0, 'reward_puck_direction': -0.01114460849761963, 'obs_agent_two': array([-0.17620977, -0.60045462, -0.01151411,  0.13191358, -0.0085329 ,\n",
      "       -0.00725699,  0.78816357,  0.09839106,  0.046256  , -0.03874672,\n",
      "        0.25969043,  0.02952846,  0.77960835,  0.37561092,  0.55723042,\n",
      "       -0.14759327])}\n",
      "{'winner': 0, 'reward_closeness_to_puck': -0.00652584444572, 'reward_touch_puck': 0.0, 'reward_puck_direction': -0.011135321617126465, 'obs_agent_two': array([-1.73060735e-01, -6.01693439e-01, -1.15646048e-02,  1.41711414e-01,\n",
      "       -3.70496750e-02, -6.34528697e-04,  7.87202009e-01,  1.06016731e-01,\n",
      "        4.78603640e-02, -4.37939614e-02,  2.32286453e-01,  2.01610287e-02,\n",
      "        8.04353460e-01,  3.65779591e-01,  5.56766081e-01, -1.47470272e-01])}\n",
      "{'winner': 0, 'reward_closeness_to_puck': -0.00624534286245583, 'reward_touch_puck': 0.0, 'reward_puck_direction': -0.011126042366027832, 'obs_agent_two': array([-0.17059517, -0.6010932 , -0.01137791,  0.11093308,  0.01758871,\n",
      "        0.00234605,  0.78584627,  0.11470623,  0.04979413, -0.06166371,\n",
      "        0.26491668,  0.02430038,  0.82907804,  0.35595646,  0.55630212,\n",
      "       -0.14734738])}\n",
      "{'winner': 0, 'reward_closeness_to_puck': -0.006130114973090982, 'reward_touch_puck': 0.0, 'reward_puck_direction': -0.011116770744323731, 'obs_agent_two': array([-0.16747475, -0.60207949, -0.01182032,  0.14045112, -0.02860457,\n",
      "       -0.00555951,  0.78559545,  0.12328701,  0.05153415, -0.01189835,\n",
      "        0.26122897,  0.02186575,  0.85378202,  0.34614153,  0.55583854,\n",
      "       -0.14722459])}\n",
      "{'winner': 0, 'reward_closeness_to_puck': -0.006230636464669746, 'reward_touch_puck': 0.0, 'reward_puck_direction': -0.01110750675201416, 'obs_agent_two': array([-1.64157359e-01, -6.01581860e-01, -1.17818202e-02,  1.49281716e-01,\n",
      "        1.48429230e-02,  4.83836730e-04,  7.84807650e-01,  1.30478287e-01,\n",
      "        5.29428216e-02, -3.59608561e-02,  2.18816876e-01,  1.77019099e-02,\n",
      "        8.78465335e-01,  3.36334705e-01,  5.55375338e-01, -1.47101903e-01])}\n",
      "{'winner': 0, 'reward_closeness_to_puck': -0.006484325621585692, 'reward_touch_puck': 0.0, 'reward_puck_direction': -0.011098250389099121, 'obs_agent_two': array([-0.16036428, -0.59953184, -0.01166086,  0.17067841,  0.06122975,\n",
      "        0.00152007,  0.78474547,  0.13748093,  0.05416469, -0.00324978,\n",
      "        0.21274836,  0.01535448,  0.90312812,  0.32653608,  0.55491252,\n",
      "       -0.14697932])}\n",
      "{'winner': 0, 'reward_closeness_to_puck': -0.006881710245366909, 'reward_touch_puck': 0.0, 'reward_puck_direction': -0.011089001655578613, 'obs_agent_two': array([-1.55675634e-01, -5.98025417e-01, -1.16127647e-02,  2.10987735e-01,\n",
      "        4.50811714e-02,  6.04352417e-04,  7.84354719e-01,  1.45005703e-01,\n",
      "        5.47265065e-02, -1.77964851e-02,  2.26968384e-01,  7.05997099e-03,\n",
      "        9.27770360e-01,  3.16745663e-01,  5.54450083e-01, -1.46856833e-01])}\n",
      "{'winner': 0, 'reward_closeness_to_puck': -0.007393638664165928, 'reward_touch_puck': 0.0, 'reward_puck_direction': -0.011079760551452636, 'obs_agent_two': array([-0.15161552, -0.59595327, -0.011094  ,  0.18266019,  0.06102156,\n",
      "        0.00651903,  0.78421555,  0.15260029,  0.05463128, -0.00622797,\n",
      "        0.22763228, -0.00119661,  0.95239201,  0.30696335,  0.55398803,\n",
      "       -0.14673445])}\n",
      "{'winner': 0, 'reward_closeness_to_puck': -0.008016798760485534, 'reward_touch_puck': 0.0, 'reward_puck_direction': -0.011070527076721192, 'obs_agent_two': array([-1.47118632e-01, -5.95004749e-01, -1.06091941e-02,  2.02327514e-01,\n",
      "        2.73812592e-02,  6.09220167e-03,  7.83808200e-01,  1.59859276e-01,\n",
      "        5.46088518e-02, -1.83232158e-02,  2.17720366e-01, -2.81877381e-04,\n",
      "        9.76993179e-01,  2.97189236e-01,  5.53526354e-01, -1.46612179e-01])}\n",
      "{'winner': 0, 'reward_closeness_to_puck': -0.008733184268565411, 'reward_touch_puck': 0.0, 'reward_puck_direction': -0.011061301231384277, 'obs_agent_two': array([-0.14189987, -0.59470549, -0.00957738,  0.23476779,  0.00669695,\n",
      "        0.01296612,  0.78337803,  0.16532316,  0.0538496 , -0.01907064,\n",
      "        0.1622559 , -0.00954108,  1.00157382,  0.28742323,  0.55306506,\n",
      "       -0.14649   ])}\n",
      "{'winner': 0, 'reward_closeness_to_puck': -0.009492082518555767, 'reward_touch_puck': 0.0, 'reward_puck_direction': -0.011052083015441895, 'obs_agent_two': array([-0.13727036, -0.5941144 , -0.00888804,  0.20828564,  0.01620696,\n",
      "        0.00866253,  0.78307006,  0.17169752,  0.05294702, -0.01352412,\n",
      "        0.18925865, -0.01134205,  1.02613405,  0.27766533,  0.55260415,\n",
      "       -0.14636793])}\n",
      "{'winner': -1, 'reward_closeness_to_puck': -0.010283504802784596, 'reward_touch_puck': 0.0, 'reward_puck_direction': -0.011042873382568359, 'obs_agent_two': array([-0.13251444, -0.5925952 , -0.00752272,  0.21393609,  0.04255654,\n",
      "        0.01715709,  0.78323962,  0.17692966,  0.05171327,  0.00807693,\n",
      "        0.15426978, -0.01550385,  1.0506738 ,  0.26791563,  0.55214367,\n",
      "       -0.14624596])}\n",
      "{'winner': 0, 'reward_closeness_to_puck': 0, 'reward_touch_puck': 0.0, 'reward_puck_direction': -0.012672286987304687, 'obs_agent_two': array([-9.98922221e-01, -2.88579655e-01,  9.83426052e-03,  3.24956536e-02,\n",
      "        5.79941645e-03, -4.98224149e-03,  7.98831685e-01, -2.94017792e-04,\n",
      "       -4.24994551e-05, -5.25744379e-02, -8.91622901e-03, -5.34063888e-04,\n",
      "       -3.29553604e-01,  5.56251955e-01,  6.33614349e-01, -1.11614156e-01])}\n",
      "{'winner': 0, 'reward_closeness_to_puck': 0, 'reward_touch_puck': 0.0, 'reward_puck_direction': -0.01266172695159912, 'obs_agent_two': array([-9.98377482e-01, -2.88205624e-01,  1.01451029e-02,  2.06790015e-02,\n",
      "        1.05328903e-02,  3.70247612e-03,  7.96745682e-01, -5.08308411e-05,\n",
      "        6.13905199e-04, -9.38720584e-02,  8.74936357e-03,  8.24862371e-03,\n",
      "       -3.01416397e-01,  5.48817205e-01,  6.33086348e-01, -1.11521149e-01])}\n",
      "{'winner': 0, 'reward_closeness_to_puck': 0, 'reward_touch_puck': 0.0, 'reward_puck_direction': -0.012651175498962403, 'obs_agent_two': array([-9.98314667e-01, -2.86646175e-01,  1.10235269e-02, -1.98585517e-04,\n",
      "        4.48386312e-02,  1.08615746e-02,  7.93935903e-01,  3.57913971e-04,\n",
      "        1.92917226e-03, -1.26453578e-01,  1.51766345e-02,  1.65281316e-02,\n",
      "       -2.73302714e-01,  5.41388655e-01,  6.32558775e-01, -1.11428213e-01])}\n",
      "{'winner': 0, 'reward_closeness_to_puck': 0, 'reward_touch_puck': 0.0, 'reward_puck_direction': -0.012640632629394532, 'obs_agent_two': array([-0.99739024, -0.28337469,  0.01245378,  0.04171104,  0.09497696,\n",
      "        0.0179731 ,  0.79129893,  0.00170326,  0.00283906, -0.11867608,\n",
      "        0.04237493,  0.01143401, -0.24521243,  0.5339663 ,  0.63203163,\n",
      "       -0.11133536])}\n",
      "{'winner': 0, 'reward_closeness_to_puck': 0, 'reward_touch_puck': 0.0, 'reward_puck_direction': -0.012630098342895508, 'obs_agent_two': array([-0.9970932 , -0.28135614,  0.01330661,  0.01344406,  0.0586717 ,\n",
      "        0.01071695,  0.78866641,  0.00416689,  0.00412926, -0.11849436,\n",
      "        0.07676802,  0.0162131 , -0.21714554,  0.5265501 ,  0.63150492,\n",
      "       -0.11124258])}\n",
      "{'winner': 0, 'reward_closeness_to_puck': 0, 'reward_touch_puck': 0.0, 'reward_puck_direction': -0.012619573593139649, 'obs_agent_two': array([-0.99601568, -0.27753   ,  0.01418099,  0.04856744,  0.11284667,\n",
      "        0.01098779,  0.78722369,  0.00742464,  0.00538105, -0.06496394,\n",
      "        0.10050547,  0.01573044, -0.18910205,  0.51914015,  0.63097868,\n",
      "       -0.11114988])}\n",
      "{'winner': 0, 'reward_closeness_to_puck': 0, 'reward_touch_puck': 0.0, 'reward_puck_direction': -0.012609057426452637, 'obs_agent_two': array([-0.99384537, -0.27240839,  0.01479902,  0.09772317,  0.152282  ,\n",
      "        0.00776645,  0.78627936,  0.01186991,  0.00613832, -0.04252508,\n",
      "        0.13503324,  0.00951614, -0.16108195,  0.5117363 ,  0.63045287,\n",
      "       -0.11105726])}\n",
      "{'winner': 0, 'reward_closeness_to_puck': 0, 'reward_touch_puck': 0.0, 'reward_puck_direction': -0.012598549842834473, 'obs_agent_two': array([-0.99180603, -0.26863775,  0.01571198,  0.09187113,  0.11110076,\n",
      "        0.01147253,  0.78495216,  0.01688423,  0.00718012, -0.0597731 ,\n",
      "        0.15273563,  0.01309169, -0.13308512,  0.50433865,  0.62992749,\n",
      "       -0.11096472])}\n",
      "{'winner': 0, 'reward_closeness_to_puck': 0, 'reward_touch_puck': 0.0, 'reward_puck_direction': -0.012588050842285156, 'obs_agent_two': array([-0.98900808, -0.26541224,  0.01655165,  0.12599982,  0.09491199,\n",
      "        0.01055169,  0.7829284 ,  0.02228174,  0.00878023, -0.09115865,\n",
      "        0.16546901,  0.02010753, -0.10511169,  0.49694719,  0.62940254,\n",
      "       -0.11087224])}\n",
      "{'winner': 0, 'reward_closeness_to_puck': 0, 'reward_touch_puck': 0.0, 'reward_puck_direction': -0.012577560424804688, 'obs_agent_two': array([-0.98699214, -0.26314116,  0.01716372,  0.09078332,  0.06677573,\n",
      "        0.00769149,  0.77988205,  0.02642918,  0.00990285, -0.13715843,\n",
      "        0.12690554,  0.01410724, -0.07716153,  0.48956184,  0.62887802,\n",
      "       -0.11077985])}\n",
      "{'winner': 0, 'reward_closeness_to_puck': 0, 'reward_touch_puck': 0.0, 'reward_puck_direction': -0.012567079544067383, 'obs_agent_two': array([-0.9840744 , -0.25996532,  0.01701231,  0.13129108,  0.09561177,\n",
      "       -0.00190279,  0.77724584,  0.03082151,  0.01095761, -0.11870801,\n",
      "        0.13410776,  0.01325459, -0.04923464,  0.48218269,  0.62835398,\n",
      "       -0.11068753])}\n",
      "{'winner': 0, 'reward_closeness_to_puck': 0, 'reward_touch_puck': 0.0, 'reward_puck_direction': -0.012556607246398926, 'obs_agent_two': array([-0.98034185, -0.25721302,  0.01750766,  0.16801783,  0.08147336,\n",
      "        0.00622477,  0.77484035,  0.03628159,  0.0123902 , -0.10836481,\n",
      "        0.16697246,  0.01800244, -0.02133102,  0.47480965,  0.62783036,\n",
      "       -0.11059529])}\n",
      "{'winner': 0, 'reward_closeness_to_puck': -0.03066272056190419, 'reward_touch_puck': 0.0, 'reward_puck_direction': -0.012546143531799317, 'obs_agent_two': array([-0.97648697, -0.25371389,  0.01853413,  0.17359892,  0.10270128,\n",
      "        0.01289909,  0.77350852,  0.04221992,  0.01374938, -0.06005456,\n",
      "        0.18115796,  0.01707994,  0.00654933,  0.4674428 ,  0.62730718,\n",
      "       -0.11050313])}\n",
      "{'winner': 0, 'reward_closeness_to_puck': -0.02951089389265315, 'reward_touch_puck': 0.0, 'reward_puck_direction': -0.012535688400268554, 'obs_agent_two': array([-0.97216949, -0.24875689,  0.02003042,  0.19449028,  0.14540391,\n",
      "        0.01880295,  0.77224375,  0.04957056,  0.01471343, -0.05700827,\n",
      "        0.22265301,  0.01211461,  0.03440641,  0.46008205,  0.62678442,\n",
      "       -0.11041104])}\n",
      "{'winner': 0, 'reward_closeness_to_puck': -0.028322387708075186, 'reward_touch_puck': 0.0, 'reward_puck_direction': -0.01252524185180664, 'obs_agent_two': array([-0.96905899, -0.24332933,  0.0207756 ,  0.14007589,  0.16117742,\n",
      "        0.00936418,  0.76985486,  0.05670261,  0.01529833, -0.10756193,\n",
      "        0.21525545,  0.00735006,  0.06224022,  0.45272741,  0.62626209,\n",
      "       -0.11031903])}\n",
      "{'winner': 0, 'reward_closeness_to_puck': -0.02713145160436925, 'reward_touch_puck': 0.0, 'reward_puck_direction': -0.012514803886413574, 'obs_agent_two': array([-0.96505814, -0.23894758,  0.0220107 ,  0.18022358,  0.12872227,\n",
      "        0.01552072,  0.76702169,  0.06245108,  0.01600937, -0.12757078,\n",
      "        0.1740273 ,  0.00893514,  0.09005089,  0.44537897,  0.62574019,\n",
      "       -0.1102271 ])}\n",
      "{'winner': 0, 'reward_closeness_to_puck': -0.025964830384732768, 'reward_touch_puck': 0.0, 'reward_puck_direction': -0.012504374504089356, 'obs_agent_two': array([-0.96012777, -0.23603659,  0.02251325,  0.22194655,  0.08621973,\n",
      "        0.0063152 ,  0.76467311,  0.06751423,  0.01733642, -0.10583656,\n",
      "        0.15482925,  0.01667631,  0.11783841,  0.43803663,  0.62521873,\n",
      "       -0.11013525])}\n",
      "{'winner': 0, 'reward_closeness_to_puck': -0.02480567379780968, 'reward_touch_puck': 0.0, 'reward_puck_direction': -0.012493954658508302, 'obs_agent_two': array([-0.9541392 , -0.2328023 ,  0.02374558,  0.26968267,  0.0943041 ,\n",
      "        0.01548597,  0.76283131,  0.0738678 ,  0.01814295, -0.08298131,\n",
      "        0.19239134,  0.01013508,  0.1456028 ,  0.4307004 ,  0.62469773,\n",
      "       -0.11004347])}\n",
      "{'winner': 0, 'reward_closeness_to_puck': -0.023695904564385115, 'reward_touch_puck': 0.0, 'reward_puck_direction': -0.012483543395996093, 'obs_agent_two': array([-0.94919281, -0.22934217,  0.02507456,  0.22281592,  0.10087101,\n",
      "        0.01670043,  0.76210492,  0.0791976 ,  0.01970829, -0.03289444,\n",
      "        0.16335185,  0.01967069,  0.17334404,  0.42337027,  0.62417717,\n",
      "       -0.10995176])}\n",
      "{'winner': 0, 'reward_closeness_to_puck': -0.02259592493449119, 'reward_touch_puck': 0.0, 'reward_puck_direction': -0.012473140716552734, 'obs_agent_two': array([-0.94486923, -0.22434912,  0.02590418,  0.19471054,  0.14795865,\n",
      "        0.01042526,  0.76167927,  0.08473778,  0.02192038, -0.0194757 ,\n",
      "        0.17109513,  0.02779791,  0.20106214,  0.41604624,  0.62365704,\n",
      "       -0.10986013])}\n",
      "{'winner': 0, 'reward_closeness_to_puck': -0.021518972729207043, 'reward_touch_puck': 0.0, 'reward_puck_direction': -0.012462746620178223, 'obs_agent_two': array([-0.94055939, -0.22049065,  0.02672791,  0.19409283,  0.1139376 ,\n",
      "        0.01035134,  0.76156445,  0.08909159,  0.02447673, -0.00557773,\n",
      "        0.13626121,  0.03212401,  0.2287571 ,  0.40872831,  0.62313733,\n",
      "       -0.10976858])}\n",
      "{'winner': 0, 'reward_closeness_to_puck': -0.020395314158967844, 'reward_touch_puck': 0.0, 'reward_puck_direction': -0.012452361106872558, 'obs_agent_two': array([-0.93627955, -0.21745768,  0.028028  ,  0.19283035,  0.08811993,\n",
      "        0.01633742,  0.76052443,  0.09515228,  0.02689139, -0.04723275,\n",
      "        0.18715004,  0.03034358,  0.25642904,  0.40141649,  0.62261806,\n",
      "       -0.10967711])}\n",
      "{'winner': 0, 'reward_closeness_to_puck': -0.01932138302626585, 'reward_touch_puck': 0.0, 'reward_puck_direction': -0.012441984176635742, 'obs_agent_two': array([-0.93328756, -0.21509981,  0.02984255,  0.13500118,  0.06673463,\n",
      "        0.02280224,  0.76040923,  0.09949341,  0.02943826, -0.00568305,\n",
      "        0.13585364,  0.03200483,  0.2840779 ,  0.39411077,  0.62209921,\n",
      "       -0.10958571])}\n",
      "{'winner': 0, 'reward_closeness_to_puck': -0.018297677590182023, 'reward_touch_puck': 0.0, 'reward_puck_direction': -0.012431615829467774, 'obs_agent_two': array([-0.92915344, -0.21194687,  0.03226422,  0.1865579 ,  0.08924935,\n",
      "        0.03043161,  0.76125533,  0.10225782,  0.03247395,  0.03742189,\n",
      "        0.08962793,  0.03814764,  0.31170375,  0.38681116,  0.62158079,\n",
      "       -0.10949439])}\n",
      "{'winner': 0, 'reward_closeness_to_puck': -0.017256199129692278, 'reward_touch_puck': 0.0, 'reward_puck_direction': -0.012421256065368652, 'obs_agent_two': array([-0.9239975 , -0.20898209,  0.03472968,  0.23258615,  0.08351262,\n",
      "        0.03098193,  0.76160507,  0.10531683,  0.03575754,  0.01496079,\n",
      "        0.0989989 ,  0.04126282,  0.33930651,  0.37951765,  0.6210628 ,\n",
      "       -0.10940315])}\n",
      "{'winner': 0, 'reward_closeness_to_puck': -0.01619341604302146, 'reward_touch_puck': 0.0, 'reward_puck_direction': -0.012410904884338379, 'obs_agent_two': array([-0.91996765, -0.20466452,  0.03777903,  0.18210889,  0.12281417,\n",
      "        0.03831926,  0.76104946,  0.10766926,  0.03944296, -0.02596639,\n",
      "        0.07867842,  0.04631236,  0.36688633,  0.37223015,  0.62054524,\n",
      "       -0.10931197])}\n",
      "{'winner': 0, 'reward_closeness_to_puck': -0.015142477283592876, 'reward_touch_puck': 0.0, 'reward_puck_direction': -0.012400562286376954, 'obs_agent_two': array([-0.91666794, -0.19990797,  0.04120206,  0.14942185,  0.13517525,\n",
      "        0.04301504,  0.76127434,  0.11176929,  0.04331262,  0.00900817,\n",
      "        0.13150008,  0.04862757,  0.39444313,  0.36494875,  0.62002811,\n",
      "       -0.10922089])}\n",
      "{'winner': 0, 'reward_closeness_to_puck': -0.014066016465095149, 'reward_touch_puck': 0.0, 'reward_puck_direction': -0.012390228271484375, 'obs_agent_two': array([-0.9135938 , -0.19611511,  0.0440385 ,  0.13916807,  0.10755794,\n",
      "        0.03564367,  0.76064885,  0.11582108,  0.04710701, -0.02933762,\n",
      "        0.12987423,  0.04768174,  0.42197698,  0.35767345,  0.61951141,\n",
      "       -0.10912987])}\n",
      "{'winner': 0, 'reward_closeness_to_puck': -0.013027289641419859, 'reward_touch_puck': 0.0, 'reward_puck_direction': -0.012379902839660645, 'obs_agent_two': array([-0.91031647, -0.19222488,  0.04721494,  0.14848825,  0.10974251,\n",
      "        0.03991633,  0.76043994,  0.11806545,  0.05161503, -0.01094339,\n",
      "        0.07719694,  0.05664936,  0.44948788,  0.35040417,  0.61899514,\n",
      "       -0.10903893])}\n",
      "{'winner': 0, 'reward_closeness_to_puck': -0.012028670137310802, 'reward_touch_puck': 0.0, 'reward_puck_direction': -0.012369585990905763, 'obs_agent_two': array([-0.90603739, -0.1871911 ,  0.05033172,  0.19360765,  0.14419137,\n",
      "        0.03916665,  0.7606095 ,  0.11843204,  0.05635704,  0.00585858,\n",
      "        0.02135064,  0.05958987,  0.47697582,  0.34314098,  0.6184793 ,\n",
      "       -0.10894806])}\n",
      "{'winner': 0, 'reward_closeness_to_puck': -0.01102117228918259, 'reward_touch_puck': 0.0, 'reward_puck_direction': -0.012359277725219726, 'obs_agent_two': array([-0.90297826, -0.18110876,  0.05323198,  0.13870248,  0.17613045,\n",
      "        0.03644566,  0.76049716,  0.11949263,  0.06072339, -0.00682675,\n",
      "        0.0413232 ,  0.05486925,  0.50444088,  0.33588381,  0.61796389,\n",
      "       -0.10885727])}\n",
      "{'winner': 0, 'reward_closeness_to_puck': -0.010035273596403767, 'reward_touch_puck': 0.0, 'reward_puck_direction': -0.01234897804260254, 'obs_agent_two': array([-0.89909897, -0.17655096,  0.05610498,  0.17565168,  0.13046671,\n",
      "        0.03610324,  0.76088518,  0.12093992,  0.06476739,  0.01570672,\n",
      "        0.05220225,  0.05081835,  0.53188305,  0.32863274,  0.6174489 ,\n",
      "       -0.10876656])}\n",
      "{'winner': 0, 'reward_closeness_to_puck': -0.009093393177716815, 'reward_touch_puck': 0.0, 'reward_puck_direction': -0.012338686943054199, 'obs_agent_two': array([-0.89542033, -0.1724123 ,  0.05883328,  0.16662685,  0.11821326,\n",
      "        0.0342848 ,  0.76245556,  0.12278404,  0.06854047,  0.06893046,\n",
      "        0.06349679,  0.04741387,  0.55930233,  0.32138767,  0.61693435,\n",
      "       -0.10867592])}\n",
      "{'winner': 0, 'reward_closeness_to_puck': -0.008152479988889752, 'reward_touch_puck': 0.0, 'reward_puck_direction': -0.012328404426574707, 'obs_agent_two': array([-0.89073995, -0.16996536,  0.06226853,  0.21206172,  0.06593418,\n",
      "        0.04316873,  0.76381556,  0.12505236,  0.0717762 ,  0.05963172,\n",
      "        0.07504377,  0.04066145,  0.58669879,  0.31414862,  0.61642022,\n",
      "       -0.10858536])}\n",
      "{'winner': 0, 'reward_closeness_to_puck': -0.0072193870451428615, 'reward_touch_puck': 0.0, 'reward_puck_direction': -0.012318130493164063, 'obs_agent_two': array([-0.88536148, -0.16868649,  0.06633429,  0.24383714,  0.02954358,\n",
      "        0.05109182,  0.76515961,  0.12794704,  0.07573475,  0.05847194,\n",
      "        0.09537378,  0.04974458,  0.61407242,  0.30691566,  0.61590652,\n",
      "       -0.10849487])}\n",
      "{'winner': 0, 'reward_closeness_to_puck': -0.006306329310797204, 'reward_touch_puck': 0.0, 'reward_puck_direction': -0.012307865142822266, 'obs_agent_two': array([-0.88122075, -0.16629915,  0.07030978,  0.18821282,  0.0630159 ,\n",
      "        0.04995737,  0.76616516,  0.130513  ,  0.07913801,  0.04343397,\n",
      "        0.08429413,  0.04276649,  0.64142323,  0.29968872,  0.61539326,\n",
      "       -0.10840446])}\n",
      "{'winner': 0, 'reward_closeness_to_puck': -0.005406746419423344, 'reward_touch_puck': 0.0, 'reward_puck_direction': -0.012297608375549317, 'obs_agent_two': array([-0.87727407, -0.16361437,  0.0746144 ,  0.17975249,  0.07125571,\n",
      "        0.05409343,  0.76717663,  0.13443089,  0.08201572,  0.04391831,\n",
      "        0.12370795,  0.0361624 ,  0.66875127,  0.29246778,  0.61488042,\n",
      "       -0.10831412])}\n",
      "{'winner': 0, 'reward_closeness_to_puck': -0.00456124819748492, 'reward_touch_puck': 0.0, 'reward_puck_direction': -0.012287360191345215, 'obs_agent_two': array([-0.8726799 , -0.16188278,  0.0795389 ,  0.20934741,  0.0413549 ,\n",
      "        0.06188314,  0.76782894,  0.13795185,  0.08466427,  0.02783483,\n",
      "        0.11129243,  0.03328275,  0.69605649,  0.28525286,  0.61436801,\n",
      "       -0.10822386])}\n",
      "{'winner': 0, 'reward_closeness_to_puck': -0.0055526570644862305, 'reward_touch_puck': 1.0, 'reward_puck_direction': 0.008076522827148437, 'obs_agent_two': array([-8.69027201e-01, -1.61555386e-01,  8.37845361e-02,  1.66760361e-01,\n",
      "        7.27397669e-04,  5.33522685e-02,  7.68428230e-01,  1.41758442e-01,\n",
      "        8.29481794e-02,  2.79588580e-02,  1.10527766e-01, -2.15651155e-02,\n",
      "        6.78108660e-01,  3.17759991e-01, -4.03826141e-01,  4.87607098e-01])}\n",
      "{'winner': 0, 'reward_closeness_to_puck': -0.006503090057773845, 'reward_touch_puck': 0.0, 'reward_puck_direction': 0.00806979274749756, 'obs_agent_two': array([-0.8649737 , -0.16010132,  0.08831159,  0.18508847,  0.03395998,\n",
      "        0.05688859,  0.76810226,  0.14663258,  0.08178005, -0.01400819,\n",
      "        0.14372435, -0.01467921,  0.66017577,  0.35024004, -0.40348964,\n",
      "        0.48720074])}\n",
      "{'winner': 0, 'reward_closeness_to_puck': -0.007499745496786624, 'reward_touch_puck': 0.0, 'reward_puck_direction': 0.008063068389892578, 'obs_agent_two': array([-0.85998688, -0.15898428,  0.09235856,  0.22691731,  0.02490441,\n",
      "        0.05085581,  0.76902822,  0.15066986,  0.08130273,  0.04193699,\n",
      "        0.12009759, -0.00599816,  0.64225782,  0.382693  , -0.40315342,\n",
      "        0.48679476])}\n",
      "{'winner': 0, 'reward_closeness_to_puck': -0.008462904229932965, 'reward_touch_puck': 0.0, 'reward_puck_direction': 0.00805634880065918, 'obs_agent_two': array([-0.85607096, -0.1591177 ,  0.09675866,  0.1790692 , -0.01332197,\n",
      "        0.05529332,  0.76954988,  0.15596733,  0.08051443,  0.02391111,\n",
      "        0.15723352, -0.0099061 ,  0.62435481,  0.41511898, -0.40281744,\n",
      "        0.48638911])}\n",
      "{'winner': 0, 'reward_closeness_to_puck': -0.009463175683273517, 'reward_touch_puck': 0.0, 'reward_puck_direction': 0.00804963493347168, 'obs_agent_two': array([-0.85111313, -0.16072283,  0.10122621,  0.22613747, -0.05757537,\n",
      "        0.05614086,  0.77052402,  0.15989933,  0.079682  ,  0.04429813,\n",
      "        0.11617335, -0.01046063,  0.60646674,  0.44751787, -0.40248175,\n",
      "        0.4859838 ])}\n",
      "{'winner': 0, 'reward_closeness_to_puck': -0.010500422236487601, 'reward_touch_puck': 0.0, 'reward_puck_direction': 0.008042926788330079, 'obs_agent_two': array([-8.45711772e-01, -1.60450077e-01,  1.05513967e-01,  2.46091557e-01,\n",
      "       -8.18646606e-04,  5.38815379e-02,  7.72513008e-01,  1.63180351e-01,\n",
      "        7.85145803e-02,  9.01394129e-02,  9.59254742e-02, -1.46702369e-02,\n",
      "        5.88593547e-01,  4.79889774e-01, -4.02146339e-01,  4.85578823e-01])}\n",
      "{'winner': 0, 'reward_closeness_to_puck': -0.01155951766994472, 'reward_touch_puck': 0.0, 'reward_puck_direction': 0.008036224365234376, 'obs_agent_two': array([-0.83967285, -0.16072226,  0.10912044,  0.27438948, -0.0157049 ,\n",
      "        0.04532023,  0.77396107,  0.16457205,  0.07731852,  0.06580575,\n",
      "        0.03917809, -0.01503012,  0.5707353 ,  0.51223469, -0.40181122,\n",
      "        0.48517418])}\n",
      "{'winner': 0, 'reward_closeness_to_puck': -0.012627786161173151, 'reward_touch_puck': 0.0, 'reward_puck_direction': 0.00802952766418457, 'obs_agent_two': array([-0.8344485 , -0.16029854,  0.11329882,  0.23825145,  0.00401474,\n",
      "        0.05250706,  0.77656466,  0.16696663,  0.07672943,  0.11747222,\n",
      "        0.07057397, -0.0074027 ,  0.55289192,  0.54455266, -0.40147638,\n",
      "        0.48476987])}\n",
      "{'winner': 0, 'reward_closeness_to_puck': -0.013737115351187242, 'reward_touch_puck': 0.0, 'reward_puck_direction': 0.008022836685180664, 'obs_agent_two': array([-0.83045832, -0.1594264 ,  0.11730755,  0.18270273,  0.0178603 ,\n",
      "        0.05037524,  0.78017985,  0.16849499,  0.07541057,  0.16337504,\n",
      "        0.04301333, -0.01657328,  0.53506343,  0.57684374, -0.40114183,\n",
      "        0.48436589])}\n",
      "{'winner': 0, 'reward_closeness_to_puck': -0.014798532393829885, 'reward_touch_puck': 0.0, 'reward_puck_direction': 0.008016151428222656, 'obs_agent_two': array([-0.82558085, -0.1573637 ,  0.12104897,  0.22252018,  0.0541688 ,\n",
      "        0.04701603,  0.78268356,  0.17107763,  0.07378427,  0.11350269,\n",
      "        0.07397351, -0.02043675,  0.51724974,  0.60910788, -0.40080757,\n",
      "        0.48396225])}\n",
      "{'winner': 0, 'reward_closeness_to_puck': -0.015831862390503597, 'reward_touch_puck': 0.0, 'reward_puck_direction': 0.008009470939636231, 'obs_agent_two': array([-0.81959559, -0.15647488,  0.12552603,  0.27308216,  0.01748394,\n",
      "        0.05626048,  0.78414892,  0.17372618,  0.07222678,  0.06672493,\n",
      "        0.07609776, -0.01957197,  0.49945094,  0.64134512, -0.40047355,\n",
      "        0.48355894])}\n",
      "{'winner': 0, 'reward_closeness_to_puck': -0.016858720105479164, 'reward_touch_puck': 0.0, 'reward_puck_direction': 0.008002796173095704, 'obs_agent_two': array([-0.8145991 , -0.15405912,  0.12968909,  0.22845252,  0.06398494,\n",
      "        0.05231452,  0.78505014,  0.1759078 ,  0.06993061,  0.04168292,\n",
      "        0.06048765, -0.02885453,  0.48166695,  0.67355552, -0.40013981,\n",
      "        0.48315597])}\n"
     ]
    }
   ],
   "source": [
    "import torch\n",
    "import gymnasium as gym\n",
    "import laser_hockey_env as lh\n",
    "from actor import Actor\n",
    "from configs import configs\n",
    "\n",
    "# env_name = \"Acrobot-v1\"\n",
    "# env_name = \"LunarLander-v2\"\n",
    "env_name = \"LaserHockey-v0\"\n",
    "config = configs[env_name]\n",
    "device = torch.device(\"cuda\" if torch.cuda.is_available() else \"cpu\")\n",
    "\n",
    "if env_name == \"LaserHockey-v0\":\n",
    "    env = lh.LaserHockeyEnv(mode=2)\n",
    "else:\n",
    "    env = gym.make(env_name, render_mode=\"human\")\n",
    "observation, info = env.reset()\n",
    "# actor = Actor(config['architecture_params'], device)\n",
    "\n",
    "total_reward = 0\n",
    "for _ in range(100):\n",
    "    if env_name == \"LaserHockey-v0\":\n",
    "        env.render()\n",
    "    # actions = [self.env.single_action_space.sample() for _ in range(self.num_envs)]\n",
    "    action = env.action_space.sample()\n",
    "    # dummy_indeces = [[1,1,1]]\n",
    "    # v1, v2, a1, a2, policy = actor.calculate_values(observation, dummy_indeces)\n",
    "    # action, action_probs = actor.get_action(policy, stochastic=True)\n",
    "    observation, reward, terminated, truncated, info = env.step(action)\n",
    "    total_reward += reward\n",
    "    print(info)\n",
    "\n",
    "    if terminated or truncated:\n",
    "        # print(total_reward)\n",
    "        observation, info = env.reset()\n",
    "\n",
    "env.close()"
   ]
  },
  {
   "attachments": {},
   "cell_type": "markdown",
   "id": "dd73ccd6",
   "metadata": {},
   "source": [
    "# Tensorboard Test"
   ]
  },
  {
   "cell_type": "code",
   "execution_count": 76,
   "id": "9c331aac",
   "metadata": {},
   "outputs": [],
   "source": [
    "from configs import configs\n",
    "from actor import Actor\n",
    "\n",
    "env_name = \"CartPole-v1\"\n",
    "config = configs[env_name]\n",
    "device = torch.device(\"cuda\" if torch.cuda.is_available() else \"cpu\")\n",
    "actor = Actor(config['architecture_params'], device)\n",
    "model = actor.actor1\n",
    "\n",
    "from torch.utils.tensorboard import SummaryWriter\n",
    "import datetime\n",
    "import json\n",
    "import os\n",
    "\n",
    "# Define hyperparameters\n",
    "hyperparams = {\n",
    "    'learning_rate': 2e-3,\n",
    "    'batch_size': 64,\n",
    "    'num_epochs': 100\n",
    "}\n",
    "\n",
    "# Get current timestamp\n",
    "timestamp = datetime.datetime.now().strftime(\"%b%d-%H-%M-%S\")\n",
    "\n",
    "# Create a more descriptive name for the run\n",
    "run_name = f\"lr{hyperparams['learning_rate']},bs{hyperparams['batch_size']},s{hyperparams['num_epochs']}_{timestamp}\"\n",
    "\n",
    "# Create a SummaryWriter with a custom log directory and run name\n",
    "log_dir = f\"runs/{run_name}\"\n",
    "writer = SummaryWriter(log_dir=log_dir)\n",
    "\n",
    "# Save hyperparameters as a separate file\n",
    "hyperparams_file = os.path.join(log_dir, 'hyperparameters.json')\n",
    "with open(hyperparams_file, 'w') as f:\n",
    "    json.dump(hyperparams, f)\n",
    "\n",
    "# Log images, histograms, and dummy metrics in a loop\n",
    "for i in range(20):\n",
    "    actor = Actor(config['architecture_params'], device)\n",
    "\n",
    "    # Update dummy metrics\n",
    "    metrics = {\n",
    "        'accuracy/agent1': 0.45 + i * 0.01,\n",
    "        'accuracy/agent2': 0.35 + i * 0.02,\n",
    "        'loss/train': 0.30 - i * 0.01,\n",
    "        'loss/val': 0.40 - i * 0.02\n",
    "    }\n",
    "\n",
    "    # Log histograms\n",
    "    for name, param in actor.actor1.named_parameters():\n",
    "        writer.add_histogram(name, param, global_step=i)\n",
    "\n",
    "    # Log dummy metrics\n",
    "    for metric_name, metric_value in metrics.items():\n",
    "        writer.add_scalar(metric_name, metric_value, global_step=i)\n",
    "\n",
    "# Close the SummaryWriter\n",
    "writer.flush()\n",
    "writer.close()"
   ]
  },
  {
   "attachments": {},
   "cell_type": "markdown",
   "id": "926ca5fa",
   "metadata": {},
   "source": [
    "# Value Scaling Test"
   ]
  },
  {
   "cell_type": "code",
   "execution_count": 1,
   "id": "b80437d0",
   "metadata": {},
   "outputs": [
    {
     "data": {
      "image/png": "[encoded data removed]",
      "text/plain": [
       "<Figure size 640x480 with 1 Axes>"
      ]
     },
     "metadata": {},
     "output_type": "display_data"
    }
   ],
   "source": [
    "import numpy as np\n",
    "import matplotlib.pyplot as plt\n",
    "plt.style.use('dark_background')\n",
    "\n",
    "y_scale1 = 0.5\n",
    "y_scale2 = 1.0\n",
    "x_scale = 0.6\n",
    "# y_scale1 = 1.0\n",
    "# y_scale2 = 2.5\n",
    "# x_scale = 0.02\n",
    "\n",
    "def scale_value1(x, x_scale, y_scale):\n",
    "    x = x * x_scale\n",
    "    x_log = np.log(np.abs(x) + 1.)\n",
    "    x = np.where(np.sign(x) > 0, x_log * 2, x_log * -1)\n",
    "    x = x * y_scale\n",
    "    return x\n",
    "\n",
    "def scale_value2(x, x_scale, y_scale):\n",
    "    x = x * x_scale\n",
    "    x = (np.sign(x) * ((np.abs(x) + 1.)**(1/2) - 1.) + 0.001 * x)\n",
    "    x = x * y_scale\n",
    "    return x\n",
    "\n",
    "x = np.linspace(-30, 20, 1000)\n",
    "# x = np.linspace(-600, 300, 1000)\n",
    "h1 = scale_value1(x, x_scale, y_scale1)\n",
    "h2 = scale_value2(x, x_scale, y_scale2)\n",
    "\n",
    "plt.plot(x, h1, label='h1')\n",
    "plt.plot(x, h2, label='h2')\n",
    "plt.xlabel('x')\n",
    "plt.ylabel('h')\n",
    "plt.title('scale value function')\n",
    "plt.legend()\n",
    "plt.show()"
   ]
  },
  {
   "cell_type": "code",
   "execution_count": 19,
   "id": "7b7e3f89",
   "metadata": {},
   "outputs": [
    {
     "data": {
      "image/png": "[encoded data removed]",
      "text/plain": [
       "<Figure size 640x480 with 1 Axes>"
      ]
     },
     "metadata": {},
     "output_type": "display_data"
    }
   ],
   "source": [
    "import numpy as np\n",
    "import matplotlib.pyplot as plt\n",
    "plt.style.use('dark_background')\n",
    "\n",
    "y_scale1 = 0.5\n",
    "y_scale2 = 0.8\n",
    "x_scale = 0.1\n",
    "\n",
    "def invert_scale1(h, x_scale, y_scale):\n",
    "    h = h / y_scale\n",
    "    h_ = np.where(np.sign(h) > 0, np.abs(h) / 2, np.abs(h))\n",
    "    h_ = np.sign(h) * (np.exp(h_) - 1)\n",
    "    h_ = h_ / x_scale\n",
    "    return h_\n",
    "\n",
    "def invert_scale2(h, x_scale, y_scale):\n",
    "    h = h / y_scale\n",
    "    h = np.sign(h) * ((((1 + 4*0.001*(np.abs(h) + 1 + 0.001))**(1/2) - 1) / (2*0.001))**2 - 1)\n",
    "    h = h / x_scale\n",
    "    return h\n",
    "\n",
    "hh = np.linspace(-2.5, 3., 1000)\n",
    "x1 = invert_scale1(hh, x_scale, y_scale1)\n",
    "x2 = invert_scale2(hh, x_scale, y_scale2)\n",
    "\n",
    "plt.plot(hh, x1, label='x1')\n",
    "plt.plot(hh, x2, label='x2')\n",
    "plt.xlabel('h')\n",
    "plt.ylabel('x')\n",
    "plt.title('invert scale function')\n",
    "plt.legend()\n",
    "plt.show()"
   ]
  },
  {
   "cell_type": "code",
   "execution_count": 43,
   "id": "43da18f5",
   "metadata": {},
   "outputs": [
    {
     "name": "stdout",
     "output_type": "stream",
     "text": [
      "[-600.  -577.5 -555.  -532.5 -510.  -487.5 -465.  -442.5 -420.  -397.5\n",
      " -375.  -352.5 -330.  -307.5 -285.  -262.5 -240.  -217.5 -195.  -172.5\n",
      " -150.  -127.5 -105.   -82.5  -60.   -37.5  -15.     7.5   30.    52.5\n",
      "   75.    97.5  120.   142.5  165.   187.5  210.   232.5  255.   277.5\n",
      "  300. ] [-600.  -577.5 -555.  -532.5 -510.  -487.5 -465.  -442.5 -420.  -397.5\n",
      " -375.  -352.5 -330.  -307.5 -285.  -262.5 -240.  -217.5 -195.  -172.5\n",
      " -150.  -127.5 -105.   -82.5  -60.   -37.5  -15.     7.5   30.    52.5\n",
      "   75.    97.5  120.   142.5  165.   187.5  210.   232.5  255.   277.5\n",
      "  300. ]\n"
     ]
    }
   ],
   "source": [
    "y_scale1 = 1.0\n",
    "y_scale2 = 2.5\n",
    "x_scale = 0.02\n",
    "\n",
    "x = np.linspace(-600, 300, 41)\n",
    "h1 = scale_value1(x, x_scale, y_scale1)\n",
    "h2 = scale_value2(x, x_scale, y_scale2)\n",
    "x1 = invert_scale1(h1, x_scale, y_scale1)\n",
    "x2 = invert_scale2(h2, x_scale, y_scale2)\n",
    "\n",
    "print(x, x)"
   ]
  },
  {
   "attachments": {},
   "cell_type": "markdown",
   "id": "f22e0473",
   "metadata": {},
   "source": [
    "# Training Test"
   ]
  },
  {
   "cell_type": "code",
   "execution_count": 3,
   "id": "3b290731",
   "metadata": {},
   "outputs": [
    {
     "ename": "AttributeError",
     "evalue": "'dict' object has no attribute 'config'",
     "output_type": "error",
     "traceback": [
      "\u001b[0;31m---------------------------------------------------------------------------\u001b[0m",
      "\u001b[0;31mAttributeError\u001b[0m                            Traceback (most recent call last)",
      "Cell \u001b[0;32mIn[3], line 25\u001b[0m\n\u001b[1;32m     22\u001b[0m config \u001b[38;5;241m=\u001b[39m {key: test_parameters[key] \u001b[38;5;28;01mif\u001b[39;00m key \u001b[38;5;129;01min\u001b[39;00m test_parameters \u001b[38;5;28;01melse\u001b[39;00m value \u001b[38;5;28;01mfor\u001b[39;00m key, value \u001b[38;5;129;01min\u001b[39;00m configs[env_name]\u001b[38;5;241m.\u001b[39mitems()}\n\u001b[1;32m     23\u001b[0m device \u001b[38;5;241m=\u001b[39m torch\u001b[38;5;241m.\u001b[39mdevice(\u001b[38;5;124m\"\u001b[39m\u001b[38;5;124mcuda\u001b[39m\u001b[38;5;124m\"\u001b[39m \u001b[38;5;28;01mif\u001b[39;00m torch\u001b[38;5;241m.\u001b[39mcuda\u001b[38;5;241m.\u001b[39mis_available() \u001b[38;5;28;01melse\u001b[39;00m \u001b[38;5;124m\"\u001b[39m\u001b[38;5;124mcpu\u001b[39m\u001b[38;5;124m\"\u001b[39m)\n\u001b[0;32m---> 25\u001b[0m data_collector \u001b[38;5;241m=\u001b[39m \u001b[43mDataCollector\u001b[49m\u001b[43m(\u001b[49m\u001b[43mconfig\u001b[49m\u001b[43m)\u001b[49m\n\u001b[1;32m     26\u001b[0m metric \u001b[38;5;241m=\u001b[39m Metric(config, env_name, test_parameters)\n\u001b[1;32m     27\u001b[0m bandits \u001b[38;5;241m=\u001b[39m Bandits(config)\n",
      "File \u001b[0;32m/mnt/d/OneDrive - student.uni-tuebingen.de/Machine Learning/Reinforcement Learning/src/data_collector.py:7\u001b[0m, in \u001b[0;36mDataCollector.__init__\u001b[0;34m(self, training_class)\u001b[0m\n\u001b[1;32m      6\u001b[0m \u001b[38;5;28;01mdef\u001b[39;00m \u001b[38;5;21m__init__\u001b[39m(\u001b[38;5;28mself\u001b[39m, training_class):\n\u001b[0;32m----> 7\u001b[0m     \u001b[38;5;28mself\u001b[39m\u001b[38;5;241m.\u001b[39mconfig \u001b[38;5;241m=\u001b[39m \u001b[43mtraining_class\u001b[49m\u001b[38;5;241;43m.\u001b[39;49m\u001b[43mconfig\u001b[49m\n\u001b[1;32m      8\u001b[0m     \u001b[38;5;28mself\u001b[39m\u001b[38;5;241m.\u001b[39mlog_dir \u001b[38;5;241m=\u001b[39m \u001b[38;5;124mf\u001b[39m\u001b[38;5;124m'\u001b[39m\u001b[38;5;132;01m{\u001b[39;00mtraining_class\u001b[38;5;241m.\u001b[39mlog_dir\u001b[38;5;132;01m}\u001b[39;00m\u001b[38;5;124m/data_collector.npz\u001b[39m\u001b[38;5;124m'\u001b[39m\n\u001b[1;32m      9\u001b[0m     \u001b[38;5;28mself\u001b[39m\u001b[38;5;241m.\u001b[39mmax_sequences \u001b[38;5;241m=\u001b[39m \u001b[38;5;28mself\u001b[39m\u001b[38;5;241m.\u001b[39mget_max_sequences()\n",
      "\u001b[0;31mAttributeError\u001b[0m: 'dict' object has no attribute 'config'"
     ]
    }
   ],
   "source": [
    "import torch\n",
    "from configs import configs\n",
    "from actor import Actor\n",
    "from learner import Learner\n",
    "from bandit import Bandits\n",
    "from training import Training\n",
    "from data_collector import DataCollector\n",
    "from metric import Metric\n",
    "\n",
    "env_name = \"CartPole-v1\"\n",
    "# env_name = \"LunarLander-v2\"\n",
    "# env_name = \"LaserHockey-v0\"\n",
    "\n",
    "test_parameters = {'num_envs': 32,\n",
    "                   'batch_size': 32,\n",
    "                   'sequence_length': 10,\n",
    "                   'bootstrap_length': 3,\n",
    "                   'learning_rate': 1e-4,\n",
    "                   'd_push': 1,\n",
    "                   'd_pull': 10}\n",
    "\n",
    "config = {key: test_parameters[key] if key in test_parameters else value for key, value in configs[env_name].items()}\n",
    "device = torch.device(\"cuda\" if torch.cuda.is_available() else \"cpu\")\n",
    "\n",
    "data_collector = DataCollector(config)\n",
    "metric = Metric(config, env_name, test_parameters)\n",
    "bandits = Bandits(config)\n",
    "actor = Actor(config, metric, device)\n",
    "learner = Learner(config, metric, device)\n",
    "training = Training(config, env_name)\n",
    "\n",
    "training.run(actor, learner, bandits, data_collector, metric)"
   ]
  },
  {
   "attachments": {},
   "cell_type": "markdown",
   "id": "b34a010d",
   "metadata": {},
   "source": [
    "# Show Actor Test"
   ]
  },
  {
   "cell_type": "code",
   "execution_count": 1,
   "id": "7f5e819a",
   "metadata": {},
   "outputs": [
    {
     "name": "stdout",
     "output_type": "stream",
     "text": [
      "264\n",
      "230\n",
      "999\n"
     ]
    }
   ],
   "source": [
    "import numpy as np\n",
    "from environments import Environments\n",
    "# from bandit import Bandits\n",
    "from bandit_jax_new import Bandits\n",
    "# from actor import Actor\n",
    "from actor_jax import Actor\n",
    "from training import Training\n",
    "\n",
    "\n",
    "# env_name = 'CartPole-v1'\n",
    "# load_run = 'b16,s100,bb100,d_t10,d0.995,lr0.0001_Oct28-15-46-41'\n",
    "# load_run = 'n512,b16,s100,bb100,d_t1000,g0.995,lr0.01_Nov24-09-14-55_no_bandit'\n",
    "\n",
    "env_name = 'LunarLander-v2'\n",
    "# load_run = 'b32,s40,bb20,d0.997,lr5e-06_Oct27-10-14-55'\n",
    "# load_run = 'b16,s100,bb100,d_t1000,d0.997,lr1e-05_Oct28-18-39-16'\n",
    "# load_run = 'b16,s100,bb100,d_t1000,g0.997,lr0.0001_Oct29-12-31-56'\n",
    "# load_run = 'b16,s100,bb100,d_t1000,g0.997,lr0.001_Oct29-14-11-12'\n",
    "load_run = 'S5,rng27,bs32,d1000,y11.0,y22.5,x0.02,pt4.0,v1.0,q1.0,p10.0'\n",
    "\n",
    "# env_name = 'LaserHockey-v0'\n",
    "# load_run = 'n512,b32,s100,bb100,d_t1000,g0.99,lr0.0001_Nov25-05-48-31'\n",
    "# load_run = 'n1024,b64,s100,bb100,d_t1000,g0.99,lr0.0001_Nov25-08-45-44'\n",
    "# load_run = 'n1024,b64,s100,bb100,d_t1000,g0.99,lr0.001_Nov25-07-27-29'\n",
    "# load_run = 'n4096,b256,s100,bb100,d_t1000,g0.99,lr0.001_Nov27-02-10-25'\n",
    "# load_run = 'n4096,b256,s100,bb100,d_t1000,g0.995,lr0.001_Apr02-00-32-44'\n",
    "# load_run = 'n256,d_t2000,r1s2,r2s2.4,v8.0,q0.25,p8.0_Apr07-11-05-03'\n",
    "# load_run = 'S5,rng27,n512,bs32,d2000,b20'\n",
    "\n",
    "# load_run = None\n",
    "\n",
    "train_parameters = {\n",
    "    \"load_run\": load_run,\n",
    "    \"train_frames\": 0}\n",
    "\n",
    "episodes = 3\n",
    "steps = 1000\n",
    "\n",
    "training = Training(env_name, train_parameters, {})\n",
    "environments = Environments(training, training=False, render_mode='human')\n",
    "bandits = Bandits(training)\n",
    "actor = Actor(training)\n",
    "actor.pull_weights(training=False)\n",
    "index = bandits.get_index_data(only_index=True)\n",
    "# index = (1, 1, 0)\n",
    "# print(index)\n",
    "\n",
    "for _ in range(episodes):\n",
    "    observations, infos = environments.reset(random=True)\n",
    "    # print(infos)\n",
    "    for step in range(steps):\n",
    "        actions, action_probs = actor.get_actions(observations, np.expand_dims(index, axis=0), stochastic=False, training=False)\n",
    "        # print(actions)\n",
    "        converted_actions = environments.convert_actions(actions, infos, training=False)\n",
    "        observations, rewards, terminated, truncated, infos = environments.step(converted_actions[0])\n",
    "        if terminated or truncated:\n",
    "            print(step)\n",
    "            break\n",
    "environments.close()"
   ]
  },
  {
   "cell_type": "markdown",
   "id": "5e554d97",
   "metadata": {},
   "source": [
    "# Testing Random Stuff"
   ]
  },
  {
   "cell_type": "code",
   "execution_count": 1,
   "id": "af6344a7",
   "metadata": {},
   "outputs": [
    {
     "name": "stdout",
     "output_type": "stream",
     "text": [
      "float32\n"
     ]
    }
   ],
   "source": [
    "import jax.numpy as jnp\n",
    "import numpy as np\n",
    "\n",
    "# Create a JAX array\n",
    "jax_array = jnp.array([1.0, 2.0, 3.0])\n",
    "\n",
    "# Convert the JAX array to a NumPy array\n",
    "numpy_array = np.array(jax_array)\n",
    "\n",
    "# Check the dtype of the resulting NumPy array\n",
    "print(numpy_array.dtype)  # Output: float32"
   ]
  },
  {
   "cell_type": "code",
   "execution_count": 1,
   "id": "47676c45",
   "metadata": {},
   "outputs": [
    {
     "data": {
      "text/plain": [
       "array([1., 5., 0.])"
      ]
     },
     "execution_count": 1,
     "metadata": {},
     "output_type": "execute_result"
    }
   ],
   "source": []
  }
 ],
 "metadata": {
  "kernelspec": {
   "display_name": "Python 3 (ipykernel)",
   "language": "python",
   "name": "python3"
  },
  "language_info": {
   "codemirror_mode": {
    "name": "ipython",
    "version": 3
   },
   "file_extension": ".py",
   "mimetype": "text/x-python",
   "name": "python",
   "nbconvert_exporter": "python",
   "pygments_lexer": "ipython3",
   "version": "3.11.8"
  }
 },
 "nbformat": 4,
 "nbformat_minor": 5
}

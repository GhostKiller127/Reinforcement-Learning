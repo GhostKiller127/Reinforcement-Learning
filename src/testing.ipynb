{
 "cells": [
  {
   "attachments": {},
   "cell_type": "markdown",
   "id": "0",
   "metadata": {},
   "source": [
    "# Sync Test"
   ]
  },
  {
   "cell_type": "code",
   "execution_count": null,
   "id": "1",
   "metadata": {},
   "outputs": [],
   "source": [
    "from training import Training\n",
    "training = Training(env_name='CartPole-v1', num_envs=10, num_steps=50)\n",
    "# training = Training(env_name='LaserHockey-v0', num_envs=10, num_steps=50)\n",
    "training.run()"
   ]
  },
  {
   "attachments": {},
   "cell_type": "markdown",
   "id": "2",
   "metadata": {},
   "source": [
    "# Bandit Test"
   ]
  },
  {
   "cell_type": "markdown",
   "id": "3",
   "metadata": {},
   "source": [
    "### bandit.py"
   ]
  },
  {
   "cell_type": "code",
   "execution_count": null,
   "id": "4",
   "metadata": {},
   "outputs": [],
   "source": [
    "from bandit import Bandit\n",
    "\n",
    "bandit = Bandit(mode='argmax', l=0, r=1, acc=10, acc2=2, width=2, lr=0.1, d=2)\n",
    "# bandit.update(x=0.5, g=1)\n",
    "candidates = bandit.sample()\n",
    "\n",
    "print(\"Candidates:\", candidates)"
   ]
  },
  {
   "cell_type": "code",
   "execution_count": null,
   "id": "5",
   "metadata": {},
   "outputs": [],
   "source": [
    "from configs import configs\n",
    "\n",
    "print(configs[\"CartPole-v1\"])"
   ]
  },
  {
   "cell_type": "code",
   "execution_count": null,
   "id": "6",
   "metadata": {},
   "outputs": [],
   "source": [
    "from configs import configs\n",
    "# from bandit import initialize_bandits\n",
    "# from bandit import update_bandits\n",
    "# from bandit import get_candidates\n",
    "# from bandit import sample_candidate\n",
    "# from bandit import get_all_indeces\n",
    "\n",
    "env_name = \"CartPole-v1\"\n",
    "config = configs[env_name]\n",
    "\n",
    "# bandits = initialize_bandits(params[\"bandit_params\"])"
   ]
  },
  {
   "cell_type": "code",
   "execution_count": null,
   "id": "7",
   "metadata": {},
   "outputs": [],
   "source": [
    "update_bandits(bandits, 22.666666666666664, 9.666666666666666, 0.8500000000000001, 0.5)"
   ]
  },
  {
   "cell_type": "code",
   "execution_count": null,
   "id": "8",
   "metadata": {},
   "outputs": [],
   "source": [
    "bandits[27]['tau1'].sample()"
   ]
  },
  {
   "cell_type": "code",
   "execution_count": null,
   "id": "9",
   "metadata": {},
   "outputs": [],
   "source": [
    "all_candidates = get_candidates(bandits)\n",
    "sampled_candidate = sample_candidate(all_candidates)\n",
    "print(sampled_candidate)"
   ]
  },
  {
   "cell_type": "code",
   "execution_count": null,
   "id": "10",
   "metadata": {},
   "outputs": [],
   "source": [
    "get_all_indeces(5, bandits)"
   ]
  },
  {
   "cell_type": "code",
   "execution_count": null,
   "id": "11",
   "metadata": {},
   "outputs": [],
   "source": [
    "from bandit import Bandits"
   ]
  },
  {
   "cell_type": "code",
   "execution_count": null,
   "id": "12",
   "metadata": {},
   "outputs": [],
   "source": [
    "bandits = Bandits(configs[env_name])"
   ]
  },
  {
   "cell_type": "code",
   "execution_count": null,
   "id": "13",
   "metadata": {},
   "outputs": [],
   "source": [
    "bandits.bandits"
   ]
  },
  {
   "cell_type": "code",
   "execution_count": null,
   "id": "14",
   "metadata": {},
   "outputs": [],
   "source": [
    "from training import Training\n",
    "from bandit import Bandits\n",
    "\n",
    "env_name = \"CartPole-v1\"\n",
    "load_run = 'n256,bs64,s20,lr0.001_Oct25-14-41-00_lr'\n",
    "\n",
    "training = Training(env_name, load_run)\n",
    "bandits = Bandits(training)\n",
    "\n",
    "for _ in range(10):\n",
    "    tau1, tau2, epsilon, N1, N2, N3, w1, w2, w3 = bandits.get_index_data()\n",
    "\n",
    "print(w2)"
   ]
  },
  {
   "cell_type": "markdown",
   "id": "15",
   "metadata": {},
   "source": [
    "### bandit_jax.py"
   ]
  },
  {
   "cell_type": "code",
   "execution_count": null,
   "id": "16",
   "metadata": {},
   "outputs": [],
   "source": [
    "from training import Training\n",
    "from bandit_jax import Bandits2\n",
    "env_name = \"CartPole-v1\"\n",
    "\n",
    "train_parameters = {'metrics': False}\n",
    "run_name_dict = {'prefix': 's5', 'suffix': 'bandit_jax', 'timestamp': False}\n",
    "\n",
    "training = Training(env_name, train_parameters, run_name_dict)\n",
    "bandits2 = Bandits2(training)"
   ]
  },
  {
   "cell_type": "code",
   "execution_count": null,
   "id": "17",
   "metadata": {},
   "outputs": [],
   "source": [
    "bandits2.param_indeces_and_search_spaces"
   ]
  },
  {
   "cell_type": "code",
   "execution_count": null,
   "id": "18",
   "metadata": {},
   "outputs": [],
   "source": [
    "tau1_indeces, tau2_indeces, epsilon_indeces, tau1_search_space, tau2_search_space, epsilon_search_space = bandits2.param_indeces_and_search_spaces"
   ]
  },
  {
   "cell_type": "code",
   "execution_count": null,
   "id": "19",
   "metadata": {},
   "outputs": [],
   "source": [
    "tau1_indeces"
   ]
  },
  {
   "cell_type": "code",
   "execution_count": null,
   "id": "20",
   "metadata": {},
   "outputs": [],
   "source": [
    "jnp.sum(bandits2.ws[tau1_indeces][0], axis=0).shape"
   ]
  },
  {
   "cell_type": "code",
   "execution_count": null,
   "id": "21",
   "metadata": {},
   "outputs": [],
   "source": [
    "import jax.numpy as jnp\n",
    "\n",
    "jnp.argmax(bandits2.ws[0])\n",
    "bandits2.param_indeces_and_search_spaces[4][jnp.argmax(bandits2.ws[0])]"
   ]
  },
  {
   "cell_type": "code",
   "execution_count": null,
   "id": "22",
   "metadata": {},
   "outputs": [],
   "source": [
    "import time\n",
    "import random\n",
    "\n",
    "tau1 = random.uniform(0, 50)\n",
    "tau2 = random.uniform(0, 50)\n",
    "epsilon = random.uniform(0, 1)\n",
    "g = random.uniform(-10, 10)\n",
    "\n",
    "start_time = time.time()\n",
    "bandits2.update_bandits(tau1, tau2, epsilon, g)\n",
    "end_time = time.time()\n",
    "\n",
    "execution_time = end_time - start_time\n",
    "print(\"Execution time:\", execution_time, \"seconds\")"
   ]
  },
  {
   "cell_type": "code",
   "execution_count": null,
   "id": "23",
   "metadata": {},
   "outputs": [],
   "source": [
    "start_time = time.time()\n",
    "candidates = bandits2.get_candidates()\n",
    "execution_time = time.time() - start_time\n",
    "print(\"Execution time:\", execution_time, \"seconds\")\n",
    "print(candidates)"
   ]
  },
  {
   "cell_type": "markdown",
   "id": "24",
   "metadata": {},
   "source": [
    "### bandit_jax_new.py"
   ]
  },
  {
   "cell_type": "code",
   "execution_count": null,
   "id": "25",
   "metadata": {},
   "outputs": [],
   "source": [
    "import jax.numpy as jnp\n",
    "from training import Training\n",
    "from bandit_jax_new import Bandits\n",
    "env_name = 'CartPole-v1'\n",
    "\n",
    "train_parameters = {'metrics': False,\n",
    "                    'jax_seed': 69}\n",
    "run_name_dict = {'prefix': 's5', 'suffix': 'bandit_jax_new', 'timestamp': False}\n",
    "\n",
    "training = Training(env_name, train_parameters, run_name_dict)\n",
    "bandits = Bandits(training)"
   ]
  },
  {
   "cell_type": "code",
   "execution_count": null,
   "id": "26",
   "metadata": {},
   "outputs": [],
   "source": [
    "import time\n",
    "\n",
    "train_indeces = [[2, 13, 0.5], [8, 27, 0.2], [42, 7, 0.8]]\n",
    "train_returns = [3., 27., 13.]\n",
    "train_envs = [0, 2, 5]\n",
    "\n",
    "start_time = time.time()\n",
    "bandits.update_bandits(train_indeces, train_returns, train_envs)\n",
    "execution_time = time.time() - start_time\n",
    "print(\"Execution time:\", execution_time, \"seconds\")\n",
    "\n",
    "print(bandits.ws[0, 91:94])\n",
    "print(bandits.ws[3, 127:130])\n",
    "print(bandits.search_spaces[0, 91:94])\n",
    "print(bandits.search_spaces[3, 127:130])"
   ]
  },
  {
   "cell_type": "code",
   "execution_count": null,
   "id": "27",
   "metadata": {},
   "outputs": [],
   "source": [
    "import time\n",
    "\n",
    "start_time = time.time()\n",
    "candidates = bandits.get_all_candidates()\n",
    "execution_time = time.time() - start_time\n",
    "print(\"Execution time:\", execution_time, \"seconds\")\n",
    "\n",
    "print(candidates.shape)\n",
    "print(candidates)"
   ]
  },
  {
   "cell_type": "code",
   "execution_count": null,
   "id": "28",
   "metadata": {},
   "outputs": [],
   "source": [
    "import time\n",
    "\n",
    "candidates = bandits.get_all_candidates()\n",
    "start_time = time.time()\n",
    "sampled_candidates = bandits.sample_all_candidates([0, 2, 5])\n",
    "execution_time = time.time() - start_time\n",
    "print(\"Execution time:\", execution_time, \"seconds\")\n",
    "\n",
    "print(sampled_candidates.shape)\n",
    "print(sampled_candidates)"
   ]
  },
  {
   "cell_type": "code",
   "execution_count": null,
   "id": "29",
   "metadata": {},
   "outputs": [],
   "source": [
    "import time\n",
    "\n",
    "start_time = time.time()\n",
    "max_tau1, max_tau2, max_epsilon = bandits.get_index_data(only_index=True)\n",
    "execution_time = time.time() - start_time\n",
    "print(\"Execution time:\", execution_time, \"seconds\")\n",
    "\n",
    "print(max_tau1, max_tau2, max_epsilon)"
   ]
  },
  {
   "cell_type": "code",
   "execution_count": null,
   "id": "30",
   "metadata": {},
   "outputs": [],
   "source": []
  },
  {
   "attachments": {},
   "cell_type": "markdown",
   "id": "31",
   "metadata": {},
   "source": [
    "# Actor Test"
   ]
  },
  {
   "cell_type": "code",
   "execution_count": null,
   "id": "32",
   "metadata": {},
   "outputs": [],
   "source": [
    "from actor import Actor\n",
    "from training import Training\n",
    "\n",
    "env_name = \"CartPole-v1\"\n",
    "\n",
    "train_parameters = {'max_frames': 100000000,\n",
    "                    'lr_finder': False}\n",
    "\n",
    "abbreviation_dict = {\n",
    "                     'num_envs': 'n',\n",
    "                     'batch_size': 'b',\n",
    "                     'sequence_length': 's',\n",
    "                     'bootstrap_length': 'bb',\n",
    "                     'd_target': 'd_t',\n",
    "                     'discount': 'g',\n",
    "                     'learning_rate': 'lr',\n",
    "                     'add_on': None}\n",
    "\n",
    "training = Training(env_name, None, train_parameters, abbreviation_dict)\n",
    "actor = Actor(training)\n"
   ]
  },
  {
   "cell_type": "code",
   "execution_count": null,
   "id": "33",
   "metadata": {},
   "outputs": [],
   "source": [
    "import numpy as np\n",
    "\n",
    "a = np.float32(3.14)\n",
    "b = np.float16(1.5)\n",
    "\n",
    "result = a + b\n",
    "print(result)\n"
   ]
  },
  {
   "cell_type": "code",
   "execution_count": null,
   "id": "34",
   "metadata": {},
   "outputs": [],
   "source": [
    "obs = [[1,2,3,4], [2,3,4,5]]\n",
    "ind = [[1,1,0.4], [1,1,.6]]"
   ]
  },
  {
   "cell_type": "code",
   "execution_count": null,
   "id": "35",
   "metadata": {},
   "outputs": [],
   "source": [
    "v1, v2, a1, a2, policy = actor.calculate_policy(obs, ind)\n",
    "v1, v2, a1, a2, policy"
   ]
  },
  {
   "cell_type": "code",
   "execution_count": null,
   "id": "36",
   "metadata": {},
   "outputs": [],
   "source": [
    "policy = actor.calculate_policy(obs, ind)\n",
    "policy"
   ]
  },
  {
   "cell_type": "code",
   "execution_count": null,
   "id": "37",
   "metadata": {},
   "outputs": [],
   "source": [
    "action, action_prob = actor.get_actions(obs, ind, stochastic=True)\n",
    "action, action_prob"
   ]
  },
  {
   "attachments": {},
   "cell_type": "markdown",
   "id": "38",
   "metadata": {},
   "source": [
    "# Show Test"
   ]
  },
  {
   "cell_type": "code",
   "execution_count": null,
   "id": "39",
   "metadata": {},
   "outputs": [],
   "source": [
    "import torch\n",
    "import gymnasium as gym\n",
    "import laser_hockey_env as lh\n",
    "from actor import Actor\n",
    "from configs import configs\n",
    "\n",
    "# env_name = \"Acrobot-v1\"\n",
    "# env_name = \"LunarLander-v2\"\n",
    "env_name = \"LaserHockey-v0\"\n",
    "config = configs[env_name]\n",
    "device = torch.device(\"cuda\" if torch.cuda.is_available() else \"cpu\")\n",
    "\n",
    "if env_name == \"LaserHockey-v0\":\n",
    "    env = lh.LaserHockeyEnv(mode=2)\n",
    "else:\n",
    "    env = gym.make(env_name, render_mode=\"human\")\n",
    "observation, info = env.reset()\n",
    "# actor = Actor(config['architecture_params'], device)\n",
    "\n",
    "total_reward = 0\n",
    "for _ in range(100):\n",
    "    if env_name == \"LaserHockey-v0\":\n",
    "        env.render()\n",
    "    # actions = [self.env.single_action_space.sample() for _ in range(self.num_envs)]\n",
    "    action = env.action_space.sample()\n",
    "    # dummy_indeces = [[1,1,1]]\n",
    "    # v1, v2, a1, a2, policy = actor.calculate_values(observation, dummy_indeces)\n",
    "    # action, action_probs = actor.get_action(policy, stochastic=True)\n",
    "    observation, reward, terminated, truncated, info = env.step(action)\n",
    "    total_reward += reward\n",
    "    print(info)\n",
    "\n",
    "    if terminated or truncated:\n",
    "        # print(total_reward)\n",
    "        observation, info = env.reset()\n",
    "\n",
    "env.close()"
   ]
  },
  {
   "attachments": {},
   "cell_type": "markdown",
   "id": "40",
   "metadata": {},
   "source": [
    "# Tensorboard Test"
   ]
  },
  {
   "cell_type": "code",
   "execution_count": null,
   "id": "41",
   "metadata": {},
   "outputs": [],
   "source": [
    "from configs import configs\n",
    "from actor import Actor\n",
    "\n",
    "env_name = \"CartPole-v1\"\n",
    "config = configs[env_name]\n",
    "device = torch.device(\"cuda\" if torch.cuda.is_available() else \"cpu\")\n",
    "actor = Actor(config['architecture_params'], device)\n",
    "model = actor.actor1\n",
    "\n",
    "from torch.utils.tensorboard import SummaryWriter\n",
    "import datetime\n",
    "import json\n",
    "import os\n",
    "\n",
    "# Define hyperparameters\n",
    "hyperparams = {\n",
    "    'learning_rate': 2e-3,\n",
    "    'batch_size': 64,\n",
    "    'num_epochs': 100\n",
    "}\n",
    "\n",
    "# Get current timestamp\n",
    "timestamp = datetime.datetime.now().strftime(\"%b%d-%H-%M-%S\")\n",
    "\n",
    "# Create a more descriptive name for the run\n",
    "run_name = f\"lr{hyperparams['learning_rate']},bs{hyperparams['batch_size']},s{hyperparams['num_epochs']}_{timestamp}\"\n",
    "\n",
    "# Create a SummaryWriter with a custom log directory and run name\n",
    "log_dir = f\"runs/{run_name}\"\n",
    "writer = SummaryWriter(log_dir=log_dir)\n",
    "\n",
    "# Save hyperparameters as a separate file\n",
    "hyperparams_file = os.path.join(log_dir, 'hyperparameters.json')\n",
    "with open(hyperparams_file, 'w') as f:\n",
    "    json.dump(hyperparams, f)\n",
    "\n",
    "# Log images, histograms, and dummy metrics in a loop\n",
    "for i in range(20):\n",
    "    actor = Actor(config['architecture_params'], device)\n",
    "\n",
    "    # Update dummy metrics\n",
    "    metrics = {\n",
    "        'accuracy/agent1': 0.45 + i * 0.01,\n",
    "        'accuracy/agent2': 0.35 + i * 0.02,\n",
    "        'loss/train': 0.30 - i * 0.01,\n",
    "        'loss/val': 0.40 - i * 0.02\n",
    "    }\n",
    "\n",
    "    # Log histograms\n",
    "    for name, param in actor.actor1.named_parameters():\n",
    "        writer.add_histogram(name, param, global_step=i)\n",
    "\n",
    "    # Log dummy metrics\n",
    "    for metric_name, metric_value in metrics.items():\n",
    "        writer.add_scalar(metric_name, metric_value, global_step=i)\n",
    "\n",
    "# Close the SummaryWriter\n",
    "writer.flush()\n",
    "writer.close()"
   ]
  },
  {
   "attachments": {},
   "cell_type": "markdown",
   "id": "42",
   "metadata": {},
   "source": [
    "# Value Scaling Test"
   ]
  },
  {
   "cell_type": "code",
   "execution_count": null,
   "id": "43",
   "metadata": {},
   "outputs": [],
   "source": [
    "import numpy as np\n",
    "import matplotlib.pyplot as plt\n",
    "plt.style.use('dark_background')\n",
    "\n",
    "# y_scale1 = 0.8\n",
    "# y_scale2 = 1.9\n",
    "# x_scale = 0.02\n",
    "# y_scale1 = 0.6\n",
    "# y_scale2 = 0.9\n",
    "# x_scale = 300\n",
    "y_scale1 = 0.4\n",
    "y_scale2 = 0.5\n",
    "x_scale = 500\n",
    "# y_scale1 = 0.4\n",
    "# y_scale2 = 0.0\n",
    "# x_scale = 500\n",
    "\n",
    "def scale_value1(x, x_scale, y_scale):\n",
    "    x = x * x_scale\n",
    "    x_log = np.log(np.abs(x) + 1.)\n",
    "    x = np.where(np.sign(x) > 0, x_log * 2, -x_log)\n",
    "    x = x * y_scale\n",
    "    return x\n",
    "\n",
    "def scale_value2(x, x_scale, y_scale):\n",
    "    x = x * x_scale\n",
    "    x = (np.sign(x) * ((np.abs(x) + 1.)**(1/2) - 1.) + 0.001 * x)\n",
    "    x = x * y_scale\n",
    "    return x\n",
    "\n",
    "x = np.linspace(-0.05, 0.05, 1000)\n",
    "# x = np.linspace(-100, 100, 1000)\n",
    "h1 = scale_value1(x, x_scale, y_scale1)\n",
    "h2 = scale_value2(x, x_scale, y_scale2)\n",
    "\n",
    "plt.plot(x, h1, label='h1')\n",
    "plt.plot(x, h2, label='h2')\n",
    "plt.xlabel('x')\n",
    "plt.ylabel('h')\n",
    "plt.title('scale value function')\n",
    "plt.legend()\n",
    "plt.show()"
   ]
  },
  {
   "cell_type": "code",
   "execution_count": null,
   "id": "44",
   "metadata": {},
   "outputs": [],
   "source": [
    "import numpy as np\n",
    "\n",
    "a = ['a', 'b', 'c']\n",
    "b = 'a'\n",
    "a[-1:]\n",
    "# b in a[-1:]"
   ]
  },
  {
   "cell_type": "code",
   "execution_count": null,
   "id": "45",
   "metadata": {},
   "outputs": [],
   "source": [
    "\n",
    "import numpy as np\n",
    "import matplotlib.pyplot as plt\n",
    "plt.style.use('dark_background')\n",
    "\n",
    "y_scale1 = 0.5\n",
    "y_scale2 = 0.8\n",
    "x_scale = 0.1\n",
    "\n",
    "def invert_scale1(h, x_scale, y_scale):\n",
    "    h = h / y_scale\n",
    "    h_ = np.where(np.sign(h) > 0, np.abs(h) / 2, np.abs(h))\n",
    "    h_ = np.sign(h) * (np.exp(h_) - 1)\n",
    "    h_ = h_ / x_scale\n",
    "    return h_\n",
    "\n",
    "def invert_scale2(h, x_scale, y_scale):\n",
    "    h = h / y_scale\n",
    "    h = np.sign(h) * ((((1 + 4*0.001*(np.abs(h) + 1 + 0.001))**(1/2) - 1) / (2*0.001))**2 - 1)\n",
    "    h = h / x_scale\n",
    "    return h\n",
    "\n",
    "hh = np.linspace(-2.5, 3., 1000)\n",
    "x1 = invert_scale1(hh, x_scale, y_scale1)\n",
    "x2 = invert_scale2(hh, x_scale, y_scale2)\n",
    "\n",
    "plt.plot(hh, x1, label='x1')\n",
    "plt.plot(hh, x2, label='x2')\n",
    "plt.xlabel('h')\n",
    "plt.ylabel('x')\n",
    "plt.title('invert scale function')\n",
    "plt.legend()\n",
    "plt.show()"
   ]
  },
  {
   "cell_type": "code",
   "execution_count": null,
   "id": "46",
   "metadata": {},
   "outputs": [],
   "source": [
    "y_scale1 = 1.0\n",
    "y_scale2 = 2.5\n",
    "x_scale = 0.02\n",
    "\n",
    "x = np.linspace(-600, 300, 41)\n",
    "h1 = scale_value1(x, x_scale, y_scale1)\n",
    "h2 = scale_value2(x, x_scale, y_scale2)\n",
    "x1 = invert_scale1(h1, x_scale, y_scale1)\n",
    "x2 = invert_scale2(h2, x_scale, y_scale2)\n",
    "\n",
    "print(x, x)"
   ]
  },
  {
   "attachments": {},
   "cell_type": "markdown",
   "id": "47",
   "metadata": {},
   "source": [
    "# Training Test"
   ]
  },
  {
   "cell_type": "code",
   "execution_count": null,
   "id": "48",
   "metadata": {},
   "outputs": [],
   "source": [
    "import torch\n",
    "from configs import configs\n",
    "from actor import Actor\n",
    "from learner import Learner\n",
    "from bandit import Bandits\n",
    "from training import Training\n",
    "from data_collector import DataCollector\n",
    "from metric import Metric\n",
    "\n",
    "env_name = \"CartPole-v1\"\n",
    "# env_name = \"LunarLander-v2\"\n",
    "# env_name = \"LaserHockey-v0\"\n",
    "\n",
    "test_parameters = {'num_envs': 32,\n",
    "                   'batch_size': 32,\n",
    "                   'sequence_length': 10,\n",
    "                   'bootstrap_length': 3,\n",
    "                   'learning_rate': 1e-4,\n",
    "                   'd_push': 1,\n",
    "                   'd_pull': 10}\n",
    "\n",
    "config = {key: test_parameters[key] if key in test_parameters else value for key, value in configs[env_name].items()}\n",
    "device = torch.device(\"cuda\" if torch.cuda.is_available() else \"cpu\")\n",
    "\n",
    "data_collector = DataCollector(config)\n",
    "metric = Metric(config, env_name, test_parameters)\n",
    "bandits = Bandits(config)\n",
    "actor = Actor(config, metric, device)\n",
    "learner = Learner(config, metric, device)\n",
    "training = Training(config, env_name)\n",
    "\n",
    "training.run(actor, learner, bandits, data_collector, metric)"
   ]
  },
  {
   "attachments": {},
   "cell_type": "markdown",
   "id": "49",
   "metadata": {},
   "source": [
    "# Show Actor Test"
   ]
  },
  {
   "cell_type": "code",
   "execution_count": null,
   "id": "50",
   "metadata": {},
   "outputs": [],
   "source": [
    "import numpy as np\n",
    "from environments import Environments\n",
    "# from bandit import Bandits\n",
    "from bandit_jax_new import Bandits\n",
    "# from actor import Actor\n",
    "from actor_jax import Actor\n",
    "from training import Training\n",
    "\n",
    "\n",
    "# env_name = 'CartPole-v1'\n",
    "# load_run = 'b16,s100,bb100,d_t10,d0.995,lr0.0001_Oct28-15-46-41'\n",
    "# load_run = 'n512,b16,s100,bb100,d_t1000,g0.995,lr0.01_Nov24-09-14-55_no_bandit'\n",
    "\n",
    "# env_name = 'LunarLander-v2'\n",
    "# load_run = 'b32,s40,bb20,d0.997,lr5e-06_Oct27-10-14-55'\n",
    "# load_run = 'b16,s100,bb100,d_t1000,d0.997,lr1e-05_Oct28-18-39-16'\n",
    "# load_run = 'b16,s100,bb100,d_t1000,g0.997,lr0.0001_Oct29-12-31-56'\n",
    "# load_run = 'b16,s100,bb100,d_t1000,g0.997,lr0.001_Oct29-14-11-12'\n",
    "# load_run = 'S5,rng27,bs32,d1000,y11.0,y22.5,x0.02,pt4.0,v1.0,q1.0,p10.0'\n",
    "\n",
    "# env_name = 'LaserHockey-v0'\n",
    "# load_run = 'S5,rng27,bs256,d500,g0.98,y10.5,y20.7,x0.6,pt3.0,v1.0,q1.0,p10.0'\n",
    "# load_run = 'dense,rng27,bs64,s10,b10,e0.995,g0.99,lr0.0001,y10.6,y21.2,x0.6,v1.0,q5.0,p5.0'\n",
    "\n",
    "env_name = 'Crypto-v0'\n",
    "load_run = 'S5,rng27,bs64,s10,b10,e0.995,g0.99,y10.6,y21.0,x10.0,only_a - Copy(111M)'\n",
    "\n",
    "# load_run = None\n",
    "\n",
    "train_parameters = {\n",
    "    \"load_run\": load_run,\n",
    "    \"train_frames\": 0}\n",
    "\n",
    "episodes = 1\n",
    "steps = 10000\n",
    "\n",
    "training = Training(env_name, train_parameters, {})\n",
    "environments = Environments(training, training=False, render_mode='human')\n",
    "bandits = Bandits(training)\n",
    "actor = Actor(training)\n",
    "actor.pull_weights(training=False, target_eval=True)\n",
    "index = bandits.get_index_data(only_index=True)\n",
    "# index = (1, 1, 0)\n",
    "# print(index)\n",
    "\n",
    "for _ in range(episodes):\n",
    "    observations, infos = environments.reset(random=True)\n",
    "    # print(infos)\n",
    "    returns = np.zeros(232)\n",
    "    for step in range(steps):\n",
    "        actions, action_probs = actor.get_actions(observations, np.expand_dims(index, axis=0), stochastic=False, training=False)\n",
    "        # print(actions)\n",
    "        observations, rewards, terminated, truncated, infos = environments.step(actions, infos)\n",
    "        returns += rewards\n",
    "        print(step + 1, end='\\r')\n",
    "        if np.all(terminated) or np.all(truncated):\n",
    "            print(step + 1, returns)\n",
    "            break\n",
    "        if step + 1 == steps:\n",
    "            print('Tie', returns)\n",
    "# environments.close()"
   ]
  },
  {
   "cell_type": "code",
   "execution_count": null,
   "id": "51",
   "metadata": {},
   "outputs": [],
   "source": [
    "for i in sorted(range(len(environments.envs.env_states)), key=lambda i: returns[i], reverse=True):\n",
    "    print(environments.envs.env_states[i].symbol, returns[i])"
   ]
  },
  {
   "cell_type": "code",
   "execution_count": null,
   "id": "52",
   "metadata": {},
   "outputs": [],
   "source": [
    "returns.mean() # fee = 0.005"
   ]
  },
  {
   "cell_type": "code",
   "execution_count": null,
   "id": "53",
   "metadata": {},
   "outputs": [],
   "source": [
    "returns.mean() # fee = 0.005, only long"
   ]
  },
  {
   "cell_type": "code",
   "execution_count": null,
   "id": "54",
   "metadata": {},
   "outputs": [],
   "source": [
    "returns.mean() # fee = 0.005, only short"
   ]
  },
  {
   "cell_type": "markdown",
   "id": "55",
   "metadata": {},
   "source": [
    "# Testing Random Stuff"
   ]
  },
  {
   "cell_type": "code",
   "execution_count": null,
   "id": "56",
   "metadata": {},
   "outputs": [],
   "source": [
    "import os\n",
    "import jax\n",
    "import jax.numpy as jnp\n",
    "import matplotlib.pyplot as plt\n",
    "from flax import linen as nn\n",
    "from s5 import S5\n",
    "from architectures_jax import TransformerModelJax, DenseModelJax\n",
    "os.environ['XLA_PYTHON_CLIENT_PREALLOCATE'] = 'false'\n",
    "os.environ['XLA_PYTHON_CLIENT_MEM_FRACTION'] = '0.4'\n",
    "\n",
    "# Configuration\n",
    "config = {\n",
    "    \"input_shape\": (1, 1, 32),\n",
    "    \"action_dim\": 3,\n",
    "    \"n_layers\": 2,\n",
    "    \"hidden_dim\": 128,\n",
    "    \"d_model\": 128,\n",
    "    \"ssm_size\": 128,\n",
    "    \"heads\": 8,\n",
    "    \"blocks\": 8,\n",
    "    \"decoder_dim\": 128,\n",
    "    \"activation\": 'gelu',\n",
    "    \"prenorm\": True,\n",
    "\t\"batchnorm\": True,\n",
    "    \"bn_momentum\": 0.95,\n",
    "    \"bidirectional\": False,\n",
    "    \"mode\": \"pool\",\n",
    "    \"dropout\": 0.0,\n",
    "}\n",
    "\n",
    "# Initialize the model\n",
    "model = S5(config).s5\n",
    "# model = TransformerModelJax(config)\n",
    "# model = DenseModelJax(config)\n",
    "rng = jax.random.PRNGKey(0)\n",
    "variables = model.init(rng, jnp.ones(config['input_shape']), None)\n",
    "params = variables['params']\n",
    "\n",
    "# Flatten all weights into a single array\n",
    "all_weights = jnp.concatenate([w.flatten() for w in jax.tree_util.tree_leaves(params)])\n",
    "\n",
    "# Plot histogram\n",
    "plt.figure(figsize=(10, 6))\n",
    "plt.hist(all_weights, bins=50, edgecolor='black')\n",
    "plt.title('Distribution of Initialized Weights')\n",
    "plt.xlabel('Weight Value')\n",
    "plt.ylabel('Frequency')\n",
    "plt.show()\n",
    "\n",
    "# Calculate and print metrics\n",
    "print(f\"Total number of weights: {all_weights.size}\")\n",
    "print(f\"Mean: {all_weights.mean():.4f}\")\n",
    "print(f\"Median: {jnp.median(all_weights):.4f}\")\n",
    "print(f\"Standard deviation: {all_weights.std():.4f}\")\n",
    "print(f\"Min: {all_weights.min():.4f}\")\n",
    "print(f\"Max: {all_weights.max():.4f}\")"
   ]
  },
  {
   "cell_type": "code",
   "execution_count": null,
   "id": "57",
   "metadata": {},
   "outputs": [],
   "source": [
    "import numpy as np\n",
    "\n",
    "# Get flattened parameters with their names\n",
    "param_dict = {}\n",
    "for module_name, module_params in jax.tree_util.tree_leaves_with_path(params):\n",
    "    # Convert path tuple to string name\n",
    "    param_name = '/'.join(str(x) for x in module_name)\n",
    "    param_values = module_params.flatten()\n",
    "    param_dict[param_name] = param_values\n",
    "\n",
    "# Separate SSM parameters (HiPPO matrices) from trainable parameters\n",
    "ssm_params = {}\n",
    "trainable_params = {}\n",
    "trainable_params_constant = {}\n",
    "\n",
    "for name, values in param_dict.items():\n",
    "    if any(key in name.lower() for key in ['lambda', 'log_step', \"'d'\"]):\n",
    "        ssm_params[name] = values\n",
    "    elif any(key in name.lower() for key in ['bias', 'scale']):\n",
    "        trainable_params_constant[name] = values\n",
    "    else:\n",
    "        trainable_params[name] = values\n",
    "\n",
    "# Plot trainable parameters\n",
    "plt.figure(figsize=(10, 6))\n",
    "plt.hist(np.concatenate([v for v in trainable_params.values()]), bins=50, edgecolor='black')\n",
    "plt.title('Distribution of Trainable Weights')\n",
    "plt.xlabel('Weight Value')\n",
    "plt.ylabel('Frequency')\n",
    "plt.show()\n",
    "\n",
    "# Plot SSM parameters \n",
    "plt.figure(figsize=(10, 6))\n",
    "plt.hist(np.concatenate([v for v in ssm_params.values()]), bins=50, edgecolor='black')\n",
    "plt.title('Distribution of SSM Parameters (HiPPO matrices)')\n",
    "plt.xlabel('Parameter Value')\n",
    "plt.ylabel('Frequency')\n",
    "plt.show()\n",
    "\n",
    "# Print parameter statistics\n",
    "print(\"\\nTrainable Parameters:\")\n",
    "for name, values in trainable_params.items():\n",
    "    print(f\"{name}: shape={values.shape}, mean={values.mean():.4f}, std={values.std():.4f}\")\n",
    "\n",
    "print(\"\\nSSM Parameters:\")\n",
    "for name, values in ssm_params.items():\n",
    "    print(f\"{name}: shape={values.shape}, mean={values.mean():.4f}, std={values.std():.4f}\")\n",
    "\n",
    "print(\"\\nTrainable Parameters (constant):\")\n",
    "for name, values in trainable_params_constant.items():\n",
    "    print(f\"{name}: shape={values.shape}, mean={values.mean():.4f}, std={values.std():.4f}\")"
   ]
  },
  {
   "cell_type": "code",
   "execution_count": null,
   "id": "58",
   "metadata": {},
   "outputs": [],
   "source": [
    "ssm_params[\"['encoder']/['layers_0']/['seq']/['Lambda_im']\"]"
   ]
  },
  {
   "cell_type": "code",
   "execution_count": null,
   "id": "59",
   "metadata": {},
   "outputs": [],
   "source": [
    "# variables['batch_stats']"
   ]
  },
  {
   "cell_type": "code",
   "execution_count": null,
   "id": "60",
   "metadata": {},
   "outputs": [],
   "source": [
    "import orbax.checkpoint as ocp\n",
    "checkpointer = ocp.Checkpointer(ocp.PyTreeCheckpointHandler(write_tree_metadata=True))"
   ]
  },
  {
   "cell_type": "code",
   "execution_count": null,
   "id": "61",
   "metadata": {},
   "outputs": [],
   "source": [
    "log_dir = '../runs/LunarLander-v2/TF,1,128,4,y0.8,y1.9,x0.02,gelu/models'\n",
    "variables = checkpointer.restore(f'{log_dir}/learner1')\n",
    "all_weights = jnp.concatenate([w.flatten() for w in jax.tree_util.tree_leaves(variables['params'])])"
   ]
  },
  {
   "cell_type": "code",
   "execution_count": null,
   "id": "62",
   "metadata": {},
   "outputs": [],
   "source": [
    "variables['batch_stats']"
   ]
  },
  {
   "cell_type": "code",
   "execution_count": null,
   "id": "63",
   "metadata": {},
   "outputs": [],
   "source": [
    "plt.figure(figsize=(10, 6))\n",
    "plt.hist(all_weights, bins=50, edgecolor='black')\n",
    "plt.title('Distribution of Initialized Weights')\n",
    "plt.xlabel('Weight Value')\n",
    "plt.ylabel('Frequency')\n",
    "plt.show()\n",
    "\n",
    "# Calculate and print metrics\n",
    "print(f\"Total number of weights: {all_weights.size}\")\n",
    "print(f\"Mean: {all_weights.mean():.4f}\")\n",
    "print(f\"Median: {jnp.median(all_weights):.4f}\")\n",
    "print(f\"Standard deviation: {all_weights.std():.4f}\")\n",
    "print(f\"Min: {all_weights.min():.4f}\")\n",
    "print(f\"Max: {all_weights.max():.4f}\")"
   ]
  }
 ],
 "metadata": {
  "kernelspec": {
   "display_name": "S5",
   "language": "python",
   "name": "python3"
  },
  "language_info": {
   "codemirror_mode": {
    "name": "ipython",
    "version": 3
   },
   "file_extension": ".py",
   "mimetype": "text/x-python",
   "name": "python",
   "nbconvert_exporter": "python",
   "pygments_lexer": "ipython3",
   "version": "3.11.8"
  }
 },
 "nbformat": 4,
 "nbformat_minor": 5
}

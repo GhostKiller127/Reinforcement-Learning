{
 "cells": [
  {
   "cell_type": "code",
   "execution_count": null,
   "id": "0",
   "metadata": {},
   "outputs": [],
   "source": [
    "import gymnasium as gym\n",
    "from gymnasium.utils.play import play\n",
    "\n",
    "play(gym.make('LunarLander-v2', render_mode='rgb_array'),\n",
    "    keys_to_action={'s': 2, 'd': 1, 'a': 3}, noop=0)"
   ]
  },
  {
   "cell_type": "code",
   "execution_count": null,
   "id": "1",
   "metadata": {},
   "outputs": [],
   "source": [
    "import gymnasium as gym\n",
    "from gymnasium.utils.play import play\n",
    "\n",
    "play(gym.make('CartPole-v1', render_mode='rgb_array'),\n",
    "    keys_to_action={'a': 0, 'd': 1}, noop=0)"
   ]
  },
  {
   "cell_type": "code",
   "execution_count": null,
   "id": "2",
   "metadata": {},
   "outputs": [],
   "source": [
    "import gymnasium as gym\n",
    "from gymnasium.utils.play import play\n",
    "\n",
    "play(gym.make('CarRacing-v2', render_mode='rgb_array', continuous=False),\n",
    "    keys_to_action={'w': 3, 'a': 2, 's': 4, 'd': 1}, noop=0)"
   ]
  },
  {
   "cell_type": "code",
   "execution_count": null,
   "id": "3",
   "metadata": {
    "tags": []
   },
   "outputs": [],
   "source": [
    "import gymnasium as gym\n",
    "from gymnasium.utils.play import play\n",
    "\n",
    "play(gym.make(\"Acrobot-v1\", render_mode='rgb_array'),\n",
    "    keys_to_action={'a': 2, 'd': 0}, noop=1)"
   ]
  },
  {
   "cell_type": "code",
   "execution_count": null,
   "id": "4",
   "metadata": {},
   "outputs": [],
   "source": [
    "import time\n",
    "import numpy as np\n",
    "import laser_hockey_env as lh\n",
    "\n",
    "env = lh.LaserHockeyEnv()\n",
    "human1 = lh.HumanOpponent(env=env, player=1)\n",
    "human2 = lh.HumanOpponent(env=env, player=2)\n",
    "basic = lh.BasicOpponent()\n",
    "\n",
    "for i_episode in range(5):\n",
    "    obs, info = env.reset()\n",
    "    obs_agent2 = env.obs_agent_two()\n",
    "    env.render()\n",
    "    \n",
    "    @env.viewer.window.event\n",
    "    def on_key_press(symbol, modifiers):\n",
    "        env.key_press(symbol, modifiers)\n",
    "        human1.key_press(symbol, modifiers)\n",
    "        human2.key_press(symbol, modifiers)\n",
    "\n",
    "    @env.viewer.window.event\n",
    "    def on_key_release(symbol, modifiers):\n",
    "        human1.key_release(symbol, modifiers)\n",
    "        human2.key_release(symbol, modifiers)\n",
    "\n",
    "    time.sleep(.5)\n",
    "    for step in range(500):\n",
    "        a1 = human1.act(obs)\n",
    "        # a1 = basic.act(obs)\n",
    "        # a2 = human2.act(obs_agent2)\n",
    "        a2 = basic.act(obs_agent2)\n",
    "        obs, r, d, info, _ = env.step(np.hstack([a1,a2]))\n",
    "        obs_agent2 = env.obs_agent_two()\n",
    "        env.render()\n",
    "        if d:\n",
    "            print(step)\n",
    "            break\n",
    "env.close()"
   ]
  }
 ],
 "metadata": {
  "kernelspec": {
   "display_name": "Python 3 (ipykernel)",
   "language": "python",
   "name": "python3"
  },
  "language_info": {
   "codemirror_mode": {
    "name": "ipython",
    "version": 3
   },
   "file_extension": ".py",
   "mimetype": "text/x-python",
   "name": "python",
   "nbconvert_exporter": "python",
   "pygments_lexer": "ipython3",
   "version": "3.11.8"
  }
 },
 "nbformat": 4,
 "nbformat_minor": 5
}

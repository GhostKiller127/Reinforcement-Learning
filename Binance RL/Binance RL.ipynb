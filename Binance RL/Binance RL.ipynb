{
 "cells": [
  {
   "cell_type": "code",
   "execution_count": 1,
   "id": "6e91b046-d331-4689-8ddf-137a249fee51",
   "metadata": {},
   "outputs": [],
   "source": [
    "import os\n",
    "import re\n",
    "import time\n",
    "import math\n",
    "import glob\n",
    "import random\n",
    "from pathlib import Path\n",
    "\n",
    "import asyncio\n",
    "from apscheduler.schedulers.asyncio import AsyncIOScheduler\n",
    "from apscheduler.triggers.interval import IntervalTrigger\n",
    "from binance import AsyncClient\n",
    "from binance import Client\n",
    "from multiprocessing.pool import Pool\n",
    "\n",
    "import torch\n",
    "import torch.nn as nn\n",
    "import torch.nn.functional as F\n",
    "from torch.utils.data import DataLoader, TensorDataset\n",
    "from torch.utils.tensorboard import SummaryWriter\n",
    "\n",
    "import numpy as np\n",
    "import pandas as pd\n",
    "import pandas_ta as ta\n",
    "from scipy import signal\n",
    "from distutils.dir_util import copy_tree\n",
    "import matplotlib.pyplot as plt\n",
    "plt.style.use('dark_background')\n",
    "plt.rcParams['figure.figsize'] = (3.5, 2.5)\n",
    "import helper_functions\n",
    "from importlib import reload\n",
    "helper_functions = reload(helper_functions)"
   ]
  },
  {
   "cell_type": "markdown",
   "id": "653ec573-5225-4cf7-a6f6-a2fb308f9c3a",
   "metadata": {
    "tags": []
   },
   "source": [
    "# Download new Data"
   ]
  },
  {
   "cell_type": "code",
   "execution_count": 3,
   "id": "e4001431-93e2-4fe6-8ceb-cd5cad2cb6cd",
   "metadata": {},
   "outputs": [],
   "source": [
    "client = Client()"
   ]
  },
  {
   "cell_type": "code",
   "execution_count": 4,
   "id": "47b44a60-92da-4831-b5b6-510beefcee7d",
   "metadata": {},
   "outputs": [],
   "source": [
    "async_client = await AsyncClient.create()"
   ]
  },
  {
   "cell_type": "code",
   "execution_count": 5,
   "id": "69257974-79c6-4ae1-8308-6eabab5adeb7",
   "metadata": {},
   "outputs": [],
   "source": [
    "all_exchange_info = client.get_exchange_info()\n",
    "\n",
    "all_trading_pairs = {}\n",
    "all_usdt_pairs = {}\n",
    "for pair in all_exchange_info['symbols']:\n",
    "    if pair['status'] == 'TRADING':\n",
    "        if pair['quoteAsset'] == 'USDT':\n",
    "            all_usdt_pairs[pair['symbol']] = pair['status']\n",
    "        all_trading_pairs[pair['symbol']] = pair['status']"
   ]
  },
  {
   "cell_type": "code",
   "execution_count": 6,
   "id": "126658f7-ab18-400f-8730-eaeb56a15851",
   "metadata": {},
   "outputs": [
    {
     "data": {
      "text/plain": [
       "1391"
      ]
     },
     "execution_count": 6,
     "metadata": {},
     "output_type": "execute_result"
    }
   ],
   "source": [
    "len(all_trading_pairs)"
   ]
  },
  {
   "cell_type": "code",
   "execution_count": 7,
   "id": "08e08fdd-9b68-4f78-9345-c77d6bdb1b68",
   "metadata": {},
   "outputs": [
    {
     "data": {
      "text/plain": [
       "338"
      ]
     },
     "execution_count": 7,
     "metadata": {},
     "output_type": "execute_result"
    }
   ],
   "source": [
    "len(all_usdt_pairs)"
   ]
  },
  {
   "cell_type": "code",
   "execution_count": 11,
   "id": "e6fe415d-fee2-47ae-9cbe-0e69e6f067f2",
   "metadata": {
    "scrolled": true,
    "tags": []
   },
   "outputs": [
    {
     "data": {
      "text/plain": [
       "1677974400000"
      ]
     },
     "execution_count": 11,
     "metadata": {},
     "output_type": "execute_result"
    }
   ],
   "source": [
    "endTime = client.get_klines(symbol='BTCUSDT', interval='1d', limit=1, endTime=None)[0][0]\n",
    "endTime"
   ]
  },
  {
   "cell_type": "code",
   "execution_count": 12,
   "id": "98003937-f64a-48f0-8e0d-062ce94df4ba",
   "metadata": {},
   "outputs": [
    {
     "data": {
      "text/plain": [
       "'2023-03-05 01:00:00'"
      ]
     },
     "execution_count": 12,
     "metadata": {},
     "output_type": "execute_result"
    }
   ],
   "source": [
    "time.strftime('%Y-%m-%d %H:%M:%S', time.localtime((endTime+0)/1000))"
   ]
  },
  {
   "cell_type": "code",
   "execution_count": 28,
   "id": "d941a664-7626-4355-8dc1-fc1d1ecf93e2",
   "metadata": {},
   "outputs": [],
   "source": [
    "endTime = client.get_klines(symbol='BTCUSDT', interval='1d', limit=1, endTime=None)[0][0] - 1\n",
    "\n",
    "# coroutine_list = []\n",
    "# for key in all_usdt_pairs.keys():\n",
    "#     coroutine_list.append(async_client.get_historical_klines(key, '4h', '10 years ago', end_str=endTime))\n",
    "    \n",
    "temp = await async_client.get_historical_klines('DOGEUSDT', '1m', '1 year ago', end_str=endTime)"
   ]
  },
  {
   "cell_type": "code",
   "execution_count": 29,
   "id": "0b247a24-f1e4-4219-aec2-faef77525c11",
   "metadata": {},
   "outputs": [
    {
     "data": {
      "text/plain": [
       "525328"
      ]
     },
     "execution_count": 29,
     "metadata": {},
     "output_type": "execute_result"
    }
   ],
   "source": [
    "len(temp)"
   ]
  },
  {
   "cell_type": "code",
   "execution_count": 21,
   "id": "42ebbddf-a7ca-4869-a2dd-8f9025f0e09a",
   "metadata": {},
   "outputs": [
    {
     "data": {
      "text/plain": [
       "525343"
      ]
     },
     "execution_count": 21,
     "metadata": {},
     "output_type": "execute_result"
    }
   ],
   "source": [
    "len(temp)"
   ]
  },
  {
   "cell_type": "code",
   "execution_count": 26,
   "id": "f89b97ca-a5a5-4b9e-a2eb-e8d058889728",
   "metadata": {},
   "outputs": [],
   "source": [
    "directory = r'C:\\Users\\ghost\\OneDrive - student.uni-tuebingen.de\\Documents\\Machine Learning\\Binance RL'\n",
    "new_folder = r'\\Data'\n",
    "new_directory = new_folder + r'\\test klines'\n",
    "Path(directory + new_directory).mkdir(parents=True, exist_ok=True)\n",
    "# new_directory = new_folder + r'\\npy predictions_val'\n",
    "# Path(directory + new_directory).mkdir(parents=True, exist_ok=True)"
   ]
  },
  {
   "cell_type": "code",
   "execution_count": 30,
   "id": "6c9f9a3e-7008-4597-bfb3-bf232020c0d1",
   "metadata": {},
   "outputs": [],
   "source": [
    "np.save(f'Data/test klines/DOGEUSDT.npy', np.asarray(temp, dtype='float'))"
   ]
  },
  {
   "cell_type": "code",
   "execution_count": 10,
   "id": "d400bb1d-b38f-434a-a67c-58e85f369428",
   "metadata": {},
   "outputs": [
    {
     "name": "stdout",
     "output_type": "stream",
     "text": [
      "Step 34/34\r"
     ]
    }
   ],
   "source": [
    "all_klines_list = []\n",
    "n = 10\n",
    "for _ in range(int(np.ceil(len(all_usdt_pairs)/n))):\n",
    "    print(f'Step {_+1}/{int(np.ceil(len(all_usdt_pairs)/n))}', end='\\r')\n",
    "    n_klines = await asyncio.gather(*coroutine_list[_*n:(_+1)*n])\n",
    "    all_klines_list.extend(n_klines)"
   ]
  },
  {
   "cell_type": "code",
   "execution_count": 11,
   "id": "3a4a5f8c-0b13-44b4-aaf4-682661150b2b",
   "metadata": {},
   "outputs": [],
   "source": [
    "all_klines = {}\n",
    "for _, coin in enumerate(list(all_usdt_pairs.keys())):\n",
    "    all_klines[coin] = all_klines_list[_]"
   ]
  },
  {
   "cell_type": "code",
   "execution_count": 12,
   "id": "9c55397c-ab5e-4bba-941d-e4352742753c",
   "metadata": {},
   "outputs": [
    {
     "name": "stdout",
     "output_type": "stream",
     "text": [
      "Step 332/332\r"
     ]
    }
   ],
   "source": [
    "for _, (key, value) in enumerate(all_klines.items()):\n",
    "    print(f'Step {_+1}/{len(all_klines)}', end='\\r')\n",
    "    klines_array = np.asarray(value, dtype='float')\n",
    "    np.save(f'Data/all trading klines/{key}.npy', klines_array)"
   ]
  },
  {
   "cell_type": "markdown",
   "id": "6befb82b-d143-4706-b5b6-cf1cd6bec25b",
   "metadata": {
    "jp-MarkdownHeadingCollapsed": true,
    "tags": []
   },
   "source": [
    "# Indicators"
   ]
  },
  {
   "cell_type": "code",
   "execution_count": 76,
   "id": "18ea9253-88b6-4990-a0ed-b3a8078faa15",
   "metadata": {},
   "outputs": [],
   "source": [
    "data_input = []\n",
    "for key, value in data_dict.items():\n",
    "    data_input.append([key, value])"
   ]
  },
  {
   "cell_type": "code",
   "execution_count": 77,
   "id": "65e709f8-357b-4bde-a11b-0a7391ce2891",
   "metadata": {},
   "outputs": [
    {
     "name": "stdout",
     "output_type": "stream",
     "text": [
      "Coin: 0/2\r"
     ]
    }
   ],
   "source": [
    "old_df_dict = {}\n",
    "if __name__ ==  '__main__':\n",
    "    pool = Pool()\n",
    "    # for coin in pool.map(helper_functions.test_f1, data_input):\n",
    "    for coin in pool.imap_unordered(helper_functions.test_f1, data_input):\n",
    "        old_df_dict[coin] = coin\n",
    "        print(f'Coin: {len(old_df_dict)}/{len(data_input)}', end='\\r')"
   ]
  },
  {
   "cell_type": "markdown",
   "id": "54f5e21f-3b23-445b-8e7d-c92b75e86227",
   "metadata": {
    "jp-MarkdownHeadingCollapsed": true,
    "tags": []
   },
   "source": [
    "# Data"
   ]
  },
  {
   "cell_type": "code",
   "execution_count": 85,
   "id": "60a152c3-347d-4179-afeb-268725fe824c",
   "metadata": {},
   "outputs": [],
   "source": [
    "SEQUENCE_LENGTH = 200\n",
    "USED_LENGTH = 100\n",
    "VAL_LENGTH = 182*24*60"
   ]
  },
  {
   "cell_type": "code",
   "execution_count": 3,
   "id": "5b5672ed-71c2-4a38-9b5d-a3a39c1b5512",
   "metadata": {},
   "outputs": [],
   "source": [
    "data_folder = f'test data processed'\n",
    "label_folder = f'test labels'"
   ]
  },
  {
   "cell_type": "code",
   "execution_count": 4,
   "id": "0f72c687-37d8-48c0-8ba0-894a40e84af2",
   "metadata": {},
   "outputs": [
    {
     "data": {
      "text/plain": [
       "2"
      ]
     },
     "execution_count": 4,
     "metadata": {},
     "output_type": "execute_result"
    }
   ],
   "source": [
    "data_files = glob.glob(os.path.join('Data/' + data_folder, '*.npy'))\n",
    "label_files = glob.glob(os.path.join('Data/' + label_folder, '*.npy'))\n",
    "len(data_files)"
   ]
  },
  {
   "cell_type": "code",
   "execution_count": 5,
   "id": "fbdedb21-7af9-4cc9-b4e0-757caa678664",
   "metadata": {},
   "outputs": [
    {
     "data": {
      "text/plain": [
       "1050515"
      ]
     },
     "execution_count": 5,
     "metadata": {},
     "output_type": "execute_result"
    }
   ],
   "source": [
    "all_data_length = 0\n",
    "data_dict = {}\n",
    "for _, file in enumerate(data_files):\n",
    "    temp = np.load(file)\n",
    "    all_data_length += len(temp)\n",
    "    data_dict[file[len(data_folder)+6:-4]] = temp\n",
    "all_data_length"
   ]
  },
  {
   "cell_type": "code",
   "execution_count": 6,
   "id": "69bbca2a-53ee-4365-a983-847653e80343",
   "metadata": {},
   "outputs": [
    {
     "data": {
      "text/plain": [
       "2"
      ]
     },
     "execution_count": 6,
     "metadata": {},
     "output_type": "execute_result"
    }
   ],
   "source": [
    "len(data_dict)"
   ]
  },
  {
   "cell_type": "code",
   "execution_count": 7,
   "id": "2375241e-12e3-4818-9056-b4f6cd713553",
   "metadata": {},
   "outputs": [],
   "source": [
    "labels_dict = {}\n",
    "for _, file in enumerate(label_files):\n",
    "    temp = np.load(file)\n",
    "    labels_dict[file[len(label_folder)+6:-4]] = temp"
   ]
  },
  {
   "cell_type": "code",
   "execution_count": 8,
   "id": "94f82226-ddaf-4c64-8fdf-7d198b0d4431",
   "metadata": {},
   "outputs": [
    {
     "name": "stdout",
     "output_type": "stream",
     "text": [
      "BTCUSDT -> 525265 525265\n",
      "DOGEUSDT -> 525250 525250\n"
     ]
    }
   ],
   "source": [
    "for key, value in data_dict.items():\n",
    "    print(key, '->', len(value), len(labels_dict[key]))"
   ]
  },
  {
   "cell_type": "code",
   "execution_count": 9,
   "id": "ea3102c2-272b-4339-b224-522234a06acb",
   "metadata": {},
   "outputs": [
    {
     "name": "stdout",
     "output_type": "stream",
     "text": [
      "BTCUSDT [] []\n",
      "DOGEUSDT [] []\n"
     ]
    }
   ],
   "source": [
    "all_nan_indicators = []\n",
    "for key, value in data_dict.items():\n",
    "# for key, value in new_data_processed_dict.items():\n",
    "    nan_argwhere = np.argwhere(np.isnan(value))\n",
    "    nan_indicator, nan_length = np.unique(nan_argwhere[:,1], return_counts=True)\n",
    "    print(key, nan_indicator, nan_length)\n",
    "    if nan_indicator.shape[0] != 0:\n",
    "        all_nan_indicators.append(key)"
   ]
  },
  {
   "cell_type": "code",
   "execution_count": 85,
   "id": "a1109be3-f2b7-40e4-93c2-2ba3bf588b9d",
   "metadata": {},
   "outputs": [
    {
     "data": {
      "text/plain": [
       "[]"
      ]
     },
     "execution_count": 85,
     "metadata": {},
     "output_type": "execute_result"
    }
   ],
   "source": [
    "all_nan_indicators"
   ]
  },
  {
   "cell_type": "code",
   "execution_count": 86,
   "id": "6b886467-10f7-4d87-add5-08a287df4d9e",
   "metadata": {},
   "outputs": [
    {
     "data": {
      "text/plain": [
       "[<matplotlib.lines.Line2D at 0x1980e01d820>]"
      ]
     },
     "execution_count": 86,
     "metadata": {},
     "output_type": "execute_result"
    },
    {
     "data": {
      "image/png": "[encoded data removed]",
      "text/plain": [
       "<Figure size 350x250 with 1 Axes>"
      ]
     },
     "metadata": {},
     "output_type": "display_data"
    }
   ],
   "source": [
    "nan_argwhere = np.argwhere(np.isnan(data_dict['BTCUSDT']))\n",
    "plt.plot(nan_argwhere[:,0], nan_argwhere[:,1], '.')"
   ]
  },
  {
   "cell_type": "code",
   "execution_count": 9,
   "id": "c881e853-eb6d-4f06-9a4f-253dfce13d00",
   "metadata": {},
   "outputs": [],
   "source": [
    "df = pd.DataFrame(data_dict['DOGEUSDT'][:,[0,1,2,3,4,5,7,8,9,10]], columns = ['Time', 'Open', 'High', 'Low', 'Close', 'Volume', 'Quote asset volume', 'Number of trades', 'Taker buy base asset volume', 'Taker buy quote asset volume'])\n",
    "df.set_index(pd.DatetimeIndex(df[\"Time\"]), inplace=True)"
   ]
  },
  {
   "cell_type": "code",
   "execution_count": 10,
   "id": "795909af-24e0-4fbc-9333-6936e18886c6",
   "metadata": {},
   "outputs": [],
   "source": [
    "df.ta.percent_return(append=True)\n",
    "label = df.ta.percent_return()"
   ]
  },
  {
   "cell_type": "code",
   "execution_count": 11,
   "id": "fe43e784-0f8d-4ede-9788-2932209536ae",
   "metadata": {},
   "outputs": [
    {
     "data": {
      "text/html": [
       "<div>\n",
       "<style scoped>\n",
       "    .dataframe tbody tr th:only-of-type {\n",
       "        vertical-align: middle;\n",
       "    }\n",
       "\n",
       "    .dataframe tbody tr th {\n",
       "        vertical-align: top;\n",
       "    }\n",
       "\n",
       "    .dataframe thead th {\n",
       "        text-align: right;\n",
       "    }\n",
       "</style>\n",
       "<table border=\"1\" class=\"dataframe\">\n",
       "  <thead>\n",
       "    <tr style=\"text-align: right;\">\n",
       "      <th></th>\n",
       "      <th>Time</th>\n",
       "      <th>Open</th>\n",
       "      <th>High</th>\n",
       "      <th>Low</th>\n",
       "      <th>Close</th>\n",
       "      <th>Volume</th>\n",
       "      <th>Quote asset volume</th>\n",
       "      <th>Number of trades</th>\n",
       "      <th>Taker buy base asset volume</th>\n",
       "      <th>Taker buy quote asset volume</th>\n",
       "      <th>PCTRET_1</th>\n",
       "    </tr>\n",
       "    <tr>\n",
       "      <th>Time</th>\n",
       "      <th></th>\n",
       "      <th></th>\n",
       "      <th></th>\n",
       "      <th></th>\n",
       "      <th></th>\n",
       "      <th></th>\n",
       "      <th></th>\n",
       "      <th></th>\n",
       "      <th></th>\n",
       "      <th></th>\n",
       "      <th></th>\n",
       "    </tr>\n",
       "  </thead>\n",
       "  <tbody>\n",
       "    <tr>\n",
       "      <th>1970-01-01 00:27:26.454720</th>\n",
       "      <td>1.646455e+12</td>\n",
       "      <td>0.12220</td>\n",
       "      <td>0.12240</td>\n",
       "      <td>0.12220</td>\n",
       "      <td>0.12240</td>\n",
       "      <td>191930.0</td>\n",
       "      <td>23465.10240</td>\n",
       "      <td>58.0</td>\n",
       "      <td>180337.0</td>\n",
       "      <td>22047.31860</td>\n",
       "      <td>NaN</td>\n",
       "    </tr>\n",
       "    <tr>\n",
       "      <th>1970-01-01 00:27:26.454780</th>\n",
       "      <td>1.646455e+12</td>\n",
       "      <td>0.12240</td>\n",
       "      <td>0.12240</td>\n",
       "      <td>0.12230</td>\n",
       "      <td>0.12240</td>\n",
       "      <td>335460.0</td>\n",
       "      <td>41028.88350</td>\n",
       "      <td>30.0</td>\n",
       "      <td>241533.0</td>\n",
       "      <td>29541.61140</td>\n",
       "      <td>0.000000</td>\n",
       "    </tr>\n",
       "    <tr>\n",
       "      <th>1970-01-01 00:27:26.454840</th>\n",
       "      <td>1.646455e+12</td>\n",
       "      <td>0.12230</td>\n",
       "      <td>0.12230</td>\n",
       "      <td>0.12200</td>\n",
       "      <td>0.12210</td>\n",
       "      <td>676672.0</td>\n",
       "      <td>82644.20980</td>\n",
       "      <td>108.0</td>\n",
       "      <td>97908.0</td>\n",
       "      <td>11955.97250</td>\n",
       "      <td>-0.002451</td>\n",
       "    </tr>\n",
       "    <tr>\n",
       "      <th>1970-01-01 00:27:26.454900</th>\n",
       "      <td>1.646455e+12</td>\n",
       "      <td>0.12210</td>\n",
       "      <td>0.12210</td>\n",
       "      <td>0.12180</td>\n",
       "      <td>0.12190</td>\n",
       "      <td>1106851.0</td>\n",
       "      <td>134898.50240</td>\n",
       "      <td>129.0</td>\n",
       "      <td>219364.0</td>\n",
       "      <td>26721.21360</td>\n",
       "      <td>-0.001638</td>\n",
       "    </tr>\n",
       "    <tr>\n",
       "      <th>1970-01-01 00:27:26.454960</th>\n",
       "      <td>1.646455e+12</td>\n",
       "      <td>0.12190</td>\n",
       "      <td>0.12190</td>\n",
       "      <td>0.12180</td>\n",
       "      <td>0.12190</td>\n",
       "      <td>195666.0</td>\n",
       "      <td>23843.23450</td>\n",
       "      <td>41.0</td>\n",
       "      <td>186255.0</td>\n",
       "      <td>22696.56250</td>\n",
       "      <td>0.000000</td>\n",
       "    </tr>\n",
       "    <tr>\n",
       "      <th>...</th>\n",
       "      <td>...</td>\n",
       "      <td>...</td>\n",
       "      <td>...</td>\n",
       "      <td>...</td>\n",
       "      <td>...</td>\n",
       "      <td>...</td>\n",
       "      <td>...</td>\n",
       "      <td>...</td>\n",
       "      <td>...</td>\n",
       "      <td>...</td>\n",
       "      <td>...</td>\n",
       "    </tr>\n",
       "    <tr>\n",
       "      <th>1970-01-01 00:27:57.974100</th>\n",
       "      <td>1.677974e+12</td>\n",
       "      <td>0.07454</td>\n",
       "      <td>0.07457</td>\n",
       "      <td>0.07454</td>\n",
       "      <td>0.07457</td>\n",
       "      <td>46849.0</td>\n",
       "      <td>3492.54027</td>\n",
       "      <td>31.0</td>\n",
       "      <td>31704.0</td>\n",
       "      <td>2363.58274</td>\n",
       "      <td>0.000268</td>\n",
       "    </tr>\n",
       "    <tr>\n",
       "      <th>1970-01-01 00:27:57.974160</th>\n",
       "      <td>1.677974e+12</td>\n",
       "      <td>0.07457</td>\n",
       "      <td>0.07459</td>\n",
       "      <td>0.07457</td>\n",
       "      <td>0.07459</td>\n",
       "      <td>103355.0</td>\n",
       "      <td>7708.35496</td>\n",
       "      <td>48.0</td>\n",
       "      <td>89180.0</td>\n",
       "      <td>6651.26691</td>\n",
       "      <td>0.000268</td>\n",
       "    </tr>\n",
       "    <tr>\n",
       "      <th>1970-01-01 00:27:57.974220</th>\n",
       "      <td>1.677974e+12</td>\n",
       "      <td>0.07459</td>\n",
       "      <td>0.07462</td>\n",
       "      <td>0.07459</td>\n",
       "      <td>0.07462</td>\n",
       "      <td>99199.0</td>\n",
       "      <td>7400.80915</td>\n",
       "      <td>52.0</td>\n",
       "      <td>88262.0</td>\n",
       "      <td>6584.90371</td>\n",
       "      <td>0.000402</td>\n",
       "    </tr>\n",
       "    <tr>\n",
       "      <th>1970-01-01 00:27:57.974280</th>\n",
       "      <td>1.677974e+12</td>\n",
       "      <td>0.07462</td>\n",
       "      <td>0.07466</td>\n",
       "      <td>0.07462</td>\n",
       "      <td>0.07465</td>\n",
       "      <td>227932.0</td>\n",
       "      <td>17012.78447</td>\n",
       "      <td>77.0</td>\n",
       "      <td>189071.0</td>\n",
       "      <td>14112.30114</td>\n",
       "      <td>0.000402</td>\n",
       "    </tr>\n",
       "    <tr>\n",
       "      <th>1970-01-01 00:27:57.974340</th>\n",
       "      <td>1.677974e+12</td>\n",
       "      <td>0.07466</td>\n",
       "      <td>0.07466</td>\n",
       "      <td>0.07462</td>\n",
       "      <td>0.07462</td>\n",
       "      <td>234315.0</td>\n",
       "      <td>17489.34036</td>\n",
       "      <td>58.0</td>\n",
       "      <td>62121.0</td>\n",
       "      <td>4636.12335</td>\n",
       "      <td>-0.000402</td>\n",
       "    </tr>\n",
       "  </tbody>\n",
       "</table>\n",
       "<p>525328 rows × 11 columns</p>\n",
       "</div>"
      ],
      "text/plain": [
       "                                    Time     Open     High      Low    Close  \\\n",
       "Time                                                                           \n",
       "1970-01-01 00:27:26.454720  1.646455e+12  0.12220  0.12240  0.12220  0.12240   \n",
       "1970-01-01 00:27:26.454780  1.646455e+12  0.12240  0.12240  0.12230  0.12240   \n",
       "1970-01-01 00:27:26.454840  1.646455e+12  0.12230  0.12230  0.12200  0.12210   \n",
       "1970-01-01 00:27:26.454900  1.646455e+12  0.12210  0.12210  0.12180  0.12190   \n",
       "1970-01-01 00:27:26.454960  1.646455e+12  0.12190  0.12190  0.12180  0.12190   \n",
       "...                                  ...      ...      ...      ...      ...   \n",
       "1970-01-01 00:27:57.974100  1.677974e+12  0.07454  0.07457  0.07454  0.07457   \n",
       "1970-01-01 00:27:57.974160  1.677974e+12  0.07457  0.07459  0.07457  0.07459   \n",
       "1970-01-01 00:27:57.974220  1.677974e+12  0.07459  0.07462  0.07459  0.07462   \n",
       "1970-01-01 00:27:57.974280  1.677974e+12  0.07462  0.07466  0.07462  0.07465   \n",
       "1970-01-01 00:27:57.974340  1.677974e+12  0.07466  0.07466  0.07462  0.07462   \n",
       "\n",
       "                               Volume  Quote asset volume  Number of trades  \\\n",
       "Time                                                                          \n",
       "1970-01-01 00:27:26.454720   191930.0         23465.10240              58.0   \n",
       "1970-01-01 00:27:26.454780   335460.0         41028.88350              30.0   \n",
       "1970-01-01 00:27:26.454840   676672.0         82644.20980             108.0   \n",
       "1970-01-01 00:27:26.454900  1106851.0        134898.50240             129.0   \n",
       "1970-01-01 00:27:26.454960   195666.0         23843.23450              41.0   \n",
       "...                               ...                 ...               ...   \n",
       "1970-01-01 00:27:57.974100    46849.0          3492.54027              31.0   \n",
       "1970-01-01 00:27:57.974160   103355.0          7708.35496              48.0   \n",
       "1970-01-01 00:27:57.974220    99199.0          7400.80915              52.0   \n",
       "1970-01-01 00:27:57.974280   227932.0         17012.78447              77.0   \n",
       "1970-01-01 00:27:57.974340   234315.0         17489.34036              58.0   \n",
       "\n",
       "                            Taker buy base asset volume  \\\n",
       "Time                                                      \n",
       "1970-01-01 00:27:26.454720                     180337.0   \n",
       "1970-01-01 00:27:26.454780                     241533.0   \n",
       "1970-01-01 00:27:26.454840                      97908.0   \n",
       "1970-01-01 00:27:26.454900                     219364.0   \n",
       "1970-01-01 00:27:26.454960                     186255.0   \n",
       "...                                                 ...   \n",
       "1970-01-01 00:27:57.974100                      31704.0   \n",
       "1970-01-01 00:27:57.974160                      89180.0   \n",
       "1970-01-01 00:27:57.974220                      88262.0   \n",
       "1970-01-01 00:27:57.974280                     189071.0   \n",
       "1970-01-01 00:27:57.974340                      62121.0   \n",
       "\n",
       "                            Taker buy quote asset volume  PCTRET_1  \n",
       "Time                                                                \n",
       "1970-01-01 00:27:26.454720                   22047.31860       NaN  \n",
       "1970-01-01 00:27:26.454780                   29541.61140  0.000000  \n",
       "1970-01-01 00:27:26.454840                   11955.97250 -0.002451  \n",
       "1970-01-01 00:27:26.454900                   26721.21360 -0.001638  \n",
       "1970-01-01 00:27:26.454960                   22696.56250  0.000000  \n",
       "...                                                  ...       ...  \n",
       "1970-01-01 00:27:57.974100                    2363.58274  0.000268  \n",
       "1970-01-01 00:27:57.974160                    6651.26691  0.000268  \n",
       "1970-01-01 00:27:57.974220                    6584.90371  0.000402  \n",
       "1970-01-01 00:27:57.974280                   14112.30114  0.000402  \n",
       "1970-01-01 00:27:57.974340                    4636.12335 -0.000402  \n",
       "\n",
       "[525328 rows x 11 columns]"
      ]
     },
     "execution_count": 11,
     "metadata": {},
     "output_type": "execute_result"
    }
   ],
   "source": [
    "df"
   ]
  },
  {
   "cell_type": "code",
   "execution_count": 12,
   "id": "cdd7e001-6b8c-4cc3-a3e8-3d2317bc67a9",
   "metadata": {
    "scrolled": true,
    "tags": []
   },
   "outputs": [
    {
     "name": "stdout",
     "output_type": "stream",
     "text": [
      "[+] Strategy: All\n",
      "[i] Indicator arguments: {'timed': True, 'append': True}\n",
      "[i] Excluded[12]: above, above_value, below, below_value, cross, cross_value, long_run, short_run, td_seq, tsignals, vp, xsignals\n",
      "[i] Multiprocessing 131 indicators with 3 chunks and 8/8 cpus.\n"
     ]
    },
    {
     "name": "stderr",
     "output_type": "stream",
     "text": [
      "131it [04:28,  2.05s/it]\n"
     ]
    },
    {
     "name": "stdout",
     "output_type": "stream",
     "text": [
      "[i] Total indicators: 131\n",
      "[i] Columns added: 217\n",
      "[i] Last Run: Sunday March 5, 2023, NYSE: 3:54:42, Local: 7:54:42 W. Europe Standard Time, Day 64/365 (18.00%)\n",
      "[i] Runtime: 268426.5273 ms (268.4265 s)\n"
     ]
    }
   ],
   "source": [
    "df.ta.cores = 8\n",
    "df.ta.strategy(ta.AllStrategy, timed=True, verbose=True)\n",
    "excluded_list = ['Time', 'DPO_20', 'EOM_14_100000000', 'ICS_26', 'SQZ_NO', 'SQZPRO_NO',\n",
    "                 'SUPERTl_7_3.0', 'SUPERTs_7_3.0', 'QQEl_14_5_4.236', 'QQEs_14_5_4.236',\n",
    "                'PSARl_0.02_0.2', 'PSARs_0.02_0.2', 'HILOl_13_21', 'HILOs_13_21',\n",
    "                'BBL_5_2.0', 'BBU_5_2.0', 'BBB_5_2.0', 'BBP_5_2.0']\n",
    "df = df.drop(excluded_list, axis=1)"
   ]
  },
  {
   "cell_type": "code",
   "execution_count": 13,
   "id": "abd77cf2-5bf4-4e56-8bd1-a48100b08fd2",
   "metadata": {},
   "outputs": [
    {
     "data": {
      "text/html": [
       "<div>\n",
       "<style scoped>\n",
       "    .dataframe tbody tr th:only-of-type {\n",
       "        vertical-align: middle;\n",
       "    }\n",
       "\n",
       "    .dataframe tbody tr th {\n",
       "        vertical-align: top;\n",
       "    }\n",
       "\n",
       "    .dataframe thead th {\n",
       "        text-align: right;\n",
       "    }\n",
       "</style>\n",
       "<table border=\"1\" class=\"dataframe\">\n",
       "  <thead>\n",
       "    <tr style=\"text-align: right;\">\n",
       "      <th></th>\n",
       "      <th>Open</th>\n",
       "      <th>High</th>\n",
       "      <th>Low</th>\n",
       "      <th>Close</th>\n",
       "      <th>Volume</th>\n",
       "      <th>Quote asset volume</th>\n",
       "      <th>Number of trades</th>\n",
       "      <th>Taker buy base asset volume</th>\n",
       "      <th>Taker buy quote asset volume</th>\n",
       "      <th>PCTRET_1</th>\n",
       "      <th>...</th>\n",
       "      <th>VIDYA_14</th>\n",
       "      <th>VTXP_14</th>\n",
       "      <th>VTXM_14</th>\n",
       "      <th>VWAP_D</th>\n",
       "      <th>VWMA_10</th>\n",
       "      <th>WCP</th>\n",
       "      <th>WILLR_14</th>\n",
       "      <th>WMA_10</th>\n",
       "      <th>ZL_EMA_10</th>\n",
       "      <th>ZS_30</th>\n",
       "    </tr>\n",
       "    <tr>\n",
       "      <th>Time</th>\n",
       "      <th></th>\n",
       "      <th></th>\n",
       "      <th></th>\n",
       "      <th></th>\n",
       "      <th></th>\n",
       "      <th></th>\n",
       "      <th></th>\n",
       "      <th></th>\n",
       "      <th></th>\n",
       "      <th></th>\n",
       "      <th></th>\n",
       "      <th></th>\n",
       "      <th></th>\n",
       "      <th></th>\n",
       "      <th></th>\n",
       "      <th></th>\n",
       "      <th></th>\n",
       "      <th></th>\n",
       "      <th></th>\n",
       "      <th></th>\n",
       "      <th></th>\n",
       "    </tr>\n",
       "  </thead>\n",
       "  <tbody>\n",
       "    <tr>\n",
       "      <th>1970-01-01 00:27:26.454720</th>\n",
       "      <td>0.12220</td>\n",
       "      <td>0.12240</td>\n",
       "      <td>0.12220</td>\n",
       "      <td>0.12240</td>\n",
       "      <td>191930.0</td>\n",
       "      <td>23465.10240</td>\n",
       "      <td>58.0</td>\n",
       "      <td>180337.0</td>\n",
       "      <td>22047.31860</td>\n",
       "      <td>NaN</td>\n",
       "      <td>...</td>\n",
       "      <td>NaN</td>\n",
       "      <td>NaN</td>\n",
       "      <td>NaN</td>\n",
       "      <td>0.122333</td>\n",
       "      <td>NaN</td>\n",
       "      <td>0.122350</td>\n",
       "      <td>NaN</td>\n",
       "      <td>NaN</td>\n",
       "      <td>NaN</td>\n",
       "      <td>NaN</td>\n",
       "    </tr>\n",
       "    <tr>\n",
       "      <th>1970-01-01 00:27:26.454780</th>\n",
       "      <td>0.12240</td>\n",
       "      <td>0.12240</td>\n",
       "      <td>0.12230</td>\n",
       "      <td>0.12240</td>\n",
       "      <td>335460.0</td>\n",
       "      <td>41028.88350</td>\n",
       "      <td>30.0</td>\n",
       "      <td>241533.0</td>\n",
       "      <td>29541.61140</td>\n",
       "      <td>0.000000</td>\n",
       "      <td>...</td>\n",
       "      <td>NaN</td>\n",
       "      <td>NaN</td>\n",
       "      <td>NaN</td>\n",
       "      <td>0.122355</td>\n",
       "      <td>NaN</td>\n",
       "      <td>0.122375</td>\n",
       "      <td>NaN</td>\n",
       "      <td>NaN</td>\n",
       "      <td>NaN</td>\n",
       "      <td>NaN</td>\n",
       "    </tr>\n",
       "    <tr>\n",
       "      <th>1970-01-01 00:27:26.454840</th>\n",
       "      <td>0.12230</td>\n",
       "      <td>0.12230</td>\n",
       "      <td>0.12200</td>\n",
       "      <td>0.12210</td>\n",
       "      <td>676672.0</td>\n",
       "      <td>82644.20980</td>\n",
       "      <td>108.0</td>\n",
       "      <td>97908.0</td>\n",
       "      <td>11955.97250</td>\n",
       "      <td>-0.002451</td>\n",
       "      <td>...</td>\n",
       "      <td>NaN</td>\n",
       "      <td>NaN</td>\n",
       "      <td>NaN</td>\n",
       "      <td>0.122230</td>\n",
       "      <td>NaN</td>\n",
       "      <td>0.122125</td>\n",
       "      <td>NaN</td>\n",
       "      <td>NaN</td>\n",
       "      <td>NaN</td>\n",
       "      <td>NaN</td>\n",
       "    </tr>\n",
       "    <tr>\n",
       "      <th>1970-01-01 00:27:26.454900</th>\n",
       "      <td>0.12210</td>\n",
       "      <td>0.12210</td>\n",
       "      <td>0.12180</td>\n",
       "      <td>0.12190</td>\n",
       "      <td>1106851.0</td>\n",
       "      <td>134898.50240</td>\n",
       "      <td>129.0</td>\n",
       "      <td>219364.0</td>\n",
       "      <td>26721.21360</td>\n",
       "      <td>-0.001638</td>\n",
       "      <td>...</td>\n",
       "      <td>NaN</td>\n",
       "      <td>NaN</td>\n",
       "      <td>NaN</td>\n",
       "      <td>0.122088</td>\n",
       "      <td>NaN</td>\n",
       "      <td>0.121925</td>\n",
       "      <td>NaN</td>\n",
       "      <td>NaN</td>\n",
       "      <td>NaN</td>\n",
       "      <td>NaN</td>\n",
       "    </tr>\n",
       "    <tr>\n",
       "      <th>1970-01-01 00:27:26.454960</th>\n",
       "      <td>0.12190</td>\n",
       "      <td>0.12190</td>\n",
       "      <td>0.12180</td>\n",
       "      <td>0.12190</td>\n",
       "      <td>195666.0</td>\n",
       "      <td>23843.23450</td>\n",
       "      <td>41.0</td>\n",
       "      <td>186255.0</td>\n",
       "      <td>22696.56250</td>\n",
       "      <td>0.000000</td>\n",
       "      <td>...</td>\n",
       "      <td>NaN</td>\n",
       "      <td>NaN</td>\n",
       "      <td>NaN</td>\n",
       "      <td>0.122071</td>\n",
       "      <td>NaN</td>\n",
       "      <td>0.121875</td>\n",
       "      <td>NaN</td>\n",
       "      <td>NaN</td>\n",
       "      <td>NaN</td>\n",
       "      <td>NaN</td>\n",
       "    </tr>\n",
       "    <tr>\n",
       "      <th>...</th>\n",
       "      <td>...</td>\n",
       "      <td>...</td>\n",
       "      <td>...</td>\n",
       "      <td>...</td>\n",
       "      <td>...</td>\n",
       "      <td>...</td>\n",
       "      <td>...</td>\n",
       "      <td>...</td>\n",
       "      <td>...</td>\n",
       "      <td>...</td>\n",
       "      <td>...</td>\n",
       "      <td>...</td>\n",
       "      <td>...</td>\n",
       "      <td>...</td>\n",
       "      <td>...</td>\n",
       "      <td>...</td>\n",
       "      <td>...</td>\n",
       "      <td>...</td>\n",
       "      <td>...</td>\n",
       "      <td>...</td>\n",
       "      <td>...</td>\n",
       "    </tr>\n",
       "    <tr>\n",
       "      <th>1970-01-01 00:27:57.974100</th>\n",
       "      <td>0.07454</td>\n",
       "      <td>0.07457</td>\n",
       "      <td>0.07454</td>\n",
       "      <td>0.07457</td>\n",
       "      <td>46849.0</td>\n",
       "      <td>3492.54027</td>\n",
       "      <td>31.0</td>\n",
       "      <td>31704.0</td>\n",
       "      <td>2363.58274</td>\n",
       "      <td>0.000268</td>\n",
       "      <td>...</td>\n",
       "      <td>NaN</td>\n",
       "      <td>1.272727</td>\n",
       "      <td>0.690909</td>\n",
       "      <td>0.096924</td>\n",
       "      <td>0.074506</td>\n",
       "      <td>0.074563</td>\n",
       "      <td>0.000000</td>\n",
       "      <td>0.074524</td>\n",
       "      <td>0.074562</td>\n",
       "      <td>1.342153</td>\n",
       "    </tr>\n",
       "    <tr>\n",
       "      <th>1970-01-01 00:27:57.974160</th>\n",
       "      <td>0.07457</td>\n",
       "      <td>0.07459</td>\n",
       "      <td>0.07457</td>\n",
       "      <td>0.07459</td>\n",
       "      <td>103355.0</td>\n",
       "      <td>7708.35496</td>\n",
       "      <td>48.0</td>\n",
       "      <td>89180.0</td>\n",
       "      <td>6651.26691</td>\n",
       "      <td>0.000268</td>\n",
       "      <td>...</td>\n",
       "      <td>NaN</td>\n",
       "      <td>1.346154</td>\n",
       "      <td>0.634615</td>\n",
       "      <td>0.096924</td>\n",
       "      <td>0.074513</td>\n",
       "      <td>0.074585</td>\n",
       "      <td>0.000000</td>\n",
       "      <td>0.074540</td>\n",
       "      <td>0.074583</td>\n",
       "      <td>1.403778</td>\n",
       "    </tr>\n",
       "    <tr>\n",
       "      <th>1970-01-01 00:27:57.974220</th>\n",
       "      <td>0.07459</td>\n",
       "      <td>0.07462</td>\n",
       "      <td>0.07459</td>\n",
       "      <td>0.07462</td>\n",
       "      <td>99199.0</td>\n",
       "      <td>7400.80915</td>\n",
       "      <td>52.0</td>\n",
       "      <td>88262.0</td>\n",
       "      <td>6584.90371</td>\n",
       "      <td>0.000402</td>\n",
       "      <td>...</td>\n",
       "      <td>NaN</td>\n",
       "      <td>1.277778</td>\n",
       "      <td>0.611111</td>\n",
       "      <td>0.096924</td>\n",
       "      <td>0.074521</td>\n",
       "      <td>0.074612</td>\n",
       "      <td>0.000000</td>\n",
       "      <td>0.074559</td>\n",
       "      <td>0.074599</td>\n",
       "      <td>1.544788</td>\n",
       "    </tr>\n",
       "    <tr>\n",
       "      <th>1970-01-01 00:27:57.974280</th>\n",
       "      <td>0.07462</td>\n",
       "      <td>0.07466</td>\n",
       "      <td>0.07462</td>\n",
       "      <td>0.07465</td>\n",
       "      <td>227932.0</td>\n",
       "      <td>17012.78447</td>\n",
       "      <td>77.0</td>\n",
       "      <td>189071.0</td>\n",
       "      <td>14112.30114</td>\n",
       "      <td>0.000402</td>\n",
       "      <td>...</td>\n",
       "      <td>NaN</td>\n",
       "      <td>1.352941</td>\n",
       "      <td>0.627451</td>\n",
       "      <td>0.096924</td>\n",
       "      <td>0.074541</td>\n",
       "      <td>0.074645</td>\n",
       "      <td>-4.166667</td>\n",
       "      <td>0.074580</td>\n",
       "      <td>0.074627</td>\n",
       "      <td>1.708370</td>\n",
       "    </tr>\n",
       "    <tr>\n",
       "      <th>1970-01-01 00:27:57.974340</th>\n",
       "      <td>0.07466</td>\n",
       "      <td>0.07466</td>\n",
       "      <td>0.07462</td>\n",
       "      <td>0.07462</td>\n",
       "      <td>234315.0</td>\n",
       "      <td>17489.34036</td>\n",
       "      <td>58.0</td>\n",
       "      <td>62121.0</td>\n",
       "      <td>4636.12335</td>\n",
       "      <td>-0.000402</td>\n",
       "      <td>...</td>\n",
       "      <td>NaN</td>\n",
       "      <td>1.313725</td>\n",
       "      <td>0.627451</td>\n",
       "      <td>0.096924</td>\n",
       "      <td>0.074564</td>\n",
       "      <td>0.074630</td>\n",
       "      <td>-16.666667</td>\n",
       "      <td>0.074592</td>\n",
       "      <td>0.074634</td>\n",
       "      <td>1.448577</td>\n",
       "    </tr>\n",
       "  </tbody>\n",
       "</table>\n",
       "<p>525328 rows × 210 columns</p>\n",
       "</div>"
      ],
      "text/plain": [
       "                               Open     High      Low    Close     Volume  \\\n",
       "Time                                                                        \n",
       "1970-01-01 00:27:26.454720  0.12220  0.12240  0.12220  0.12240   191930.0   \n",
       "1970-01-01 00:27:26.454780  0.12240  0.12240  0.12230  0.12240   335460.0   \n",
       "1970-01-01 00:27:26.454840  0.12230  0.12230  0.12200  0.12210   676672.0   \n",
       "1970-01-01 00:27:26.454900  0.12210  0.12210  0.12180  0.12190  1106851.0   \n",
       "1970-01-01 00:27:26.454960  0.12190  0.12190  0.12180  0.12190   195666.0   \n",
       "...                             ...      ...      ...      ...        ...   \n",
       "1970-01-01 00:27:57.974100  0.07454  0.07457  0.07454  0.07457    46849.0   \n",
       "1970-01-01 00:27:57.974160  0.07457  0.07459  0.07457  0.07459   103355.0   \n",
       "1970-01-01 00:27:57.974220  0.07459  0.07462  0.07459  0.07462    99199.0   \n",
       "1970-01-01 00:27:57.974280  0.07462  0.07466  0.07462  0.07465   227932.0   \n",
       "1970-01-01 00:27:57.974340  0.07466  0.07466  0.07462  0.07462   234315.0   \n",
       "\n",
       "                            Quote asset volume  Number of trades  \\\n",
       "Time                                                               \n",
       "1970-01-01 00:27:26.454720         23465.10240              58.0   \n",
       "1970-01-01 00:27:26.454780         41028.88350              30.0   \n",
       "1970-01-01 00:27:26.454840         82644.20980             108.0   \n",
       "1970-01-01 00:27:26.454900        134898.50240             129.0   \n",
       "1970-01-01 00:27:26.454960         23843.23450              41.0   \n",
       "...                                        ...               ...   \n",
       "1970-01-01 00:27:57.974100          3492.54027              31.0   \n",
       "1970-01-01 00:27:57.974160          7708.35496              48.0   \n",
       "1970-01-01 00:27:57.974220          7400.80915              52.0   \n",
       "1970-01-01 00:27:57.974280         17012.78447              77.0   \n",
       "1970-01-01 00:27:57.974340         17489.34036              58.0   \n",
       "\n",
       "                            Taker buy base asset volume  \\\n",
       "Time                                                      \n",
       "1970-01-01 00:27:26.454720                     180337.0   \n",
       "1970-01-01 00:27:26.454780                     241533.0   \n",
       "1970-01-01 00:27:26.454840                      97908.0   \n",
       "1970-01-01 00:27:26.454900                     219364.0   \n",
       "1970-01-01 00:27:26.454960                     186255.0   \n",
       "...                                                 ...   \n",
       "1970-01-01 00:27:57.974100                      31704.0   \n",
       "1970-01-01 00:27:57.974160                      89180.0   \n",
       "1970-01-01 00:27:57.974220                      88262.0   \n",
       "1970-01-01 00:27:57.974280                     189071.0   \n",
       "1970-01-01 00:27:57.974340                      62121.0   \n",
       "\n",
       "                            Taker buy quote asset volume  PCTRET_1  ...  \\\n",
       "Time                                                                ...   \n",
       "1970-01-01 00:27:26.454720                   22047.31860       NaN  ...   \n",
       "1970-01-01 00:27:26.454780                   29541.61140  0.000000  ...   \n",
       "1970-01-01 00:27:26.454840                   11955.97250 -0.002451  ...   \n",
       "1970-01-01 00:27:26.454900                   26721.21360 -0.001638  ...   \n",
       "1970-01-01 00:27:26.454960                   22696.56250  0.000000  ...   \n",
       "...                                                  ...       ...  ...   \n",
       "1970-01-01 00:27:57.974100                    2363.58274  0.000268  ...   \n",
       "1970-01-01 00:27:57.974160                    6651.26691  0.000268  ...   \n",
       "1970-01-01 00:27:57.974220                    6584.90371  0.000402  ...   \n",
       "1970-01-01 00:27:57.974280                   14112.30114  0.000402  ...   \n",
       "1970-01-01 00:27:57.974340                    4636.12335 -0.000402  ...   \n",
       "\n",
       "                            VIDYA_14   VTXP_14   VTXM_14    VWAP_D   VWMA_10  \\\n",
       "Time                                                                           \n",
       "1970-01-01 00:27:26.454720       NaN       NaN       NaN  0.122333       NaN   \n",
       "1970-01-01 00:27:26.454780       NaN       NaN       NaN  0.122355       NaN   \n",
       "1970-01-01 00:27:26.454840       NaN       NaN       NaN  0.122230       NaN   \n",
       "1970-01-01 00:27:26.454900       NaN       NaN       NaN  0.122088       NaN   \n",
       "1970-01-01 00:27:26.454960       NaN       NaN       NaN  0.122071       NaN   \n",
       "...                              ...       ...       ...       ...       ...   \n",
       "1970-01-01 00:27:57.974100       NaN  1.272727  0.690909  0.096924  0.074506   \n",
       "1970-01-01 00:27:57.974160       NaN  1.346154  0.634615  0.096924  0.074513   \n",
       "1970-01-01 00:27:57.974220       NaN  1.277778  0.611111  0.096924  0.074521   \n",
       "1970-01-01 00:27:57.974280       NaN  1.352941  0.627451  0.096924  0.074541   \n",
       "1970-01-01 00:27:57.974340       NaN  1.313725  0.627451  0.096924  0.074564   \n",
       "\n",
       "                                 WCP   WILLR_14    WMA_10  ZL_EMA_10     ZS_30  \n",
       "Time                                                                            \n",
       "1970-01-01 00:27:26.454720  0.122350        NaN       NaN        NaN       NaN  \n",
       "1970-01-01 00:27:26.454780  0.122375        NaN       NaN        NaN       NaN  \n",
       "1970-01-01 00:27:26.454840  0.122125        NaN       NaN        NaN       NaN  \n",
       "1970-01-01 00:27:26.454900  0.121925        NaN       NaN        NaN       NaN  \n",
       "1970-01-01 00:27:26.454960  0.121875        NaN       NaN        NaN       NaN  \n",
       "...                              ...        ...       ...        ...       ...  \n",
       "1970-01-01 00:27:57.974100  0.074563   0.000000  0.074524   0.074562  1.342153  \n",
       "1970-01-01 00:27:57.974160  0.074585   0.000000  0.074540   0.074583  1.403778  \n",
       "1970-01-01 00:27:57.974220  0.074612   0.000000  0.074559   0.074599  1.544788  \n",
       "1970-01-01 00:27:57.974280  0.074645  -4.166667  0.074580   0.074627  1.708370  \n",
       "1970-01-01 00:27:57.974340  0.074630 -16.666667  0.074592   0.074634  1.448577  \n",
       "\n",
       "[525328 rows x 210 columns]"
      ]
     },
     "execution_count": 13,
     "metadata": {},
     "output_type": "execute_result"
    }
   ],
   "source": [
    "df"
   ]
  },
  {
   "cell_type": "code",
   "execution_count": 14,
   "id": "6a52c640-d874-427c-96bf-5ba70aed3de3",
   "metadata": {},
   "outputs": [
    {
     "data": {
      "text/plain": [
       "array([ 47,  48,  58,  69, 196, 200], dtype=int64)"
      ]
     },
     "execution_count": 14,
     "metadata": {},
     "output_type": "execute_result"
    }
   ],
   "source": [
    "nan_place_list = np.argwhere(np.isnan(df.values[77:]))\n",
    "nan_index_list = np.unique(nan_place_list[:,1])\n",
    "nan_index_list"
   ]
  },
  {
   "cell_type": "code",
   "execution_count": 15,
   "id": "52da9674-00a2-41a0-bcad-008e404bd04f",
   "metadata": {},
   "outputs": [
    {
     "data": {
      "text/plain": [
       "[<matplotlib.lines.Line2D at 0x1986710b430>]"
      ]
     },
     "execution_count": 15,
     "metadata": {},
     "output_type": "execute_result"
    },
    {
     "data": {
      "image/png": "[encoded data removed]",
      "text/plain": [
       "<Figure size 350x250 with 1 Axes>"
      ]
     },
     "metadata": {},
     "output_type": "display_data"
    }
   ],
   "source": [
    "plt.plot(nan_place_list[:,0], nan_place_list[:,1], '.')"
   ]
  },
  {
   "cell_type": "code",
   "execution_count": 40,
   "id": "55994219-0fb6-4858-9c94-bde12f9854d3",
   "metadata": {},
   "outputs": [
    {
     "data": {
      "text/plain": [
       "Index(['high_Z_30_1', 'low_Z_30_1', 'CTI_12', 'ER_10', 'UI_14', 'VIDYA_14'], dtype='object')"
      ]
     },
     "execution_count": 40,
     "metadata": {},
     "output_type": "execute_result"
    }
   ],
   "source": [
    "df.columns[nan_index_list]"
   ]
  },
  {
   "cell_type": "code",
   "execution_count": 87,
   "id": "9831012a-5ac5-4830-9442-87bf94f5ce92",
   "metadata": {},
   "outputs": [],
   "source": [
    "def preprocess_data(s, return_values=False, loaded_values=None):\n",
    "    new = np.copy(s)\n",
    "    values = []\n",
    "    for _ in range(new.shape[1]):\n",
    "        temp = new[:,_]\n",
    "        if loaded_values is None:\n",
    "            std1 = np.std(temp)\n",
    "        else:\n",
    "            std1 = loaded_values[_, 0]\n",
    "        if std1 > 1000:\n",
    "            temp *= 1000 / std1\n",
    "        if std1 < 10:\n",
    "            temp *= 10 / std1\n",
    "        temp = np.arcsinh(temp)\n",
    "        if loaded_values is None:\n",
    "            std2 = np.std(temp)\n",
    "            mean2 = np.mean(temp)\n",
    "        else:\n",
    "            std2 = loaded_values[_, 1]\n",
    "            mean2 = loaded_values[_, 2]\n",
    "        new[:,_] = (temp - mean2) / std2 / 2\n",
    "        if return_values==True:\n",
    "            values.append([std1, std2, mean2])\n",
    "    if return_values==True:\n",
    "        return np.array(values)\n",
    "    else:\n",
    "        return new"
   ]
  },
  {
   "cell_type": "code",
   "execution_count": 88,
   "id": "9e6fc19a-9baf-46b6-9253-ec8b4eeed6a5",
   "metadata": {},
   "outputs": [
    {
     "name": "stdout",
     "output_type": "stream",
     "text": [
      "Coin: 2/2\r"
     ]
    }
   ],
   "source": [
    "for _, (key, value) in enumerate(data_dict.items()):\n",
    "    print(f'Coin: {_+1}/{len(data_dict)}', end='\\r')\n",
    "    temp_values = preprocess_data(value, return_values=True)\n",
    "    np.save(f'Data/test data constants/{key}.npy', temp_values)"
   ]
  },
  {
   "cell_type": "code",
   "execution_count": 89,
   "id": "00571e24-53eb-4388-816b-36b7089aff8b",
   "metadata": {},
   "outputs": [
    {
     "data": {
      "text/plain": [
       "(204, 3)"
      ]
     },
     "execution_count": 89,
     "metadata": {},
     "output_type": "execute_result"
    }
   ],
   "source": [
    "np.load(f'Data/test data constants/BTCUSDT.npy').shape"
   ]
  },
  {
   "cell_type": "code",
   "execution_count": 90,
   "id": "bb3ef43d-e697-4c63-abf4-0561eb66f01f",
   "metadata": {},
   "outputs": [
    {
     "data": {
      "text/plain": [
       "array([], shape=(0, 2), dtype=int64)"
      ]
     },
     "execution_count": 90,
     "metadata": {},
     "output_type": "execute_result"
    }
   ],
   "source": [
    "np.argwhere(np.isnan(np.load(f'Data/test data constants/BTCUSDT.npy')[:]))"
   ]
  },
  {
   "cell_type": "code",
   "execution_count": 103,
   "id": "10acc94a-6e2e-4336-b390-8c6e35494a0a",
   "metadata": {},
   "outputs": [
    {
     "name": "stdout",
     "output_type": "stream",
     "text": [
      "Coin: 2/2\r"
     ]
    }
   ],
   "source": [
    "new_data_processed_dict = {}\n",
    "for _, (key, value) in enumerate(data_dict.items()):\n",
    "    print(f'Coin: {_+1}/{len(data_dict)}', end='\\r')\n",
    "    temp_values = np.load(f'Data/test data constants/{key}.npy')\n",
    "    new_data_processed_dict[key] = preprocess_data(value, loaded_values=temp_values)[:-1]\n",
    "    np.save(f'Data/test data processed/{key}.npy', new_data_processed_dict[key])"
   ]
  },
  {
   "cell_type": "code",
   "execution_count": 104,
   "id": "04812cf3-118e-4206-b57b-1e1538519519",
   "metadata": {},
   "outputs": [
    {
     "name": "stdout",
     "output_type": "stream",
     "text": [
      "[] BTCUSDT\n",
      "[] DOGEUSDT\n"
     ]
    }
   ],
   "source": [
    "filtered_data_dict = {}\n",
    "for key, value in new_data_processed_dict.items():\n",
    "    nan_array = np.argwhere(np.isnan(value))\n",
    "    if nan_array.size == 0:\n",
    "        filtered_data_dict[key] = value\n",
    "        print(np.argwhere(np.isnan(filtered_data_dict[key])), key)\n",
    "    # print(np.argwhere(np.isnan(value)), key)"
   ]
  },
  {
   "cell_type": "code",
   "execution_count": 94,
   "id": "ffb0db8c-72f4-4608-a031-f374d6843835",
   "metadata": {},
   "outputs": [
    {
     "name": "stdout",
     "output_type": "stream",
     "text": [
      "Step 2/2\r"
     ]
    }
   ],
   "source": [
    "for _, (key, value) in enumerate(data_dict.items()):\n",
    "    print(f'Step {_+1}/{len(data_dict)}', end='\\r')\n",
    "    percent = 100*value[1:,9]\n",
    "    np.save(f'Data/test labels/{key}.npy', np.expand_dims(percent, axis=1))"
   ]
  },
  {
   "cell_type": "code",
   "execution_count": 97,
   "id": "9b82193b-77cc-447b-a665-fab25a287718",
   "metadata": {},
   "outputs": [
    {
     "data": {
      "image/png": "[encoded data removed]",
      "text/plain": [
       "<Figure size 350x250 with 1 Axes>"
      ]
     },
     "metadata": {},
     "output_type": "display_data"
    }
   ],
   "source": [
    "plt.hist(np.load(f'Data/test labels/DOGEUSDT.npy'), bins=120)\n",
    "plt.show()"
   ]
  },
  {
   "cell_type": "markdown",
   "id": "14918e68-bd87-49f8-a7af-f3ccaa8103e6",
   "metadata": {
    "jp-MarkdownHeadingCollapsed": true,
    "tags": []
   },
   "source": [
    "# Training"
   ]
  },
  {
   "cell_type": "code",
   "execution_count": 8,
   "id": "96ec1b70-b7e9-4733-b482-b8f53ecf3907",
   "metadata": {},
   "outputs": [],
   "source": [
    "def calculate_rewards(balance):\n",
    "    rewards = []\n",
    "    rewards.append(100*(balance[-1]-1))\n",
    "    for b in balance:\n",
    "        rewards.append(100*(balance[-1]-b)/b)\n",
    "    return np.array(rewards[:-2])"
   ]
  },
  {
   "cell_type": "code",
   "execution_count": 83,
   "id": "3df25a25-eb19-48f5-953e-d374c3890838",
   "metadata": {},
   "outputs": [],
   "source": [
    "def performance(predictions, true_prices, fee=0, epsilon=0, threshold=0, short=False, traded_balance=False, training=False):\n",
    "    balance, trade_balance = [], []\n",
    "    trade_lengths = []\n",
    "    trade_performances = []\n",
    "    acted_predictions = []\n",
    "    action_indeces = []\n",
    "    rewards = []\n",
    "    current_balance = 1.\n",
    "    position = 0\n",
    "    start = False\n",
    "    min_trade_length = -1\n",
    "    for _, (p1, p2) in enumerate(zip(predictions, true_prices)):\n",
    "        if short==True:\n",
    "            condition = p1 < threshold\n",
    "            if condition==False:\n",
    "                start = True\n",
    "        if short==False:\n",
    "            condition = p1 > threshold\n",
    "            if condition==False:\n",
    "                start = True\n",
    "        if start:\n",
    "            if condition or min_trade_length > 0:\n",
    "                if position == 0:\n",
    "                    if epsilon > 0:\n",
    "                        e = np.random.random()\n",
    "                        if e < epsilon:\n",
    "                            min_trade_length = 9 + np.ceil(31*np.random.random())\n",
    "                    temp_trade_balance = []\n",
    "                    temp_action_indeces = []\n",
    "                    temp_acted_prediction = []\n",
    "                    if training:\n",
    "                        current_balance = 1.\n",
    "                    current_balance *= (1-fee)\n",
    "                    position = np.sign(p1)\n",
    "                min_trade_length -= 1\n",
    "                current_balance *= 1.+(position*p2/100)\n",
    "                temp_trade_balance.append(current_balance)\n",
    "                temp_acted_prediction.append(p1)\n",
    "                temp_action_indeces.append(_)\n",
    "            else:\n",
    "                if position != 0:\n",
    "                    position = 0\n",
    "                    current_balance *= (1-fee)\n",
    "                    temp_trade_balance.append(current_balance)\n",
    "                    action_indeces.extend(temp_action_indeces)\n",
    "                    acted_predictions.extend(temp_acted_prediction)\n",
    "                    trade_balance.extend(temp_trade_balance)\n",
    "                    trade_lengths.append(len(temp_trade_balance))\n",
    "                    trade_performances.append(100*(current_balance-1))\n",
    "                    if training:\n",
    "                        rewards.extend(calculate_rewards(temp_trade_balance))\n",
    "        balance.append(current_balance)\n",
    "    if traded_balance:\n",
    "        return trade_balance\n",
    "    elif training:\n",
    "        return trade_lengths, trade_performances, acted_predictions, action_indeces, rewards\n",
    "    else:\n",
    "        return balance"
   ]
  },
  {
   "cell_type": "code",
   "execution_count": 10,
   "id": "de0e1346-9944-4be4-a8f2-9aad886af086",
   "metadata": {},
   "outputs": [],
   "source": [
    "HEADS = 8\n",
    "LAYERS = 1\n",
    "FC = 1024\n",
    "D_MODEL = 256\n",
    "DROPOUT = 0.1"
   ]
  },
  {
   "cell_type": "code",
   "execution_count": 11,
   "id": "370d310d-d035-4ead-9281-7d53836324a7",
   "metadata": {},
   "outputs": [
    {
     "data": {
      "text/plain": [
       "device(type='cuda', index=0)"
      ]
     },
     "execution_count": 11,
     "metadata": {},
     "output_type": "execute_result"
    }
   ],
   "source": [
    "device = torch.device('cuda:0' if torch.cuda.is_available() else 'cpu')\n",
    "device"
   ]
  },
  {
   "cell_type": "code",
   "execution_count": 12,
   "id": "bbf775e6-8590-42d0-a213-18616148a007",
   "metadata": {},
   "outputs": [],
   "source": [
    "class Model(nn.Module):\n",
    "    def __init__(self, device=device):\n",
    "        super(Model, self).__init__()\n",
    "        self.pos_enc = torch.unsqueeze(torch.tensor(np.linspace(-1, 1, num=SEQUENCE_LENGTH), dtype=torch.float32, device=device), 1)\n",
    "        self.src_mask = (torch.triu(torch.ones((SEQUENCE_LENGTH, SEQUENCE_LENGTH), device=device)) == 1).transpose(0, 1).float()\n",
    "        self.src_mask = self.src_mask.masked_fill(self.src_mask == 0, float('-inf'))\n",
    "        self.src_mask = self.src_mask.masked_fill(self.src_mask == 1, float(0.0))\n",
    "        # self.input_length = data_processed_list[0].shape[1] + 1\n",
    "        self.input_length = 205\n",
    "        self.embed_dim = D_MODEL\n",
    "        \n",
    "        self.layers = nn.ModuleDict()\n",
    "        self.layers[f'e'] = nn.Linear(self.input_length, self.embed_dim).to(device)\n",
    "        for i in range(LAYERS):\n",
    "            self.layers[f'l{i}'] = nn.TransformerEncoderLayer(d_model=self.embed_dim, nhead=HEADS, dim_feedforward=FC, dropout=DROPOUT, batch_first=True, norm_first=True).to(device)\n",
    "        self.layers[f'p'] = nn.Linear(self.embed_dim, 1).to(device)\n",
    "\n",
    "\n",
    "    def forward(self, s, device=device):\n",
    "        if type(s).__module__ == np.__name__:\n",
    "            s = torch.tensor(s, dtype=torch.float, device=device)\n",
    "        pos_enc = self.pos_enc[:s.size()[s.dim()-2]]\n",
    "        if s.dim() == 3:\n",
    "            pos_enc = pos_enc.repeat(s.size()[0], 1, 1)\n",
    "        out = torch.cat((s, pos_enc), s.dim()-1)\n",
    "        out = self.layers[f'e'](out)\n",
    "        for i in range(LAYERS):\n",
    "            out = self.layers[f'l{i}'](out, self.src_mask[:s.size()[s.dim()-2],:s.size()[s.dim()-2]])\n",
    "        out = self.layers[f'p'](out)\n",
    "        return out"
   ]
  },
  {
   "cell_type": "code",
   "execution_count": 113,
   "id": "06c0b70d-fc2f-4ba3-8d2a-dba535a5d8d4",
   "metadata": {},
   "outputs": [
    {
     "name": "stdout",
     "output_type": "stream",
     "text": [
      "Number of parameters: 842753\n",
      "Max Batch: 357.6\n"
     ]
    }
   ],
   "source": [
    "model = Model()\n",
    "model.eval()\n",
    "parameters = sum(p.numel() for p in model.parameters() if p.requires_grad)\n",
    "MAX_BATCH = int(628395*600*200**2/(parameters*SEQUENCE_LENGTH**2))\n",
    "print(f'Number of parameters: {parameters}')\n",
    "print(f'Max Batch: {MAX_BATCH*0.8}')"
   ]
  },
  {
   "cell_type": "code",
   "execution_count": 114,
   "id": "5100491d-11f3-4876-901a-d43e5c868c0f",
   "metadata": {},
   "outputs": [],
   "source": [
    "lr_finder = False\n",
    "MAX_BATCH = int(628395*600*200/(sum(p.numel() for p in model.parameters() if p.requires_grad)*SEQUENCE_LENGTH))\n",
    "BATCH_SIZE = 50\n",
    "BATCH_MULTIPLYER = 1\n",
    "epoch_length = math.ceil(1*all_data_length/(USED_LENGTH*BATCH_SIZE*BATCH_MULTIPLYER))\n",
    "mse_loss = nn.MSELoss()\n",
    "\n",
    "writer = SummaryWriter()\n",
    "# cd 'C:\\Users\\ghost\\OneDrive - student.uni-tuebingen.de\\Documents\\Machine Learning\\Binance RL'\n",
    "# tensorboard --logdir=runs\n",
    "lrs = []\n",
    "mses = []\n",
    "prediction_losses = []\n",
    "last_best_epoch, last_best_step = 0, 0\n",
    "last_checkpoint_step, last_save_step = 0, 0\n",
    "checkpoint_counter, save_counter = 0, 0\n",
    "mse_min = 100\n",
    "old_length = 0\n",
    "\n",
    "if lr_finder == True:\n",
    "    # steps = 10\n",
    "    steps = min(10000, max(600, epoch_length))\n",
    "    optimizer = torch.optim.RAdam(model.parameters(), lr=1e-8)\n",
    "else:\n",
    "    steps = 10000\n",
    "    # steps = 10*epoch_length\n",
    "    optimizer = torch.optim.RAdam(model.parameters(), lr=1e-5)\n",
    "    # optimizer = torch.optim.RAdam(model.parameters(), lr=lr_opt)"
   ]
  },
  {
   "cell_type": "code",
   "execution_count": 116,
   "id": "41da4c77-1150-4e53-8bb5-34177e2e23c7",
   "metadata": {},
   "outputs": [],
   "source": [
    "optimizer = torch.optim.RAdam(model.parameters(), lr=3e-6)"
   ]
  },
  {
   "cell_type": "code",
   "execution_count": 117,
   "id": "5b09e2c8-1d68-4ff9-ab8c-5511c85d54bc",
   "metadata": {},
   "outputs": [],
   "source": [
    "BATCH_SIZE = 150"
   ]
  },
  {
   "cell_type": "code",
   "execution_count": 118,
   "id": "d8dfb399-6e9f-4973-9c7b-0e76e9c0053d",
   "metadata": {
    "scrolled": true,
    "tags": []
   },
   "outputs": [
    {
     "name": "stdout",
     "output_type": "stream",
     "text": [
      "Step: 5878    Epoch: 27.9    min MSE: 0.041   at Epoch: 53.1   at Step: 11200   Model-No: 8   \r"
     ]
    },
    {
     "ename": "KeyboardInterrupt",
     "evalue": "",
     "output_type": "error",
     "traceback": [
      "\u001b[1;31m---------------------------------------------------------------------------\u001b[0m",
      "\u001b[1;31mKeyboardInterrupt\u001b[0m                         Traceback (most recent call last)",
      "Cell \u001b[1;32mIn[118], line 90\u001b[0m\n\u001b[0;32m     88\u001b[0m trade_lengths, trade_performances, acted_predictions, action_indeces, rewards \u001b[38;5;241m=\u001b[39m [], [], [], [], []\n\u001b[0;32m     89\u001b[0m \u001b[38;5;28;01mfor\u001b[39;00m i \u001b[38;5;129;01min\u001b[39;00m \u001b[38;5;28mrange\u001b[39m(BATCH_SIZE):\n\u001b[1;32m---> 90\u001b[0m     _1, _2, _3, _4, _5 \u001b[38;5;241m=\u001b[39m performance(temp_prediction[i]\u001b[38;5;241m.\u001b[39mflatten(), \u001b[43mtemp_label\u001b[49m\u001b[43m[\u001b[49m\u001b[43mi\u001b[49m\u001b[43m]\u001b[49m\u001b[38;5;241;43m.\u001b[39;49m\u001b[43mflatten\u001b[49m\u001b[43m(\u001b[49m\u001b[43m)\u001b[49m, training\u001b[38;5;241m=\u001b[39m\u001b[38;5;28;01mTrue\u001b[39;00m)\n\u001b[0;32m     91\u001b[0m     trade_lengths\u001b[38;5;241m.\u001b[39mextend(_1)\n\u001b[0;32m     92\u001b[0m     trade_performances\u001b[38;5;241m.\u001b[39mextend(_2)\n",
      "\u001b[1;31mKeyboardInterrupt\u001b[0m: "
     ]
    }
   ],
   "source": [
    "if lr_finder == True:\n",
    "    scheduler = torch.optim.lr_scheduler.ExponentialLR(optimizer, gamma=1e6**(1/steps))\n",
    "model.train()\n",
    "\n",
    "for _ in range(steps):\n",
    "    temp_loss = 0\n",
    "    temp_performances_mean, temp_performances_std = 0, 0\n",
    "    temp_lengths_mean, temp_lengths_std = 0, 0\n",
    "    temp_prediction_mean, temp_prediction_std = 0, 0\n",
    "    temp_trading_time = 0\n",
    "    for i2 in range(BATCH_MULTIPLYER):\n",
    "        temp_data, temp_label = [], []\n",
    "        for i in range(BATCH_SIZE):\n",
    "            key = random.choices(list(data_dict), k=1)\n",
    "            n2 = np.random.randint(len(data_dict[key[0]])-VAL_LENGTH-SEQUENCE_LENGTH)\n",
    "            \n",
    "            temp1 = torch.tensor(data_dict[key[0]][:-VAL_LENGTH][n2:n2+SEQUENCE_LENGTH], dtype=torch.float, device=device)\n",
    "            temp2 = labels_dict[key[0]][:-VAL_LENGTH][n2:n2+SEQUENCE_LENGTH][-USED_LENGTH:]\n",
    "            temp_data.append(temp1)\n",
    "            temp_label.append(temp2)\n",
    "\n",
    "        temp_data = torch.stack(temp_data)\n",
    "        prediction = model(temp_data)[:,-USED_LENGTH:,:]\n",
    "        temp_prediction = prediction.cpu().detach().numpy()\n",
    "        \n",
    "        trade_lengths, trade_performances, acted_predictions, action_indeces, rewards = [], [], [], [], []\n",
    "        for i in range(BATCH_SIZE):\n",
    "            _1, _2, _3, _4, _5 = performance(temp_prediction[i].flatten(), temp_label[i].flatten(), epsilon=0.05, training=True)\n",
    "            trade_lengths.extend(_1)\n",
    "            trade_performances.extend(_2)\n",
    "            acted_predictions.extend(_3)\n",
    "            action_indeces.extend(_4)\n",
    "            rewards.extend(_5)\n",
    "        \n",
    "        prediction = torch.flatten(prediction, end_dim=1)[action_indeces]\n",
    "        rewards = np.expand_dims(rewards, axis=1)\n",
    "        rewards = torch.tensor(rewards, dtype=torch.float, device=device)\n",
    "        prediction_loss = mse_loss(prediction, rewards) / BATCH_MULTIPLYER\n",
    "        prediction_loss.backward()\n",
    "        \n",
    "        temp_loss += prediction_loss.detach().cpu().numpy()\n",
    "        temp_performances_mean += np.mean(trade_performances) / BATCH_MULTIPLYER\n",
    "        temp_performances_std += np.std(trade_performances) / BATCH_MULTIPLYER\n",
    "        temp_lengths_mean += np.mean(trade_lengths) / BATCH_MULTIPLYER\n",
    "        temp_lengths_std += np.std(trade_lengths) / BATCH_MULTIPLYER\n",
    "        temp_prediction_mean += np.mean(acted_predictions) / BATCH_MULTIPLYER\n",
    "        temp_prediction_std += np.std(acted_predictions) / BATCH_MULTIPLYER\n",
    "        temp_trading_time += len(action_indeces)/len(temp_label) / BATCH_MULTIPLYER\n",
    "        \n",
    "    optimizer.step()\n",
    "    optimizer.zero_grad()    \n",
    "    \n",
    "    writer.add_scalar(\"Value Loss/train\", temp_loss, _+1+old_length)\n",
    "    writer.add_scalar(\"Performance Mean/train\", temp_performances_mean, _+1+old_length)\n",
    "    writer.add_scalar(\"Performance Std/train\", temp_performances_std, _+1+old_length)\n",
    "    writer.add_scalar(\"Prediction Mean/train\", temp_prediction_mean, _+1+old_length)\n",
    "    writer.add_scalar(\"Prediction Std/train\", temp_prediction_std, _+1+old_length)\n",
    "    writer.add_scalar(\"Trading Length Mean/train\", temp_lengths_mean, _+1+old_length)\n",
    "    writer.add_scalar(\"Trading Length Std/train\", temp_lengths_std, _+1+old_length)\n",
    "    writer.add_scalar(\"Time spent trading/train\", temp_trading_time, _+1+old_length)\n",
    "    prediction_losses.append(temp_loss)\n",
    "    \n",
    "    with torch.no_grad():\n",
    "        model.eval()\n",
    "        temp_loss = 0\n",
    "        temp_performances_mean, temp_performances_std = 0, 0\n",
    "        temp_lengths_mean, temp_lengths_std = 0, 0\n",
    "        temp_prediction_mean, temp_prediction_std = 0, 0\n",
    "        temp_trading_time = 0\n",
    "        for i2 in range(BATCH_MULTIPLYER):\n",
    "            temp_data, temp_label = [], []\n",
    "            for i in range(BATCH_SIZE):\n",
    "                key = random.choices(list(data_dict), k=1)\n",
    "                n2 = np.random.randint(VAL_LENGTH-SEQUENCE_LENGTH)\n",
    "\n",
    "                temp1 = torch.tensor(data_dict[key[0]][-VAL_LENGTH:][n2:n2+SEQUENCE_LENGTH], dtype=torch.float, device=device)\n",
    "                temp2 = labels_dict[key[0]][-VAL_LENGTH:][n2:n2+SEQUENCE_LENGTH][-USED_LENGTH:]\n",
    "                temp_data.append(temp1)\n",
    "                temp_label.append(temp2)\n",
    "                \n",
    "            temp_data = torch.stack(temp_data)\n",
    "            prediction = model(temp_data)[:,-USED_LENGTH:,:]\n",
    "            temp_prediction = prediction.cpu().detach().numpy()\n",
    "\n",
    "            trade_lengths, trade_performances, acted_predictions, action_indeces, rewards = [], [], [], [], []\n",
    "            for i in range(BATCH_SIZE):\n",
    "                _1, _2, _3, _4, _5 = performance(temp_prediction[i].flatten(), temp_label[i].flatten(), training=True)\n",
    "                trade_lengths.extend(_1)\n",
    "                trade_performances.extend(_2)\n",
    "                acted_predictions.extend(_3)\n",
    "                action_indeces.extend(_4)\n",
    "                rewards.extend(_5)\n",
    "                    \n",
    "            prediction = torch.flatten(prediction, end_dim=1)[action_indeces]\n",
    "            rewards = np.expand_dims(rewards, axis=1)\n",
    "            rewards = torch.tensor(rewards, dtype=torch.float, device=device)\n",
    "            prediction_loss = mse_loss(prediction, rewards) / BATCH_MULTIPLYER\n",
    "\n",
    "            temp_loss += prediction_loss.detach().cpu().numpy()\n",
    "            temp_performances_mean += np.mean(trade_performances) / BATCH_MULTIPLYER\n",
    "            temp_performances_std += np.std(trade_performances) / BATCH_MULTIPLYER\n",
    "            temp_lengths_mean += np.mean(trade_lengths) / BATCH_MULTIPLYER\n",
    "            temp_lengths_std += np.std(trade_lengths) / BATCH_MULTIPLYER\n",
    "            temp_prediction_mean += np.mean(acted_predictions) / BATCH_MULTIPLYER\n",
    "            temp_prediction_std += np.std(acted_predictions) / BATCH_MULTIPLYER\n",
    "            temp_trading_time += len(action_indeces)/len(temp_label) / BATCH_MULTIPLYER\n",
    "        \n",
    "        writer.add_scalar(\"Value Loss/val\", temp_loss, _+1+old_length)\n",
    "        writer.add_scalar(\"Performance Mean/val\", temp_performances_mean, _+1+old_length)\n",
    "        writer.add_scalar(\"Performance Std/val\", temp_performances_std, _+1+old_length)\n",
    "        writer.add_scalar(\"Prediction Mean/val\", temp_prediction_mean, _+1+old_length)\n",
    "        writer.add_scalar(\"Prediction Std/val\", temp_prediction_std, _+1+old_length)\n",
    "        writer.add_scalar(\"Trading Length Mean/val\", temp_lengths_mean, _+1+old_length)\n",
    "        writer.add_scalar(\"Trading Length Std/val\", temp_lengths_std, _+1+old_length)\n",
    "        writer.add_scalar(\"Time spent trading/val\", temp_trading_time, _+1+old_length)\n",
    "        mses.append(temp_loss)\n",
    "        \n",
    "        kernel_size = math.ceil(len(prediction_losses)*0.2)\n",
    "        if _ % math.ceil(kernel_size/9) == 0:\n",
    "            checkpoint_counter += 1\n",
    "            last_checkpoint_step = _+old_length\n",
    "            torch.save(model.state_dict(), f'Models/checkpoints/checkpoint-{checkpoint_counter % 9}')\n",
    "        if _ > int(0.5*epoch_length):\n",
    "            mse_temp = signal.convolve(mses[-kernel_size:], np.ones(kernel_size)/kernel_size, mode='valid')\n",
    "            if mse_temp[-1] < mse_min:\n",
    "                mse_min = mse_temp[-1]\n",
    "                last_best_step = round(_+1+old_length - kernel_size/2)\n",
    "                last_best_epoch = round(last_best_step/epoch_length, 1)\n",
    "                if last_save_step != last_checkpoint_step:\n",
    "                    last_save_step = last_checkpoint_step\n",
    "                    save_counter = checkpoint_counter\n",
    "                    copy_tree('Models/checkpoints', f'Models/trained_ensemble')\n",
    "        # if (len(prediction_losses) - last_best_step) > max(0.4*len(prediction_losses), 20*epoch_length) and lr_finder == False:\n",
    "        #     break\n",
    "        model.train()\n",
    "\n",
    "    if lr_finder == True:\n",
    "        lrs.append(scheduler.get_last_lr())\n",
    "        scheduler.step()\n",
    "    print(f'Step: {_+1}    Epoch: {round((_+1)/epoch_length, 1)}    min MSE: {round(mse_min, 3)}   at Epoch: {last_best_epoch}   at Step: {last_best_step}   Model-No: {(save_counter-4) % 9}   ', end='\\r')\n",
    "model.eval()\n",
    "old_length += steps"
   ]
  },
  {
   "cell_type": "code",
   "execution_count": 82,
   "id": "4afc7172-f421-418c-b861-45e072df2497",
   "metadata": {},
   "outputs": [],
   "source": [
    "steps = 4000"
   ]
  },
  {
   "cell_type": "code",
   "execution_count": 81,
   "id": "5dcd9707-eab3-41a6-910c-25e94814b840",
   "metadata": {},
   "outputs": [
    {
     "data": {
      "text/plain": [
       "14000"
      ]
     },
     "execution_count": 81,
     "metadata": {},
     "output_type": "execute_result"
    }
   ],
   "source": [
    "old_length"
   ]
  },
  {
   "cell_type": "code",
   "execution_count": 33,
   "id": "3be3a880-381b-4a3e-8be8-ae4913a53003",
   "metadata": {},
   "outputs": [],
   "source": [
    "old_length += 3016"
   ]
  },
  {
   "cell_type": "code",
   "execution_count": 20,
   "id": "a8fc46e2-8c42-4d74-8f11-ac8fbc0b3177",
   "metadata": {},
   "outputs": [
    {
     "data": {
      "text/plain": [
       "<All keys matched successfully>"
      ]
     },
     "execution_count": 20,
     "metadata": {},
     "output_type": "execute_result"
    }
   ],
   "source": [
    "model.load_state_dict(torch.load('Models/checkpoints/checkpoint-3'))"
   ]
  },
  {
   "cell_type": "code",
   "execution_count": 105,
   "id": "e98ae9d9-503c-4d60-99fe-5bcf36372823",
   "metadata": {
    "jupyter": {
     "source_hidden": true
    },
    "tags": []
   },
   "outputs": [
    {
     "name": "stdout",
     "output_type": "stream",
     "text": [
      "Learning Rate: 4.8977881936844046e-05\n",
      "Learning Rate: 0.0001949844599758017\n",
      "Learning Rate: 0.0007585775750291712\n",
      "Learning Rate chosen: 0.0007585775750291712\n"
     ]
    },
    {
     "data": {
      "image/png": "[encoded data removed]",
      "text/plain": [
       "<Figure size 1500x700 with 3 Axes>"
      ]
     },
     "metadata": {},
     "output_type": "display_data"
    }
   ],
   "source": [
    "kernel_size = int(len(prediction_losses)*0.2)\n",
    "# kernel_size = 2\n",
    "\n",
    "if lr_finder == True:\n",
    "    lrss = lrs[int(np.floor(kernel_size/2))-1:-int(np.ceil(kernel_size/2))]\n",
    "prediction_losses_avg = np.array(prediction_losses)\n",
    "prediction_losses_avg = signal.convolve(prediction_losses_avg, np.ones(kernel_size)/kernel_size, mode='valid')\n",
    "prediction_losses_gradient_avg = np.gradient(prediction_losses_avg)\n",
    "prediction_losses_gradient_avg = signal.convolve(prediction_losses_gradient_avg, np.ones(kernel_size)/kernel_size, mode='valid')\n",
    "idx_min = np.argmin(prediction_losses_gradient_avg)\n",
    "\n",
    "plot_mse = signal.convolve(mses, np.ones(kernel_size)/kernel_size, mode='valid')\n",
    "\n",
    "plt.figure(figsize=(15,7))\n",
    "plt.subplot(2, 3, 1).title.set_text(f'Prediction Loss MSE')\n",
    "if lr_finder == True:\n",
    "    plt.plot(lrss, prediction_losses_avg)\n",
    "    plt.plot(lrss[idx_min], prediction_losses_avg[idx_min], 'o')\n",
    "    plt.plot(lrss[idx_min+int(kernel_size/2)], prediction_losses_avg[idx_min+int(kernel_size/2)], 'o')\n",
    "    plt.plot(lrss[idx_min+kernel_size-1], prediction_losses_avg[idx_min+kernel_size-1], 'o')\n",
    "    plt.semilogx()\n",
    "    lr_opt = lrss[idx_min+kernel_size-1][0]\n",
    "    # lr_opt = lrss[idx_min+int(kernel_size/2)][0]\n",
    "    print(f'Learning Rate: {lrss[idx_min][0]}')\n",
    "    print(f'Learning Rate: {lrss[idx_min+int(kernel_size/2)][0]}')\n",
    "    print(f'Learning Rate: {lrss[idx_min+kernel_size-1][0]}')\n",
    "    print(f'Learning Rate chosen: {lr_opt}')\n",
    "else:\n",
    "    plt.plot(prediction_losses_avg)\n",
    "    print(f'last loss: {round(prediction_losses_avg[-1], 3)}')\n",
    "    print(f'Min MAE: {round(mse_min, 3)}, at Step: {round(last_best_step-kernel_size/2)}')\n",
    "    print(f'Plot min MAE: {round(min(plot_mse), 3)}, at Step: {np.argmin(plot_mse)}')\n",
    "plt.semilogy()\n",
    "plt.grid(which='both', axis='y', alpha=0.3)\n",
    "\n",
    "plt.subplot(2, 3, 2).title.set_text(f'Prediction Val MSE')\n",
    "if lr_finder == True:\n",
    "    plt.plot(plot_mse)\n",
    "    plt.plot(last_best_step-kernel_size/2, plot_mse[round(last_best_step-kernel_size/2)], 'o')\n",
    "else:\n",
    "    plt.plot(plot_mse[:])\n",
    "    plt.plot(last_best_step-kernel_size/2, plot_mse[:][round(last_best_step-kernel_size/2)], 'o')\n",
    "plt.grid(which='both', axis='y', alpha=0.3)\n",
    "\n",
    "plt.subplot(2, 3, 3)\n",
    "\n",
    "plt.tight_layout()\n",
    "plt.show()"
   ]
  },
  {
   "cell_type": "code",
   "execution_count": 106,
   "id": "1c863327-6026-463a-bf66-18757484ed54",
   "metadata": {
    "jupyter": {
     "source_hidden": true
    },
    "tags": []
   },
   "outputs": [
    {
     "name": "stdout",
     "output_type": "stream",
     "text": [
      "Learning Rate: 0.0028840315031265517\n",
      "Learning Rate: 0.00295120922666633\n",
      "Learning Rate: 0.00295120922666633\n",
      "Learning Rate chosen: 0.00295120922666633\n"
     ]
    },
    {
     "data": {
      "image/png": "[encoded data removed]",
      "text/plain": [
       "<Figure size 1500x700 with 3 Axes>"
      ]
     },
     "metadata": {},
     "output_type": "display_data"
    }
   ],
   "source": [
    "# kernel_size = int(len(prediction_losses)*0.2)\n",
    "kernel_size = 2\n",
    "if lr_finder == True:\n",
    "    lrss = lrs[int(np.floor(kernel_size/2))-1:-int(np.ceil(kernel_size/2))]\n",
    "prediction_losses_avg = np.array(prediction_losses)\n",
    "prediction_losses_avg = signal.convolve(prediction_losses_avg, np.ones(kernel_size)/kernel_size, mode='valid')\n",
    "prediction_losses_gradient_avg = np.gradient(prediction_losses_avg)\n",
    "prediction_losses_gradient_avg = signal.convolve(prediction_losses_gradient_avg, np.ones(kernel_size)/kernel_size, mode='valid')\n",
    "idx_min = np.argmin(prediction_losses_gradient_avg)\n",
    "\n",
    "plot_mse = signal.convolve(mses, np.ones(kernel_size)/kernel_size, mode='valid')\n",
    "\n",
    "plt.figure(figsize=(15,7))\n",
    "plt.subplot(2, 3, 1).title.set_text(f'Prediction Loss MSE')\n",
    "if lr_finder == True:\n",
    "    plt.plot(lrss, prediction_losses_avg)\n",
    "    plt.plot(lrss[idx_min], prediction_losses_avg[idx_min], 'o')\n",
    "    plt.plot(lrss[idx_min+int(kernel_size/2)], prediction_losses_avg[idx_min+int(kernel_size/2)], 'o')\n",
    "    plt.plot(lrss[idx_min+kernel_size-1], prediction_losses_avg[idx_min+kernel_size-1], 'o')\n",
    "    plt.semilogx()\n",
    "    lr_opt = lrss[idx_min+kernel_size-1][0]\n",
    "    # lr_opt = lrss[idx_min+int(kernel_size/2)][0]\n",
    "    print(f'Learning Rate: {lrss[idx_min][0]}')\n",
    "    print(f'Learning Rate: {lrss[idx_min+int(kernel_size/2)][0]}')\n",
    "    print(f'Learning Rate: {lrss[idx_min+kernel_size-1][0]}')\n",
    "    print(f'Learning Rate chosen: {lr_opt}')\n",
    "else:\n",
    "    plt.plot(prediction_losses_avg)\n",
    "    print(f'last loss: {round(prediction_losses_avg[-1], 3)}')\n",
    "    print(f'Min MAE: {round(mse_min, 3)}, at Step: {round(last_best_step-kernel_size/2)}')\n",
    "    print(f'Plot min MAE: {round(min(plot_mse), 3)}, at Step: {np.argmin(plot_mse)}')\n",
    "plt.semilogy()\n",
    "plt.grid(which='both', axis='y', alpha=0.3)\n",
    "\n",
    "plt.subplot(2, 3, 2).title.set_text(f'Prediction Val MSE')\n",
    "if lr_finder == True:\n",
    "    plt.plot(plot_mse)\n",
    "    plt.plot(last_best_step-kernel_size/2, plot_mse[round(last_best_step-kernel_size/2)], 'o')\n",
    "else:\n",
    "    plt.plot(plot_mse[:])\n",
    "    plt.plot(last_best_step-kernel_size/2, plot_mse[:][round(last_best_step-kernel_size/2)], 'o')\n",
    "plt.grid(which='both', axis='y', alpha=0.3)\n",
    "\n",
    "plt.subplot(2, 3, 3)\n",
    "\n",
    "plt.tight_layout()\n",
    "plt.show()"
   ]
  }
 ],
 "metadata": {
  "kernelspec": {
   "display_name": "Python 3 (ipykernel)",
   "language": "python",
   "name": "python3"
  },
  "language_info": {
   "codemirror_mode": {
    "name": "ipython",
    "version": 3
   },
   "file_extension": ".py",
   "mimetype": "text/x-python",
   "name": "python",
   "nbconvert_exporter": "python",
   "pygments_lexer": "ipython3",
   "version": "3.9.15"
  }
 },
 "nbformat": 4,
 "nbformat_minor": 5
}
